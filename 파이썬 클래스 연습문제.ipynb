{
 "cells": [
  {
   "cell_type": "code",
   "execution_count": 198,
   "id": "8f536e7c-e906-4876-9d98-e9cd72a7ebe0",
   "metadata": {},
   "outputs": [
    {
     "data": {
      "text/plain": [
       "'C:\\\\Users\\\\human\\\\Desktop\\\\수업자료\\\\2차'"
      ]
     },
     "execution_count": 198,
     "metadata": {},
     "output_type": "execute_result"
    }
   ],
   "source": [
    "pwd"
   ]
  },
  {
   "cell_type": "code",
   "execution_count": 203,
   "id": "d943119f-7c47-41de-9463-e2d83e5b43bd",
   "metadata": {},
   "outputs": [],
   "source": [
    "# 비어있는 사람 (Human) 클래스를 \"정의\" 해보세요.\n",
    "class Human:\n",
    "    pass"
   ]
  },
  {
   "cell_type": "code",
   "execution_count": 211,
   "id": "4c49f478-d56e-4fd4-b6ea-18eb2b0bd42e",
   "metadata": {},
   "outputs": [],
   "source": [
    "# 사람 (Human) 클래스에 \"응애응애\"를 출력하는 생성자를 추가하세요.\n",
    "class Human:\n",
    "    def __init__(self):\n",
    "        print(\"응애응애\")\n"
   ]
  },
  {
   "cell_type": "code",
   "execution_count": 220,
   "id": "b6bfcd5f-90d9-4acb-b37c-8eee4dece0f9",
   "metadata": {},
   "outputs": [
    {
     "name": "stdout",
     "output_type": "stream",
     "text": [
      "<__main__.Human object at 0x000001FD806A7290>\n"
     ]
    }
   ],
   "source": [
    "# 사람 (Human) 클래스에 (이름, 나이, 성별)을 받는 생성자를 추가하세요\n",
    "# >>> areum = Human(\"아름\", 25, \"여자\")\n",
    "class Human:\n",
    "    def __init__(self,name,age,gender):\n",
    "        self.name=name\n",
    "        self.age=age\n",
    "        self.gender=gender\n",
    "areum=Human('아름',25,'여')\n",
    "print(a)"
   ]
  },
  {
   "cell_type": "code",
   "execution_count": 221,
   "id": "f856347c-607f-45b3-8b83-4d3dad3c0bd8",
   "metadata": {},
   "outputs": [
    {
     "name": "stdout",
     "output_type": "stream",
     "text": [
      "25\n"
     ]
    }
   ],
   "source": [
    "# 위에서 생성한 인스턴스의 이름, 나이, 성별을 출력하세요. 인스턴스 변수에 접근하여 값을 출력하면 됩니다.\n",
    "\n",
    "# 이름: 조아름, 나이: 25, 성별: 여자\n",
    "\n",
    "# 인스턴스 변수에 접근하여 값을 가져오는 예\n",
    "# >>> areum.age\n",
    "# # 25\n",
    "\n",
    "class Human:\n",
    "    def __init__(self,name,age,gender):\n",
    "        self.name=name\n",
    "        self.age=age\n",
    "        self.gender\n",
    "print(areum.age)"
   ]
  },
  {
   "cell_type": "code",
   "execution_count": 222,
   "id": "8511f34e-7f26-4ec5-a5fa-d68c571098d5",
   "metadata": {},
   "outputs": [],
   "source": [
    " # Stock 클래스 생성\n",
    "# 주식 종목에 대한 정보를 저장하는 Stock 클래스를 정의해보세요. 클래스는 속성과 메서드를 갖고 있지 않습니다.\n",
    "class Stock:\n",
    "    pass"
   ]
  },
  {
   "cell_type": "code",
   "execution_count": 224,
   "id": "e68ce8ec-88c9-42a7-ab82-a1dea962b445",
   "metadata": {},
   "outputs": [
    {
     "name": "stdout",
     "output_type": "stream",
     "text": [
      "삼성전자\n",
      "005930\n"
     ]
    }
   ],
   "source": [
    "# 생성자\n",
    "# Stock 클래스의 객체가 생성될 때 종목명과 종목코드를 입력 받을 수 있도록 생성자를 정의해보세요.\n",
    "\n",
    "# 삼성 = Stock(\"삼성전자\", \"005930\")\n",
    "class Stock:\n",
    "    def __init__(self,name,code):\n",
    "        self.name=name\n",
    "        self.code=code\n",
    "삼성 = Stock('삼성전자','005930')\n",
    "print(삼성.name)\n",
    "print(삼성.code)"
   ]
  },
  {
   "cell_type": "code",
   "execution_count": 226,
   "id": "8bcb0f72-a84f-4a53-99c0-bfef598ff29b",
   "metadata": {},
   "outputs": [
    {
     "name": "stdout",
     "output_type": "stream",
     "text": [
      "삼성전자\n"
     ]
    }
   ],
   "source": [
    "# 메서드\n",
    "# 객체에 종목명을 입력할 수 있는 set_name 메서드를 추가해보세요.\n",
    "\n",
    "# a = Stock(None, None)\n",
    "# a.set_name(\"삼성전자\")\n",
    "class Stock:\n",
    "    def __init__(self,name,code):\n",
    "        self.name=name\n",
    "        self.code=code\n",
    "    def set_name(self,name):\n",
    "        self.name=name\n",
    "\n",
    "a = Stock(None,None)\n",
    "a.set_name('삼성전자')\n",
    "print(a.name)"
   ]
  },
  {
   "cell_type": "code",
   "execution_count": 227,
   "id": "01b51ec8-5dec-4e68-83cd-92d06309c282",
   "metadata": {},
   "outputs": [
    {
     "name": "stdout",
     "output_type": "stream",
     "text": [
      "005930\n"
     ]
    }
   ],
   "source": [
    "# 메서드\n",
    "# 객체에 종목코드를 입력할 수 있는 set_code 메서드를 추가해보세요.\n",
    "\n",
    "# a = Stock(None, None)\n",
    "# a.set_code(\"005930\")\n",
    "class Stock:\n",
    "    def __init__(self,name,code):\n",
    "        self.name=name\n",
    "        self.code=code\n",
    "    def set_code(self,code):\n",
    "        self.code=code\n",
    "a = Stock(None,None)\n",
    "a.set_code('005930')\n",
    "print(a.code)"
   ]
  },
  {
   "cell_type": "code",
   "execution_count": null,
   "id": "d428a971-ba99-4f0c-8dc1-58184bf45121",
   "metadata": {},
   "outputs": [],
   "source": []
  }
 ],
 "metadata": {
  "kernelspec": {
   "display_name": "Python 3 (ipykernel)",
   "language": "python",
   "name": "python3"
  },
  "language_info": {
   "codemirror_mode": {
    "name": "ipython",
    "version": 3
   },
   "file_extension": ".py",
   "mimetype": "text/x-python",
   "name": "python",
   "nbconvert_exporter": "python",
   "pygments_lexer": "ipython3",
   "version": "3.12.5"
  }
 },
 "nbformat": 4,
 "nbformat_minor": 5
}
