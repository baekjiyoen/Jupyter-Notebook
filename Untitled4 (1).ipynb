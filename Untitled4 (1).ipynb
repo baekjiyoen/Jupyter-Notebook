{
 "cells": [
  {
   "cell_type": "code",
   "execution_count": 5,
   "id": "9105ce7c-4e3d-4013-b803-ca18ae3c66d4",
   "metadata": {},
   "outputs": [
    {
     "data": {
      "text/plain": [
       "'C:\\\\Users\\\\human\\\\Desktop\\\\수업자료\\\\1차'"
      ]
     },
     "execution_count": 5,
     "metadata": {},
     "output_type": "execute_result"
    }
   ],
   "source": [
    "pwd"
   ]
  },
  {
   "cell_type": "code",
   "execution_count": 2,
   "id": "0165e15f-bdab-43d1-94cc-063451db3b61",
   "metadata": {},
   "outputs": [
    {
     "name": "stdout",
     "output_type": "stream",
     "text": [
      "abc-123-678-bbb\n"
     ]
    }
   ],
   "source": [
    "w='abc 123.678 bbb' # abc-123-678-bbb\n",
    "a=w.replace(' ','-').replace('.','-')\n",
    "print(a)"
   ]
  },
  {
   "cell_type": "code",
   "execution_count": 3,
   "id": "aeb1bb59-29f2-4982-8e4a-16c672c37f68",
   "metadata": {},
   "outputs": [
    {
     "data": {
      "text/plain": [
       "'abc 123'"
      ]
     },
     "execution_count": 3,
     "metadata": {},
     "output_type": "execute_result"
    }
   ],
   "source": [
    "a='      \\t\\t\\t\\t\\t\\n\\n abc 123 \\t\\t\\t\\t\\n'\n",
    "a.strip()"
   ]
  },
  {
   "cell_type": "code",
   "execution_count": 4,
   "id": "adad9c13-7908-4553-99a0-0953de872f75",
   "metadata": {},
   "outputs": [
    {
     "data": {
      "text/plain": [
       "'abc'"
      ]
     },
     "execution_count": 4,
     "metadata": {},
     "output_type": "execute_result"
    }
   ],
   "source": [
    "a='[abc]' #abc\n",
    "a.strip('[]')"
   ]
  },
  {
   "cell_type": "code",
   "execution_count": 7,
   "id": "25d0e15c-8a52-4efd-8c9c-2a74a60eff77",
   "metadata": {},
   "outputs": [
    {
     "data": {
      "text/plain": [
       "'서울시-영등포구-여의도동-937'"
      ]
     },
     "execution_count": 7,
     "metadata": {},
     "output_type": "execute_result"
    }
   ],
   "source": [
    "a=['서울시','영등포구','여의도동','937']\n",
    "'-'.join(a)"
   ]
  },
  {
   "cell_type": "code",
   "execution_count": 25,
   "id": "a3f8c84d-8a82-4c35-8da1-c2d986894afa",
   "metadata": {},
   "outputs": [
    {
     "name": "stdout",
     "output_type": "stream",
     "text": [
      "강남구 ----> 3\n",
      "중랑구 ----> 1\n"
     ]
    }
   ],
   "source": [
    "'''\n",
    "# 결과 :\n",
    "강남구 ->3\n",
    "중랑구 ->1\n",
    "'''\n",
    "add=[\n",
    "    '서울시 강남구 00동',\n",
    "    '서울시 중랑구 00동',\n",
    "    '서울시 강남구 111',\n",
    "    '서울시 강남구 333'\n",
    "]\n",
    "\n",
    "gus=[] # 강남구, 중랑구,강남구, 강남구\n",
    "\n",
    "for i in add:\n",
    "    gus.append(i.split()[1])\n",
    "uni=list(set(gus))\n",
    "for i in uni:\n",
    "    print(i,'---->',gus.count(i))\n"
   ]
  },
  {
   "cell_type": "code",
   "execution_count": 29,
   "id": "7eaf455d-55e0-4025-b6e0-fa7ed8b49321",
   "metadata": {},
   "outputs": [
    {
     "name": "stdout",
     "output_type": "stream",
     "text": [
      "서울시 강남구 ---> 3\n",
      "서울시 중랑구 ---> 1\n"
     ]
    }
   ],
   "source": [
    "'''\n",
    "# 결과 :\n",
    "서울시 강남구 ->3\n",
    "서울시 중랑구 ->1\n",
    "'''\n",
    "add=[\n",
    "    '서울시 강남구 00동',\n",
    "    '서울시 중랑구 00동',\n",
    "    '서울시 강남구 111',\n",
    "    '서울시 강남구 333'\n",
    "]\n",
    "\n",
    "gus=[] # 강남구, 중랑구,강남구, 강남구\n",
    "\n",
    "for i in add:\n",
    "    gus.append(' '.join(i.split()[:-1]))\n",
    "uni=list(set(gus))\n",
    "for i in uni :\n",
    "    print(i,'--->',gus.count(i))"
   ]
  },
  {
   "cell_type": "code",
   "execution_count": 37,
   "id": "347ef82b-b35e-4f9a-99be-dcbd2d77e43d",
   "metadata": {},
   "outputs": [
    {
     "data": {
      "text/plain": [
       "'python.exe'"
      ]
     },
     "execution_count": 37,
     "metadata": {},
     "output_type": "execute_result"
    }
   ],
   "source": [
    "path=r'C:\\Users\\test\\.conda\\envs\\smart\\python.exe' #python.exe\n",
    "path.split('\\\\')[-1]\n",
    "\n"
   ]
  },
  {
   "cell_type": "code",
   "execution_count": 41,
   "id": "9eb6c503-e1f9-41d0-9d07-efda74d2344f",
   "metadata": {},
   "outputs": [
    {
     "name": "stdout",
     "output_type": "stream",
     "text": [
      "-1\n"
     ]
    }
   ],
   "source": [
    "a='서울 강남구 000동'\n",
    "print(a.find('부산')) # find는 오류 안뜸"
   ]
  },
  {
   "cell_type": "code",
   "execution_count": 40,
   "id": "22c4b269-6276-49c5-9c47-647bd213b6b4",
   "metadata": {},
   "outputs": [
    {
     "ename": "ValueError",
     "evalue": "substring not found",
     "output_type": "error",
     "traceback": [
      "\u001b[1;31m---------------------------------------------------------------------------\u001b[0m",
      "\u001b[1;31mValueError\u001b[0m                                Traceback (most recent call last)",
      "Cell \u001b[1;32mIn[40], line 2\u001b[0m\n\u001b[0;32m      1\u001b[0m a\u001b[38;5;241m=\u001b[39m\u001b[38;5;124m'\u001b[39m\u001b[38;5;124m서울 강남구 000동\u001b[39m\u001b[38;5;124m'\u001b[39m\n\u001b[1;32m----> 2\u001b[0m \u001b[38;5;28mprint\u001b[39m(a\u001b[38;5;241m.\u001b[39mindex(\u001b[38;5;124m'\u001b[39m\u001b[38;5;124m부산\u001b[39m\u001b[38;5;124m'\u001b[39m))\n",
      "\u001b[1;31mValueError\u001b[0m: substring not found"
     ]
    }
   ],
   "source": [
    "a='서울 강남구 000동'\n",
    "print(a.index('서울')) # index는 찾는코드없으면 오류"
   ]
  },
  {
   "cell_type": "code",
   "execution_count": 49,
   "id": "7eb0a999-fc32-4af2-bf5b-ec949151b8ad",
   "metadata": {},
   "outputs": [
    {
     "name": "stdout",
     "output_type": "stream",
     "text": [
      "없다\n"
     ]
    }
   ],
   "source": [
    "try:\n",
    "    a='서울 강남구 000동'\n",
    "    print(a.index('부산'))\n",
    "except:\n",
    "    print('없다')"
   ]
  },
  {
   "cell_type": "code",
   "execution_count": 47,
   "id": "a7073a9d-3cba-479f-b3f0-5d35d26bb758",
   "metadata": {},
   "outputs": [
    {
     "name": "stdout",
     "output_type": "stream",
     "text": [
      "2.5\n",
      "참 잘 했어요\n"
     ]
    }
   ],
   "source": [
    "try:\n",
    "    print(5/2)\n",
    "    print('참 잘 했어요')\n",
    "except:\n",
    "    print('0으로 못 나눔')\n",
    "    print('------')"
   ]
  },
  {
   "cell_type": "code",
   "execution_count": 59,
   "id": "f9eba86a-47b9-4f9d-b8e1-d2f39426af01",
   "metadata": {},
   "outputs": [
    {
     "name": "stdout",
     "output_type": "stream",
     "text": [
      "a1= [2, 4, 6, 8]\n",
      "b1= [200, 400, 600, 800]\n"
     ]
    }
   ],
   "source": [
    "a=[1,2,3,4]\n",
    "b=[100,200,300,400]\n",
    "a1=[]\n",
    "b1=[]\n",
    "# list(range(len(a)))\n",
    "for i in range(len(a)): # 0,1,2,3\n",
    "    a1.append(a[i]*2)\n",
    "    b1.append(b[i]*2)\n",
    "print('a1=',a1)\n",
    "print('b1=',b1)"
   ]
  },
  {
   "cell_type": "code",
   "execution_count": 62,
   "id": "cd860877-4305-4124-8439-d49d710564ae",
   "metadata": {},
   "outputs": [
    {
     "name": "stdout",
     "output_type": "stream",
     "text": [
      "1\n",
      "100\n",
      "----------------------\n",
      "2\n",
      "200\n",
      "----------------------\n",
      "3\n",
      "300\n",
      "----------------------\n",
      "4\n",
      "400\n",
      "----------------------\n"
     ]
    }
   ],
   "source": [
    "a=[1,2,3,4]\n",
    "b=[100,200,300,400]\n",
    "for i,j in zip(a,b):\n",
    "    print(i)\n",
    "    print(j)\n",
    "    print('----------------------')"
   ]
  },
  {
   "cell_type": "code",
   "execution_count": 64,
   "id": "bb0886f6-838f-4a51-914c-2f193b77fe7a",
   "metadata": {},
   "outputs": [
    {
     "name": "stdout",
     "output_type": "stream",
     "text": [
      "a1= [2, 4, 6, 8]\n",
      "b1= [200, 400, 600, 800]\n"
     ]
    }
   ],
   "source": [
    "a=[1,2,3,4]\n",
    "b=[100,200,300,400]\n",
    "a1=[]\n",
    "b1=[]\n",
    "for i,j in zip(a,b):\n",
    "    a1.append(i*2)\n",
    "    b1.append(j*2)\n",
    "print('a1=',a1)\n",
    "print('b1=',b1)"
   ]
  },
  {
   "cell_type": "code",
   "execution_count": 69,
   "id": "df296fbf-7cb8-44d9-9db1-3bce0f5cdc25",
   "metadata": {},
   "outputs": [
    {
     "name": "stdout",
     "output_type": "stream",
     "text": [
      "이름 홍길동\n",
      "나이 25\n",
      "직업 학생\n"
     ]
    }
   ],
   "source": [
    "a={\n",
    "    '이름' : '홍길동',\n",
    "    '나이' : 25,\n",
    "    '직업' : '학생'\n",
    "}\n",
    "for i in a:\n",
    "    print(i,a[i])"
   ]
  },
  {
   "cell_type": "code",
   "execution_count": 73,
   "id": "401a500b-364c-4f9a-9d16-4336369a1f8e",
   "metadata": {},
   "outputs": [
    {
     "name": "stdout",
     "output_type": "stream",
     "text": [
      "이름 홍길동\n",
      "나이 25\n",
      "직업 학생\n"
     ]
    }
   ],
   "source": [
    "for key,value in a.items():\n",
    "    print(key,value)"
   ]
  },
  {
   "cell_type": "code",
   "execution_count": 76,
   "id": "07a79534-79de-4e2b-bf7f-5d940a08239a",
   "metadata": {},
   "outputs": [
    {
     "name": "stdout",
     "output_type": "stream",
     "text": [
      "{'09/05': 10500, '09/06': 10300, '09/07': 10100, '09/08': 10800, '09/09': 11000}\n"
     ]
    }
   ],
   "source": [
    "date = ['09/05', '09/06', '09/07', '09/08', '09/09']\n",
    "close_price = [10500, 10300, 10100, 10800, 11000]\n",
    "date_dict=dict(zip(date,close_price))\n",
    "print(date_dict)"
   ]
  },
  {
   "cell_type": "code",
   "execution_count": 77,
   "id": "f5982190-644c-43b4-9096-1feb2db183be",
   "metadata": {},
   "outputs": [
    {
     "name": "stdout",
     "output_type": "stream",
     "text": [
      "{'09/05': 10500, '09/06': 10300, '09/07': 10100, '09/08': 10800, '09/09': 11000}\n"
     ]
    }
   ],
   "source": [
    "date = ['09/05', '09/06', '09/07', '09/08', '09/09']\n",
    "close_price = [10500, 10300, 10100, 10800, 11000,2,3,4]\n",
    "date_dict=dict(zip(date,close_price))\n",
    "print(date_dict)"
   ]
  },
  {
   "cell_type": "code",
   "execution_count": 83,
   "id": "7019197f-aa10-4467-98b4-08ba3d5cf599",
   "metadata": {},
   "outputs": [
    {
     "name": "stdout",
     "output_type": "stream",
     "text": [
      "공부는 잘했으나 출석좀 하렴\n"
     ]
    }
   ],
   "source": [
    "점수=80\n",
    "출석=69\n",
    "\n",
    "if 점수>=80:\n",
    "    if 출석>=80:\n",
    "        print('A학점')\n",
    "    elif 출석>=70:\n",
    "        print('B학점')\n",
    "    else:\n",
    "        print('공부는 잘했으나 출석좀 하렴')\n",
    "else:\n",
    "    print('점수없음')"
   ]
  },
  {
   "cell_type": "code",
   "execution_count": null,
   "id": "ea372201-41ba-4425-8775-32f435d796c9",
   "metadata": {},
   "outputs": [],
   "source": []
  }
 ],
 "metadata": {
  "kernelspec": {
   "display_name": "Python 3 (ipykernel)",
   "language": "python",
   "name": "python3"
  },
  "language_info": {
   "codemirror_mode": {
    "name": "ipython",
    "version": 3
   },
   "file_extension": ".py",
   "mimetype": "text/x-python",
   "name": "python",
   "nbconvert_exporter": "python",
   "pygments_lexer": "ipython3",
   "version": "3.12.5"
  }
 },
 "nbformat": 4,
 "nbformat_minor": 5
}
