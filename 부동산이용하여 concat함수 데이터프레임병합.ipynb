{
 "cells": [
  {
   "cell_type": "code",
   "execution_count": 19,
   "id": "5a637713-fd89-46a0-81e7-9f0b0d1d73bd",
   "metadata": {},
   "outputs": [
    {
     "data": {
      "text/plain": [
       "'C:\\\\Users\\\\human\\\\Desktop\\\\수업자료\\\\데이터분석&시각화\\\\01판다스'"
      ]
     },
     "execution_count": 19,
     "metadata": {},
     "output_type": "execute_result"
    }
   ],
   "source": [
    "pwd"
   ]
  },
  {
   "cell_type": "code",
   "execution_count": 20,
   "id": "3d407865-a1d0-4810-a536-43765e29bb73",
   "metadata": {},
   "outputs": [],
   "source": [
    "from glob import glob\n",
    "import pandas as pd"
   ]
  },
  {
   "cell_type": "code",
   "execution_count": 34,
   "id": "45e4c9d1-a713-45e1-9770-5f0390065d8d",
   "metadata": {},
   "outputs": [],
   "source": [
    "files=glob('./부동산/*.csv')\n",
    "# res=[]\n",
    "# for f in files:\n",
    "    # tmp=pd.read_csv(f,encoding='cp949')\n",
    "    # res.append(tmp)\n",
    "# # len(res),len(files)-> 아래처럼도 가능\n",
    "\n",
    "res=[pd.read_csv(i,encoding='cp949') for i in files]\n",
    "df=pd.concat(res,ignore_index=True)"
   ]
  },
  {
   "cell_type": "code",
   "execution_count": 35,
   "id": "9e66ea63-29ea-4861-802d-9b6b50eec52f",
   "metadata": {},
   "outputs": [
    {
     "data": {
      "text/html": [
       "<div>\n",
       "<style scoped>\n",
       "    .dataframe tbody tr th:only-of-type {\n",
       "        vertical-align: middle;\n",
       "    }\n",
       "\n",
       "    .dataframe tbody tr th {\n",
       "        vertical-align: top;\n",
       "    }\n",
       "\n",
       "    .dataframe thead th {\n",
       "        text-align: right;\n",
       "    }\n",
       "</style>\n",
       "<table border=\"1\" class=\"dataframe\">\n",
       "  <thead>\n",
       "    <tr style=\"text-align: right;\">\n",
       "      <th></th>\n",
       "      <th>Unnamed: 0</th>\n",
       "      <th>지역</th>\n",
       "      <th>규모</th>\n",
       "      <th>연도</th>\n",
       "      <th>월</th>\n",
       "      <th>분양가</th>\n",
       "    </tr>\n",
       "  </thead>\n",
       "  <tbody>\n",
       "    <tr>\n",
       "      <th>0</th>\n",
       "      <td>0</td>\n",
       "      <td>강원</td>\n",
       "      <td>60㎡이하</td>\n",
       "      <td>2015</td>\n",
       "      <td>10</td>\n",
       "      <td>2286</td>\n",
       "    </tr>\n",
       "    <tr>\n",
       "      <th>1</th>\n",
       "      <td>1</td>\n",
       "      <td>강원</td>\n",
       "      <td>60㎡초과 85㎡이하</td>\n",
       "      <td>2015</td>\n",
       "      <td>10</td>\n",
       "      <td>2212</td>\n",
       "    </tr>\n",
       "    <tr>\n",
       "      <th>2</th>\n",
       "      <td>2</td>\n",
       "      <td>강원</td>\n",
       "      <td>85㎡초과 102㎡이하</td>\n",
       "      <td>2015</td>\n",
       "      <td>10</td>\n",
       "      <td>2061</td>\n",
       "    </tr>\n",
       "    <tr>\n",
       "      <th>3</th>\n",
       "      <td>3</td>\n",
       "      <td>강원</td>\n",
       "      <td>102㎡초과</td>\n",
       "      <td>2015</td>\n",
       "      <td>10</td>\n",
       "      <td>2171</td>\n",
       "    </tr>\n",
       "    <tr>\n",
       "      <th>4</th>\n",
       "      <td>4</td>\n",
       "      <td>강원</td>\n",
       "      <td>60㎡이하</td>\n",
       "      <td>2015</td>\n",
       "      <td>11</td>\n",
       "      <td>2292</td>\n",
       "    </tr>\n",
       "    <tr>\n",
       "      <th>...</th>\n",
       "      <td>...</td>\n",
       "      <td>...</td>\n",
       "      <td>...</td>\n",
       "      <td>...</td>\n",
       "      <td>...</td>\n",
       "      <td>...</td>\n",
       "    </tr>\n",
       "    <tr>\n",
       "      <th>3288</th>\n",
       "      <td>207</td>\n",
       "      <td>충북</td>\n",
       "      <td>102㎡초과</td>\n",
       "      <td>2020</td>\n",
       "      <td>1</td>\n",
       "      <td>2532</td>\n",
       "    </tr>\n",
       "    <tr>\n",
       "      <th>3289</th>\n",
       "      <td>208</td>\n",
       "      <td>충북</td>\n",
       "      <td>60㎡이하</td>\n",
       "      <td>2020</td>\n",
       "      <td>2</td>\n",
       "      <td>2420</td>\n",
       "    </tr>\n",
       "    <tr>\n",
       "      <th>3290</th>\n",
       "      <td>209</td>\n",
       "      <td>충북</td>\n",
       "      <td>60㎡초과 85㎡이하</td>\n",
       "      <td>2020</td>\n",
       "      <td>2</td>\n",
       "      <td>2384</td>\n",
       "    </tr>\n",
       "    <tr>\n",
       "      <th>3291</th>\n",
       "      <td>210</td>\n",
       "      <td>충북</td>\n",
       "      <td>85㎡초과 102㎡이하</td>\n",
       "      <td>2020</td>\n",
       "      <td>2</td>\n",
       "      <td>2634</td>\n",
       "    </tr>\n",
       "    <tr>\n",
       "      <th>3292</th>\n",
       "      <td>211</td>\n",
       "      <td>충북</td>\n",
       "      <td>102㎡초과</td>\n",
       "      <td>2020</td>\n",
       "      <td>2</td>\n",
       "      <td>2532</td>\n",
       "    </tr>\n",
       "  </tbody>\n",
       "</table>\n",
       "<p>3293 rows × 6 columns</p>\n",
       "</div>"
      ],
      "text/plain": [
       "      Unnamed: 0  지역             규모    연도   월   분양가\n",
       "0              0  강원          60㎡이하  2015  10  2286\n",
       "1              1  강원    60㎡초과 85㎡이하  2015  10  2212\n",
       "2              2  강원   85㎡초과 102㎡이하  2015  10  2061\n",
       "3              3  강원         102㎡초과  2015  10  2171\n",
       "4              4  강원          60㎡이하  2015  11  2292\n",
       "...          ...  ..            ...   ...  ..   ...\n",
       "3288         207  충북         102㎡초과  2020   1  2532\n",
       "3289         208  충북          60㎡이하  2020   2  2420\n",
       "3290         209  충북    60㎡초과 85㎡이하  2020   2  2384\n",
       "3291         210  충북   85㎡초과 102㎡이하  2020   2  2634\n",
       "3292         211  충북         102㎡초과  2020   2  2532\n",
       "\n",
       "[3293 rows x 6 columns]"
      ]
     },
     "execution_count": 35,
     "metadata": {},
     "output_type": "execute_result"
    }
   ],
   "source": [
    "df"
   ]
  },
  {
   "cell_type": "code",
   "execution_count": null,
   "id": "b76825f3-27be-402e-a8ba-d5458187e261",
   "metadata": {},
   "outputs": [],
   "source": []
  }
 ],
 "metadata": {
  "kernelspec": {
   "display_name": "Python 3 (ipykernel)",
   "language": "python",
   "name": "python3"
  },
  "language_info": {
   "codemirror_mode": {
    "name": "ipython",
    "version": 3
   },
   "file_extension": ".py",
   "mimetype": "text/x-python",
   "name": "python",
   "nbconvert_exporter": "python",
   "pygments_lexer": "ipython3",
   "version": "3.12.5"
  }
 },
 "nbformat": 4,
 "nbformat_minor": 5
}
