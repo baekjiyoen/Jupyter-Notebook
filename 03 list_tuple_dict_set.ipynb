{
 "cells": [
  {
   "cell_type": "markdown",
   "id": "excessive-connectivity",
   "metadata": {},
   "source": [
    "# 파이썬 기본_집합형 자료형\n",
    "> * 리스트(list) : [1,2,3]\n",
    "> * 튜플(tuple): (1,2,3)\n",
    "> * 딕셔너리(dictionary): {'key1':data1,'key2':data2}\n",
    "> * 집합(set):{1,2,3}\n",
    "\n"
   ]
  },
  {
   "attachments": {
    "image.png": {
     "image/png": "[encoded data removed]"
    }
   },
   "cell_type": "markdown",
   "id": "banner-tobago",
   "metadata": {},
   "source": [
    "## 1. 리스트형 자료\n",
    "* 순서가 있는 수정가능한 객체의 집합입니다.\n",
    "* 수정, 삭제, 추가가 가능합니다.\n",
    "* list 는 [] 대괄호로 작성되어지며, 내부 원소는 ,로 구분됩니다.\n",
    "\n",
    "### 리스트명 = [요소, 요소, 요소...]\n",
    "예)\n",
    "![image.png](attachment:image.png)\n",
    "\n",
    "\n",
    "### 리스트 데이터 생성 (Create)\n",
    "- 빈 리스트 데이터 생성\n",
    "    ```python\n",
    "    datas1 = list()\n",
    "    ```\n",
    "    ```python\n",
    "    datas1 = []\n",
    "    ```\n",
    "    \n",
    "- 데이터가 있는 리스트 데이터 생성\n",
    "    ```python\n",
    "    datas1 = [1, 2, 3]\n",
    "    ```"
   ]
  },
  {
   "cell_type": "code",
   "execution_count": null,
   "id": "sporting-collapse",
   "metadata": {},
   "outputs": [],
   "source": []
  },
  {
   "cell_type": "code",
   "execution_count": 20,
   "id": "worst-material",
   "metadata": {},
   "outputs": [
    {
     "name": "stdout",
     "output_type": "stream",
     "text": [
      "[]\n",
      "<class 'list'>\n",
      "[1, 2, 3]\n",
      "['a', 'b', 'c']\n",
      "[True, None, 1, '1']\n",
      "[0, 1, 2, [1, 2, 3], [1, 2, [2, 3]]]\n"
     ]
    }
   ],
   "source": [
    "a=[]\n",
    "b=[1,2,3]\n",
    "c=['a','b','c']\n",
    "d=[True,None,1,'1']\n",
    "e=[0,1,2,[1,2,3],[1,2,[2,3]]]\n",
    "print(a)\n",
    "print(type(a))\n",
    "print(b)\n",
    "print(c)\n",
    "print(d)\n",
    "print(e)"
   ]
  },
  {
   "cell_type": "markdown",
   "id": "virtual-upgrade",
   "metadata": {},
   "source": [
    "### 1-1. 리스트의 인덱싱\n",
    "\n",
    "### 리스트변수명[인덱스번호]\n",
    " - 파이썬에서 리스트 인덱싱은 -(음수 인덱싱) 값도 허용합니다.\n",
    " - 값은 역순으로도 인덱싱됩니다."
   ]
  },
  {
   "cell_type": "code",
   "execution_count": null,
   "id": "social-accessory",
   "metadata": {},
   "outputs": [],
   "source": []
  },
  {
   "cell_type": "code",
   "execution_count": 22,
   "id": "worthy-billion",
   "metadata": {},
   "outputs": [
    {
     "name": "stdout",
     "output_type": "stream",
     "text": [
      "[1, 2, 3]\n",
      "1 3\n",
      "3 1\n",
      "None\n",
      "[0, 1, 2, [1, 2, 3], [1, 2, [2, 3]]]\n",
      "[1, 2, 3]\n",
      "1\n",
      "2\n",
      "3\n"
     ]
    }
   ],
   "source": [
    "print(b)\n",
    "print(b[0],b[2])\n",
    "print(print(b[-1],b[-3]))\n",
    "print(e)\n",
    "print(e[3])\n",
    "print(e[3][0])\n",
    "print(e[4][1])\n",
    "print(e[-1][2][1])"
   ]
  },
  {
   "attachments": {
    "image.png": {
     "image/png": "[encoded data removed]"
    }
   },
   "cell_type": "markdown",
   "id": "environmental-printing",
   "metadata": {},
   "source": [
    "### 1-2. 리스트 슬라이싱\n",
    "\n",
    "![image.png](attachment:image.png)\n"
   ]
  },
  {
   "cell_type": "code",
   "execution_count": null,
   "id": "superior-drama",
   "metadata": {},
   "outputs": [],
   "source": []
  },
  {
   "cell_type": "code",
   "execution_count": 42,
   "id": "neither-movie",
   "metadata": {},
   "outputs": [
    {
     "name": "stdout",
     "output_type": "stream",
     "text": [
      "['a', 'b', 'c']\n",
      "['a', 'b']\n",
      "['a', 'b']\n",
      "['b', 'c']\n",
      "['b', 'c']\n",
      "['c', 'b', 'a']\n"
     ]
    }
   ],
   "source": [
    "print(c)\n",
    "print(c[0:2])\n",
    "print(c[:2])\n",
    "print(c[1:])\n",
    "print(c[-2:])\n",
    "print(c[::-1])"
   ]
  },
  {
   "cell_type": "markdown",
   "id": "generous-meditation",
   "metadata": {},
   "source": [
    "### 1-3. 리스트 데이터 수정\n",
    "### 리스트명[번호]=새로운 값"
   ]
  },
  {
   "cell_type": "code",
   "execution_count": 47,
   "id": "italian-promise",
   "metadata": {},
   "outputs": [
    {
     "name": "stdout",
     "output_type": "stream",
     "text": [
      "[100, 2, 3]\n",
      "[100, 300, 3]\n"
     ]
    }
   ],
   "source": [
    "print(b)\n",
    "b[0]=100\n",
    "b[1]=300\n",
    "print(b)"
   ]
  },
  {
   "cell_type": "code",
   "execution_count": null,
   "id": "accepted-orbit",
   "metadata": {},
   "outputs": [],
   "source": []
  },
  {
   "cell_type": "markdown",
   "id": "alive-radius",
   "metadata": {},
   "source": [
    "###  1-4. 리스트 자료 추가, 삭제\n"
   ]
  },
  {
   "cell_type": "code",
   "execution_count": null,
   "id": "intelligent-messenger",
   "metadata": {},
   "outputs": [],
   "source": []
  },
  {
   "cell_type": "code",
   "execution_count": 83,
   "id": "temporal-reality",
   "metadata": {},
   "outputs": [
    {
     "name": "stdout",
     "output_type": "stream",
     "text": [
      "['a', 'b', 'c', 'a']\n",
      "['a', 'b', 'c', 'a', [1, 2]]\n",
      "[1, 2]\n"
     ]
    }
   ],
   "source": [
    "# 리스트 요소 추가(append) <-많이 사용\n",
    "a=['a','b','c']\n",
    "a.append('a')\n",
    "print(a)\n",
    "a.append([1,2])\n",
    "print(a)\n",
    "print(a[-1])"
   ]
  },
  {
   "cell_type": "code",
   "execution_count": null,
   "id": "close-shelf",
   "metadata": {},
   "outputs": [],
   "source": []
  },
  {
   "cell_type": "code",
   "execution_count": 86,
   "id": "entire-robert",
   "metadata": {},
   "outputs": [
    {
     "name": "stdout",
     "output_type": "stream",
     "text": [
      "[9, 1, 2, 3]\n",
      "[9, 1, 100, 2, 3]\n"
     ]
    }
   ],
   "source": [
    "#리스트 요소 삽입 (insert) <- 리스트명.insert(값, 위치)\n",
    "a=[1,2,3]\n",
    "a.insert(0,9)\n",
    "print(a)\n",
    "a.insert(2,100)\n",
    "print(a)"
   ]
  },
  {
   "cell_type": "code",
   "execution_count": null,
   "id": "precise-baking",
   "metadata": {},
   "outputs": [],
   "source": []
  },
  {
   "cell_type": "code",
   "execution_count": 89,
   "id": "bridal-victory",
   "metadata": {},
   "outputs": [
    {
     "data": {
      "text/plain": [
       "[2, 3]"
      ]
     },
     "execution_count": 89,
     "metadata": {},
     "output_type": "execute_result"
    }
   ],
   "source": [
    "#리스트 요소 제거 (del)\n",
    "a=[1,2,3]\n",
    "del a[0]\n",
    "a"
   ]
  },
  {
   "cell_type": "code",
   "execution_count": 103,
   "id": "logical-carroll",
   "metadata": {},
   "outputs": [
    {
     "data": {
      "text/plain": [
       "'e'"
      ]
     },
     "execution_count": 103,
     "metadata": {},
     "output_type": "execute_result"
    }
   ],
   "source": [
    "#리스트 요소 제거 (pop)\n",
    "a=['a','b','c','d','e']\n",
    "a.pop() # 마지막 데이터를 삭제하고 출력도 함\n"
   ]
  },
  {
   "cell_type": "code",
   "execution_count": null,
   "id": "operational-output",
   "metadata": {},
   "outputs": [],
   "source": []
  },
  {
   "cell_type": "code",
   "execution_count": 104,
   "id": "wanted-collective",
   "metadata": {},
   "outputs": [
    {
     "name": "stdout",
     "output_type": "stream",
     "text": [
      "['a', 'b', 'c', 'd']\n"
     ]
    },
    {
     "data": {
      "text/plain": [
       "'b'"
      ]
     },
     "execution_count": 104,
     "metadata": {},
     "output_type": "execute_result"
    }
   ],
   "source": [
    "print(a)\n",
    "a.pop(1) #index 1위 위치의 값을 삭제"
   ]
  },
  {
   "cell_type": "code",
   "execution_count": null,
   "id": "expanded-cruise",
   "metadata": {},
   "outputs": [],
   "source": []
  },
  {
   "cell_type": "code",
   "execution_count": null,
   "id": "dirty-genesis",
   "metadata": {},
   "outputs": [],
   "source": []
  },
  {
   "cell_type": "code",
   "execution_count": 106,
   "id": "removable-trash",
   "metadata": {},
   "outputs": [
    {
     "data": {
      "text/plain": [
       "['a', 'c']"
      ]
     },
     "execution_count": 106,
     "metadata": {},
     "output_type": "execute_result"
    }
   ],
   "source": [
    "# 리스트 요소 값을 지정하여 제거(remove)\n",
    "a=['a','b','c']\n",
    "a.remove('b')\n",
    "a"
   ]
  },
  {
   "cell_type": "code",
   "execution_count": null,
   "id": "d2e12e20",
   "metadata": {},
   "outputs": [],
   "source": []
  },
  {
   "cell_type": "markdown",
   "id": "certain-journalism",
   "metadata": {},
   "source": [
    "### 1-5. 리스트 연산 및 함수\n",
    " - \\+ : 리스트 데이터 더하기  \n",
    "  + 예) [1,2,3]+['a','b','c']  -> (결과) [1,2,3,'a','b','c']  \n",
    " <br>\n",
    " - \\* : 리스트 데이터 반복\n",
    "  + 예) [1,2,3]\\*2  -> (결과) [1,2,3,1,2,3]\n",
    " <br>\n",
    " - len(리스트) : 리스트 요소 갯수 구하기\n",
    " - sort():리스트 정렬\n",
    "   + 예) a=[2,3,1]\n",
    "   + 예) a.sort()    -> (결과) [1,2,3] #리스트 a의 요소값으로 오름차순 정렬\n",
    "   + 예) a.sort(reverse=True)  -> (결과) [1,2,3] # 리스트 a의 요소값으로 내림차순 정렬\n",
    " - reverse():리스트 뒤집기\n",
    "   + 예) a=[2,3,1]\n",
    "   + 예) a.reverse()    -> (결과) [1,3,2] #리스트 a의 요소값으로 오름차순 정렬"
   ]
  },
  {
   "cell_type": "code",
   "execution_count": 23,
   "id": "detailed-still",
   "metadata": {},
   "outputs": [
    {
     "data": {
      "text/plain": [
       "['__add__',\n",
       " '__class__',\n",
       " '__class_getitem__',\n",
       " '__contains__',\n",
       " '__delattr__',\n",
       " '__delitem__',\n",
       " '__dir__',\n",
       " '__doc__',\n",
       " '__eq__',\n",
       " '__format__',\n",
       " '__ge__',\n",
       " '__getattribute__',\n",
       " '__getitem__',\n",
       " '__gt__',\n",
       " '__hash__',\n",
       " '__iadd__',\n",
       " '__imul__',\n",
       " '__init__',\n",
       " '__init_subclass__',\n",
       " '__iter__',\n",
       " '__le__',\n",
       " '__len__',\n",
       " '__lt__',\n",
       " '__mul__',\n",
       " '__ne__',\n",
       " '__new__',\n",
       " '__reduce__',\n",
       " '__reduce_ex__',\n",
       " '__repr__',\n",
       " '__reversed__',\n",
       " '__rmul__',\n",
       " '__setattr__',\n",
       " '__setitem__',\n",
       " '__sizeof__',\n",
       " '__str__',\n",
       " '__subclasshook__',\n",
       " 'append',\n",
       " 'clear',\n",
       " 'copy',\n",
       " 'count',\n",
       " 'extend',\n",
       " 'index',\n",
       " 'insert',\n",
       " 'pop',\n",
       " 'remove',\n",
       " 'reverse',\n",
       " 'sort']"
      ]
     },
     "execution_count": 23,
     "metadata": {},
     "output_type": "execute_result"
    }
   ],
   "source": [
    "#list 메소드 확인\n",
    "dir(list)"
   ]
  },
  {
   "cell_type": "code",
   "execution_count": 68,
   "id": "unexpected-intent",
   "metadata": {},
   "outputs": [
    {
     "data": {
      "text/plain": [
       "3"
      ]
     },
     "execution_count": 68,
     "metadata": {},
     "output_type": "execute_result"
    }
   ],
   "source": [
    "#리스트 데이터 갯수 구하기(len)\n",
    "a=[1,2,3]\n",
    "len(a)"
   ]
  },
  {
   "cell_type": "code",
   "execution_count": 2,
   "id": "silent-present",
   "metadata": {
    "jupyter": {
     "source_hidden": true
    }
   },
   "outputs": [
    {
     "name": "stdout",
     "output_type": "stream",
     "text": [
      "[1, 2, 3, 'a', 'b', 'c']\n",
      "[1, 2, 3, 1, 2, 3]\n"
     ]
    }
   ],
   "source": [
    "#리스트 연결연산자(+), 반복연산자(*)\n",
    "a=[1,2,3]\n",
    "b=['a','b','c']\n",
    "print(a+b)\n",
    "print(a*2)"
   ]
  },
  {
   "cell_type": "code",
   "execution_count": 11,
   "id": "informative-absolute",
   "metadata": {},
   "outputs": [
    {
     "data": {
      "text/plain": [
       "True"
      ]
     },
     "execution_count": 11,
     "metadata": {},
     "output_type": "execute_result"
    }
   ],
   "source": [
    "#리스트연산자: 특정 값이 있는지 확인(in), 없는지 확인(not in)\n",
    "a=['홍길동','이길동','이두리']\n",
    "'이길동' in a"
   ]
  },
  {
   "cell_type": "code",
   "execution_count": 15,
   "id": "handy-google",
   "metadata": {},
   "outputs": [
    {
     "name": "stdout",
     "output_type": "stream",
     "text": [
      "1\n"
     ]
    },
    {
     "ename": "AttributeError",
     "evalue": "'list' object has no attribute 'indexs'",
     "output_type": "error",
     "traceback": [
      "\u001b[1;31m---------------------------------------------------------------------------\u001b[0m",
      "\u001b[1;31mAttributeError\u001b[0m                            Traceback (most recent call last)",
      "\u001b[1;32m<ipython-input-15-16b16277fb21>\u001b[0m in \u001b[0;36m<module>\u001b[1;34m\u001b[0m\n\u001b[0;32m      2\u001b[0m \u001b[0ma\u001b[0m\u001b[1;33m=\u001b[0m\u001b[1;33m[\u001b[0m\u001b[1;34m'홍길동'\u001b[0m\u001b[1;33m,\u001b[0m\u001b[1;34m'이길동'\u001b[0m\u001b[1;33m,\u001b[0m\u001b[1;34m'이두리'\u001b[0m\u001b[1;33m]\u001b[0m\u001b[1;33m\u001b[0m\u001b[1;33m\u001b[0m\u001b[0m\n\u001b[0;32m      3\u001b[0m \u001b[0mprint\u001b[0m\u001b[1;33m(\u001b[0m\u001b[0ma\u001b[0m\u001b[1;33m.\u001b[0m\u001b[0mindex\u001b[0m\u001b[1;33m(\u001b[0m\u001b[1;34m'이길동'\u001b[0m\u001b[1;33m)\u001b[0m\u001b[1;33m)\u001b[0m\u001b[1;33m\u001b[0m\u001b[1;33m\u001b[0m\u001b[0m\n\u001b[1;32m----> 4\u001b[1;33m \u001b[0mprint\u001b[0m\u001b[1;33m(\u001b[0m\u001b[0ma\u001b[0m\u001b[1;33m.\u001b[0m\u001b[0mindexs\u001b[0m\u001b[1;33m(\u001b[0m\u001b[1;34m'고길동'\u001b[0m\u001b[1;33m)\u001b[0m\u001b[1;33m)\u001b[0m \u001b[1;31m# 값이 없으면 오류 반환\u001b[0m\u001b[1;33m\u001b[0m\u001b[1;33m\u001b[0m\u001b[0m\n\u001b[0m",
      "\u001b[1;31mAttributeError\u001b[0m: 'list' object has no attribute 'indexs'"
     ]
    }
   ],
   "source": [
    "#위치 반환(index), find는 지원하지 않음\n",
    "a=['홍길동','이길동','이두리']\n",
    "print(a.index('이길동'))\n",
    "print(a.indexs('고길동')) # 값이 없으면 오류 반환"
   ]
  },
  {
   "cell_type": "code",
   "execution_count": 3,
   "id": "handy-salad",
   "metadata": {},
   "outputs": [
    {
     "name": "stdout",
     "output_type": "stream",
     "text": [
      "[1, 2, 3]\n",
      "[3, 2, 1]\n"
     ]
    }
   ],
   "source": [
    "#리스트 정렬(sort)\n",
    "a=[2,3,1]\n",
    "a.sort()\n",
    "print(a)\n",
    "a.sort(reverse=True)\n",
    "print(a)"
   ]
  },
  {
   "cell_type": "code",
   "execution_count": 8,
   "id": "unnecessary-tourism",
   "metadata": {},
   "outputs": [
    {
     "data": {
      "text/plain": [
       "[4, 5, 1]"
      ]
     },
     "execution_count": 8,
     "metadata": {},
     "output_type": "execute_result"
    }
   ],
   "source": [
    "#리스트 뒤집기(reverse)\n",
    "a=[1,5,4]\n",
    "a.reverse()\n",
    "a"
   ]
  },
  {
   "cell_type": "code",
   "execution_count": 71,
   "id": "intensive-borough",
   "metadata": {},
   "outputs": [
    {
     "name": "stdout",
     "output_type": "stream",
     "text": [
      "4\n",
      "0\n"
     ]
    }
   ],
   "source": [
    "#특정 값의 갯수 확인 count()\n",
    "a=[1,1,1,2,4,5,2,4,7,1,5,3,3]\n",
    "print(a.count(1))\n",
    "print(a.count(100)) # 없는 값을 카운터 하면 0을 반환함"
   ]
  },
  {
   "cell_type": "code",
   "execution_count": null,
   "id": "criminal-opera",
   "metadata": {},
   "outputs": [],
   "source": []
  },
  {
   "cell_type": "code",
   "execution_count": 8,
   "id": "6c30fa14",
   "metadata": {},
   "outputs": [
    {
     "name": "stdout",
     "output_type": "stream",
     "text": [
      "[0, 1, 2, 3, 4, 5, 6, 7, 8, 9]\n",
      "45\n",
      "9\n",
      "0\n",
      "10\n"
     ]
    }
   ],
   "source": [
    "#리스트 요소 sum(합), max(최대값), min(최소값), len(갯수), \n",
    "a=list(range(10))\n",
    "print(a)\n",
    "print(sum(a))\n",
    "print(max(a))\n",
    "print(min(a))\n",
    "print(len(a))\n"
   ]
  },
  {
   "cell_type": "code",
   "execution_count": null,
   "id": "39538e84",
   "metadata": {},
   "outputs": [],
   "source": []
  },
  {
   "attachments": {
    "image-2.png": {
     "image/png": "[encoded data removed]"
    }
   },
   "cell_type": "markdown",
   "id": "seeing-activity",
   "metadata": {},
   "source": [
    "## 2. 튜블\n",
    "튜플(tuple)은 몇 가지 점을 제외하곤 리스트와 거의 비슷하며 리스트와 다른 점은 다음과 같다.\n",
    "\n",
    "* 리스트는 [ ]으로 둘러싸지만 튜플은 ( )으로 둘러싼다.\n",
    "* 순서가 있는 수정 불가능한 객체\n",
    "* 리스트는 그 값의 생성, 인덱싱과 슬라이싱은 가능하지만 튜플은 그 값을 바꿀 수 없다.\n",
    "![image-2.png](attachment:image-2.png)"
   ]
  },
  {
   "cell_type": "code",
   "execution_count": null,
   "id": "gross-linux",
   "metadata": {},
   "outputs": [],
   "source": []
  },
  {
   "cell_type": "code",
   "execution_count": 115,
   "id": "dense-render",
   "metadata": {},
   "outputs": [
    {
     "name": "stdout",
     "output_type": "stream",
     "text": [
      "<class 'tuple'>\n",
      "<class 'tuple'>\n",
      "3\n",
      "1\n",
      "2\n",
      "3\n",
      "1\n"
     ]
    }
   ],
   "source": [
    "t1=()\n",
    "print(type(t1))\n",
    "t2=1,\n",
    "print(type(t2))\n",
    "t4=(1,2,3)\n",
    "print(t3)\n",
    "t1,t2,t3=(1,2,3)\n",
    "print(t1)\n",
    "print(t2)\n",
    "print(t3)\n",
    "print(t4[0])"
   ]
  },
  {
   "cell_type": "code",
   "execution_count": null,
   "id": "negative-shelf",
   "metadata": {},
   "outputs": [],
   "source": []
  },
  {
   "attachments": {
    "image-3.png": {
     "image/png": "[encoded data removed]"
    }
   },
   "cell_type": "markdown",
   "id": "endangered-mention",
   "metadata": {},
   "source": [
    "## 3. 딕셔너리\n",
    "\n",
    " * 딕셔너리는 키와 값 { }로 되어 있다.\n",
    "  + 예: {key1:valeu1, key2:value2...}\n",
    " * 키(key)는 변하지 않는 값, 값(Value)에는 변하는 값을 매핑한다. \n",
    " * 카(key)값은 중복되지 않고, 만약 중복되면 마지막 값만 기억하고 나머지는 무시한다.\n",
    " * 딕셔너리 타입은 순서가 없는 집합입니다. (즉, 인덱싱과 슬라이싱을 사용못함, key값으로 접근함)\n",
    "![image-3.png](attachment:image-3.png)\n"
   ]
  },
  {
   "cell_type": "code",
   "execution_count": null,
   "id": "latin-pharmaceutical",
   "metadata": {},
   "outputs": [],
   "source": []
  },
  {
   "cell_type": "markdown",
   "id": "solar-committee",
   "metadata": {},
   "source": [
    "## 4. 집합\n",
    "* set은 수학에서 이야기하는 집합과 비슷합니다.\n",
    "* 순서가 없고, 집합안에서는 unique한 값을 가집니다.(인덱싱, 슬라이싱 안됨)\n",
    "* 중괄호를 사용하는 것은 dictionary와 비슷하지만, key가 없습니다. 값만 존재합니다.\n",
    "\n",
    "> 주로 중복된 값을 제거할 때 사용함"
   ]
  },
  {
   "cell_type": "code",
   "execution_count": 151,
   "id": "racial-variance",
   "metadata": {},
   "outputs": [
    {
     "name": "stdout",
     "output_type": "stream",
     "text": [
      "{1, 2, 3}\n",
      "['이하나', '이두리', '홍길동']\n"
     ]
    }
   ],
   "source": [
    "s={1,1,2,3,3}\n",
    "type(s)\n",
    "print(s)\n",
    "\n",
    "a=['홍길동','이두리','이하나','홍길동','이하나']\n",
    "a=list(set(a))\n",
    "print(a)\n"
   ]
  },
  {
   "cell_type": "markdown",
   "id": "lesbian-agent",
   "metadata": {},
   "source": [
    "## range()"
   ]
  },
  {
   "cell_type": "code",
   "execution_count": 115,
   "id": "lucky-necklace",
   "metadata": {},
   "outputs": [
    {
     "data": {
      "text/plain": [
       "range(0, 10)"
      ]
     },
     "execution_count": 115,
     "metadata": {},
     "output_type": "execute_result"
    }
   ],
   "source": [
    "# range(숫자): 0에서 숫자-1까지 연속된 숫자 생성\n",
    "range(10)"
   ]
  },
  {
   "cell_type": "code",
   "execution_count": 116,
   "id": "threatened-mercy",
   "metadata": {},
   "outputs": [
    {
     "data": {
      "text/plain": [
       "[0, 1, 2, 3, 4, 5, 6, 7, 8, 9]"
      ]
     },
     "execution_count": 116,
     "metadata": {},
     "output_type": "execute_result"
    }
   ],
   "source": [
    "#range()를 사용하여 리스트 만들기\n",
    "list(range(10))"
   ]
  },
  {
   "cell_type": "code",
   "execution_count": 119,
   "id": "cultural-isolation",
   "metadata": {},
   "outputs": [
    {
     "name": "stdout",
     "output_type": "stream",
     "text": [
      "[1, 2, 3, 4, 5, 6, 7, 8, 9]\n",
      "[1, 3, 5, 7, 9]\n"
     ]
    }
   ],
   "source": [
    "#range(시작,끝,증가폭)\n",
    "r1=range(1,10)\n",
    "print(list(r1))\n",
    "r2=range(1,10,2)\n",
    "print(list(r2))\n"
   ]
  },
  {
   "cell_type": "markdown",
   "id": "suspended-heavy",
   "metadata": {},
   "source": [
    "### 얕은 복사 깊은 복사"
   ]
  },
  {
   "cell_type": "code",
   "execution_count": null,
   "id": "decreased-moldova",
   "metadata": {},
   "outputs": [],
   "source": []
  },
  {
   "cell_type": "code",
   "execution_count": 2,
   "id": "speaking-chapel",
   "metadata": {},
   "outputs": [
    {
     "name": "stdout",
     "output_type": "stream",
     "text": [
      "[1, 2, 3, 4]\n",
      "[1, 2, 3, 4]\n"
     ]
    }
   ],
   "source": [
    "ls=[1,2,3,4]\n",
    "a=ls\n",
    "print(ls)\n",
    "print(a)"
   ]
  },
  {
   "cell_type": "code",
   "execution_count": 3,
   "id": "adolescent-national",
   "metadata": {},
   "outputs": [
    {
     "name": "stdout",
     "output_type": "stream",
     "text": [
      "[100, 2, 3, 4]\n",
      "[100, 2, 3, 4]\n"
     ]
    }
   ],
   "source": [
    "a[0]=100\n",
    "print(a)\n",
    "print(ls)"
   ]
  },
  {
   "cell_type": "code",
   "execution_count": 10,
   "id": "operational-greene",
   "metadata": {},
   "outputs": [
    {
     "name": "stdout",
     "output_type": "stream",
     "text": [
      "[1, 2, 3, [1, 2, 3]]\n",
      "[1, 2, 3, [1, 2, 3]]\n",
      "[1, 2, 3, [1, 2, 3]]\n",
      "[1, 2, 3, [300, 2, 3]] [100, 2, 3, [300, 2, 3]] [1, 2, 3, [300, 2, 3]]\n"
     ]
    }
   ],
   "source": [
    "# 깊은 복사\n",
    "ls=[1,2,3,[1,2,3]]\n",
    "a=ls[:]\n",
    "b=ls.copy()\n",
    "print(ls)\n",
    "print(a)\n",
    "print(b)\n",
    "a[0]=100\n",
    "b[3][0]=300\n",
    "print(ls,a,b)"
   ]
  },
  {
   "cell_type": "markdown",
   "id": "appreciated-capitol",
   "metadata": {},
   "source": [
    "<div class=\"alert alert-block\" style=\"border: 1px solid #FFB300;background-color:#F9FBE7;\">\n",
    "<font size=\"4em\" style=\"font-weight:bold;color:#3f8dbf;\">연습문제</font><br>\n",
    "다음 리스트 변수에 있는 각 데이터를 한 라인에 하나씩 출력하세요<br>\n",
    "dt = [\"python\", \"coding\", \"IoT\", \"Bigdata\", \"web\", \"크롤링\"]<br>\n",
    "예:<br>\n",
    "    python<br>\n",
    "    coding<br>\n",
    "    IoT<br>    \n",
    "</div>"
   ]
  },
  {
   "cell_type": "code",
   "execution_count": 67,
   "id": "stupid-hardware",
   "metadata": {},
   "outputs": [
    {
     "name": "stdout",
     "output_type": "stream",
     "text": [
      "python\n",
      "coding\n",
      "IoT\n",
      "Bigdata\n",
      "web\n",
      "크롤링\n"
     ]
    }
   ],
   "source": [
    "dt = [\"python\", \"coding\", \"IoT\", \"Bigdata\", \"web\", \"크롤링\"]\n"
   ]
  },
  {
   "cell_type": "markdown",
   "id": "electoral-decimal",
   "metadata": {},
   "source": [
    "<div class=\"alert alert-block\" style=\"border: 1px solid #FFB300;background-color:#F9FBE7;\">\n",
    "<font size=\"4em\" style=\"font-weight:bold;color:#3f8dbf;\">연습문제</font><br>\n",
    "1. 리스트 변수에서 가장 큰 값을 출력하세요: sort()활용 <br>\n",
    "2. 리스트 변수에서 가장 작은 값을 출력하세요:<br>\n",
    "dt= [2, 6, 4]<br>\n",
    "[결과] <br>\n",
    " 최대값: 6<br>\n",
    " 최소값:2\n",
    "  \n",
    "</div>"
   ]
  },
  {
   "cell_type": "code",
   "execution_count": 66,
   "id": "victorian-halifax",
   "metadata": {},
   "outputs": [
    {
     "name": "stdout",
     "output_type": "stream",
     "text": [
      "최대값: 6\n",
      "최소값: 2\n"
     ]
    }
   ],
   "source": [
    "dt= [2, 6, 4]\n"
   ]
  },
  {
   "cell_type": "markdown",
   "id": "intensive-madonna",
   "metadata": {},
   "source": [
    "<div class=\"alert alert-block\" style=\"border: 1px solid #FFB300;background-color:#F9FBE7;\">\n",
    "<font size=\"4em\" style=\"font-weight:bold;color:#3f8dbf;\">연습문제</font><br>\n",
    "다음 리스트 변수에 있는 각 데이터에 2를 곱한 값을 한 라인에 하나씩 출력하세요<br>\n",
    "dt = [2, 4, 6]<br>\n",
    "예: 4 8 12\n",
    "  \n",
    "</div>"
   ]
  },
  {
   "cell_type": "code",
   "execution_count": 57,
   "id": "adolescent-beginning",
   "metadata": {},
   "outputs": [
    {
     "name": "stdout",
     "output_type": "stream",
     "text": [
      "4 8 10 "
     ]
    }
   ],
   "source": [
    "#print()만 활용\n",
    "dt=[2,4,5]\n"
   ]
  },
  {
   "cell_type": "code",
   "execution_count": null,
   "id": "harmful-fellowship",
   "metadata": {},
   "outputs": [],
   "source": []
  }
 ],
 "metadata": {
  "kernelspec": {
   "display_name": "Python 3 (ipykernel)",
   "language": "python",
   "name": "python3"
  },
  "language_info": {
   "codemirror_mode": {
    "name": "ipython",
    "version": 3
   },
   "file_extension": ".py",
   "mimetype": "text/x-python",
   "name": "python",
   "nbconvert_exporter": "python",
   "pygments_lexer": "ipython3",
   "version": "3.12.5"
  }
 },
 "nbformat": 4,
 "nbformat_minor": 5
}
