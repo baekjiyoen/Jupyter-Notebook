{
 "cells": [
  {
   "cell_type": "code",
   "execution_count": 86,
   "id": "f2ddbd79-c58e-4e8c-b1bd-d81eb1bf646d",
   "metadata": {},
   "outputs": [
    {
     "name": "stdout",
     "output_type": "stream",
     "text": [
      "123\n"
     ]
    }
   ],
   "source": [
    "print(123)"
   ]
  },
  {
   "cell_type": "code",
   "execution_count": 87,
   "id": "d6c01cb0-f827-4bd7-91e6-5e44e25fa7b4",
   "metadata": {},
   "outputs": [
    {
     "data": {
      "text/plain": [
       "3"
      ]
     },
     "execution_count": 87,
     "metadata": {},
     "output_type": "execute_result"
    }
   ],
   "source": [
    "print=3\n",
    "print"
   ]
  },
  {
   "cell_type": "code",
   "execution_count": 88,
   "id": "1ed70a3a-851f-4961-bc4b-a836a4a2eebd",
   "metadata": {},
   "outputs": [
    {
     "ename": "TypeError",
     "evalue": "'int' object is not callable",
     "output_type": "error",
     "traceback": [
      "\u001b[1;31m---------------------------------------------------------------------------\u001b[0m",
      "\u001b[1;31mTypeError\u001b[0m                                 Traceback (most recent call last)",
      "Cell \u001b[1;32mIn[88], line 1\u001b[0m\n\u001b[1;32m----> 1\u001b[0m \u001b[38;5;28mprint\u001b[39m(\u001b[38;5;241m5\u001b[39m)\n",
      "\u001b[1;31mTypeError\u001b[0m: 'int' object is not callable"
     ]
    }
   ],
   "source": [
    "print(5)"
   ]
  },
  {
   "cell_type": "code",
   "execution_count": 89,
   "id": "02d1a948-05e8-4ddf-a079-ce8dfb8a4d94",
   "metadata": {},
   "outputs": [],
   "source": [
    "del print"
   ]
  },
  {
   "cell_type": "code",
   "execution_count": 90,
   "id": "550f102d-5de9-4527-83d7-594aae9ba81f",
   "metadata": {},
   "outputs": [
    {
     "data": {
      "text/plain": [
       "<function print(*args, sep=' ', end='\\n', file=None, flush=False)>"
      ]
     },
     "execution_count": 90,
     "metadata": {},
     "output_type": "execute_result"
    }
   ],
   "source": [
    "print"
   ]
  },
  {
   "cell_type": "code",
   "execution_count": 92,
   "id": "76c04d87-64f5-464b-b0d9-c2cb7ee79b2f",
   "metadata": {},
   "outputs": [
    {
     "name": "stdout",
     "output_type": "stream",
     "text": [
      "a= 15\n",
      "a= 15\n"
     ]
    }
   ],
   "source": [
    "def f():\n",
    "    global a\n",
    "    a=a+5\n",
    "    print('a=',a)\n",
    "a=10\n",
    "f()\n",
    "print('a=',a)"
   ]
  },
  {
   "cell_type": "code",
   "execution_count": 94,
   "id": "fc00dbf3-0e5a-435f-a37d-17872c6dadef",
   "metadata": {},
   "outputs": [
    {
     "data": {
      "text/plain": [
       "[1, 2, 3, 4]"
      ]
     },
     "execution_count": 94,
     "metadata": {},
     "output_type": "execute_result"
    }
   ],
   "source": [
    "a=['1','2','3','4']\n",
    "list(map(int,a)) # map int(정수)로 반환"
   ]
  },
  {
   "cell_type": "code",
   "execution_count": 95,
   "id": "f70c01db-e592-4435-abcb-0023751e4fc0",
   "metadata": {},
   "outputs": [
    {
     "name": "stdout",
     "output_type": "stream",
     "text": [
      "[2, 4, 6, 8, 10]\n"
     ]
    }
   ],
   "source": [
    "def f(value):\n",
    "    return value*2\n",
    "    \n",
    "a=[1,2,3,4,5]\n",
    "res=[]\n",
    "for i in a:\n",
    "    res.append(f(i))\n",
    "print(res)"
   ]
  },
  {
   "cell_type": "code",
   "execution_count": 96,
   "id": "c6fda33d-6088-4457-b04e-fdd9b4f01068",
   "metadata": {},
   "outputs": [
    {
     "data": {
      "text/plain": [
       "[2, 4, 6, 8, 10]"
      ]
     },
     "execution_count": 96,
     "metadata": {},
     "output_type": "execute_result"
    }
   ],
   "source": [
    "def f(value):\n",
    "    return value*2\n",
    "    \n",
    "a=[1,2,3,4,5]\n",
    "list(map(f,a))"
   ]
  },
  {
   "cell_type": "code",
   "execution_count": 98,
   "id": "ddf28634-d58b-42d2-bdc7-e9c61cb5ff7e",
   "metadata": {},
   "outputs": [
    {
     "data": {
      "text/plain": [
       "[2, 4, 6, 8, 10]"
      ]
     },
     "execution_count": 98,
     "metadata": {},
     "output_type": "execute_result"
    }
   ],
   "source": [
    "a=[1,2,3,4,5]\n",
    "list(map(lambda x:x*2,a))"
   ]
  },
  {
   "cell_type": "code",
   "execution_count": 100,
   "id": "d8e98098-7a55-43bf-a13e-775b46e32dfb",
   "metadata": {},
   "outputs": [
    {
     "name": "stdout",
     "output_type": "stream",
     "text": [
      "[2, 4, 6, 8]\n"
     ]
    }
   ],
   "source": [
    "a=[1,2,3,4]\n",
    "res=[i*2 for i in a]\n",
    "print(res)"
   ]
  },
  {
   "cell_type": "code",
   "execution_count": 102,
   "id": "cfbf46f4-7a79-484d-a7b1-02e05e013dfc",
   "metadata": {},
   "outputs": [
    {
     "name": "stdout",
     "output_type": "stream",
     "text": [
      "[100, 5, 3, 2]\n"
     ]
    }
   ],
   "source": [
    "a=[100,2,5,3]\n",
    "b=sorted(a,reverse=True)\n",
    "print(b)"
   ]
  },
  {
   "cell_type": "code",
   "execution_count": 106,
   "id": "e1dfc315-39d5-454d-8a8a-8cc6124dc195",
   "metadata": {},
   "outputs": [
    {
     "name": "stdout",
     "output_type": "stream",
     "text": [
      "[2, 3, 5, 100]\n"
     ]
    }
   ],
   "source": [
    "c=[100,2,5,3]\n",
    "c.sort()\n",
    "print(c)"
   ]
  },
  {
   "cell_type": "code",
   "execution_count": 112,
   "id": "71599de4-fd78-44ab-88de-66d8222ba849",
   "metadata": {},
   "outputs": [
    {
     "data": {
      "text/plain": [
       "[(1, 5), (4, 2), (5, 6)]"
      ]
     },
     "execution_count": 112,
     "metadata": {},
     "output_type": "execute_result"
    }
   ],
   "source": [
    "data=[(1,5),(4,2),(5,6)]\n",
    "sorted(data)"
   ]
  },
  {
   "cell_type": "code",
   "execution_count": 113,
   "id": "811633b9-5833-4f7b-994b-d7fa2da8aebd",
   "metadata": {},
   "outputs": [
    {
     "data": {
      "text/plain": [
       "[(4, 2), (1, 5), (1, 6)]"
      ]
     },
     "execution_count": 113,
     "metadata": {},
     "output_type": "execute_result"
    }
   ],
   "source": [
    "data=[(1,6),(4,2),(1,5)]\n",
    "sorted(data,key=lambda s:s[-1])"
   ]
  },
  {
   "cell_type": "code",
   "execution_count": 121,
   "id": "6294eebb-c7ec-458b-ba12-c946757e644f",
   "metadata": {},
   "outputs": [
    {
     "data": {
      "text/plain": [
       "{'국어': 100, '영어': 70, '수학': 50}"
      ]
     },
     "execution_count": 121,
     "metadata": {},
     "output_type": "execute_result"
    }
   ],
   "source": [
    "data={\n",
    "    '국어':100,\n",
    "    '수학':50,\n",
    "    '영어':70\n",
    "}\n",
    "dict(sorted(data.items(),key=lambda x:x[1],reverse=True))"
   ]
  },
  {
   "cell_type": "code",
   "execution_count": null,
   "id": "3bd04c2b-2731-4e93-8532-fe81776f3038",
   "metadata": {},
   "outputs": [],
   "source": []
  }
 ],
 "metadata": {
  "kernelspec": {
   "display_name": "Python 3 (ipykernel)",
   "language": "python",
   "name": "python3"
  },
  "language_info": {
   "codemirror_mode": {
    "name": "ipython",
    "version": 3
   },
   "file_extension": ".py",
   "mimetype": "text/x-python",
   "name": "python",
   "nbconvert_exporter": "python",
   "pygments_lexer": "ipython3",
   "version": "3.12.5"
  }
 },
 "nbformat": 4,
 "nbformat_minor": 5
}
