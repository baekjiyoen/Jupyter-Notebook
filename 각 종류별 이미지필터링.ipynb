{
 "cells": [
  {
   "cell_type": "code",
   "execution_count": 171,
   "id": "4fcb46fc-fe44-4f0b-9df3-6a78ba5132b1",
   "metadata": {},
   "outputs": [
    {
     "data": {
      "text/plain": [
       "'C:\\\\Users\\\\human\\\\Desktop\\\\수업자료\\\\2차'"
      ]
     },
     "execution_count": 171,
     "metadata": {},
     "output_type": "execute_result"
    }
   ],
   "source": [
    "pwd"
   ]
  },
  {
   "cell_type": "code",
   "execution_count": 176,
   "id": "1deff1da-ed75-41c3-8829-dd3de07e925f",
   "metadata": {},
   "outputs": [],
   "source": [
    "from PIL import Image, ImageFilter\n",
    "from glob import glob\n",
    "import os"
   ]
  },
  {
   "cell_type": "code",
   "execution_count": 178,
   "id": "c4981717-898d-42ec-a774-893943c38f8c",
   "metadata": {},
   "outputs": [],
   "source": [
    "filter_list = [ImageFilter.BLUR, ImageFilter.CONTOUR, ImageFilter.DETAIL,\n",
    "               ImageFilter.EDGE_ENHANCE, ImageFilter.EDGE_ENHANCE_MORE, ImageFilter.EMBOSS, ImageFilter.FIND_EDGES,\n",
    "               ImageFilter.SHARPEN, ImageFilter.SMOOTH, ImageFilter.SMOOTH_MORE]\n",
    "file_names = glob('./images/*.jpg')\n",
    "# print(file_names)\n",
    "\n",
    "for file_name in file_names:\n",
    "    real_name = file_name.split(\"\\\\\")[-1]\n",
    "    img = Image.open(file_name)\n",
    "    for i in filter_list:\n",
    "        os.makedirs(f'./images/{i.name}',exist_ok=True)\n",
    "        filter_img = img.filter(i)\n",
    "        filter_img.save(f\"./images/{i.name}/{real_name}\".format(i))"
   ]
  },
  {
   "cell_type": "code",
   "execution_count": 175,
   "id": "c110e814-9c47-48dd-b444-27dbf49f39e7",
   "metadata": {},
   "outputs": [
    {
     "data": {
      "text/plain": [
       "'EDGE_ENHANCE'"
      ]
     },
     "execution_count": 175,
     "metadata": {},
     "output_type": "execute_result"
    }
   ],
   "source": [
    "str(filter_list[3]).split('.')[-1].strip(\"'>'\")"
   ]
  },
  {
   "cell_type": "code",
   "execution_count": null,
   "id": "d476f5ce-222e-4e59-a9af-2dfc839f4ea2",
   "metadata": {},
   "outputs": [],
   "source": []
  }
 ],
 "metadata": {
  "kernelspec": {
   "display_name": "Python 3 (ipykernel)",
   "language": "python",
   "name": "python3"
  },
  "language_info": {
   "codemirror_mode": {
    "name": "ipython",
    "version": 3
   },
   "file_extension": ".py",
   "mimetype": "text/x-python",
   "name": "python",
   "nbconvert_exporter": "python",
   "pygments_lexer": "ipython3",
   "version": "3.12.5"
  }
 },
 "nbformat": 4,
 "nbformat_minor": 5
}
