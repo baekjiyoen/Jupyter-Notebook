{
 "cells": [
  {
   "cell_type": "code",
   "execution_count": 31,
   "id": "28f54702-675b-4c42-9f7c-904f34fc95a9",
   "metadata": {},
   "outputs": [
    {
     "data": {
      "text/plain": [
       "'C:\\\\Users\\\\human\\\\Desktop\\\\수업자료\\\\2차'"
      ]
     },
     "execution_count": 31,
     "metadata": {},
     "output_type": "execute_result"
    }
   ],
   "source": [
    "pwd"
   ]
  },
  {
   "cell_type": "code",
   "execution_count": 32,
   "id": "3aa42636-364d-495a-a5c2-55fa1fff8921",
   "metadata": {},
   "outputs": [
    {
     "name": "stdout",
     "output_type": "stream",
     "text": [
      "[4, 8, 12, 16]\n"
     ]
    }
   ],
   "source": [
    "a=[1,2,3,4]\n",
    "res=[]\n",
    "for i in a:\n",
    "    res.append(i*4)\n",
    "print(res)"
   ]
  },
  {
   "cell_type": "code",
   "execution_count": 35,
   "id": "41720511-8b4f-453d-a70f-c3c556eee2e4",
   "metadata": {},
   "outputs": [
    {
     "name": "stdout",
     "output_type": "stream",
     "text": [
      "[4, 8, 12, 16]\n"
     ]
    }
   ],
   "source": [
    "a=[1,2,3,4]\n",
    "res=[i*4 for i in a]\n",
    "print(res)"
   ]
  },
  {
   "cell_type": "code",
   "execution_count": 37,
   "id": "0f79b356-9e76-4ae6-a048-0734a5000d45",
   "metadata": {},
   "outputs": [
    {
     "name": "stdout",
     "output_type": "stream",
     "text": [
      "[100, 102, 104]\n"
     ]
    }
   ],
   "source": [
    "a=[100,101,102,103,104]\n",
    "res=[]\n",
    "for i in a:\n",
    "    if i%2==0:\n",
    "        res.append(i)\n",
    "print(res)"
   ]
  },
  {
   "cell_type": "code",
   "execution_count": 38,
   "id": "c5939480-4c5f-480f-9da9-a201d337e033",
   "metadata": {},
   "outputs": [
    {
     "name": "stdout",
     "output_type": "stream",
     "text": [
      "[100, 102, 104]\n"
     ]
    }
   ],
   "source": [
    "a=[100,101,102,103,104]\n",
    "res=[i for i in a if i%2==0]\n",
    "print(res)\n"
   ]
  },
  {
   "cell_type": "code",
   "execution_count": 39,
   "id": "5d69b888-d8ff-4ca7-ac3c-8b0edd58b8d5",
   "metadata": {},
   "outputs": [
    {
     "name": "stdout",
     "output_type": "stream",
     "text": [
      "['짝수', '홀수', '짝수', '홀수', '짝수']\n"
     ]
    }
   ],
   "source": [
    "a=[100,101,102,103,104]\n",
    "res=[]\n",
    "for i in a:\n",
    "    if i%2==0:\n",
    "        res.append('짝수')\n",
    "    else:\n",
    "        res.append('홀수')\n",
    "print(res)"
   ]
  },
  {
   "cell_type": "code",
   "execution_count": 40,
   "id": "4f585d63-4799-4cea-8697-e52d32858a55",
   "metadata": {},
   "outputs": [
    {
     "name": "stdout",
     "output_type": "stream",
     "text": [
      "['짝수', '홀수', '짝수', '홀수', '짝수']\n"
     ]
    }
   ],
   "source": [
    "a=[100,101,102,103,104]\n",
    "res=['짝수' if i%2==0 else '홀수' for i in a]\n",
    "print(res)"
   ]
  },
  {
   "cell_type": "code",
   "execution_count": 44,
   "id": "8df7bbb0-cb14-4fe3-8456-9d895e7255ed",
   "metadata": {},
   "outputs": [
    {
     "name": "stdout",
     "output_type": "stream",
     "text": [
      "[1, 2, 3, 4, 5, 6, 7, 8, 9, 2, 4, 6, 8, 10, 12, 14, 16, 18, 3, 6, 9, 12, 15, 18, 21, 24, 27, 4, 8, 12, 16, 20, 24, 28, 32, 36, 5, 10, 15, 20, 25, 30, 35, 40, 45, 6, 12, 18, 24, 30, 36, 42, 48, 54, 7, 14, 21, 28, 35, 42, 49, 56, 63, 8, 16, 24, 32, 40, 48, 56, 64, 72, 9, 18, 27, 36, 45, 54, 63, 72, 81]\n"
     ]
    }
   ],
   "source": [
    "# 구구단\n",
    "res=[]\n",
    "for i in range(1,10):\n",
    "    for j in range(1,10):\n",
    "        res.append(i*j)    \n",
    "print(res)"
   ]
  },
  {
   "cell_type": "code",
   "execution_count": 45,
   "id": "193bb6a9-77fc-48c2-922c-7047cef791ad",
   "metadata": {},
   "outputs": [
    {
     "name": "stdout",
     "output_type": "stream",
     "text": [
      "[1, 2, 3, 4, 5, 6, 7, 8, 9, 2, 4, 6, 8, 10, 12, 14, 16, 18, 3, 6, 9, 12, 15, 18, 21, 24, 27, 4, 8, 12, 16, 20, 24, 28, 32, 36, 5, 10, 15, 20, 25, 30, 35, 40, 45, 6, 12, 18, 24, 30, 36, 42, 48, 54, 7, 14, 21, 28, 35, 42, 49, 56, 63, 8, 16, 24, 32, 40, 48, 56, 64, 72, 9, 18, 27, 36, 45, 54, 63, 72, 81]\n"
     ]
    }
   ],
   "source": [
    "res=[i*j for i in range(1,10) for j in range(1,10)]\n",
    "print(res)"
   ]
  },
  {
   "cell_type": "code",
   "execution_count": null,
   "id": "963d3d27-92dc-4809-99fb-76d2184d99cb",
   "metadata": {},
   "outputs": [],
   "source": [
    "res=[]\n",
    "for i"
   ]
  }
 ],
 "metadata": {
  "kernelspec": {
   "display_name": "Python 3 (ipykernel)",
   "language": "python",
   "name": "python3"
  },
  "language_info": {
   "codemirror_mode": {
    "name": "ipython",
    "version": 3
   },
   "file_extension": ".py",
   "mimetype": "text/x-python",
   "name": "python",
   "nbconvert_exporter": "python",
   "pygments_lexer": "ipython3",
   "version": "3.12.5"
  }
 },
 "nbformat": 4,
 "nbformat_minor": 5
}
