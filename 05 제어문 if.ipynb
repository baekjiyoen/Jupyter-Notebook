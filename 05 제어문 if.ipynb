{
 "cells": [
  {
   "cell_type": "markdown",
   "id": "adverse-publisher",
   "metadata": {},
   "source": [
    "## if문"
   ]
  },
  {
   "cell_type": "markdown",
   "id": "insured-threat",
   "metadata": {},
   "source": [
    "### if 제어문\n"
   ]
  },
  {
   "cell_type": "code",
   "execution_count": 65,
   "id": "novel-browse",
   "metadata": {},
   "outputs": [],
   "source": [
    "'''\n",
    "-----------------------------------------------\n",
    "if 조건식:\n",
    "    명렁코드      #조건이 참 일때 실행하는 코드\n",
    "-----------------------------------------------\n",
    "- 관계연산자: ==, >, >=, <, <=, !=\n",
    "- in , not in 연산자\n",
    "\n",
    "\n",
    "- 조건문이 참일 때 \"명령코드\" 실행\n",
    "- \"명령코드\"가 여러 개 올수 있고\n",
    "- 들여쓰기가 끝나면 if문 종료됨\n",
    "\n",
    "\n",
    "-조건이 참인경우: True, 0이 아닌 숫자, 내용이 있는 문자열, 리스트, 튜플, 딕셔너리, 세트\n",
    "-조건이 거짓인 경우: False, 0, None, 비어 있는 문자열, 리스트, 튜플, 딕셔너리, 세트\n",
    "\n",
    "''';"
   ]
  },
  {
   "cell_type": "code",
   "execution_count": 22,
   "id": "patent-asset",
   "metadata": {},
   "outputs": [
    {
     "name": "stdout",
     "output_type": "stream",
     "text": [
      "우수 사원입니다\n"
     ]
    }
   ],
   "source": [
    "매출액=5000\n",
    "목표액=3000\n",
    "if 매출액>=목표액:\n",
    "    print('우수 사원입니다')"
   ]
  },
  {
   "cell_type": "code",
   "execution_count": null,
   "id": "operational-maker",
   "metadata": {},
   "outputs": [],
   "source": []
  },
  {
   "cell_type": "code",
   "execution_count": 23,
   "id": "expensive-simple",
   "metadata": {},
   "outputs": [
    {
     "name": "stdout",
     "output_type": "stream",
     "text": [
      "우수 사원입니다\n",
      "모두 박수\n"
     ]
    }
   ],
   "source": [
    "매출액=5000\n",
    "목표액=3000\n",
    "if 매출액>=목표액:\n",
    "    print('우수 사원입니다')\n",
    "    print('모두 박수')"
   ]
  },
  {
   "cell_type": "code",
   "execution_count": 25,
   "id": "prepared-diameter",
   "metadata": {},
   "outputs": [
    {
     "name": "stdout",
     "output_type": "stream",
     "text": [
      "우수 사원입니다\n",
      "축하합니다.\n",
      "열심히 하세요\n"
     ]
    }
   ],
   "source": [
    "매출액=5000\n",
    "목표액=3000\n",
    "if 매출액>=목표액:\n",
    "    print('우수 사원입니다')\n",
    "    print('축하합니다.')\n",
    "print('열심히 하세요')"
   ]
  },
  {
   "cell_type": "code",
   "execution_count": 15,
   "id": "lesser-stuart",
   "metadata": {},
   "outputs": [
    {
     "name": "stdout",
     "output_type": "stream",
     "text": [
      "잠 잘꺼야\n"
     ]
    }
   ],
   "source": [
    "if \"만약 내일 비가 오면\":\n",
    "    print('잠 잘꺼야')\n"
   ]
  },
  {
   "cell_type": "code",
   "execution_count": null,
   "id": "pending-alexandria",
   "metadata": {},
   "outputs": [],
   "source": []
  },
  {
   "cell_type": "code",
   "execution_count": null,
   "id": "respective-society",
   "metadata": {},
   "outputs": [],
   "source": []
  },
  {
   "cell_type": "markdown",
   "id": "gross-seventh",
   "metadata": {},
   "source": [
    "### if~else문"
   ]
  },
  {
   "cell_type": "code",
   "execution_count": 29,
   "id": "minimal-certification",
   "metadata": {},
   "outputs": [],
   "source": [
    "'''\n",
    "-----------------------------------------------\n",
    "if 조건식:\n",
    "    명렁코드      #조건이 '참'일 때 실행하는 코드\n",
    "else:\n",
    "    명령코드      #조건이 '거짓'일 때 실행하는 코드\n",
    "-----------------------------------------------\n",
    "''';"
   ]
  },
  {
   "cell_type": "code",
   "execution_count": 28,
   "id": "pointed-system",
   "metadata": {},
   "outputs": [
    {
     "name": "stdout",
     "output_type": "stream",
     "text": [
      "우수사원입니다.\n",
      "축하합니다.\n"
     ]
    }
   ],
   "source": [
    "매출액=5000\n",
    "목표액=3000\n",
    "if 매출액>=목표액:\n",
    "    print('우수사원입니다.')\n",
    "    print('축하합니다.')\n",
    "else:\n",
    "    print('열심히 하세요')\n",
    "    "
   ]
  },
  {
   "cell_type": "code",
   "execution_count": 18,
   "id": "passing-right",
   "metadata": {},
   "outputs": [
    {
     "name": "stdout",
     "output_type": "stream",
     "text": [
      "잠 잘꺼야\n"
     ]
    }
   ],
   "source": [
    "if \"내일 비가 오면\":\n",
    "    print('잠 잘꺼야')\n",
    "else:\n",
    "    print('산책할꺼야')"
   ]
  },
  {
   "cell_type": "markdown",
   "id": "adequate-audit",
   "metadata": {},
   "source": [
    "## if ~ elif ~ else"
   ]
  },
  {
   "cell_type": "code",
   "execution_count": 31,
   "id": "ignored-purchase",
   "metadata": {},
   "outputs": [],
   "source": [
    "'''\n",
    "---------------------------------------------------------\n",
    "if 조건식1:\n",
    "    명렁코드      #조건1이 '참'일 때 실행하는 코드\n",
    "elif 조건식2:\n",
    "    명령코드      #조건1이 '거짓'일 때 실행하는 코드\n",
    "else:\n",
    "    명령코드      #조건1 거짓, 조건2 거짓일 때 실행\n",
    "----------------------------------------------------------\n",
    "\n",
    "- elif는 if와 else 사이 여러번 나올 수 있음\n",
    "\n",
    "''';"
   ]
  },
  {
   "cell_type": "code",
   "execution_count": 34,
   "id": "working-attention",
   "metadata": {},
   "outputs": [
    {
     "name": "stdout",
     "output_type": "stream",
     "text": [
      "목표액을 초과했습니다.\n"
     ]
    }
   ],
   "source": [
    "매출액=5000\n",
    "목표액=3000\n",
    "\n",
    "if 매출액==목표액:\n",
    "    print('목표액에 도달했습니다.')\n",
    "elif 매출액>목표액:\n",
    "    print('목표액을 초과했습니다.')\n",
    "else:\n",
    "    print('열심히 하세요')"
   ]
  },
  {
   "cell_type": "code",
   "execution_count": null,
   "id": "architectural-tribute",
   "metadata": {},
   "outputs": [],
   "source": []
  },
  {
   "cell_type": "markdown",
   "id": "applied-scanner",
   "metadata": {},
   "source": [
    "## 중첩 if문"
   ]
  },
  {
   "cell_type": "code",
   "execution_count": 37,
   "id": "every-softball",
   "metadata": {},
   "outputs": [],
   "source": [
    "'''\n",
    "---------------------------------------------------------\n",
    "if 조건식1:\n",
    "    명렁코드      #조건1이 '참'일 때 실행하는 코드\n",
    "    if 조건식2:\n",
    "        명령코드      #조건1이 '참'이고 조건2가 창일때 실행하는 코드\n",
    "        \n",
    "----------------------------------------------------------\n",
    "\n",
    "- if문 안에 if문을 여러번 중첨해서 사용할 수 있다.\n",
    "\n",
    "''';"
   ]
  },
  {
   "cell_type": "code",
   "execution_count": 41,
   "id": "naval-hunter",
   "metadata": {},
   "outputs": [
    {
     "name": "stdout",
     "output_type": "stream",
     "text": [
      "B학점\n"
     ]
    }
   ],
   "source": [
    "점수=80\n",
    "출석=70\n",
    "\n",
    "if 점수>=80:\n",
    "    if 출석>=80:\n",
    "        print('A학점')\n",
    "    elif 출석>=60:\n",
    "        print('B학점')\n",
    "else:\n",
    "    print('열심히 하세요')"
   ]
  },
  {
   "cell_type": "code",
   "execution_count": null,
   "id": "comparative-cornwall",
   "metadata": {},
   "outputs": [],
   "source": []
  },
  {
   "cell_type": "markdown",
   "id": "moving-hormone",
   "metadata": {},
   "source": [
    "## 조건이 여러개 : and, or 연산자 사용\n",
    "\n",
    "\n"
   ]
  },
  {
   "cell_type": "code",
   "execution_count": 53,
   "id": "ethical-saturday",
   "metadata": {},
   "outputs": [],
   "source": [
    "'''\n",
    "---------------------------------------------------------\n",
    "if 조건1 and 조건2:\n",
    "    명렁코드      #조건1이 '참'일 때 실행하는 코드\n",
    "----------------------------------------------------------\n",
    "\n",
    "---------------------------------------------------------\n",
    "if 조건1 or 조건2:\n",
    "    명렁코드      #조건1이 '참'일 때 실행하는 코드\n",
    "----------------------------------------------------------\n",
    "\n",
    "- 여러 조건을 and, or 연산자로 연결한다.\n",
    "- and는 모든 조건이 참일 때만 참\n",
    "- or는 조건 중에 한개라도 참이면 참\n",
    "\n",
    "- 조건1 and 조건2 and 조건3... 가능함\n",
    "\n",
    "''';"
   ]
  },
  {
   "cell_type": "code",
   "execution_count": 60,
   "id": "eligible-prize",
   "metadata": {},
   "outputs": [
    {
     "name": "stdout",
     "output_type": "stream",
     "text": [
      "둘 다 참입니다.\n"
     ]
    }
   ],
   "source": [
    "a=3\n",
    "b=2\n",
    "\n",
    "if a==3 and b==2:\n",
    "    print('둘 다 참입니다.')\n"
   ]
  },
  {
   "cell_type": "code",
   "execution_count": 45,
   "id": "whole-therapy",
   "metadata": {},
   "outputs": [],
   "source": []
  },
  {
   "cell_type": "code",
   "execution_count": null,
   "id": "b5182094",
   "metadata": {},
   "outputs": [],
   "source": []
  },
  {
   "cell_type": "code",
   "execution_count": null,
   "id": "7da23f42",
   "metadata": {},
   "outputs": [],
   "source": []
  },
  {
   "cell_type": "code",
   "execution_count": null,
   "id": "19e3f9f7",
   "metadata": {},
   "outputs": [],
   "source": []
  },
  {
   "cell_type": "markdown",
   "id": "maritime-value",
   "metadata": {},
   "source": [
    "<div class=\"alert alert-block\" style=\"border: 1px solid #FFB300;background-color:#F9FBE7;\">\n",
    "<font size=\"4em\" style=\"font-weight:bold;color:#3f8dbf;\">미션</font><br>\n",
    "x=5일 때 '짝수'또는 '홀수'가 출력되게 하세요<br>정답: 홀수\n",
    "</div>"
   ]
  },
  {
   "cell_type": "code",
   "execution_count": 62,
   "id": "physical-portsmouth",
   "metadata": {},
   "outputs": [
    {
     "name": "stdout",
     "output_type": "stream",
     "text": [
      "홀수\n"
     ]
    }
   ],
   "source": [
    "x=5\n",
    "if x%2==0:\n",
    "    print('짝수')\n",
    "else:\n",
    "    print('홀수')"
   ]
  },
  {
   "cell_type": "markdown",
   "id": "unsigned-tumor",
   "metadata": {},
   "source": []
  },
  {
   "cell_type": "markdown",
   "id": "appreciated-lender",
   "metadata": {},
   "source": [
    "<div class=\"alert alert-block\" style=\"border: 1px solid #FFB300;background-color:#F9FBE7;\">\n",
    "<font size=\"4em\" style=\"font-weight:bold;color:#3f8dbf;\">미션</font><br>\n",
    "- x가 80이상이면 '상',70에서 80상이면 '중', 나머지는 모두 '하'로 출력 <br> \n",
    "- x=80일 때 정답:'상'\n",
    "</div>"
   ]
  },
  {
   "cell_type": "code",
   "execution_count": 63,
   "id": "consistent-transcription",
   "metadata": {},
   "outputs": [
    {
     "name": "stdout",
     "output_type": "stream",
     "text": [
      "상\n"
     ]
    }
   ],
   "source": [
    "x=80\n",
    "if x>=80:\n",
    "    print('상')\n",
    "elif x>=70:\n",
    "    print('중')\n",
    "else:\n",
    "    print('하')"
   ]
  },
  {
   "cell_type": "markdown",
   "id": "metric-amazon",
   "metadata": {},
   "source": [
    "<div class=\"alert alert-block\" style=\"border: 1px solid #FFB300;background-color:#F9FBE7;\">\n",
    "<font size=\"4em\" style=\"font-weight:bold;color:#3f8dbf;\">미션</font><br>\n",
    "- 당첨자=['홍길동','김길동','이하나']<br> \n",
    "- 당첨자 '홍길동'이 명단에 있으면 \"축하합니다\", 그렇지 않으면 \"다음 기회에\"출력\n",
    "</div>\n"
   ]
  },
  {
   "cell_type": "code",
   "execution_count": 64,
   "id": "persistent-integration",
   "metadata": {},
   "outputs": [
    {
     "name": "stdout",
     "output_type": "stream",
     "text": [
      "축하합니다.\n"
     ]
    }
   ],
   "source": [
    "당첨자=['홍길동','김길동','이하나']\n",
    "if '홍길동' in 당첨자:\n",
    "    print('축하합니다.')\n",
    "else:\n",
    "    print('다음 기회에')\n"
   ]
  },
  {
   "cell_type": "code",
   "execution_count": null,
   "id": "amazing-elephant",
   "metadata": {},
   "outputs": [],
   "source": []
  }
 ],
 "metadata": {
  "kernelspec": {
   "display_name": "Python 3 (ipykernel)",
   "language": "python",
   "name": "python3"
  },
  "language_info": {
   "codemirror_mode": {
    "name": "ipython",
    "version": 3
   },
   "file_extension": ".py",
   "mimetype": "text/x-python",
   "name": "python",
   "nbconvert_exporter": "python",
   "pygments_lexer": "ipython3",
   "version": "3.12.5"
  }
 },
 "nbformat": 4,
 "nbformat_minor": 5
}
