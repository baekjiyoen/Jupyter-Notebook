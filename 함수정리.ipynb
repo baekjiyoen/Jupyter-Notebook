{
 "cells": [
  {
   "cell_type": "code",
   "execution_count": 51,
   "id": "2399e18c-345c-4a8e-9a35-765c4284f85a",
   "metadata": {},
   "outputs": [
    {
     "name": "stdout",
     "output_type": "stream",
     "text": [
      "5\n",
      "1\n",
      "6\n",
      "1.5\n",
      "end\n"
     ]
    }
   ],
   "source": [
    "def test(a1,b):\n",
    "    print(a1+b)\n",
    "    print(a1-b)\n",
    "    print(a1*b)\n",
    "    print(a1/b)\n",
    "    \n",
    "test(3,2)\n",
    "print('end')"
   ]
  },
  {
   "cell_type": "code",
   "execution_count": 59,
   "id": "20e8ec1c-0a2a-4731-8642-3b49115949a9",
   "metadata": {},
   "outputs": [
    {
     "name": "stdout",
     "output_type": "stream",
     "text": [
      "안녕하세요\n"
     ]
    }
   ],
   "source": [
    "def abc():\n",
    "    print('안녕하세요')\n",
    "\n",
    "abc()"
   ]
  },
  {
   "cell_type": "code",
   "execution_count": 63,
   "id": "52710c42-bd57-48ed-af5e-427fa2c946b7",
   "metadata": {},
   "outputs": [
    {
     "name": "stdout",
     "output_type": "stream",
     "text": [
      "5\n",
      "b= 5\n"
     ]
    }
   ],
   "source": [
    "def test():\n",
    "    a=5\n",
    "    print(a)\n",
    "    return a\n",
    "b=test()\n",
    "print('b=',b)"
   ]
  },
  {
   "cell_type": "code",
   "execution_count": 66,
   "id": "4064b199-6a50-4114-b7d8-27c4041d9c95",
   "metadata": {},
   "outputs": [
    {
     "name": "stdout",
     "output_type": "stream",
     "text": [
      "8\n",
      "kk= None\n"
     ]
    }
   ],
   "source": [
    "def test(a,b):\n",
    "    print(a+b)\n",
    "kk=test(3,5)\n",
    "print('kk=',kk)"
   ]
  },
  {
   "cell_type": "code",
   "execution_count": 68,
   "id": "e86b6f31-847f-4a61-ae0c-bdae1d1bfa24",
   "metadata": {},
   "outputs": [
    {
     "name": "stdout",
     "output_type": "stream",
     "text": [
      "안녕하세요\n",
      "p= None\n"
     ]
    }
   ],
   "source": [
    "p=print('안녕하세요')\n",
    "print('p=',p)"
   ]
  },
  {
   "cell_type": "code",
   "execution_count": 74,
   "id": "85b5d7cf-3fec-4252-ab57-6820f406d287",
   "metadata": {},
   "outputs": [
    {
     "name": "stdout",
     "output_type": "stream",
     "text": [
      "a1= 7 b1= 12\n"
     ]
    }
   ],
   "source": [
    "def test(a,b):\n",
    "    return a+b,a*b\n",
    "a1,b1=test(3,4)\n",
    "print('a1=',a1,'b1=',b1)"
   ]
  },
  {
   "cell_type": "code",
   "execution_count": 76,
   "id": "b6507f19-9ab5-4d4f-9220-24ed8ff15074",
   "metadata": {},
   "outputs": [
    {
     "name": "stdout",
     "output_type": "stream",
     "text": [
      "3\n"
     ]
    }
   ],
   "source": [
    "def chek_n(value):\n",
    "    if value <0:\n",
    "        return\n",
    "    return value\n",
    "age=chek_n(3)\n",
    "print(age)"
   ]
  },
  {
   "cell_type": "code",
   "execution_count": 77,
   "id": "35744561-7522-43dc-ac44-77bea6269daf",
   "metadata": {},
   "outputs": [
    {
     "name": "stdout",
     "output_type": "stream",
     "text": [
      "None\n"
     ]
    }
   ],
   "source": [
    "age=chek_n(-2)\n",
    "print(age)"
   ]
  },
  {
   "cell_type": "code",
   "execution_count": 82,
   "id": "8d78125c-50f6-438b-8014-7a7222090e2b",
   "metadata": {},
   "outputs": [
    {
     "data": {
      "text/plain": [
       "9"
      ]
     },
     "execution_count": 82,
     "metadata": {},
     "output_type": "execute_result"
    }
   ],
   "source": [
    "def f(x,y,z):\n",
    "    return x+y+z\n",
    "# f(2,3,4)\n",
    "agg=[2,3,4]\n",
    "# f(agg[0],agg[1],agg[2])\n",
    "# f(agg)\n",
    "f(*agg)"
   ]
  },
  {
   "cell_type": "code",
   "execution_count": 83,
   "id": "99da4b69-f31a-41fe-90c9-f637642e0875",
   "metadata": {},
   "outputs": [
    {
     "name": "stdout",
     "output_type": "stream",
     "text": [
      "[6, 15, 24]\n"
     ]
    }
   ],
   "source": [
    "def f(x,y,z):\n",
    "    return x+y+z\n",
    "data=[\n",
    "    [1,2,3],\n",
    "    [4,5,6],\n",
    "    [7,8,9]   \n",
    "]\n",
    "\n",
    "res=[]\n",
    "for i in data:\n",
    "    res.append(f(*i))\n",
    "print(res)\n"
   ]
  },
  {
   "cell_type": "code",
   "execution_count": 85,
   "id": "b0860206-1e0b-432b-94fe-9c53cc945cd0",
   "metadata": {},
   "outputs": [
    {
     "name": "stdout",
     "output_type": "stream",
     "text": [
      "[6, 15, 24]\n"
     ]
    }
   ],
   "source": [
    "def f(x,y,z):\n",
    "    return x+y+z\n",
    "data=[\n",
    "    [1,2,3],\n",
    "    [4,5,6],\n",
    "    [7,8,9]   \n",
    "]\n",
    "\n",
    "res=[f(*i) for i in data] # *-> 인수갯수지정하지않았을떄 \n",
    "print(res)"
   ]
  },
  {
   "cell_type": "code",
   "execution_count": null,
   "id": "6e678660-c1df-410c-bf5f-39532cfb18d4",
   "metadata": {},
   "outputs": [],
   "source": []
  }
 ],
 "metadata": {
  "kernelspec": {
   "display_name": "Python 3 (ipykernel)",
   "language": "python",
   "name": "python3"
  },
  "language_info": {
   "codemirror_mode": {
    "name": "ipython",
    "version": 3
   },
   "file_extension": ".py",
   "mimetype": "text/x-python",
   "name": "python",
   "nbconvert_exporter": "python",
   "pygments_lexer": "ipython3",
   "version": "3.12.5"
  }
 },
 "nbformat": 4,
 "nbformat_minor": 5
}
