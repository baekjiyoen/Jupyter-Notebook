{
 "cells": [
  {
   "cell_type": "code",
   "execution_count": 95,
   "id": "7bb9c952-4d18-4cb1-b923-257eb40ec6bb",
   "metadata": {},
   "outputs": [
    {
     "data": {
      "text/plain": [
       "'C:\\\\Users\\\\human\\\\Desktop\\\\수업자료\\\\2차'"
      ]
     },
     "execution_count": 95,
     "metadata": {},
     "output_type": "execute_result"
    }
   ],
   "source": [
    "pwd"
   ]
  },
  {
   "cell_type": "code",
   "execution_count": 126,
   "id": "c7643060-af62-4569-8f80-84724ca741a5",
   "metadata": {},
   "outputs": [],
   "source": [
    "from glob import glob\n",
    "import os\n",
    "import shutil\n",
    "import re"
   ]
  },
  {
   "cell_type": "code",
   "execution_count": 154,
   "id": "e12c7c44-5312-47f2-8d3b-8cbd7ff3328c",
   "metadata": {},
   "outputs": [],
   "source": [
    "'''\n",
    "[방법1]\n",
    "파일이름에 있는 동물명으로 폴더 만들고 복사하기\n",
    "1. 파일 목록 불러오고\n",
    "2. 파일명에 있는 동물명으로 폴더 만들고\n",
    "3. 만든 폴더에 복사하기\n",
    "'''\n",
    "\n",
    "# 1. 파일목록 가져오기\n",
    "file_names=glob('./images/*.jpg') #[강아지, 강아지, 강아지...고양이,고양이,고양이.....]\n",
    "# file_names\n",
    "# 2. 만들 폴더명을 찾기 -> ['강아지'],['고양이']\n",
    "res_folder=[]\n",
    "for file_name in file_names:\n",
    "    res_folder.append(re.findall('[가-힣]+', file_name)[0])\n",
    "make_folder=list(set(res_folder))\n",
    "for i in make_folder:\n",
    "    os.makedirs(i,exist_ok=True)\n",
    "# file_names에 동물이름 추출해서 해당폴더에 복사하기\n",
    "for f in file_names:\n",
    " f_name=re.findall('[가-힣]+',f)[0]\n",
    " new_name=f.replace('./images',f_name)\n",
    " # print(new_name)\n",
    " shutil.copyfile(f,new_name)\n",
    "\n",
    "    \n",
    "# for file_name in file_names:\n",
    "#     name=file_name.split('\\\\')[-1]\n",
    "#     if'소' in file_name:\n",
    "#         shutil.copyfile(file_name,f'./소/{name}')\n",
    "#     elif'뱀'in file_name:\n",
    "#         shutil.copyfile(file_name,f'./뱀/{name}')\n",
    "#     elif'오랑우탄' in file_name:\n",
    "#         shutil.copyfile(file_name,f'./오랑우탄/{name}')\n",
    "        "
   ]
  },
  {
   "cell_type": "code",
   "execution_count": 164,
   "id": "4e74cf9e-ee46-4366-aa91-f0963100bf1a",
   "metadata": {},
   "outputs": [],
   "source": [
    "'''\n",
    "[방법2]\n",
    "파일이름에 있는 동물명으로 폴더 만들고 복사하기\n",
    "1. 파일 목록 불러오고\n",
    "2. 파일명의 동물이름으로 폴더만들고 복사하기\n",
    "'''\n",
    "#1.파일 목록 가져오기\n",
    "file_names=glob('./images/*.jpg')\n",
    "#2.폴더 만들고 file_names에 동물이름 추출해서 해당폴더에 복사하기\n",
    "for file_name in file_names:\n",
    " animal_name=re.findall('[가-힣]+',file_name)[0] #한글로 된 동물이름 가져오\n",
    " os.makedirs(animal_name,exist_ok=True) #동물이름으로 폴더 만들기\n",
    " new_file_name=file_name.replace('./images',animal_name) #복사할 파일명\n",
    " shutil.copyfile(file_name,new_file_name) #파일 복사\n"
   ]
  },
  {
   "cell_type": "code",
   "execution_count": 151,
   "id": "7fc83c51-40ed-4e30-bc22-581e3b9422f1",
   "metadata": {},
   "outputs": [
    {
     "data": {
      "text/plain": [
       "['abc', '123', '10', '2000', '3,', '000', 'ab', 'c', 'zzz', 'AA', 'School']"
      ]
     },
     "execution_count": 151,
     "metadata": {},
     "output_type": "execute_result"
    }
   ],
   "source": [
    "import re\n",
    "s='abc 123 가나다라 ^^ ㅋㅋㅋ 10 2000 3, 000 ab c zzz AA School'\n",
    "re.findall('[a-zA-Z0-9,]+',s) # +를 안하면 낱개로 결과 추출 / "
   ]
  },
  {
   "cell_type": "code",
   "execution_count": 134,
   "id": "1db70bce-37c2-4340-a5ed-d49def2d6e79",
   "metadata": {},
   "outputs": [
    {
     "data": {
      "text/plain": [
       "[' 123 가나다라 ^^ ㅋㅋㅋ 10 2000 3, 000 ', ' ', ' ', ' AA S', ' ']"
      ]
     },
     "execution_count": 134,
     "metadata": {},
     "output_type": "execute_result"
    }
   ],
   "source": [
    "import re\n",
    "s='abc 123 가나다라 ^^ ㅋㅋㅋ 10 2000 3, 000 ab c zzz AA School '\n",
    "re.findall('[^a-z]+',s)"
   ]
  },
  {
   "cell_type": "code",
   "execution_count": null,
   "id": "54c1e599-5bf9-41d8-a9a2-0bfbcd5d48f1",
   "metadata": {},
   "outputs": [],
   "source": []
  }
 ],
 "metadata": {
  "kernelspec": {
   "display_name": "Python 3 (ipykernel)",
   "language": "python",
   "name": "python3"
  },
  "language_info": {
   "codemirror_mode": {
    "name": "ipython",
    "version": 3
   },
   "file_extension": ".py",
   "mimetype": "text/x-python",
   "name": "python",
   "nbconvert_exporter": "python",
   "pygments_lexer": "ipython3",
   "version": "3.12.5"
  }
 },
 "nbformat": 4,
 "nbformat_minor": 5
}
