{
 "cells": [
  {
   "cell_type": "code",
   "execution_count": 10,
   "id": "83c7f4ee-3c34-497c-b734-89a10d995df7",
   "metadata": {},
   "outputs": [
    {
     "data": {
      "text/plain": [
       "'C:\\\\Users\\\\human\\\\Desktop\\\\수업자료\\\\데이터분석&시각화\\\\06 크롤링_02'"
      ]
     },
     "execution_count": 10,
     "metadata": {},
     "output_type": "execute_result"
    }
   ],
   "source": [
    "pwd"
   ]
  },
  {
   "cell_type": "code",
   "execution_count": 12,
   "id": "2e06e66c-be13-45cc-a3e7-50d31ae6b162",
   "metadata": {},
   "outputs": [],
   "source": [
    "import time\n",
    "from selenium import webdriver\n",
    "from selenium.webdriver.chrome.options import Options\n",
    "from selenium.webdriver.chrome.service import Service\n",
    "from webdriver_manager.chrome import ChromeDriverManager\n",
    "from selenium.webdriver.common.keys import Keys\n",
    "from selenium.webdriver.common.by import By\n",
    "from bs4 import BeautifulSoup as bs\n",
    "import pandas as pd\n",
    "import urllib.request\n",
    "import requests\n",
    "import os\n",
    "\n",
    "options=Options()\n",
    "options.add_experimental_option('detach',True) #화면이 꺼지지 않고 유지\n",
    "options.add_argument('--start-maximized') # 화면을 최대화\n",
    "service=Service(ChromeDriverManager().install()) #크롬드라이버 자동 설치\n",
    "\n",
    "driver=webdriver.Chrome(service=service, options=options)\n",
    "\n",
    "# 1. url생성\n",
    "search='거북이'\n",
    "url=f'https://search.naver.com/search.naver?ssc=tab.image.all&where=image&sm=tab_jum&query={search}'\n",
    "\n",
    "# 2. url접속\n",
    "driver.get(url)\n",
    "time.sleep(2)\n",
    "# 3. 수직이동줄을 아래로 7번 이동\n",
    "for i in range(7):\n",
    "    driver.execute_script(\"window.scrollTo(0,document.body.scrollHeight);\")\n",
    "    time.sleep(1)\n",
    "    \n",
    "# 4. img태그 가져오기\n",
    "img_elems=driver.find_elements(By.CLASS_NAME,'_fe_image_tab_content_thumbnail_image')\n",
    "# 5. 이미지 태그에서 src속성 가져오기\n",
    "img_srcs=[i.get_attribute('src') for i in img_elems]\n",
    "\n",
    "# 6. 폴더 만들기\n",
    "path=f'./{search}'\n",
    "os.makedirs(path, exist_ok=True)\n",
    "\n",
    "# 7. img_srcs에 들어 있는 이미지 다운로드\n",
    "for idx, i in enumerate (img_srcs):\n",
    "    file_name=f'{path}/{search}{idx:03d}.jpg' # ./거북이{path}/거북이{search}001{ids:03d}.jpg{jpg}\n",
    "    urllib.request.urlretrieve(i,file_name)\n",
    "\n"
   ]
  },
  {
   "cell_type": "code",
   "execution_count": null,
   "id": "7e38489b-3cf7-478c-bffc-6a78db25d49c",
   "metadata": {},
   "outputs": [],
   "source": []
  }
 ],
 "metadata": {
  "kernelspec": {
   "display_name": "Python 3 (ipykernel)",
   "language": "python",
   "name": "python3"
  },
  "language_info": {
   "codemirror_mode": {
    "name": "ipython",
    "version": 3
   },
   "file_extension": ".py",
   "mimetype": "text/x-python",
   "name": "python",
   "nbconvert_exporter": "python",
   "pygments_lexer": "ipython3",
   "version": "3.12.5"
  }
 },
 "nbformat": 4,
 "nbformat_minor": 5
}
