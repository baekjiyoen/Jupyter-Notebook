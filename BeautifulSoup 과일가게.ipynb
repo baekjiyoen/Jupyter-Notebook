{
 "cells": [
  {
   "cell_type": "code",
   "execution_count": 106,
   "id": "a957cd26-d403-43f3-b252-e22a92c8dc37",
   "metadata": {},
   "outputs": [],
   "source": [
    "from bs4 import BeautifulSoup as bs\n",
    "import pandas as pd"
   ]
  },
  {
   "cell_type": "code",
   "execution_count": 107,
   "id": "15c2e3f3-b6ea-4e39-a14d-115fd8ea3144",
   "metadata": {},
   "outputs": [],
   "source": [
    "ex2 = '''\n",
    "<html> \n",
    "    <head> \n",
    "        <h1> 사야할 과일 \n",
    "    </head> \n",
    "    <body> \n",
    "        <h1> 시장가서 사야할 과일 목록 \n",
    "            <div> <p id='fruits1' class='name1' title='바나나'> 바나나 \n",
    "                  <span class = 'price'> 3000원 </span> \n",
    "                  <span class = 'count'> 10개 </span> \n",
    "                  <span class = 'store'> 바나나가게 </span> \n",
    "                  <a href = 'https://www.banana.com'> banana.com </a> \n",
    "                  </p>\n",
    "            </div> \n",
    "            <div> <p id='fruits2' class='name2' title='체리'> 체리 \n",
    "                <span class = 'price'> 100원 </span> \n",
    "                <span class = 'count'> 50개 </span> \n",
    "                <span class = 'store'> 체리가게</span> \n",
    "                <a href = 'https://www.cherry.com'> cherry.com </a>\n",
    "                </p> \n",
    "            </div> \n",
    "            <div> <p id='fruits3' class='name3' title='오렌지'> 오렌지\n",
    "                <span class = 'price'> 500원 </span> \n",
    "                <span class = 'count'> 20개 </span> \n",
    "                <span class = 'store'> 오렌지가게</span> \n",
    "                <a href = 'https://www.orange.com'> orange.com </a>\n",
    "                </p> \n",
    "            </div> \n",
    "    </body> \n",
    "</html> '''\n"
   ]
  },
  {
   "cell_type": "code",
   "execution_count": 110,
   "id": "d1a8bdaf-3678-4240-a05d-6ad531503d33",
   "metadata": {},
   "outputs": [],
   "source": [
    "soup=bs(ex2,'html')"
   ]
  },
  {
   "cell_type": "code",
   "execution_count": 108,
   "id": "0dc5afed-686c-4b53-bb14-8801d0c0b1fd",
   "metadata": {},
   "outputs": [
    {
     "data": {
      "text/plain": [
       "[' 바나나 \\n                   3000원 \\n 10개 \\n 바나나가게 \\n banana.com \\n',\n",
       " ' 체리 \\n                 100원 \\n 50개 \\n 체리가게\\n cherry.com \\n',\n",
       " ' 오렌지\\n                 500원 \\n 20개 \\n 오렌지가게\\n orange.com \\n']"
      ]
     },
     "execution_count": 108,
     "metadata": {},
     "output_type": "execute_result"
    }
   ],
   "source": [
    "[i.text for i in soup.find_all('p')]"
   ]
  },
  {
   "cell_type": "code",
   "execution_count": 123,
   "id": "dc864b0d-f21e-4de0-9f62-9881391743bf",
   "metadata": {},
   "outputs": [],
   "source": [
    "div_tags=soup.find_all('div')\n",
    "res=[]"
   ]
  },
  {
   "cell_type": "code",
   "execution_count": 125,
   "id": "0285d4ee-53b1-4c69-8f42-778084a56039",
   "metadata": {},
   "outputs": [],
   "source": [
    "div_tags=soup.find_all('div')\n",
    "for i in div_tags:\n",
    "    # print(i)\n",
    "    tmp={}\n",
    "    tmp['품명']=i.find('p').text.split('\\n')[0]\n",
    "    tmp['가격']=int(i.find('span','price').text.strip().replace('원',''))\n",
    "    tmp['개수']=int(i.find('span','count').text.strip().replace('개',''))\n",
    "    tmp['거래처']=i.find('span','store').text.strip()\n",
    "    tmp['링크']=i.find('a')['href']\n",
    "    res.append(tmp)"
   ]
  },
  {
   "cell_type": "code",
   "execution_count": 126,
   "id": "cc63280f-d1cd-4c0d-815d-54502d9267fa",
   "metadata": {},
   "outputs": [
    {
     "data": {
      "text/html": [
       "<div>\n",
       "<style scoped>\n",
       "    .dataframe tbody tr th:only-of-type {\n",
       "        vertical-align: middle;\n",
       "    }\n",
       "\n",
       "    .dataframe tbody tr th {\n",
       "        vertical-align: top;\n",
       "    }\n",
       "\n",
       "    .dataframe thead th {\n",
       "        text-align: right;\n",
       "    }\n",
       "</style>\n",
       "<table border=\"1\" class=\"dataframe\">\n",
       "  <thead>\n",
       "    <tr style=\"text-align: right;\">\n",
       "      <th></th>\n",
       "      <th>품명</th>\n",
       "      <th>가격</th>\n",
       "      <th>개수</th>\n",
       "      <th>거래처</th>\n",
       "      <th>링크</th>\n",
       "    </tr>\n",
       "  </thead>\n",
       "  <tbody>\n",
       "    <tr>\n",
       "      <th>0</th>\n",
       "      <td>바나나</td>\n",
       "      <td>3000</td>\n",
       "      <td>10</td>\n",
       "      <td>바나나가게</td>\n",
       "      <td>https://www.banana.com</td>\n",
       "    </tr>\n",
       "    <tr>\n",
       "      <th>1</th>\n",
       "      <td>체리</td>\n",
       "      <td>100</td>\n",
       "      <td>50</td>\n",
       "      <td>체리가게</td>\n",
       "      <td>https://www.cherry.com</td>\n",
       "    </tr>\n",
       "    <tr>\n",
       "      <th>2</th>\n",
       "      <td>오렌지</td>\n",
       "      <td>500</td>\n",
       "      <td>20</td>\n",
       "      <td>오렌지가게</td>\n",
       "      <td>https://www.orange.com</td>\n",
       "    </tr>\n",
       "    <tr>\n",
       "      <th>3</th>\n",
       "      <td>바나나</td>\n",
       "      <td>3000</td>\n",
       "      <td>10</td>\n",
       "      <td>바나나가게</td>\n",
       "      <td>https://www.banana.com</td>\n",
       "    </tr>\n",
       "    <tr>\n",
       "      <th>4</th>\n",
       "      <td>체리</td>\n",
       "      <td>100</td>\n",
       "      <td>50</td>\n",
       "      <td>체리가게</td>\n",
       "      <td>https://www.cherry.com</td>\n",
       "    </tr>\n",
       "    <tr>\n",
       "      <th>5</th>\n",
       "      <td>오렌지</td>\n",
       "      <td>500</td>\n",
       "      <td>20</td>\n",
       "      <td>오렌지가게</td>\n",
       "      <td>https://www.orange.com</td>\n",
       "    </tr>\n",
       "  </tbody>\n",
       "</table>\n",
       "</div>"
      ],
      "text/plain": [
       "      품명    가격  개수    거래처                      링크\n",
       "0   바나나   3000  10  바나나가게  https://www.banana.com\n",
       "1    체리    100  50   체리가게  https://www.cherry.com\n",
       "2    오렌지   500  20  오렌지가게  https://www.orange.com\n",
       "3   바나나   3000  10  바나나가게  https://www.banana.com\n",
       "4    체리    100  50   체리가게  https://www.cherry.com\n",
       "5    오렌지   500  20  오렌지가게  https://www.orange.com"
      ]
     },
     "execution_count": 126,
     "metadata": {},
     "output_type": "execute_result"
    }
   ],
   "source": [
    "df=pd.DataFrame(res)\n",
    "df"
   ]
  },
  {
   "cell_type": "code",
   "execution_count": null,
   "id": "5b6b4c55-80b4-4193-bc02-2dbd7ddab754",
   "metadata": {},
   "outputs": [],
   "source": []
  }
 ],
 "metadata": {
  "kernelspec": {
   "display_name": "Python 3 (ipykernel)",
   "language": "python",
   "name": "python3"
  },
  "language_info": {
   "codemirror_mode": {
    "name": "ipython",
    "version": 3
   },
   "file_extension": ".py",
   "mimetype": "text/x-python",
   "name": "python",
   "nbconvert_exporter": "python",
   "pygments_lexer": "ipython3",
   "version": "3.12.5"
  }
 },
 "nbformat": 4,
 "nbformat_minor": 5
}
