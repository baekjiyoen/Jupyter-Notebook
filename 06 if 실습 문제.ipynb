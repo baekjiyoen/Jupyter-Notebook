{
 "cells": [
  {
   "cell_type": "markdown",
   "id": "nuclear-yorkshire",
   "metadata": {},
   "source": [
    "[문제1]\n",
    "- 포켓에 money가 있으면 택시타고 아니면 걸어가라\n",
    "porket=['key','money','iPhon']"
   ]
  },
  {
   "cell_type": "code",
   "execution_count": 45,
   "id": "contemporary-brooklyn",
   "metadata": {},
   "outputs": [
    {
     "name": "stdout",
     "output_type": "stream",
     "text": [
      "택시타고 가자\n"
     ]
    }
   ],
   "source": [
    "porket=['key','money','iPhon']\n"
   ]
  },
  {
   "cell_type": "code",
   "execution_count": null,
   "id": "artificial-engineering",
   "metadata": {},
   "outputs": [],
   "source": []
  },
  {
   "cell_type": "markdown",
   "id": "yellow-relative",
   "metadata": {},
   "source": [
    "[문제2] \n",
    "1. input으로 값을 입력받아\n",
    "2. 짝수이면 -> '짝수' 출력, 홀수이면 ->'홀수'출력"
   ]
  },
  {
   "cell_type": "code",
   "execution_count": 2,
   "id": "standing-punishment",
   "metadata": {},
   "outputs": [
    {
     "name": "stdout",
     "output_type": "stream",
     "text": [
      "4\n",
      "짝수\n"
     ]
    }
   ],
   "source": []
  },
  {
   "cell_type": "markdown",
   "id": "experimental-nutrition",
   "metadata": {},
   "source": [
    "[문제3] '국어','영어','수학', '과학' 점수가 모두 80점 이상면 '합격'그렇지 않으면 '불합격'"
   ]
  },
  {
   "cell_type": "code",
   "execution_count": null,
   "id": "silver-denver",
   "metadata": {},
   "outputs": [],
   "source": []
  },
  {
   "cell_type": "markdown",
   "id": "australian-august",
   "metadata": {},
   "source": [
    "[문제4]\n",
    "- 표준입력으로 점수를 입력받아\n",
    "- 수,우,미,양,가 를 출력하세요\n"
   ]
  },
  {
   "cell_type": "code",
   "execution_count": 18,
   "id": "digital-practitioner",
   "metadata": {},
   "outputs": [
    {
     "name": "stdout",
     "output_type": "stream",
     "text": [
      "점수를 입력해 주세요59\n",
      "가\n"
     ]
    }
   ],
   "source": []
  },
  {
   "cell_type": "markdown",
   "id": "attractive-colleague",
   "metadata": {},
   "source": [
    "[문제5] \n",
    "1. input으로 나이입력(입력 값이 7이상 입력됨)\n",
    "2. 교통카드 시스템에서 시내버스 요금은 다음과 같다\n",
    "   - 어린이 (7세이상 12세 이하): 650원\n",
    "   - 청소년 (13세이상 18세 이하): 1,050원\n",
    "   - 19세 이상: 1,250\n",
    "3. 각 나이에 맞게 요금을 차감한 뒤 잔액을 출력되게 하세요\n",
    "4. 현재 교통카드에는 9,000원이 있음"
   ]
  },
  {
   "cell_type": "code",
   "execution_count": 42,
   "id": "confirmed-resolution",
   "metadata": {},
   "outputs": [
    {
     "name": "stdout",
     "output_type": "stream",
     "text": [
      "나이를 입력해 주세요80\n",
      "7750\n"
     ]
    }
   ],
   "source": [
    "\n"
   ]
  },
  {
   "cell_type": "code",
   "execution_count": null,
   "id": "velvet-sauce",
   "metadata": {},
   "outputs": [],
   "source": []
  },
  {
   "cell_type": "code",
   "execution_count": null,
   "id": "prompt-peoples",
   "metadata": {},
   "outputs": [],
   "source": []
  }
 ],
 "metadata": {
  "kernelspec": {
   "display_name": "Python 3 (ipykernel)",
   "language": "python",
   "name": "python3"
  },
  "language_info": {
   "codemirror_mode": {
    "name": "ipython",
    "version": 3
   },
   "file_extension": ".py",
   "mimetype": "text/x-python",
   "name": "python",
   "nbconvert_exporter": "python",
   "pygments_lexer": "ipython3",
   "version": "3.12.5"
  }
 },
 "nbformat": 4,
 "nbformat_minor": 5
}
