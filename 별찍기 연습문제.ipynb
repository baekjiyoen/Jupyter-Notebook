{
 "cells": [
  {
   "cell_type": "code",
   "execution_count": 3,
   "id": "8ca81d6d-7b32-47ec-adf7-828ca4270097",
   "metadata": {},
   "outputs": [
    {
     "name": "stdout",
     "output_type": "stream",
     "text": [
      "************"
     ]
    }
   ],
   "source": [
    "#별 12개 찍기(for문 활용)\n",
    "for i in range(12):\n",
    "    print('*',end='')"
   ]
  },
  {
   "cell_type": "code",
   "execution_count": 8,
   "id": "9e63bc9f-06e1-47c7-a134-3ef60694829d",
   "metadata": {},
   "outputs": [
    {
     "name": "stdout",
     "output_type": "stream",
     "text": [
      "************\n",
      "************\n",
      "************\n"
     ]
    }
   ],
   "source": [
    "#별 12개 찍기를 3줄 찍기(for문 활용)\n",
    "for j in range(3):\n",
    "    for i in range(12):\n",
    "        print('*',end='')\n",
    "    print()"
   ]
  },
  {
   "cell_type": "code",
   "execution_count": 14,
   "id": "909ee637-aa14-407a-9a9c-b94782e9e14c",
   "metadata": {},
   "outputs": [
    {
     "name": "stdout",
     "output_type": "stream",
     "text": [
      "*\n",
      "**\n",
      "***\n",
      "****\n",
      "*****\n",
      "******\n",
      "*******\n",
      "********\n",
      "*********\n",
      "**********\n"
     ]
    }
   ],
   "source": [
    "#삼각형 모양으로 별 찍기(1)\n",
    "for i in range(10):\n",
    "    for j in range(i+1):\n",
    "        print('*',end='')\n",
    "    print()\n",
    "    "
   ]
  },
  {
   "cell_type": "code",
   "execution_count": 15,
   "id": "2acc99a3-f1f2-441b-9988-c40acafc7761",
   "metadata": {},
   "outputs": [
    {
     "name": "stdout",
     "output_type": "stream",
     "text": [
      "**********\n",
      "*********\n",
      "********\n",
      "*******\n",
      "******\n",
      "*****\n",
      "****\n",
      "***\n",
      "**\n",
      "*\n"
     ]
    }
   ],
   "source": [
    "#삼각형 모양으로 별 찍기(2)\n",
    "for i in range(10):\n",
    "    for j in range(10-i):\n",
    "        print('*',end='')\n",
    "    print()\n",
    "        "
   ]
  },
  {
   "cell_type": "code",
   "execution_count": 19,
   "id": "2179826a-35cc-46b2-890c-195640d301c9",
   "metadata": {},
   "outputs": [
    {
     "name": "stdout",
     "output_type": "stream",
     "text": [
      "          *\n",
      "         **\n",
      "        ***\n",
      "       ****\n",
      "      *****\n",
      "     ******\n",
      "    *******\n",
      "   ********\n",
      "  *********\n",
      " **********\n"
     ]
    }
   ],
   "source": [
    "#삼각형 모양으로 별 찍기(3)\n",
    "for i in range(10):\n",
    "    for b in range(10-i):\n",
    "        print(' ',end='')\n",
    "    for j in range(i+1):\n",
    "        print('*',end='')\n",
    "    print()\n",
    "        "
   ]
  },
  {
   "cell_type": "code",
   "execution_count": 55,
   "id": "2892cb84-196f-482f-9f34-27a679dfbda4",
   "metadata": {},
   "outputs": [
    {
     "name": "stdout",
     "output_type": "stream",
     "text": [
      "           *\n",
      "          ***\n",
      "         *****\n",
      "        *******\n",
      "       *********\n",
      "      ***********\n",
      "     *************\n",
      "    ***************\n",
      "   *****************\n",
      "  *******************\n"
     ]
    }
   ],
   "source": [
    "#삼각형 모양으로 별 찍기(3)\n",
    "for i in range(10):\n",
    "    print(' '*(11-i), end='')\n",
    "    print('*'*(i*2+1))"
   ]
  },
  {
   "cell_type": "code",
   "execution_count": 59,
   "id": "5691c460-f12b-4615-b66e-444f7083fb09",
   "metadata": {},
   "outputs": [
    {
     "name": "stdout",
     "output_type": "stream",
     "text": [
      "*******************\n",
      " *****************\n",
      "  ***************\n",
      "   *************\n",
      "    ***********\n",
      "     *********\n",
      "      *******\n",
      "       *****\n",
      "        ***\n",
      "         *\n"
     ]
    }
   ],
   "source": [
    "#삼각형 모양으로 별 찍기(3)\n",
    "for i in range(10):\n",
    "    print(' '*i, end='')\n",
    "    print('*'*(20-(i*2+1)))"
   ]
  },
  {
   "cell_type": "code",
   "execution_count": null,
   "id": "050c59e8-b194-4c91-bf9c-208ebecce354",
   "metadata": {},
   "outputs": [],
   "source": []
  }
 ],
 "metadata": {
  "kernelspec": {
   "display_name": "Python 3 (ipykernel)",
   "language": "python",
   "name": "python3"
  },
  "language_info": {
   "codemirror_mode": {
    "name": "ipython",
    "version": 3
   },
   "file_extension": ".py",
   "mimetype": "text/x-python",
   "name": "python",
   "nbconvert_exporter": "python",
   "pygments_lexer": "ipython3",
   "version": "3.12.5"
  }
 },
 "nbformat": 4,
 "nbformat_minor": 5
}
