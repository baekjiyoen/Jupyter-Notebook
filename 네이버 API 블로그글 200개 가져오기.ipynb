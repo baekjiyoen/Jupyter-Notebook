{
 "cells": [
  {
   "cell_type": "code",
   "execution_count": 1,
   "id": "90244e68-a8ae-4ce1-84f7-4ce77b2044ff",
   "metadata": {},
   "outputs": [
    {
     "data": {
      "text/plain": [
       "'C:\\\\Users\\\\human\\\\Desktop\\\\수업자료\\\\데이터분석&시각화\\\\05네이버API'"
      ]
     },
     "execution_count": 1,
     "metadata": {},
     "output_type": "execute_result"
    }
   ],
   "source": [
    "pwd"
   ]
  },
  {
   "cell_type": "code",
   "execution_count": 87,
   "id": "9fe7b91b-90f7-4db1-bfe0-55ddf5634838",
   "metadata": {},
   "outputs": [],
   "source": [
    "# 네이버 검색 API 예제 - 블로그 검색\n",
    "import os\n",
    "import sys\n",
    "import urllib.request\n",
    "import pandas as pd\n",
    "import json# \n",
    "\n",
    "# 1. id, pw 지정\n",
    "client_id = \"jro7pRJVQag6_ygE5WyZ\"\n",
    "client_secret = \"001wP06NKO\"\n",
    "encText = urllib.parse.quote(\"스타벅스\")\n",
    "# display='100'\n",
    "# start='1'\n",
    "\n",
    "# 2. url 생성\n",
    "def naver_blog(search,display=100,start=1):\n",
    "    base_url='https://openapi.naver.com/v1/search/blog'\n",
    "    p={\n",
    "        'query':search,\n",
    "        'display' : display,\n",
    "        'start' : start\n",
    "    }\n",
    "    enc_params=urllib.parse.urlencode(p)\n",
    "    # enc_params\n",
    "    url=f'{base_url}?{enc_params}'\n",
    "    \n",
    "    # 3. url 자료요청 (json)\n",
    "    request = urllib.request.Request(url)\n",
    "    request.add_header(\"X-Naver-Client-Id\",client_id)\n",
    "    request.add_header(\"X-Naver-Client-Secret\",client_secret)\n",
    "    response = urllib.request.urlopen(request)\n",
    "    rescode = response.getcode()\n",
    "    if(rescode==200):\n",
    "        response_body = response.read()\n",
    "        response_dict=json.loads(response_body)\n",
    "        res_df=pd.DataFrame(response_dict['items'])\n",
    "    else:\n",
    "        print(\"Error Code:\" + rescode)\n",
    "        return\n",
    "    return res_df\n",
    "# 함수호출\n",
    "# naver_blog('스타벅스')\n",
    "search='원피스'\n",
    "res=[]\n",
    "\n",
    "for i in range(1,102,100):\n",
    "    tmp=naver_blog(search,start=i)\n",
    "    res.append(tmp)"
   ]
  },
  {
   "cell_type": "code",
   "execution_count": 88,
   "id": "9af55335-fc1a-4e8f-988c-a237392fed6a",
   "metadata": {},
   "outputs": [
    {
     "data": {
      "text/plain": [
       "2"
      ]
     },
     "execution_count": 88,
     "metadata": {},
     "output_type": "execute_result"
    }
   ],
   "source": [
    "len(res)"
   ]
  },
  {
   "cell_type": "code",
   "execution_count": 90,
   "id": "1258e5c5-d220-427e-8a7d-07f3a6be85aa",
   "metadata": {},
   "outputs": [
    {
     "name": "stdout",
     "output_type": "stream",
     "text": [
      "(200, 6)\n"
     ]
    },
    {
     "data": {
      "text/html": [
       "<div>\n",
       "<style scoped>\n",
       "    .dataframe tbody tr th:only-of-type {\n",
       "        vertical-align: middle;\n",
       "    }\n",
       "\n",
       "    .dataframe tbody tr th {\n",
       "        vertical-align: top;\n",
       "    }\n",
       "\n",
       "    .dataframe thead th {\n",
       "        text-align: right;\n",
       "    }\n",
       "</style>\n",
       "<table border=\"1\" class=\"dataframe\">\n",
       "  <thead>\n",
       "    <tr style=\"text-align: right;\">\n",
       "      <th></th>\n",
       "      <th>title</th>\n",
       "      <th>link</th>\n",
       "      <th>description</th>\n",
       "      <th>bloggername</th>\n",
       "      <th>bloggerlink</th>\n",
       "      <th>postdate</th>\n",
       "    </tr>\n",
       "  </thead>\n",
       "  <tbody>\n",
       "    <tr>\n",
       "      <th>0</th>\n",
       "      <td>&lt;b&gt;원피스&lt;/b&gt; 최초 애니메이션(?!) 캡처</td>\n",
       "      <td>https://blog.naver.com/jsi02044/223600114284</td>\n",
       "      <td>제가 얼마전에 애니메이션 하나를 봤는데요, 바로 제가 좋아하는 애니 중 하나인 [&lt;...</td>\n",
       "      <td>『Selenophile』</td>\n",
       "      <td>blog.naver.com/jsi02044</td>\n",
       "      <td>20240929</td>\n",
       "    </tr>\n",
       "    <tr>\n",
       "      <th>1</th>\n",
       "      <td>&lt;b&gt;원피스&lt;/b&gt; 변기 부속품교체 투피스보다 까다로워요</td>\n",
       "      <td>https://blog.naver.com/bwith____/223593466406</td>\n",
       "      <td>고객님 댁에 도착해서 화장실 변기를 확인해보았더니 &lt;b&gt;원피스&lt;/b&gt; 변기였어요. ...</td>\n",
       "      <td>동원설비 [ 전국 1시간 이내 출동 ]</td>\n",
       "      <td>blog.naver.com/bwith____</td>\n",
       "      <td>20240923</td>\n",
       "    </tr>\n",
       "    <tr>\n",
       "      <th>2</th>\n",
       "      <td>발리 쇼핑리스트 꾸따 &lt;b&gt;원피스&lt;/b&gt; 발리기념품</td>\n",
       "      <td>https://blog.naver.com/bom25bom/223592235400</td>\n",
       "      <td>Bali Shopping List 발리 쇼핑리스트 꾸따 뽀삐스거리 &lt;b&gt;원피스&lt;/b...</td>\n",
       "      <td>봄빛씨는 언제나 봄날</td>\n",
       "      <td>blog.naver.com/bom25bom</td>\n",
       "      <td>20240924</td>\n",
       "    </tr>\n",
       "    <tr>\n",
       "      <th>3</th>\n",
       "      <td>코스 COS 세일 기간 시작 &lt;b&gt;원피스&lt;/b&gt; 가방 등 추천템 zip</td>\n",
       "      <td>https://blog.naver.com/dnjstpdms24/223601212182</td>\n",
       "      <td>이거 할인폭 보자마자 소리 질렀는데 안 그래도 매장에서 꽂혀서 입어봤던 COS &lt;b...</td>\n",
       "      <td>[ Won &amp; Only ]</td>\n",
       "      <td>blog.naver.com/dnjstpdms24</td>\n",
       "      <td>20240930</td>\n",
       "    </tr>\n",
       "    <tr>\n",
       "      <th>4</th>\n",
       "      <td>&lt;b&gt;원피스&lt;/b&gt; 1119화 애니 - 코브라 사망 죽음</td>\n",
       "      <td>https://blog.naver.com/ptj0969/223584726406</td>\n",
       "      <td>&lt;b&gt;원피스&lt;/b&gt; 애니 1119화는 제목 그대로에요 오늘 코브라가 죽습니다 하지만...</td>\n",
       "      <td>에레키맨의 무겐 블로그</td>\n",
       "      <td>blog.naver.com/ptj0969</td>\n",
       "      <td>20240915</td>\n",
       "    </tr>\n",
       "    <tr>\n",
       "      <th>...</th>\n",
       "      <td>...</td>\n",
       "      <td>...</td>\n",
       "      <td>...</td>\n",
       "      <td>...</td>\n",
       "      <td>...</td>\n",
       "      <td>...</td>\n",
       "    </tr>\n",
       "    <tr>\n",
       "      <th>195</th>\n",
       "      <td>&lt;b&gt;원피스&lt;/b&gt; 만화 1123화 스포 , 엘바프로 모두 향한다!</td>\n",
       "      <td>https://blog.naver.com/ptj0969/223546795762</td>\n",
       "      <td>&lt;b&gt;원피스&lt;/b&gt; 만화 1123화 스포일러가 드디어 오늘 공개 &lt;b&gt;원피스&lt;/b&gt;...</td>\n",
       "      <td>에레키맨의 무겐 블로그</td>\n",
       "      <td>blog.naver.com/ptj0969</td>\n",
       "      <td>20240813</td>\n",
       "    </tr>\n",
       "    <tr>\n",
       "      <th>196</th>\n",
       "      <td>가을 하객룩 &lt;b&gt;원피스&lt;/b&gt; 추천. ORR, 모멧, 모한, 프론트로우 등</td>\n",
       "      <td>https://blog.naver.com/skdud_vv/223572607064</td>\n",
       "      <td>가을 결혼식에 입기좋은 분위기 있으면서도 세련된 단독으로 입어도 좋고 자켓과 레이어...</td>\n",
       "      <td>월급노잼 탕진잼</td>\n",
       "      <td>blog.naver.com/skdud_vv</td>\n",
       "      <td>20240904</td>\n",
       "    </tr>\n",
       "    <tr>\n",
       "      <th>197</th>\n",
       "      <td>김희선 독보적으로 예쁜 발망 블랙 미니&lt;b&gt;원피스&lt;/b&gt; 코디</td>\n",
       "      <td>https://blog.naver.com/heevely0522/223567167329</td>\n",
       "      <td>김희선 독보적으로 예쁜 발망 미니&lt;b&gt;원피스&lt;/b&gt; 코디 30일 청담동 스페이스 도...</td>\n",
       "      <td>뷰티앤로시</td>\n",
       "      <td>blog.naver.com/heevely0522</td>\n",
       "      <td>20240831</td>\n",
       "    </tr>\n",
       "    <tr>\n",
       "      <th>198</th>\n",
       "      <td>나트랑 야시장 시간 위치 &lt;b&gt;원피스&lt;/b&gt; 쇼핑 가격 흥정 팁</td>\n",
       "      <td>https://blog.naver.com/maum7b/223572071973</td>\n",
       "      <td>나트랑 야시장 시간 위치 &lt;b&gt;원피스&lt;/b&gt; 쇼핑 가격 흥정 팁 여행하는동안 입을 ...</td>\n",
       "      <td>마음로드 :-)</td>\n",
       "      <td>blog.naver.com/maum7b</td>\n",
       "      <td>20240906</td>\n",
       "    </tr>\n",
       "    <tr>\n",
       "      <th>199</th>\n",
       "      <td>민소매 데님 &lt;b&gt;원피스&lt;/b&gt;룩 - 샤넬 22백, 수제화 버클 샌들</td>\n",
       "      <td>https://blog.naver.com/eve3453/223563466146</td>\n",
       "      <td>오늘은 차분한 분위기의 민소매 데님 &lt;b&gt;원피스&lt;/b&gt; 패션을 준비해 보았어요. 갑...</td>\n",
       "      <td>워킹언니의 직장 패션</td>\n",
       "      <td>blog.naver.com/eve3453</td>\n",
       "      <td>20240902</td>\n",
       "    </tr>\n",
       "  </tbody>\n",
       "</table>\n",
       "<p>200 rows × 6 columns</p>\n",
       "</div>"
      ],
      "text/plain": [
       "                                          title  \\\n",
       "0                    <b>원피스</b> 최초 애니메이션(?!) 캡처   \n",
       "1               <b>원피스</b> 변기 부속품교체 투피스보다 까다로워요   \n",
       "2                  발리 쇼핑리스트 꾸따 <b>원피스</b> 발리기념품   \n",
       "3       코스 COS 세일 기간 시작 <b>원피스</b> 가방 등 추천템 zip   \n",
       "4               <b>원피스</b> 1119화 애니 - 코브라 사망 죽음   \n",
       "..                                          ...   \n",
       "195       <b>원피스</b> 만화 1123화 스포 , 엘바프로 모두 향한다!   \n",
       "196  가을 하객룩 <b>원피스</b> 추천. ORR, 모멧, 모한, 프론트로우 등   \n",
       "197          김희선 독보적으로 예쁜 발망 블랙 미니<b>원피스</b> 코디   \n",
       "198         나트랑 야시장 시간 위치 <b>원피스</b> 쇼핑 가격 흥정 팁   \n",
       "199      민소매 데님 <b>원피스</b>룩 - 샤넬 22백, 수제화 버클 샌들   \n",
       "\n",
       "                                                link  \\\n",
       "0       https://blog.naver.com/jsi02044/223600114284   \n",
       "1      https://blog.naver.com/bwith____/223593466406   \n",
       "2       https://blog.naver.com/bom25bom/223592235400   \n",
       "3    https://blog.naver.com/dnjstpdms24/223601212182   \n",
       "4        https://blog.naver.com/ptj0969/223584726406   \n",
       "..                                               ...   \n",
       "195      https://blog.naver.com/ptj0969/223546795762   \n",
       "196     https://blog.naver.com/skdud_vv/223572607064   \n",
       "197  https://blog.naver.com/heevely0522/223567167329   \n",
       "198       https://blog.naver.com/maum7b/223572071973   \n",
       "199      https://blog.naver.com/eve3453/223563466146   \n",
       "\n",
       "                                           description            bloggername  \\\n",
       "0    제가 얼마전에 애니메이션 하나를 봤는데요, 바로 제가 좋아하는 애니 중 하나인 [<...          『Selenophile』   \n",
       "1    고객님 댁에 도착해서 화장실 변기를 확인해보았더니 <b>원피스</b> 변기였어요. ...  동원설비 [ 전국 1시간 이내 출동 ]   \n",
       "2    Bali Shopping List 발리 쇼핑리스트 꾸따 뽀삐스거리 <b>원피스</b...            봄빛씨는 언제나 봄날   \n",
       "3    이거 할인폭 보자마자 소리 질렀는데 안 그래도 매장에서 꽂혀서 입어봤던 COS <b...         [ Won & Only ]   \n",
       "4    <b>원피스</b> 애니 1119화는 제목 그대로에요 오늘 코브라가 죽습니다 하지만...           에레키맨의 무겐 블로그   \n",
       "..                                                 ...                    ...   \n",
       "195  <b>원피스</b> 만화 1123화 스포일러가 드디어 오늘 공개 <b>원피스</b>...           에레키맨의 무겐 블로그   \n",
       "196  가을 결혼식에 입기좋은 분위기 있으면서도 세련된 단독으로 입어도 좋고 자켓과 레이어...               월급노잼 탕진잼   \n",
       "197  김희선 독보적으로 예쁜 발망 미니<b>원피스</b> 코디 30일 청담동 스페이스 도...                  뷰티앤로시   \n",
       "198  나트랑 야시장 시간 위치 <b>원피스</b> 쇼핑 가격 흥정 팁 여행하는동안 입을 ...               마음로드 :-)   \n",
       "199  오늘은 차분한 분위기의 민소매 데님 <b>원피스</b> 패션을 준비해 보았어요. 갑...            워킹언니의 직장 패션   \n",
       "\n",
       "                    bloggerlink  postdate  \n",
       "0       blog.naver.com/jsi02044  20240929  \n",
       "1      blog.naver.com/bwith____  20240923  \n",
       "2       blog.naver.com/bom25bom  20240924  \n",
       "3    blog.naver.com/dnjstpdms24  20240930  \n",
       "4        blog.naver.com/ptj0969  20240915  \n",
       "..                          ...       ...  \n",
       "195      blog.naver.com/ptj0969  20240813  \n",
       "196     blog.naver.com/skdud_vv  20240904  \n",
       "197  blog.naver.com/heevely0522  20240831  \n",
       "198       blog.naver.com/maum7b  20240906  \n",
       "199      blog.naver.com/eve3453  20240902  \n",
       "\n",
       "[200 rows x 6 columns]"
      ]
     },
     "execution_count": 90,
     "metadata": {},
     "output_type": "execute_result"
    }
   ],
   "source": [
    "res_df=pd.concat(res,ignore_index=True)\n",
    "print(df.shape)\n",
    "res_df"
   ]
  },
  {
   "cell_type": "code",
   "execution_count": 91,
   "id": "3c18161f-7a11-48dd-9ea9-4811aab2edae",
   "metadata": {},
   "outputs": [
    {
     "data": {
      "text/html": [
       "<div>\n",
       "<style scoped>\n",
       "    .dataframe tbody tr th:only-of-type {\n",
       "        vertical-align: middle;\n",
       "    }\n",
       "\n",
       "    .dataframe tbody tr th {\n",
       "        vertical-align: top;\n",
       "    }\n",
       "\n",
       "    .dataframe thead th {\n",
       "        text-align: right;\n",
       "    }\n",
       "</style>\n",
       "<table border=\"1\" class=\"dataframe\">\n",
       "  <thead>\n",
       "    <tr style=\"text-align: right;\">\n",
       "      <th></th>\n",
       "      <th>title</th>\n",
       "      <th>link</th>\n",
       "      <th>description</th>\n",
       "      <th>bloggername</th>\n",
       "      <th>bloggerlink</th>\n",
       "      <th>postdate</th>\n",
       "    </tr>\n",
       "  </thead>\n",
       "  <tbody>\n",
       "  </tbody>\n",
       "</table>\n",
       "</div>"
      ],
      "text/plain": [
       "Empty DataFrame\n",
       "Columns: [title, link, description, bloggername, bloggerlink, postdate]\n",
       "Index: []"
      ]
     },
     "execution_count": 91,
     "metadata": {},
     "output_type": "execute_result"
    }
   ],
   "source": [
    "res_df[res_df.duplicated()]"
   ]
  },
  {
   "cell_type": "code",
   "execution_count": 92,
   "id": "a0393265-de6c-4a7a-bc43-2ff2a7ccf64a",
   "metadata": {},
   "outputs": [
    {
     "data": {
      "text/plain": [
       "'https://blog.naver.com/jsi02044/223600114284'"
      ]
     },
     "execution_count": 92,
     "metadata": {},
     "output_type": "execute_result"
    }
   ],
   "source": [
    "res_df['link'][0]"
   ]
  },
  {
   "cell_type": "code",
   "execution_count": null,
   "id": "0bc2e78a-5e11-4c8a-ae4e-7e59ba16b1f0",
   "metadata": {},
   "outputs": [],
   "source": []
  },
  {
   "cell_type": "code",
   "execution_count": null,
   "id": "fca1785c-7117-454c-9a6b-ead367a717cc",
   "metadata": {},
   "outputs": [],
   "source": []
  }
 ],
 "metadata": {
  "kernelspec": {
   "display_name": "Python 3 (ipykernel)",
   "language": "python",
   "name": "python3"
  },
  "language_info": {
   "codemirror_mode": {
    "name": "ipython",
    "version": 3
   },
   "file_extension": ".py",
   "mimetype": "text/x-python",
   "name": "python",
   "nbconvert_exporter": "python",
   "pygments_lexer": "ipython3",
   "version": "3.12.5"
  }
 },
 "nbformat": 4,
 "nbformat_minor": 5
}
