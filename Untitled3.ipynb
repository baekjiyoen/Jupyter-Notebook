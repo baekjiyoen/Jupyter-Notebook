{
 "cells": [
  {
   "cell_type": "code",
   "execution_count": 1,
   "id": "3eb88b2c-4b0e-44d8-8f4b-83c05e5b1994",
   "metadata": {},
   "outputs": [
    {
     "data": {
      "text/plain": [
       "'C:\\\\Users\\\\human\\\\Desktop\\\\수업자료\\\\1차'"
      ]
     },
     "execution_count": 1,
     "metadata": {},
     "output_type": "execute_result"
    }
   ],
   "source": [
    "pwd"
   ]
  },
  {
   "cell_type": "code",
   "execution_count": 5,
   "id": "adb9aaac-eb1b-411e-ae72-d4b603f45d68",
   "metadata": {},
   "outputs": [
    {
     "name": "stdout",
     "output_type": "stream",
     "text": [
      "['d', 'k', '가', '나']\n"
     ]
    }
   ],
   "source": [
    "stop_word=['a','b','c']\n",
    "word=['d','a','c','a','a','k','가','나']\n",
    "\n",
    "res=[]\n",
    "for i in word:\n",
    "    if i not in stop_word:\n",
    "        res.append(i)\n",
    "print(res)"
   ]
  },
  {
   "cell_type": "code",
   "execution_count": 7,
   "id": "34350ead-fe96-494f-9af8-dd7df7dca106",
   "metadata": {},
   "outputs": [
    {
     "name": "stdout",
     "output_type": "stream",
     "text": [
      "['d', 'k', '가', '나']\n"
     ]
    }
   ],
   "source": [
    "stop_word=['a','b','c']\n",
    "word=['d','a','c','a','a','k','가','나']\n",
    "res=[i for i in word if i not in stop_word]\n",
    "print(res)"
   ]
  },
  {
   "cell_type": "code",
   "execution_count": 26,
   "id": "02d708c1-00f7-473e-a717-0e3eea6f546d",
   "metadata": {},
   "outputs": [
    {
     "name": "stdout",
     "output_type": "stream",
     "text": [
      "{'이름': '홍길동', '나이': 22, '직업': '학생'}\n"
     ]
    }
   ],
   "source": [
    "a={\n",
    "    '이름' : '홍길동',\n",
    "    '나이' : 22,\n",
    "    '직업' : '학생'\n",
    "}\n",
    "print(a)"
   ]
  },
  {
   "cell_type": "code",
   "execution_count": 27,
   "id": "442d6e90-f6c7-40e2-b5d3-226e2240c80a",
   "metadata": {},
   "outputs": [
    {
     "data": {
      "text/plain": [
       "['부산', '서울', '경기']"
      ]
     },
     "execution_count": 27,
     "metadata": {},
     "output_type": "execute_result"
    }
   ],
   "source": [
    "a=['서울','부산','서울','경기','부산']\n",
    "list(set(a))"
   ]
  },
  {
   "cell_type": "code",
   "execution_count": 33,
   "id": "28bdb83a-170f-4c0a-9f34-8071f994e327",
   "metadata": {},
   "outputs": [
    {
     "name": "stdout",
     "output_type": "stream",
     "text": [
      "부산 ----> 2\n",
      "서울 ----> 2\n",
      "경기 ----> 1\n"
     ]
    }
   ],
   "source": [
    "a=['서울','부산','서울','경기','부산']\n",
    "'''\n",
    "1. 유니크 뽑자\n",
    "2. 카운터하자\n",
    "'''\n",
    "\n",
    "uni=list(set(a))\n",
    "# print(uni)\n",
    "for i in uni:\n",
    "    print(i,'---->',a.count(i))\n"
   ]
  },
  {
   "cell_type": "code",
   "execution_count": 32,
   "id": "31a3b912-901c-4a56-940b-0168720265ea",
   "metadata": {},
   "outputs": [
    {
     "data": {
      "text/plain": [
       "2"
      ]
     },
     "execution_count": 32,
     "metadata": {},
     "output_type": "execute_result"
    }
   ],
   "source": [
    "a.count('서울')"
   ]
  },
  {
   "cell_type": "code",
   "execution_count": 34,
   "id": "05b084d2-e3a0-4469-89bf-4dd366c8f1c8",
   "metadata": {},
   "outputs": [
    {
     "name": "stdout",
     "output_type": "stream",
     "text": [
      "a= ['a', 'b', 'c']\n",
      "b= ['a', 'b', 'c']\n"
     ]
    }
   ],
   "source": [
    "a=['a','b','c']# 데이터 생성\n",
    "b=a\n",
    "print('a=',a)\n",
    "print('b=',b)\n"
   ]
  },
  {
   "cell_type": "code",
   "execution_count": 36,
   "id": "a2c4c379-fabc-4d43-9422-e7ff52c3f2b9",
   "metadata": {},
   "outputs": [],
   "source": [
    "b[1]=123"
   ]
  },
  {
   "cell_type": "code",
   "execution_count": 37,
   "id": "e35218de-d9d3-4482-bdd1-3bee835b93e5",
   "metadata": {},
   "outputs": [
    {
     "name": "stdout",
     "output_type": "stream",
     "text": [
      "['a', 123, 'c']\n"
     ]
    }
   ],
   "source": [
    "print(b)"
   ]
  },
  {
   "cell_type": "code",
   "execution_count": 38,
   "id": "483f4372-5a32-4569-a0cf-d1f6fbdb4a41",
   "metadata": {},
   "outputs": [
    {
     "name": "stdout",
     "output_type": "stream",
     "text": [
      "['a', 123, 'c']\n"
     ]
    }
   ],
   "source": [
    "print(a)"
   ]
  },
  {
   "cell_type": "code",
   "execution_count": 39,
   "id": "a1fe635a-9a29-4a02-92d1-5e7d13a492bb",
   "metadata": {},
   "outputs": [
    {
     "name": "stdout",
     "output_type": "stream",
     "text": [
      "a= 3\n",
      "b= 3\n"
     ]
    }
   ],
   "source": [
    "a=3\n",
    "b=a\n",
    "print('a=',a)\n",
    "print('b=',b)"
   ]
  },
  {
   "cell_type": "code",
   "execution_count": 43,
   "id": "fae41d65-faf3-4afe-9115-6c8bd31faaf2",
   "metadata": {},
   "outputs": [
    {
     "name": "stdout",
     "output_type": "stream",
     "text": [
      "a= 3\n",
      "b= 100\n"
     ]
    }
   ],
   "source": [
    "b=100\n",
    "print('a=',a)\n",
    "print('b=',b)"
   ]
  },
  {
   "cell_type": "code",
   "execution_count": 50,
   "id": "44b8e0c9-c6ab-4099-9e81-303faf00a0b2",
   "metadata": {},
   "outputs": [
    {
     "name": "stdout",
     "output_type": "stream",
     "text": [
      "a= ['a', [1, 2, 3], 'c']\n",
      "b= ['a', [1, 2, 3], 'c']\n"
     ]
    }
   ],
   "source": [
    "a=['a',[1,2,3],'c']\n",
    "b=a.copy() #얉은 카피\n",
    "print('a=',a)\n",
    "print('b=',b)"
   ]
  },
  {
   "cell_type": "code",
   "execution_count": 51,
   "id": "047939ac-1bb3-4445-a0b6-f5d2a30676b3",
   "metadata": {},
   "outputs": [
    {
     "name": "stdout",
     "output_type": "stream",
     "text": [
      "a= ['a', [1, 123, 3], 'c']\n",
      "b= ['a', [1, 123, 3], 'c']\n"
     ]
    }
   ],
   "source": [
    "b[1][1]=123\n",
    "print('a=',a)\n",
    "print('b=',b)"
   ]
  },
  {
   "cell_type": "code",
   "execution_count": null,
   "id": "a3e4b3d5-7c85-41cf-b495-c58f9331d7ef",
   "metadata": {},
   "outputs": [],
   "source": []
  }
 ],
 "metadata": {
  "kernelspec": {
   "display_name": "Python 3 (ipykernel)",
   "language": "python",
   "name": "python3"
  },
  "language_info": {
   "codemirror_mode": {
    "name": "ipython",
    "version": 3
   },
   "file_extension": ".py",
   "mimetype": "text/x-python",
   "name": "python",
   "nbconvert_exporter": "python",
   "pygments_lexer": "ipython3",
   "version": "3.12.5"
  }
 },
 "nbformat": 4,
 "nbformat_minor": 5
}
