{
 "cells": [
  {
   "cell_type": "code",
   "execution_count": 1,
   "id": "7a953cab-eacf-4c89-a489-d4c386d1105c",
   "metadata": {},
   "outputs": [
    {
     "data": {
      "text/plain": [
       "'C:\\\\Users\\\\human\\\\Desktop\\\\수업자료\\\\데이터분석&시각화\\\\05네이버API'"
      ]
     },
     "execution_count": 1,
     "metadata": {},
     "output_type": "execute_result"
    }
   ],
   "source": [
    "pwd"
   ]
  },
  {
   "cell_type": "code",
   "execution_count": 29,
   "id": "e435c667-690d-480c-a24a-ec706802660c",
   "metadata": {},
   "outputs": [
    {
     "name": "stdout",
     "output_type": "stream",
     "text": [
      "{\n",
      "\t\"lastBuildDate\":\"Mon, 07 Oct 2024 10:22:29 +0900\",\n",
      "\t\"total\":383190,\n",
      "\t\"start\":1,\n",
      "\t\"display\":10,\n",
      "\t\"items\":[\n",
      "\t\t{\n",
      "\t\t\t\"title\":\"<b>메가커피<\\/b> 제로 아이스티 복숭아 샷추가 (아샷추) 변비에... \",\n",
      "\t\t\t\"link\":\"https:\\/\\/blog.naver.com\\/nddoo_\\/223599827308\",\n",
      "\t\t\t\"description\":\"500원인디 <b>메가커피<\\/b>답게 크기가 메가메가혀서 샷추가 한 번으론 효과가 없어요,,, 두 번은 하셔야... 아이스티의 달달한 맛, 커피의 쌉쓰름함이 섞여서 단맛이 중화되어유. 요즘 아샷추가 꽤 알려졌다곤 하지만... \",\n",
      "\t\t\t\"bloggername\":\"뚜뚜뚜루뚜뚜뚜뚜\",\n",
      "\t\t\t\"bloggerlink\":\"blog.naver.com\\/nddoo_\",\n",
      "\t\t\t\"postdate\":\"20240928\"\n",
      "\t\t},\n",
      "\t\t{\n",
      "\t\t\t\"title\":\"<b>메가커피<\\/b> 9월 신메뉴 귤톡톡 &amp; 밤밤 크리미 가을 추천 음료\",\n",
      "\t\t\t\"link\":\"https:\\/\\/blog.naver.com\\/yuna_1024\\/223577650649\",\n",
      "\t\t\t\"description\":\"<b>메가커피<\\/b> 가을 신메뉴 종류 #<b>메가커피<\\/b>9월신메뉴 ! 가을이 다가왔음을 느낄 수 있는 메뉴들로 준비되어 있었는데요. 할메가미숫커피 2,700원 귤 톡톡 젤리스무디 3,900원 귤 톡톡 릴렉싱 티플레저 3,900원 핫 불고기... \",\n",
      "\t\t\t\"bloggername\":\"날마다 좋은 날 ♥\",\n",
      "\t\t\t\"bloggerlink\":\"blog.naver.com\\/yuna_1024\",\n",
      "\t\t\t\"postdate\":\"20240909\"\n",
      "\t\t},\n",
      "\t\t{\n",
      "\t\t\t\"title\":\"보기 드문 매출을 유지하는 대구 <b>메가커피<\\/b> 창업 (양도양수)\",\n",
      "\t\t\t\"link\":\"https:\\/\\/blog.naver.com\\/sunghyun3152\\/223597199896\",\n",
      "\t\t\t\"description\":\"오늘 소개 드릴 대구 <b>메가커피<\\/b> 양도양수 창업 매장은 평균 이상의 매출을 꾸준하게 유지하고 보기 드문... <b>메가커피<\\/b>는 전국적으로 확대되어 있고 현존하는 테이크아웃 카페 중 가장 많은 가맹점을 보유한... \",\n",
      "\t\t\t\"bloggername\":\"창업을시작할때\",\n",
      "\t\t\t\"bloggerlink\":\"blog.naver.com\\/sunghyun3152\",\n",
      "\t\t\t\"postdate\":\"20240926\"\n",
      "\t\t},\n",
      "\t\t{\n",
      "\t\t\t\"title\":\"<b>메가커피<\\/b> 창업비용 저렴하게? 현실을 알려드립니다\",\n",
      "\t\t\t\"link\":\"https:\\/\\/blog.naver.com\\/iameunhee3\\/223594933691\",\n",
      "\t\t\t\"description\":\"오늘은 <b>메가커피<\\/b> 창업비용, 많은 분들이 관심을 갖는 주제인 만큼 정확한 현실을 알려드리겠습니다.... - <b>메가커피<\\/b> 창업비용 많이 알아보는 이유 현재 3200호점이 넘어간 <b>메가커피<\\/b>, 초기에는 초보사장님들이... \",\n",
      "\t\t\t\"bloggername\":\"ᴹᴼᴿᴱ ᴵˢ ᴹᴼᴿᴱ\",\n",
      "\t\t\t\"bloggerlink\":\"blog.naver.com\\/iameunhee3\",\n",
      "\t\t\t\"postdate\":\"20240924\"\n",
      "\t\t},\n",
      "\t\t{\n",
      "\t\t\t\"title\":\"<b>메가커피<\\/b> 메뉴 추천 가을에 어울리는 밤밤 찰떡 프라페\",\n",
      "\t\t\t\"link\":\"https:\\/\\/blog.naver.com\\/darkyoon85\\/223578269584\",\n",
      "\t\t\t\"description\":\"할메가미숫커피까지! 여기에 핫 불고기 &amp; 바베큐 반반 브리또와 브라우니 쿠키 머핀까지 2종의 디저트도 함께 출시했답니다. 그럼 이어서 <b>메가커피<\\/b> 메뉴도 함께 소개해 드릴게요. 아메리카노 1,500원, 32온즈... \",\n",
      "\t\t\t\"bloggername\":\"다크윤의 맛집이야기♥\",\n",
      "\t\t\t\"bloggerlink\":\"blog.naver.com\\/darkyoon85\",\n",
      "\t\t\t\"postdate\":\"20240913\"\n",
      "\t\t},\n",
      "\t\t{\n",
      "\t\t\t\"title\":\"<b>메가커피<\\/b> 메뉴 아메리카노 사랑의 하츄핑 피규어 실물 후기\",\n",
      "\t\t\t\"link\":\"https:\\/\\/blog.naver.com\\/kangsy0203\\/223578896323\",\n",
      "\t\t\t\"description\":\"메뉴 가격 <b>메가커피<\\/b> 메뉴 가격 아메리카노 +15000원 \\/ 2000원 헤이즐넛, 꿀, 바닐라 아메리카노 +2700원 메가리카노 +3000원 등 커피 메뉴는 대부분 2-3천 원대로 가성비 좋게 마실 수 있는 장점이 있어요 특히, 달달한... \",\n",
      "\t\t\t\"bloggername\":\"떵이의 오즈나라\",\n",
      "\t\t\t\"bloggerlink\":\"blog.naver.com\\/kangsy0203\",\n",
      "\t\t\t\"postdate\":\"20240910\"\n",
      "\t\t},\n",
      "\t\t{\n",
      "\t\t\t\"title\":\"<b>메가커피<\\/b> 메뉴 추천 할메가미숫커피 칼로리 후기\",\n",
      "\t\t\t\"link\":\"https:\\/\\/blog.naver.com\\/etienne03\\/223586677517\",\n",
      "\t\t\t\"description\":\"<b>메가커피<\\/b> 메뉴 추천 할메가미숫커피 칼로리 후기 안녕하세요 바비에요. 어제는 친구집 갔다가 근처 <b>메가커피<\\/b> 다녀왔어요. 가을시즌 신메뉴가 여러 가지 나와서 우선 하나씩 맛보고 싶어서 찾아갔는데요. 그중... \",\n",
      "\t\t\t\"bloggername\":\"Barbie's place\",\n",
      "\t\t\t\"bloggerlink\":\"blog.naver.com\\/etienne03\",\n",
      "\t\t\t\"postdate\":\"20240917\"\n",
      "\t\t},\n",
      "\t\t{\n",
      "\t\t\t\"title\":\"<b>메가커피<\\/b> 창업비용 고매출 양도양수 추천\",\n",
      "\t\t\t\"link\":\"https:\\/\\/blog.naver.com\\/jknew1\\/223557264553\",\n",
      "\t\t\t\"description\":\"<b>메가커피<\\/b> 창업비용 고매출 양도양수 추천 현재 국내 창업시장에 수많은 저가커피 프랜차이즈가 존재하지만, 예비자영업자분들이 우선 선택지로 고려하는 브랜드는 단연 <b>메가커피<\\/b>가 아닐까 생각되는데요.... \",\n",
      "\t\t\t\"bloggername\":\"세상사는 이야기\",\n",
      "\t\t\t\"bloggerlink\":\"blog.naver.com\\/jknew1\",\n",
      "\t\t\t\"postdate\":\"20240822\"\n",
      "\t\t},\n",
      "\t\t{\n",
      "\t\t\t\"title\":\"<b>메가커피<\\/b> 지구멜론 스무디+ 지구별 초코 크레페 신메뉴 맛보기\",\n",
      "\t\t\t\"link\":\"https:\\/\\/blog.naver.com\\/hansaramu\\/223513093577\",\n",
      "\t\t\t\"description\":\"<b>메가커피<\\/b> 지구멜론 스무디+ 지구별 초코 크레페 신메뉴 맛보기 애정하는 블친 그림이님의 폿팅을 보고 일찍부터 점찍어둔 곳, 평소 애정하는 가성비 좋은 카페 <b>메가커피<\\/b>의 여름 시즌 신메뉴를 드디어 맛보고... \",\n",
      "\t\t\t\"bloggername\":\"서유당 라이프\",\n",
      "\t\t\t\"bloggerlink\":\"blog.naver.com\\/hansaramu\",\n",
      "\t\t\t\"postdate\":\"20240715\"\n",
      "\t\t},\n",
      "\t\t{\n",
      "\t\t\t\"title\":\"<b>메가커피<\\/b>할인받기\\/SK멤버쉽\\/우주패스혜택\",\n",
      "\t\t\t\"link\":\"https:\\/\\/blog.naver.com\\/nice_guja\\/223563428953\",\n",
      "\t\t\t\"description\":\"요즘 <b>메가커피<\\/b>를 자주 가는 이유 그 이유는 바로바로 SKT우주패스 혜택 받은 영수증! (단, 하루에 한번만 사용가능) SK멤버쉽 우주패스 혜택으로 <b>메가커피<\\/b> 30% 할인 적용받기!! 유독 더웠던 올여름 어쩔 수... \",\n",
      "\t\t\t\"bloggername\":\"시시콜콜\",\n",
      "\t\t\t\"bloggerlink\":\"blog.naver.com\\/nice_guja\",\n",
      "\t\t\t\"postdate\":\"20240828\"\n",
      "\t\t}\n",
      "\t]\n",
      "}\n"
     ]
    }
   ],
   "source": [
    "# 네이버 검색 API 예제 - 블로그 검색\n",
    "import os\n",
    "import sys\n",
    "import urllib.request\n",
    "\n",
    "client_id = \"jro7pRJVQag6_ygE5WyZ\"\n",
    "client_secret = \"001wP06NKO\"\n",
    "encText = urllib.parse.quote(\"메가커피\")\n",
    "url = \"https://openapi.naver.com/v1/search/blog?query=\" + encText # JSON 결과\n",
    "# url = \"https://openapi.naver.com/v1/search/blog.xml?query=\" + encText # XML 결과\n",
    "request = urllib.request.Request(url)\n",
    "request.add_header(\"X-Naver-Client-Id\",client_id)\n",
    "request.add_header(\"X-Naver-Client-Secret\",client_secret)\n",
    "response = urllib.request.urlopen(request)\n",
    "rescode = response.getcode()\n",
    "if(rescode==200):\n",
    "    response_body = response.read()\n",
    "    print(response_body.decode('utf-8'))\n",
    "else:\n",
    "    print(\"Error Code:\" + rescode)\n"
   ]
  },
  {
   "cell_type": "code",
   "execution_count": 3,
   "id": "5f0c0fd3-efb2-4474-81bd-a6c61d1e16ba",
   "metadata": {},
   "outputs": [
    {
     "data": {
      "text/plain": [
       "bytes"
      ]
     },
     "execution_count": 3,
     "metadata": {},
     "output_type": "execute_result"
    }
   ],
   "source": [
    "type(response_body)"
   ]
  },
  {
   "cell_type": "code",
   "execution_count": 4,
   "id": "57a5c75e-4959-49a9-84bc-0652b054bcad",
   "metadata": {},
   "outputs": [
    {
     "data": {
      "text/plain": [
       "b'{\\n\\t\"lastBuildDate\":\"Mon, 07 Oct 2024 09:30:28 +0900\",\\n\\t\"total\":383200,\\n\\t\"start\":1,\\n\\t\"display\":10,\\n\\t\"items\":[\\n\\t\\t{\\n\\t\\t\\t\"title\":\"<b>\\xeb\\xa9\\x94\\xea\\xb0\\x80\\xec\\xbb\\xa4\\xed\\x94\\xbc<\\\\/b> \\xec\\xa0\\x9c\\xeb\\xa1\\x9c \\xec\\x95\\x84\\xec\\x9d\\xb4\\xec\\x8a\\xa4\\xed\\x8b\\xb0 \\xeb\\xb3\\xb5\\xec\\x88\\xad\\xec\\x95\\x84 \\xec\\x83\\xb7\\xec\\xb6\\x94\\xea\\xb0\\x80 (\\xec\\x95\\x84\\xec\\x83\\xb7\\xec\\xb6\\x94) \\xeb\\xb3\\x80\\xeb\\xb9\\x84\\xec\\x97\\x90... \",\\n\\t\\t\\t\"link\":\"https:\\\\/\\\\/blog.naver.com\\\\/nddoo_\\\\/223599827308\",\\n\\t\\t\\t\"description\":\"500\\xec\\x9b\\x90\\xec\\x9d\\xb8\\xeb\\x94\\x94 <b>\\xeb\\xa9\\x94\\xea\\xb0\\x80\\xec\\xbb\\xa4\\xed\\x94\\xbc<\\\\/b>\\xeb\\x8b\\xb5\\xea\\xb2\\x8c \\xed\\x81\\xac\\xea\\xb8\\xb0\\xea\\xb0\\x80 \\xeb\\xa9\\x94\\xea\\xb0\\x80\\xeb\\xa9\\x94\\xea\\xb0\\x80\\xed\\x98\\x80\\xec\\x84\\x9c \\xec\\x83\\xb7\\xec\\xb6\\x94\\xea\\xb0\\x80 \\xed\\x95\\x9c \\xeb\\xb2\\x88\\xec\\x9c\\xbc\\xeb\\xa1\\xa0 \\xed\\x9a\\xa8\\xea\\xb3\\xbc\\xea\\xb0\\x80 \\xec\\x97\\x86\\xec\\x96\\xb4\\xec\\x9a\\x94,,, \\xeb\\x91\\x90 \\xeb\\xb2\\x88\\xec\\x9d\\x80 \\xed\\x95\\x98\\xec\\x85\\x94\\xec\\x95\\xbc... \\xec\\x95\\x84\\xec\\x9d\\xb4\\xec\\x8a\\xa4\\xed\\x8b\\xb0\\xec\\x9d\\x98 \\xeb\\x8b\\xac\\xeb\\x8b\\xac\\xed\\x95\\x9c \\xeb\\xa7\\x9b, \\xec\\xbb\\xa4\\xed\\x94\\xbc\\xec\\x9d\\x98 \\xec\\x8c\\x89\\xec\\x93\\xb0\\xeb\\xa6\\x84\\xed\\x95\\xa8\\xec\\x9d\\xb4 \\xec\\x84\\x9e\\xec\\x97\\xac\\xec\\x84\\x9c \\xeb\\x8b\\xa8\\xeb\\xa7\\x9b\\xec\\x9d\\xb4 \\xec\\xa4\\x91\\xed\\x99\\x94\\xeb\\x90\\x98\\xec\\x96\\xb4\\xec\\x9c\\xa0. \\xec\\x9a\\x94\\xec\\xa6\\x98 \\xec\\x95\\x84\\xec\\x83\\xb7\\xec\\xb6\\x94\\xea\\xb0\\x80 \\xea\\xbd\\xa4 \\xec\\x95\\x8c\\xeb\\xa0\\xa4\\xec\\xa1\\x8c\\xeb\\x8b\\xa4\\xea\\xb3\\xa4 \\xed\\x95\\x98\\xec\\xa7\\x80\\xeb\\xa7\\x8c... \",\\n\\t\\t\\t\"bloggername\":\"\\xeb\\x9a\\x9c\\xeb\\x9a\\x9c\\xeb\\x9a\\x9c\\xeb\\xa3\\xa8\\xeb\\x9a\\x9c\\xeb\\x9a\\x9c\\xeb\\x9a\\x9c\\xeb\\x9a\\x9c\",\\n\\t\\t\\t\"bloggerlink\":\"blog.naver.com\\\\/nddoo_\",\\n\\t\\t\\t\"postdate\":\"20240928\"\\n\\t\\t},\\n\\t\\t{\\n\\t\\t\\t\"title\":\"<b>\\xeb\\xa9\\x94\\xea\\xb0\\x80\\xec\\xbb\\xa4\\xed\\x94\\xbc<\\\\/b> 9\\xec\\x9b\\x94 \\xec\\x8b\\xa0\\xeb\\xa9\\x94\\xeb\\x89\\xb4 \\xea\\xb7\\xa4\\xed\\x86\\xa1\\xed\\x86\\xa1 &amp; \\xeb\\xb0\\xa4\\xeb\\xb0\\xa4 \\xed\\x81\\xac\\xeb\\xa6\\xac\\xeb\\xaf\\xb8 \\xea\\xb0\\x80\\xec\\x9d\\x84 \\xec\\xb6\\x94\\xec\\xb2\\x9c \\xec\\x9d\\x8c\\xeb\\xa3\\x8c\",\\n\\t\\t\\t\"link\":\"https:\\\\/\\\\/blog.naver.com\\\\/yuna_1024\\\\/223577650649\",\\n\\t\\t\\t\"description\":\"<b>\\xeb\\xa9\\x94\\xea\\xb0\\x80\\xec\\xbb\\xa4\\xed\\x94\\xbc<\\\\/b> \\xea\\xb0\\x80\\xec\\x9d\\x84 \\xec\\x8b\\xa0\\xeb\\xa9\\x94\\xeb\\x89\\xb4 \\xec\\xa2\\x85\\xeb\\xa5\\x98 #<b>\\xeb\\xa9\\x94\\xea\\xb0\\x80\\xec\\xbb\\xa4\\xed\\x94\\xbc<\\\\/b>9\\xec\\x9b\\x94\\xec\\x8b\\xa0\\xeb\\xa9\\x94\\xeb\\x89\\xb4 ! \\xea\\xb0\\x80\\xec\\x9d\\x84\\xec\\x9d\\xb4 \\xeb\\x8b\\xa4\\xea\\xb0\\x80\\xec\\x99\\x94\\xec\\x9d\\x8c\\xec\\x9d\\x84 \\xeb\\x8a\\x90\\xeb\\x82\\x84 \\xec\\x88\\x98 \\xec\\x9e\\x88\\xeb\\x8a\\x94 \\xeb\\xa9\\x94\\xeb\\x89\\xb4\\xeb\\x93\\xa4\\xeb\\xa1\\x9c \\xec\\xa4\\x80\\xeb\\xb9\\x84\\xeb\\x90\\x98\\xec\\x96\\xb4 \\xec\\x9e\\x88\\xec\\x97\\x88\\xeb\\x8a\\x94\\xeb\\x8d\\xb0\\xec\\x9a\\x94. \\xed\\x95\\xa0\\xeb\\xa9\\x94\\xea\\xb0\\x80\\xeb\\xaf\\xb8\\xec\\x88\\xab\\xec\\xbb\\xa4\\xed\\x94\\xbc 2,700\\xec\\x9b\\x90 \\xea\\xb7\\xa4 \\xed\\x86\\xa1\\xed\\x86\\xa1 \\xec\\xa0\\xa4\\xeb\\xa6\\xac\\xec\\x8a\\xa4\\xeb\\xac\\xb4\\xeb\\x94\\x94 3,900\\xec\\x9b\\x90 \\xea\\xb7\\xa4 \\xed\\x86\\xa1\\xed\\x86\\xa1 \\xeb\\xa6\\xb4\\xeb\\xa0\\x89\\xec\\x8b\\xb1 \\xed\\x8b\\xb0\\xed\\x94\\x8c\\xeb\\xa0\\x88\\xec\\xa0\\x80 3,900\\xec\\x9b\\x90 \\xed\\x95\\xab \\xeb\\xb6\\x88\\xea\\xb3\\xa0\\xea\\xb8\\xb0... \",\\n\\t\\t\\t\"bloggername\":\"\\xeb\\x82\\xa0\\xeb\\xa7\\x88\\xeb\\x8b\\xa4 \\xec\\xa2\\x8b\\xec\\x9d\\x80 \\xeb\\x82\\xa0 \\xe2\\x99\\xa5\",\\n\\t\\t\\t\"bloggerlink\":\"blog.naver.com\\\\/yuna_1024\",\\n\\t\\t\\t\"postdate\":\"20240909\"\\n\\t\\t},\\n\\t\\t{\\n\\t\\t\\t\"title\":\"\\xeb\\xb3\\xb4\\xea\\xb8\\xb0 \\xeb\\x93\\x9c\\xeb\\xac\\xb8 \\xeb\\xa7\\xa4\\xec\\xb6\\x9c\\xec\\x9d\\x84 \\xec\\x9c\\xa0\\xec\\xa7\\x80\\xed\\x95\\x98\\xeb\\x8a\\x94 \\xeb\\x8c\\x80\\xea\\xb5\\xac <b>\\xeb\\xa9\\x94\\xea\\xb0\\x80\\xec\\xbb\\xa4\\xed\\x94\\xbc<\\\\/b> \\xec\\xb0\\xbd\\xec\\x97\\x85 (\\xec\\x96\\x91\\xeb\\x8f\\x84\\xec\\x96\\x91\\xec\\x88\\x98)\",\\n\\t\\t\\t\"link\":\"https:\\\\/\\\\/blog.naver.com\\\\/sunghyun3152\\\\/223597199896\",\\n\\t\\t\\t\"description\":\"\\xec\\x98\\xa4\\xeb\\x8a\\x98 \\xec\\x86\\x8c\\xea\\xb0\\x9c \\xeb\\x93\\x9c\\xeb\\xa6\\xb4 \\xeb\\x8c\\x80\\xea\\xb5\\xac <b>\\xeb\\xa9\\x94\\xea\\xb0\\x80\\xec\\xbb\\xa4\\xed\\x94\\xbc<\\\\/b> \\xec\\x96\\x91\\xeb\\x8f\\x84\\xec\\x96\\x91\\xec\\x88\\x98 \\xec\\xb0\\xbd\\xec\\x97\\x85 \\xeb\\xa7\\xa4\\xec\\x9e\\xa5\\xec\\x9d\\x80 \\xed\\x8f\\x89\\xea\\xb7\\xa0 \\xec\\x9d\\xb4\\xec\\x83\\x81\\xec\\x9d\\x98 \\xeb\\xa7\\xa4\\xec\\xb6\\x9c\\xec\\x9d\\x84 \\xea\\xbe\\xb8\\xec\\xa4\\x80\\xed\\x95\\x98\\xea\\xb2\\x8c \\xec\\x9c\\xa0\\xec\\xa7\\x80\\xed\\x95\\x98\\xea\\xb3\\xa0 \\xeb\\xb3\\xb4\\xea\\xb8\\xb0 \\xeb\\x93\\x9c\\xeb\\xac\\xb8... <b>\\xeb\\xa9\\x94\\xea\\xb0\\x80\\xec\\xbb\\xa4\\xed\\x94\\xbc<\\\\/b>\\xeb\\x8a\\x94 \\xec\\xa0\\x84\\xea\\xb5\\xad\\xec\\xa0\\x81\\xec\\x9c\\xbc\\xeb\\xa1\\x9c \\xed\\x99\\x95\\xeb\\x8c\\x80\\xeb\\x90\\x98\\xec\\x96\\xb4 \\xec\\x9e\\x88\\xea\\xb3\\xa0 \\xed\\x98\\x84\\xec\\xa1\\xb4\\xed\\x95\\x98\\xeb\\x8a\\x94 \\xed\\x85\\x8c\\xec\\x9d\\xb4\\xed\\x81\\xac\\xec\\x95\\x84\\xec\\x9b\\x83 \\xec\\xb9\\xb4\\xed\\x8e\\x98 \\xec\\xa4\\x91 \\xea\\xb0\\x80\\xec\\x9e\\xa5 \\xeb\\xa7\\x8e\\xec\\x9d\\x80 \\xea\\xb0\\x80\\xeb\\xa7\\xb9\\xec\\xa0\\x90\\xec\\x9d\\x84 \\xeb\\xb3\\xb4\\xec\\x9c\\xa0\\xed\\x95\\x9c... \",\\n\\t\\t\\t\"bloggername\":\"\\xec\\xb0\\xbd\\xec\\x97\\x85\\xec\\x9d\\x84\\xec\\x8b\\x9c\\xec\\x9e\\x91\\xed\\x95\\xa0\\xeb\\x95\\x8c\",\\n\\t\\t\\t\"bloggerlink\":\"blog.naver.com\\\\/sunghyun3152\",\\n\\t\\t\\t\"postdate\":\"20240926\"\\n\\t\\t},\\n\\t\\t{\\n\\t\\t\\t\"title\":\"<b>\\xeb\\xa9\\x94\\xea\\xb0\\x80\\xec\\xbb\\xa4\\xed\\x94\\xbc<\\\\/b> \\xec\\xb0\\xbd\\xec\\x97\\x85\\xeb\\xb9\\x84\\xec\\x9a\\xa9 \\xec\\xa0\\x80\\xeb\\xa0\\xb4\\xed\\x95\\x98\\xea\\xb2\\x8c? \\xed\\x98\\x84\\xec\\x8b\\xa4\\xec\\x9d\\x84 \\xec\\x95\\x8c\\xeb\\xa0\\xa4\\xeb\\x93\\x9c\\xeb\\xa6\\xbd\\xeb\\x8b\\x88\\xeb\\x8b\\xa4\",\\n\\t\\t\\t\"link\":\"https:\\\\/\\\\/blog.naver.com\\\\/iameunhee3\\\\/223594933691\",\\n\\t\\t\\t\"description\":\"\\xec\\x98\\xa4\\xeb\\x8a\\x98\\xec\\x9d\\x80 <b>\\xeb\\xa9\\x94\\xea\\xb0\\x80\\xec\\xbb\\xa4\\xed\\x94\\xbc<\\\\/b> \\xec\\xb0\\xbd\\xec\\x97\\x85\\xeb\\xb9\\x84\\xec\\x9a\\xa9, \\xeb\\xa7\\x8e\\xec\\x9d\\x80 \\xeb\\xb6\\x84\\xeb\\x93\\xa4\\xec\\x9d\\xb4 \\xea\\xb4\\x80\\xec\\x8b\\xac\\xec\\x9d\\x84 \\xea\\xb0\\x96\\xeb\\x8a\\x94 \\xec\\xa3\\xbc\\xec\\xa0\\x9c\\xec\\x9d\\xb8 \\xeb\\xa7\\x8c\\xed\\x81\\xbc \\xec\\xa0\\x95\\xed\\x99\\x95\\xed\\x95\\x9c \\xed\\x98\\x84\\xec\\x8b\\xa4\\xec\\x9d\\x84 \\xec\\x95\\x8c\\xeb\\xa0\\xa4\\xeb\\x93\\x9c\\xeb\\xa6\\xac\\xea\\xb2\\xa0\\xec\\x8a\\xb5\\xeb\\x8b\\x88\\xeb\\x8b\\xa4.... - <b>\\xeb\\xa9\\x94\\xea\\xb0\\x80\\xec\\xbb\\xa4\\xed\\x94\\xbc<\\\\/b> \\xec\\xb0\\xbd\\xec\\x97\\x85\\xeb\\xb9\\x84\\xec\\x9a\\xa9 \\xeb\\xa7\\x8e\\xec\\x9d\\xb4 \\xec\\x95\\x8c\\xec\\x95\\x84\\xeb\\xb3\\xb4\\xeb\\x8a\\x94 \\xec\\x9d\\xb4\\xec\\x9c\\xa0 \\xed\\x98\\x84\\xec\\x9e\\xac 3200\\xed\\x98\\xb8\\xec\\xa0\\x90\\xec\\x9d\\xb4 \\xeb\\x84\\x98\\xec\\x96\\xb4\\xea\\xb0\\x84 <b>\\xeb\\xa9\\x94\\xea\\xb0\\x80\\xec\\xbb\\xa4\\xed\\x94\\xbc<\\\\/b>, \\xec\\xb4\\x88\\xea\\xb8\\xb0\\xec\\x97\\x90\\xeb\\x8a\\x94 \\xec\\xb4\\x88\\xeb\\xb3\\xb4\\xec\\x82\\xac\\xec\\x9e\\xa5\\xeb\\x8b\\x98\\xeb\\x93\\xa4\\xec\\x9d\\xb4... \",\\n\\t\\t\\t\"bloggername\":\"\\xe1\\xb4\\xb9\\xe1\\xb4\\xbc\\xe1\\xb4\\xbf\\xe1\\xb4\\xb1 \\xe1\\xb4\\xb5\\xcb\\xa2 \\xe1\\xb4\\xb9\\xe1\\xb4\\xbc\\xe1\\xb4\\xbf\\xe1\\xb4\\xb1\",\\n\\t\\t\\t\"bloggerlink\":\"blog.naver.com\\\\/iameunhee3\",\\n\\t\\t\\t\"postdate\":\"20240924\"\\n\\t\\t},\\n\\t\\t{\\n\\t\\t\\t\"title\":\"<b>\\xeb\\xa9\\x94\\xea\\xb0\\x80\\xec\\xbb\\xa4\\xed\\x94\\xbc<\\\\/b> \\xeb\\xa9\\x94\\xeb\\x89\\xb4 \\xec\\xb6\\x94\\xec\\xb2\\x9c \\xea\\xb0\\x80\\xec\\x9d\\x84\\xec\\x97\\x90 \\xec\\x96\\xb4\\xec\\x9a\\xb8\\xeb\\xa6\\xac\\xeb\\x8a\\x94 \\xeb\\xb0\\xa4\\xeb\\xb0\\xa4 \\xec\\xb0\\xb0\\xeb\\x96\\xa1 \\xed\\x94\\x84\\xeb\\x9d\\xbc\\xed\\x8e\\x98\",\\n\\t\\t\\t\"link\":\"https:\\\\/\\\\/blog.naver.com\\\\/darkyoon85\\\\/223578269584\",\\n\\t\\t\\t\"description\":\"\\xed\\x95\\xa0\\xeb\\xa9\\x94\\xea\\xb0\\x80\\xeb\\xaf\\xb8\\xec\\x88\\xab\\xec\\xbb\\xa4\\xed\\x94\\xbc\\xea\\xb9\\x8c\\xec\\xa7\\x80! \\xec\\x97\\xac\\xea\\xb8\\xb0\\xec\\x97\\x90 \\xed\\x95\\xab \\xeb\\xb6\\x88\\xea\\xb3\\xa0\\xea\\xb8\\xb0 &amp; \\xeb\\xb0\\x94\\xeb\\xb2\\xa0\\xed\\x81\\x90 \\xeb\\xb0\\x98\\xeb\\xb0\\x98 \\xeb\\xb8\\x8c\\xeb\\xa6\\xac\\xeb\\x98\\x90\\xec\\x99\\x80 \\xeb\\xb8\\x8c\\xeb\\x9d\\xbc\\xec\\x9a\\xb0\\xeb\\x8b\\x88 \\xec\\xbf\\xa0\\xed\\x82\\xa4 \\xeb\\xa8\\xb8\\xed\\x95\\x80\\xea\\xb9\\x8c\\xec\\xa7\\x80 2\\xec\\xa2\\x85\\xec\\x9d\\x98 \\xeb\\x94\\x94\\xec\\xa0\\x80\\xed\\x8a\\xb8\\xeb\\x8f\\x84 \\xed\\x95\\xa8\\xea\\xbb\\x98 \\xec\\xb6\\x9c\\xec\\x8b\\x9c\\xed\\x96\\x88\\xeb\\x8b\\xb5\\xeb\\x8b\\x88\\xeb\\x8b\\xa4. \\xea\\xb7\\xb8\\xeb\\x9f\\xbc \\xec\\x9d\\xb4\\xec\\x96\\xb4\\xec\\x84\\x9c <b>\\xeb\\xa9\\x94\\xea\\xb0\\x80\\xec\\xbb\\xa4\\xed\\x94\\xbc<\\\\/b> \\xeb\\xa9\\x94\\xeb\\x89\\xb4\\xeb\\x8f\\x84 \\xed\\x95\\xa8\\xea\\xbb\\x98 \\xec\\x86\\x8c\\xea\\xb0\\x9c\\xed\\x95\\xb4 \\xeb\\x93\\x9c\\xeb\\xa6\\xb4\\xea\\xb2\\x8c\\xec\\x9a\\x94. \\xec\\x95\\x84\\xeb\\xa9\\x94\\xeb\\xa6\\xac\\xec\\xb9\\xb4\\xeb\\x85\\xb8 1,500\\xec\\x9b\\x90, 32\\xec\\x98\\xa8\\xec\\xa6\\x88... \",\\n\\t\\t\\t\"bloggername\":\"\\xeb\\x8b\\xa4\\xed\\x81\\xac\\xec\\x9c\\xa4\\xec\\x9d\\x98 \\xeb\\xa7\\x9b\\xec\\xa7\\x91\\xec\\x9d\\xb4\\xec\\x95\\xbc\\xea\\xb8\\xb0\\xe2\\x99\\xa5\",\\n\\t\\t\\t\"bloggerlink\":\"blog.naver.com\\\\/darkyoon85\",\\n\\t\\t\\t\"postdate\":\"20240913\"\\n\\t\\t},\\n\\t\\t{\\n\\t\\t\\t\"title\":\"<b>\\xeb\\xa9\\x94\\xea\\xb0\\x80\\xec\\xbb\\xa4\\xed\\x94\\xbc<\\\\/b> \\xeb\\xa9\\x94\\xeb\\x89\\xb4 \\xec\\x95\\x84\\xeb\\xa9\\x94\\xeb\\xa6\\xac\\xec\\xb9\\xb4\\xeb\\x85\\xb8 \\xec\\x82\\xac\\xeb\\x9e\\x91\\xec\\x9d\\x98 \\xed\\x95\\x98\\xec\\xb8\\x84\\xed\\x95\\x91 \\xed\\x94\\xbc\\xea\\xb7\\x9c\\xec\\x96\\xb4 \\xec\\x8b\\xa4\\xeb\\xac\\xbc \\xed\\x9b\\x84\\xea\\xb8\\xb0\",\\n\\t\\t\\t\"link\":\"https:\\\\/\\\\/blog.naver.com\\\\/kangsy0203\\\\/223578896323\",\\n\\t\\t\\t\"description\":\"\\xeb\\xa9\\x94\\xeb\\x89\\xb4 \\xea\\xb0\\x80\\xea\\xb2\\xa9 <b>\\xeb\\xa9\\x94\\xea\\xb0\\x80\\xec\\xbb\\xa4\\xed\\x94\\xbc<\\\\/b> \\xeb\\xa9\\x94\\xeb\\x89\\xb4 \\xea\\xb0\\x80\\xea\\xb2\\xa9 \\xec\\x95\\x84\\xeb\\xa9\\x94\\xeb\\xa6\\xac\\xec\\xb9\\xb4\\xeb\\x85\\xb8 +15000\\xec\\x9b\\x90 \\\\/ 2000\\xec\\x9b\\x90 \\xed\\x97\\xa4\\xec\\x9d\\xb4\\xec\\xa6\\x90\\xeb\\x84\\x9b, \\xea\\xbf\\x80, \\xeb\\xb0\\x94\\xeb\\x8b\\x90\\xeb\\x9d\\xbc \\xec\\x95\\x84\\xeb\\xa9\\x94\\xeb\\xa6\\xac\\xec\\xb9\\xb4\\xeb\\x85\\xb8 +2700\\xec\\x9b\\x90 \\xeb\\xa9\\x94\\xea\\xb0\\x80\\xeb\\xa6\\xac\\xec\\xb9\\xb4\\xeb\\x85\\xb8 +3000\\xec\\x9b\\x90 \\xeb\\x93\\xb1 \\xec\\xbb\\xa4\\xed\\x94\\xbc \\xeb\\xa9\\x94\\xeb\\x89\\xb4\\xeb\\x8a\\x94 \\xeb\\x8c\\x80\\xeb\\xb6\\x80\\xeb\\xb6\\x84 2-3\\xec\\xb2\\x9c \\xec\\x9b\\x90\\xeb\\x8c\\x80\\xeb\\xa1\\x9c \\xea\\xb0\\x80\\xec\\x84\\xb1\\xeb\\xb9\\x84 \\xec\\xa2\\x8b\\xea\\xb2\\x8c \\xeb\\xa7\\x88\\xec\\x8b\\xa4 \\xec\\x88\\x98 \\xec\\x9e\\x88\\xeb\\x8a\\x94 \\xec\\x9e\\xa5\\xec\\xa0\\x90\\xec\\x9d\\xb4 \\xec\\x9e\\x88\\xec\\x96\\xb4\\xec\\x9a\\x94 \\xed\\x8a\\xb9\\xed\\x9e\\x88, \\xeb\\x8b\\xac\\xeb\\x8b\\xac\\xed\\x95\\x9c... \",\\n\\t\\t\\t\"bloggername\":\"\\xeb\\x96\\xb5\\xec\\x9d\\xb4\\xec\\x9d\\x98 \\xec\\x98\\xa4\\xec\\xa6\\x88\\xeb\\x82\\x98\\xeb\\x9d\\xbc\",\\n\\t\\t\\t\"bloggerlink\":\"blog.naver.com\\\\/kangsy0203\",\\n\\t\\t\\t\"postdate\":\"20240910\"\\n\\t\\t},\\n\\t\\t{\\n\\t\\t\\t\"title\":\"<b>\\xeb\\xa9\\x94\\xea\\xb0\\x80\\xec\\xbb\\xa4\\xed\\x94\\xbc<\\\\/b> \\xeb\\xa9\\x94\\xeb\\x89\\xb4 \\xec\\xb6\\x94\\xec\\xb2\\x9c \\xed\\x95\\xa0\\xeb\\xa9\\x94\\xea\\xb0\\x80\\xeb\\xaf\\xb8\\xec\\x88\\xab\\xec\\xbb\\xa4\\xed\\x94\\xbc \\xec\\xb9\\xbc\\xeb\\xa1\\x9c\\xeb\\xa6\\xac \\xed\\x9b\\x84\\xea\\xb8\\xb0\",\\n\\t\\t\\t\"link\":\"https:\\\\/\\\\/blog.naver.com\\\\/etienne03\\\\/223586677517\",\\n\\t\\t\\t\"description\":\"<b>\\xeb\\xa9\\x94\\xea\\xb0\\x80\\xec\\xbb\\xa4\\xed\\x94\\xbc<\\\\/b> \\xeb\\xa9\\x94\\xeb\\x89\\xb4 \\xec\\xb6\\x94\\xec\\xb2\\x9c \\xed\\x95\\xa0\\xeb\\xa9\\x94\\xea\\xb0\\x80\\xeb\\xaf\\xb8\\xec\\x88\\xab\\xec\\xbb\\xa4\\xed\\x94\\xbc \\xec\\xb9\\xbc\\xeb\\xa1\\x9c\\xeb\\xa6\\xac \\xed\\x9b\\x84\\xea\\xb8\\xb0 \\xec\\x95\\x88\\xeb\\x85\\x95\\xed\\x95\\x98\\xec\\x84\\xb8\\xec\\x9a\\x94 \\xeb\\xb0\\x94\\xeb\\xb9\\x84\\xec\\x97\\x90\\xec\\x9a\\x94. \\xec\\x96\\xb4\\xec\\xa0\\x9c\\xeb\\x8a\\x94 \\xec\\xb9\\x9c\\xea\\xb5\\xac\\xec\\xa7\\x91 \\xea\\xb0\\x94\\xeb\\x8b\\xa4\\xea\\xb0\\x80 \\xea\\xb7\\xbc\\xec\\xb2\\x98 <b>\\xeb\\xa9\\x94\\xea\\xb0\\x80\\xec\\xbb\\xa4\\xed\\x94\\xbc<\\\\/b> \\xeb\\x8b\\xa4\\xeb\\x85\\x80\\xec\\x99\\x94\\xec\\x96\\xb4\\xec\\x9a\\x94. \\xea\\xb0\\x80\\xec\\x9d\\x84\\xec\\x8b\\x9c\\xec\\xa6\\x8c \\xec\\x8b\\xa0\\xeb\\xa9\\x94\\xeb\\x89\\xb4\\xea\\xb0\\x80 \\xec\\x97\\xac\\xeb\\x9f\\xac \\xea\\xb0\\x80\\xec\\xa7\\x80 \\xeb\\x82\\x98\\xec\\x99\\x80\\xec\\x84\\x9c \\xec\\x9a\\xb0\\xec\\x84\\xa0 \\xed\\x95\\x98\\xeb\\x82\\x98\\xec\\x94\\xa9 \\xeb\\xa7\\x9b\\xeb\\xb3\\xb4\\xea\\xb3\\xa0 \\xec\\x8b\\xb6\\xec\\x96\\xb4\\xec\\x84\\x9c \\xec\\xb0\\xbe\\xec\\x95\\x84\\xea\\xb0\\x94\\xeb\\x8a\\x94\\xeb\\x8d\\xb0\\xec\\x9a\\x94. \\xea\\xb7\\xb8\\xec\\xa4\\x91... \",\\n\\t\\t\\t\"bloggername\":\"Barbie\\'s place\",\\n\\t\\t\\t\"bloggerlink\":\"blog.naver.com\\\\/etienne03\",\\n\\t\\t\\t\"postdate\":\"20240917\"\\n\\t\\t},\\n\\t\\t{\\n\\t\\t\\t\"title\":\"<b>\\xeb\\xa9\\x94\\xea\\xb0\\x80\\xec\\xbb\\xa4\\xed\\x94\\xbc<\\\\/b> \\xec\\xb0\\xbd\\xec\\x97\\x85\\xeb\\xb9\\x84\\xec\\x9a\\xa9 \\xea\\xb3\\xa0\\xeb\\xa7\\xa4\\xec\\xb6\\x9c \\xec\\x96\\x91\\xeb\\x8f\\x84\\xec\\x96\\x91\\xec\\x88\\x98 \\xec\\xb6\\x94\\xec\\xb2\\x9c\",\\n\\t\\t\\t\"link\":\"https:\\\\/\\\\/blog.naver.com\\\\/jknew1\\\\/223557264553\",\\n\\t\\t\\t\"description\":\"<b>\\xeb\\xa9\\x94\\xea\\xb0\\x80\\xec\\xbb\\xa4\\xed\\x94\\xbc<\\\\/b> \\xec\\xb0\\xbd\\xec\\x97\\x85\\xeb\\xb9\\x84\\xec\\x9a\\xa9 \\xea\\xb3\\xa0\\xeb\\xa7\\xa4\\xec\\xb6\\x9c \\xec\\x96\\x91\\xeb\\x8f\\x84\\xec\\x96\\x91\\xec\\x88\\x98 \\xec\\xb6\\x94\\xec\\xb2\\x9c \\xed\\x98\\x84\\xec\\x9e\\xac \\xea\\xb5\\xad\\xeb\\x82\\xb4 \\xec\\xb0\\xbd\\xec\\x97\\x85\\xec\\x8b\\x9c\\xec\\x9e\\xa5\\xec\\x97\\x90 \\xec\\x88\\x98\\xeb\\xa7\\x8e\\xec\\x9d\\x80 \\xec\\xa0\\x80\\xea\\xb0\\x80\\xec\\xbb\\xa4\\xed\\x94\\xbc \\xed\\x94\\x84\\xeb\\x9e\\x9c\\xec\\xb0\\xa8\\xec\\x9d\\xb4\\xec\\xa6\\x88\\xea\\xb0\\x80 \\xec\\xa1\\xb4\\xec\\x9e\\xac\\xed\\x95\\x98\\xec\\xa7\\x80\\xeb\\xa7\\x8c, \\xec\\x98\\x88\\xeb\\xb9\\x84\\xec\\x9e\\x90\\xec\\x98\\x81\\xec\\x97\\x85\\xec\\x9e\\x90\\xeb\\xb6\\x84\\xeb\\x93\\xa4\\xec\\x9d\\xb4 \\xec\\x9a\\xb0\\xec\\x84\\xa0 \\xec\\x84\\xa0\\xed\\x83\\x9d\\xec\\xa7\\x80\\xeb\\xa1\\x9c \\xea\\xb3\\xa0\\xeb\\xa0\\xa4\\xed\\x95\\x98\\xeb\\x8a\\x94 \\xeb\\xb8\\x8c\\xeb\\x9e\\x9c\\xeb\\x93\\x9c\\xeb\\x8a\\x94 \\xeb\\x8b\\xa8\\xec\\x97\\xb0 <b>\\xeb\\xa9\\x94\\xea\\xb0\\x80\\xec\\xbb\\xa4\\xed\\x94\\xbc<\\\\/b>\\xea\\xb0\\x80 \\xec\\x95\\x84\\xeb\\x8b\\x90\\xea\\xb9\\x8c \\xec\\x83\\x9d\\xea\\xb0\\x81\\xeb\\x90\\x98\\xeb\\x8a\\x94\\xeb\\x8d\\xb0\\xec\\x9a\\x94.... \",\\n\\t\\t\\t\"bloggername\":\"\\xec\\x84\\xb8\\xec\\x83\\x81\\xec\\x82\\xac\\xeb\\x8a\\x94 \\xec\\x9d\\xb4\\xec\\x95\\xbc\\xea\\xb8\\xb0\",\\n\\t\\t\\t\"bloggerlink\":\"blog.naver.com\\\\/jknew1\",\\n\\t\\t\\t\"postdate\":\"20240822\"\\n\\t\\t},\\n\\t\\t{\\n\\t\\t\\t\"title\":\"<b>\\xeb\\xa9\\x94\\xea\\xb0\\x80\\xec\\xbb\\xa4\\xed\\x94\\xbc<\\\\/b> \\xec\\xa7\\x80\\xea\\xb5\\xac\\xeb\\xa9\\x9c\\xeb\\xa1\\xa0 \\xec\\x8a\\xa4\\xeb\\xac\\xb4\\xeb\\x94\\x94+ \\xec\\xa7\\x80\\xea\\xb5\\xac\\xeb\\xb3\\x84 \\xec\\xb4\\x88\\xec\\xbd\\x94 \\xed\\x81\\xac\\xeb\\xa0\\x88\\xed\\x8e\\x98 \\xec\\x8b\\xa0\\xeb\\xa9\\x94\\xeb\\x89\\xb4 \\xeb\\xa7\\x9b\\xeb\\xb3\\xb4\\xea\\xb8\\xb0\",\\n\\t\\t\\t\"link\":\"https:\\\\/\\\\/blog.naver.com\\\\/hansaramu\\\\/223513093577\",\\n\\t\\t\\t\"description\":\"<b>\\xeb\\xa9\\x94\\xea\\xb0\\x80\\xec\\xbb\\xa4\\xed\\x94\\xbc<\\\\/b> \\xec\\xa7\\x80\\xea\\xb5\\xac\\xeb\\xa9\\x9c\\xeb\\xa1\\xa0 \\xec\\x8a\\xa4\\xeb\\xac\\xb4\\xeb\\x94\\x94+ \\xec\\xa7\\x80\\xea\\xb5\\xac\\xeb\\xb3\\x84 \\xec\\xb4\\x88\\xec\\xbd\\x94 \\xed\\x81\\xac\\xeb\\xa0\\x88\\xed\\x8e\\x98 \\xec\\x8b\\xa0\\xeb\\xa9\\x94\\xeb\\x89\\xb4 \\xeb\\xa7\\x9b\\xeb\\xb3\\xb4\\xea\\xb8\\xb0 \\xec\\x95\\xa0\\xec\\xa0\\x95\\xed\\x95\\x98\\xeb\\x8a\\x94 \\xeb\\xb8\\x94\\xec\\xb9\\x9c \\xea\\xb7\\xb8\\xeb\\xa6\\xbc\\xec\\x9d\\xb4\\xeb\\x8b\\x98\\xec\\x9d\\x98 \\xed\\x8f\\xbf\\xed\\x8c\\x85\\xec\\x9d\\x84 \\xeb\\xb3\\xb4\\xea\\xb3\\xa0 \\xec\\x9d\\xbc\\xec\\xb0\\x8d\\xeb\\xb6\\x80\\xed\\x84\\xb0 \\xec\\xa0\\x90\\xec\\xb0\\x8d\\xec\\x96\\xb4\\xeb\\x91\\x94 \\xea\\xb3\\xb3, \\xed\\x8f\\x89\\xec\\x86\\x8c \\xec\\x95\\xa0\\xec\\xa0\\x95\\xed\\x95\\x98\\xeb\\x8a\\x94 \\xea\\xb0\\x80\\xec\\x84\\xb1\\xeb\\xb9\\x84 \\xec\\xa2\\x8b\\xec\\x9d\\x80 \\xec\\xb9\\xb4\\xed\\x8e\\x98 <b>\\xeb\\xa9\\x94\\xea\\xb0\\x80\\xec\\xbb\\xa4\\xed\\x94\\xbc<\\\\/b>\\xec\\x9d\\x98 \\xec\\x97\\xac\\xeb\\xa6\\x84 \\xec\\x8b\\x9c\\xec\\xa6\\x8c \\xec\\x8b\\xa0\\xeb\\xa9\\x94\\xeb\\x89\\xb4\\xeb\\xa5\\xbc \\xeb\\x93\\x9c\\xeb\\x94\\x94\\xec\\x96\\xb4 \\xeb\\xa7\\x9b\\xeb\\xb3\\xb4\\xea\\xb3\\xa0... \",\\n\\t\\t\\t\"bloggername\":\"\\xec\\x84\\x9c\\xec\\x9c\\xa0\\xeb\\x8b\\xb9 \\xeb\\x9d\\xbc\\xec\\x9d\\xb4\\xed\\x94\\x84\",\\n\\t\\t\\t\"bloggerlink\":\"blog.naver.com\\\\/hansaramu\",\\n\\t\\t\\t\"postdate\":\"20240715\"\\n\\t\\t},\\n\\t\\t{\\n\\t\\t\\t\"title\":\"<b>\\xeb\\xa9\\x94\\xea\\xb0\\x80\\xec\\xbb\\xa4\\xed\\x94\\xbc<\\\\/b>\\xed\\x95\\xa0\\xec\\x9d\\xb8\\xeb\\xb0\\x9b\\xea\\xb8\\xb0\\\\/SK\\xeb\\xa9\\xa4\\xeb\\xb2\\x84\\xec\\x89\\xbd\\\\/\\xec\\x9a\\xb0\\xec\\xa3\\xbc\\xed\\x8c\\xa8\\xec\\x8a\\xa4\\xed\\x98\\x9c\\xed\\x83\\x9d\",\\n\\t\\t\\t\"link\":\"https:\\\\/\\\\/blog.naver.com\\\\/nice_guja\\\\/223563428953\",\\n\\t\\t\\t\"description\":\"\\xec\\x9a\\x94\\xec\\xa6\\x98 <b>\\xeb\\xa9\\x94\\xea\\xb0\\x80\\xec\\xbb\\xa4\\xed\\x94\\xbc<\\\\/b>\\xeb\\xa5\\xbc \\xec\\x9e\\x90\\xec\\xa3\\xbc \\xea\\xb0\\x80\\xeb\\x8a\\x94 \\xec\\x9d\\xb4\\xec\\x9c\\xa0 \\xea\\xb7\\xb8 \\xec\\x9d\\xb4\\xec\\x9c\\xa0\\xeb\\x8a\\x94 \\xeb\\xb0\\x94\\xeb\\xa1\\x9c\\xeb\\xb0\\x94\\xeb\\xa1\\x9c SKT\\xec\\x9a\\xb0\\xec\\xa3\\xbc\\xed\\x8c\\xa8\\xec\\x8a\\xa4 \\xed\\x98\\x9c\\xed\\x83\\x9d \\xeb\\xb0\\x9b\\xec\\x9d\\x80 \\xec\\x98\\x81\\xec\\x88\\x98\\xec\\xa6\\x9d! (\\xeb\\x8b\\xa8, \\xed\\x95\\x98\\xeb\\xa3\\xa8\\xec\\x97\\x90 \\xed\\x95\\x9c\\xeb\\xb2\\x88\\xeb\\xa7\\x8c \\xec\\x82\\xac\\xec\\x9a\\xa9\\xea\\xb0\\x80\\xeb\\x8a\\xa5) SK\\xeb\\xa9\\xa4\\xeb\\xb2\\x84\\xec\\x89\\xbd \\xec\\x9a\\xb0\\xec\\xa3\\xbc\\xed\\x8c\\xa8\\xec\\x8a\\xa4 \\xed\\x98\\x9c\\xed\\x83\\x9d\\xec\\x9c\\xbc\\xeb\\xa1\\x9c <b>\\xeb\\xa9\\x94\\xea\\xb0\\x80\\xec\\xbb\\xa4\\xed\\x94\\xbc<\\\\/b> 30% \\xed\\x95\\xa0\\xec\\x9d\\xb8 \\xec\\xa0\\x81\\xec\\x9a\\xa9\\xeb\\xb0\\x9b\\xea\\xb8\\xb0!! \\xec\\x9c\\xa0\\xeb\\x8f\\x85 \\xeb\\x8d\\x94\\xec\\x9b\\xa0\\xeb\\x8d\\x98 \\xec\\x98\\xac\\xec\\x97\\xac\\xeb\\xa6\\x84 \\xec\\x96\\xb4\\xec\\xa9\\x94 \\xec\\x88\\x98... \",\\n\\t\\t\\t\"bloggername\":\"\\xec\\x8b\\x9c\\xec\\x8b\\x9c\\xec\\xbd\\x9c\\xec\\xbd\\x9c\",\\n\\t\\t\\t\"bloggerlink\":\"blog.naver.com\\\\/nice_guja\",\\n\\t\\t\\t\"postdate\":\"20240828\"\\n\\t\\t}\\n\\t]\\n}'"
      ]
     },
     "execution_count": 4,
     "metadata": {},
     "output_type": "execute_result"
    }
   ],
   "source": [
    "response_body"
   ]
  },
  {
   "cell_type": "code",
   "execution_count": 10,
   "id": "5455b5ac-7035-4e0c-8254-0727bffe2353",
   "metadata": {},
   "outputs": [
    {
     "data": {
      "text/plain": [
       "str"
      ]
     },
     "execution_count": 10,
     "metadata": {},
     "output_type": "execute_result"
    }
   ],
   "source": [
    "type(response_body.decode('utf-8'))"
   ]
  },
  {
   "cell_type": "code",
   "execution_count": 17,
   "id": "17949146-4dfc-45ee-9f4e-c735896199bb",
   "metadata": {},
   "outputs": [],
   "source": [
    "# json형태의 str -> dict로 변경(json)\n",
    "import json\n",
    "import pandas as pd\n",
    "data_dt=json.loads(response_body)"
   ]
  },
  {
   "cell_type": "code",
   "execution_count": 20,
   "id": "13020bbc-267d-4ef5-9918-b0a29490846e",
   "metadata": {},
   "outputs": [
    {
     "data": {
      "text/html": [
       "<div>\n",
       "<style scoped>\n",
       "    .dataframe tbody tr th:only-of-type {\n",
       "        vertical-align: middle;\n",
       "    }\n",
       "\n",
       "    .dataframe tbody tr th {\n",
       "        vertical-align: top;\n",
       "    }\n",
       "\n",
       "    .dataframe thead th {\n",
       "        text-align: right;\n",
       "    }\n",
       "</style>\n",
       "<table border=\"1\" class=\"dataframe\">\n",
       "  <thead>\n",
       "    <tr style=\"text-align: right;\">\n",
       "      <th></th>\n",
       "      <th>title</th>\n",
       "      <th>link</th>\n",
       "      <th>description</th>\n",
       "      <th>bloggername</th>\n",
       "      <th>bloggerlink</th>\n",
       "      <th>postdate</th>\n",
       "    </tr>\n",
       "  </thead>\n",
       "  <tbody>\n",
       "    <tr>\n",
       "      <th>0</th>\n",
       "      <td>&lt;b&gt;메가커피&lt;/b&gt; 제로 아이스티 복숭아 샷추가 (아샷추) 변비에...</td>\n",
       "      <td>https://blog.naver.com/nddoo_/223599827308</td>\n",
       "      <td>500원인디 &lt;b&gt;메가커피&lt;/b&gt;답게 크기가 메가메가혀서 샷추가 한 번으론 효과가 ...</td>\n",
       "      <td>뚜뚜뚜루뚜뚜뚜뚜</td>\n",
       "      <td>blog.naver.com/nddoo_</td>\n",
       "      <td>20240928</td>\n",
       "    </tr>\n",
       "    <tr>\n",
       "      <th>1</th>\n",
       "      <td>&lt;b&gt;메가커피&lt;/b&gt; 9월 신메뉴 귤톡톡 &amp;amp; 밤밤 크리미 가을 추천 음료</td>\n",
       "      <td>https://blog.naver.com/yuna_1024/223577650649</td>\n",
       "      <td>&lt;b&gt;메가커피&lt;/b&gt; 가을 신메뉴 종류 #&lt;b&gt;메가커피&lt;/b&gt;9월신메뉴 ! 가을이 ...</td>\n",
       "      <td>날마다 좋은 날 ♥</td>\n",
       "      <td>blog.naver.com/yuna_1024</td>\n",
       "      <td>20240909</td>\n",
       "    </tr>\n",
       "    <tr>\n",
       "      <th>2</th>\n",
       "      <td>보기 드문 매출을 유지하는 대구 &lt;b&gt;메가커피&lt;/b&gt; 창업 (양도양수)</td>\n",
       "      <td>https://blog.naver.com/sunghyun3152/223597199896</td>\n",
       "      <td>오늘 소개 드릴 대구 &lt;b&gt;메가커피&lt;/b&gt; 양도양수 창업 매장은 평균 이상의 매출을...</td>\n",
       "      <td>창업을시작할때</td>\n",
       "      <td>blog.naver.com/sunghyun3152</td>\n",
       "      <td>20240926</td>\n",
       "    </tr>\n",
       "    <tr>\n",
       "      <th>3</th>\n",
       "      <td>&lt;b&gt;메가커피&lt;/b&gt; 창업비용 저렴하게? 현실을 알려드립니다</td>\n",
       "      <td>https://blog.naver.com/iameunhee3/223594933691</td>\n",
       "      <td>오늘은 &lt;b&gt;메가커피&lt;/b&gt; 창업비용, 많은 분들이 관심을 갖는 주제인 만큼 정확한...</td>\n",
       "      <td>ᴹᴼᴿᴱ ᴵˢ ᴹᴼᴿᴱ</td>\n",
       "      <td>blog.naver.com/iameunhee3</td>\n",
       "      <td>20240924</td>\n",
       "    </tr>\n",
       "    <tr>\n",
       "      <th>4</th>\n",
       "      <td>&lt;b&gt;메가커피&lt;/b&gt; 메뉴 추천 가을에 어울리는 밤밤 찰떡 프라페</td>\n",
       "      <td>https://blog.naver.com/darkyoon85/223578269584</td>\n",
       "      <td>할메가미숫커피까지! 여기에 핫 불고기 &amp;amp; 바베큐 반반 브리또와 브라우니 쿠키...</td>\n",
       "      <td>다크윤의 맛집이야기♥</td>\n",
       "      <td>blog.naver.com/darkyoon85</td>\n",
       "      <td>20240913</td>\n",
       "    </tr>\n",
       "    <tr>\n",
       "      <th>5</th>\n",
       "      <td>&lt;b&gt;메가커피&lt;/b&gt; 메뉴 아메리카노 사랑의 하츄핑 피규어 실물 후기</td>\n",
       "      <td>https://blog.naver.com/kangsy0203/223578896323</td>\n",
       "      <td>메뉴 가격 &lt;b&gt;메가커피&lt;/b&gt; 메뉴 가격 아메리카노 +15000원 / 2000원 ...</td>\n",
       "      <td>떵이의 오즈나라</td>\n",
       "      <td>blog.naver.com/kangsy0203</td>\n",
       "      <td>20240910</td>\n",
       "    </tr>\n",
       "    <tr>\n",
       "      <th>6</th>\n",
       "      <td>&lt;b&gt;메가커피&lt;/b&gt; 메뉴 추천 할메가미숫커피 칼로리 후기</td>\n",
       "      <td>https://blog.naver.com/etienne03/223586677517</td>\n",
       "      <td>&lt;b&gt;메가커피&lt;/b&gt; 메뉴 추천 할메가미숫커피 칼로리 후기 안녕하세요 바비에요. 어...</td>\n",
       "      <td>Barbie's place</td>\n",
       "      <td>blog.naver.com/etienne03</td>\n",
       "      <td>20240917</td>\n",
       "    </tr>\n",
       "    <tr>\n",
       "      <th>7</th>\n",
       "      <td>&lt;b&gt;메가커피&lt;/b&gt; 창업비용 고매출 양도양수 추천</td>\n",
       "      <td>https://blog.naver.com/jknew1/223557264553</td>\n",
       "      <td>&lt;b&gt;메가커피&lt;/b&gt; 창업비용 고매출 양도양수 추천 현재 국내 창업시장에 수많은 저...</td>\n",
       "      <td>세상사는 이야기</td>\n",
       "      <td>blog.naver.com/jknew1</td>\n",
       "      <td>20240822</td>\n",
       "    </tr>\n",
       "    <tr>\n",
       "      <th>8</th>\n",
       "      <td>&lt;b&gt;메가커피&lt;/b&gt; 지구멜론 스무디+ 지구별 초코 크레페 신메뉴 맛보기</td>\n",
       "      <td>https://blog.naver.com/hansaramu/223513093577</td>\n",
       "      <td>&lt;b&gt;메가커피&lt;/b&gt; 지구멜론 스무디+ 지구별 초코 크레페 신메뉴 맛보기 애정하는 ...</td>\n",
       "      <td>서유당 라이프</td>\n",
       "      <td>blog.naver.com/hansaramu</td>\n",
       "      <td>20240715</td>\n",
       "    </tr>\n",
       "    <tr>\n",
       "      <th>9</th>\n",
       "      <td>&lt;b&gt;메가커피&lt;/b&gt;할인받기/SK멤버쉽/우주패스혜택</td>\n",
       "      <td>https://blog.naver.com/nice_guja/223563428953</td>\n",
       "      <td>요즘 &lt;b&gt;메가커피&lt;/b&gt;를 자주 가는 이유 그 이유는 바로바로 SKT우주패스 혜택...</td>\n",
       "      <td>시시콜콜</td>\n",
       "      <td>blog.naver.com/nice_guja</td>\n",
       "      <td>20240828</td>\n",
       "    </tr>\n",
       "  </tbody>\n",
       "</table>\n",
       "</div>"
      ],
      "text/plain": [
       "                                          title  \\\n",
       "0     <b>메가커피</b> 제로 아이스티 복숭아 샷추가 (아샷추) 변비에...    \n",
       "1  <b>메가커피</b> 9월 신메뉴 귤톡톡 &amp; 밤밤 크리미 가을 추천 음료   \n",
       "2       보기 드문 매출을 유지하는 대구 <b>메가커피</b> 창업 (양도양수)   \n",
       "3             <b>메가커피</b> 창업비용 저렴하게? 현실을 알려드립니다   \n",
       "4          <b>메가커피</b> 메뉴 추천 가을에 어울리는 밤밤 찰떡 프라페   \n",
       "5        <b>메가커피</b> 메뉴 아메리카노 사랑의 하츄핑 피규어 실물 후기   \n",
       "6              <b>메가커피</b> 메뉴 추천 할메가미숫커피 칼로리 후기   \n",
       "7                  <b>메가커피</b> 창업비용 고매출 양도양수 추천   \n",
       "8      <b>메가커피</b> 지구멜론 스무디+ 지구별 초코 크레페 신메뉴 맛보기   \n",
       "9                  <b>메가커피</b>할인받기/SK멤버쉽/우주패스혜택   \n",
       "\n",
       "                                               link  \\\n",
       "0        https://blog.naver.com/nddoo_/223599827308   \n",
       "1     https://blog.naver.com/yuna_1024/223577650649   \n",
       "2  https://blog.naver.com/sunghyun3152/223597199896   \n",
       "3    https://blog.naver.com/iameunhee3/223594933691   \n",
       "4    https://blog.naver.com/darkyoon85/223578269584   \n",
       "5    https://blog.naver.com/kangsy0203/223578896323   \n",
       "6     https://blog.naver.com/etienne03/223586677517   \n",
       "7        https://blog.naver.com/jknew1/223557264553   \n",
       "8     https://blog.naver.com/hansaramu/223513093577   \n",
       "9     https://blog.naver.com/nice_guja/223563428953   \n",
       "\n",
       "                                         description     bloggername  \\\n",
       "0  500원인디 <b>메가커피</b>답게 크기가 메가메가혀서 샷추가 한 번으론 효과가 ...        뚜뚜뚜루뚜뚜뚜뚜   \n",
       "1  <b>메가커피</b> 가을 신메뉴 종류 #<b>메가커피</b>9월신메뉴 ! 가을이 ...      날마다 좋은 날 ♥   \n",
       "2  오늘 소개 드릴 대구 <b>메가커피</b> 양도양수 창업 매장은 평균 이상의 매출을...         창업을시작할때   \n",
       "3  오늘은 <b>메가커피</b> 창업비용, 많은 분들이 관심을 갖는 주제인 만큼 정확한...    ᴹᴼᴿᴱ ᴵˢ ᴹᴼᴿᴱ   \n",
       "4  할메가미숫커피까지! 여기에 핫 불고기 &amp; 바베큐 반반 브리또와 브라우니 쿠키...     다크윤의 맛집이야기♥   \n",
       "5  메뉴 가격 <b>메가커피</b> 메뉴 가격 아메리카노 +15000원 / 2000원 ...        떵이의 오즈나라   \n",
       "6  <b>메가커피</b> 메뉴 추천 할메가미숫커피 칼로리 후기 안녕하세요 바비에요. 어...  Barbie's place   \n",
       "7  <b>메가커피</b> 창업비용 고매출 양도양수 추천 현재 국내 창업시장에 수많은 저...        세상사는 이야기   \n",
       "8  <b>메가커피</b> 지구멜론 스무디+ 지구별 초코 크레페 신메뉴 맛보기 애정하는 ...         서유당 라이프   \n",
       "9  요즘 <b>메가커피</b>를 자주 가는 이유 그 이유는 바로바로 SKT우주패스 혜택...            시시콜콜   \n",
       "\n",
       "                   bloggerlink  postdate  \n",
       "0        blog.naver.com/nddoo_  20240928  \n",
       "1     blog.naver.com/yuna_1024  20240909  \n",
       "2  blog.naver.com/sunghyun3152  20240926  \n",
       "3    blog.naver.com/iameunhee3  20240924  \n",
       "4    blog.naver.com/darkyoon85  20240913  \n",
       "5    blog.naver.com/kangsy0203  20240910  \n",
       "6     blog.naver.com/etienne03  20240917  \n",
       "7        blog.naver.com/jknew1  20240822  \n",
       "8     blog.naver.com/hansaramu  20240715  \n",
       "9     blog.naver.com/nice_guja  20240828  "
      ]
     },
     "execution_count": 20,
     "metadata": {},
     "output_type": "execute_result"
    }
   ],
   "source": [
    "df=pd.DataFrame(data_dt['items'])\n",
    "df"
   ]
  },
  {
   "cell_type": "code",
   "execution_count": 22,
   "id": "ec7dadf0-8c89-4a6f-924b-16fb12545c47",
   "metadata": {},
   "outputs": [
    {
     "data": {
      "text/plain": [
       "'500원인디 <b>메가커피</b>답게 크기가 메가메가혀서 샷추가 한 번으론 효과가 없어요,,, 두 번은 하셔야... 아이스티의 달달한 맛, 커피의 쌉쓰름함이 섞여서 단맛이 중화되어유. 요즘 아샷추가 꽤 알려졌다곤 하지만... '"
      ]
     },
     "execution_count": 22,
     "metadata": {},
     "output_type": "execute_result"
    }
   ],
   "source": [
    "df['description'][0]"
   ]
  }
 ],
 "metadata": {
  "kernelspec": {
   "display_name": "Python 3 (ipykernel)",
   "language": "python",
   "name": "python3"
  },
  "language_info": {
   "codemirror_mode": {
    "name": "ipython",
    "version": 3
   },
   "file_extension": ".py",
   "mimetype": "text/x-python",
   "name": "python",
   "nbconvert_exporter": "python",
   "pygments_lexer": "ipython3",
   "version": "3.12.5"
  }
 },
 "nbformat": 4,
 "nbformat_minor": 5
}
