{
 "cells": [
  {
   "cell_type": "code",
   "execution_count": 1,
   "id": "c74f721a-fc66-4399-9975-78f0276e47bb",
   "metadata": {},
   "outputs": [
    {
     "name": "stdout",
     "output_type": "stream",
     "text": [
      "0 100\n",
      "------------\n",
      "1 200\n",
      "------------\n",
      "2 300\n",
      "------------\n"
     ]
    }
   ],
   "source": [
    "a=[100,200,300]\n",
    "for i in range(len(a)):\n",
    "    print(i,a[i])\n",
    "    print('------------')"
   ]
  },
  {
   "cell_type": "code",
   "execution_count": 2,
   "id": "85fad317-5c7f-4f2a-9898-f8465b7eae1a",
   "metadata": {},
   "outputs": [
    {
     "name": "stdout",
     "output_type": "stream",
     "text": [
      "100\n",
      "200\n",
      "300\n"
     ]
    }
   ],
   "source": [
    "a=[100,200,300]\n",
    "for i in a:\n",
    "    print(i)"
   ]
  },
  {
   "cell_type": "code",
   "execution_count": 3,
   "id": "2f540981-2bc4-4750-962b-c898f76e5ab0",
   "metadata": {},
   "outputs": [
    {
     "data": {
      "text/plain": [
       "[(0, 100), (1, 200), (2, 300)]"
      ]
     },
     "execution_count": 3,
     "metadata": {},
     "output_type": "execute_result"
    }
   ],
   "source": [
    "a=[100,200,300]\n",
    "list(enumerate(a))"
   ]
  },
  {
   "cell_type": "code",
   "execution_count": 4,
   "id": "90494b72-5319-434f-b345-2312648d8c58",
   "metadata": {},
   "outputs": [
    {
     "name": "stdout",
     "output_type": "stream",
     "text": [
      "0 100\n",
      "----------------\n",
      "1 200\n",
      "----------------\n",
      "2 300\n",
      "----------------\n"
     ]
    }
   ],
   "source": [
    "a=[100,200,300]\n",
    "for idx,i in enumerate(a):\n",
    "    print(idx,i)\n",
    "    print('----------------')"
   ]
  },
  {
   "cell_type": "code",
   "execution_count": 26,
   "id": "ff35aa15-462a-4827-8b46-a164e2b2bc0f",
   "metadata": {},
   "outputs": [
    {
     "name": "stdout",
     "output_type": "stream",
     "text": [
      "['서울', '서울', '부산', '부산', '서울', '부산']\n"
     ]
    }
   ],
   "source": [
    "'''\n",
    "data[0]='서울'\n",
    "data[1]='서울'\n",
    "'''\n",
    "data=['서울','서울시','부산광역시','부산직할시','서울광역시','부산특별시'] #data={'서울','서울','부산','부산'}\n",
    "dt={\n",
    "    '서울':['서울','서울시','서울특별시','서울광역시'],\n",
    "    '부산':['부산','부산시','부산광역시','부산직할시','부산특별시']\n",
    "}\n",
    "\n",
    "for idx,i in enumerate(data):\n",
    "    # print(idx,i)\n",
    "    for k,v in dt.items():\n",
    "        if i in v:\n",
    "            data[idx]=k\n",
    "            break\n",
    "print(data)\n",
    "            "
   ]
  },
  {
   "cell_type": "code",
   "execution_count": 28,
   "id": "7c9e2bee-66dc-4c92-9143-955d063012d4",
   "metadata": {},
   "outputs": [
    {
     "name": "stdout",
     "output_type": "stream",
     "text": [
      "0\n",
      "2\n",
      "4\n",
      "6\n",
      "8\n"
     ]
    }
   ],
   "source": [
    "for i in range(10):\n",
    "    if i%2!=0:\n",
    "        continue\n",
    "        print('난 홀수')\n",
    "    print(i)"
   ]
  },
  {
   "cell_type": "code",
   "execution_count": 53,
   "id": "2d36a6b3-5b9f-4d3c-92e5-ffe1cfc1e8bc",
   "metadata": {},
   "outputs": [
    {
     "name": "stdout",
     "output_type": "stream",
     "text": [
      "['합격', '불합격', '합격', '불합격']\n"
     ]
    }
   ],
   "source": [
    "# for문과 if문 연습\n",
    "a=[\n",
    "    [80,80,90,100],\n",
    "    [90,100,79,100],\n",
    "    [80,99,100,100],\n",
    "    [80,79,100,100]    \n",
    "]\n",
    "res=[]\n",
    "for i in a:\n",
    "    # print(i)\n",
    "    # print('--------------------')\n",
    "    n=0\n",
    "    for j in i:\n",
    "        if j>=80:\n",
    "            n+=1 \n",
    "    if n==len(i):\n",
    "        res.append('합격')\n",
    "    else:\n",
    "        res.append('불합격')\n",
    "print(res)"
   ]
  },
  {
   "cell_type": "code",
   "execution_count": null,
   "id": "9c36178b-223c-4b67-a170-32f8a09ee71f",
   "metadata": {},
   "outputs": [],
   "source": []
  }
 ],
 "metadata": {
  "kernelspec": {
   "display_name": "Python 3 (ipykernel)",
   "language": "python",
   "name": "python3"
  },
  "language_info": {
   "codemirror_mode": {
    "name": "ipython",
    "version": 3
   },
   "file_extension": ".py",
   "mimetype": "text/x-python",
   "name": "python",
   "nbconvert_exporter": "python",
   "pygments_lexer": "ipython3",
   "version": "3.12.5"
  }
 },
 "nbformat": 4,
 "nbformat_minor": 5
}
