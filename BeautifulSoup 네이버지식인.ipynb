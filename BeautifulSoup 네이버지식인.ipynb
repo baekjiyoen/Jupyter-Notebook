{
 "cells": [
  {
   "cell_type": "code",
   "execution_count": 128,
   "id": "ccca6fbe-f75a-462d-8d92-1cb68d222dd8",
   "metadata": {},
   "outputs": [
    {
     "data": {
      "text/plain": [
       "'C:\\\\Users\\\\human\\\\Desktop\\\\수업자료\\\\데이터분석&시각화\\\\05 크롤링_01'"
      ]
     },
     "execution_count": 128,
     "metadata": {},
     "output_type": "execute_result"
    }
   ],
   "source": [
    "pwd"
   ]
  },
  {
   "cell_type": "code",
   "execution_count": 145,
   "id": "1cfd8069-a3ce-44ef-8536-ca737dba39c3",
   "metadata": {},
   "outputs": [
    {
     "data": {
      "text/plain": [
       "['앤비디아 주가',\n",
       " '앤비디아 주식',\n",
       " '앤비디아 실적발표',\n",
       " '앤비디아 전망',\n",
       " '앤비디아 주가전망',\n",
       " '앤비디아오늘주가',\n",
       " '앤비디아종가',\n",
       " '앤비디아 관련주',\n",
       " '삼성전자 앤비디아',\n",
       " '미국앤비디아',\n",
       " '앤비디아 배당금',\n",
       " '앤비디아 실적',\n",
       " '앤비디아실시간주가',\n",
       " '앤비디아 삼성',\n",
       " '앤비디아 시총',\n",
       " '앤비디아 블랙웰',\n",
       " '삼성 앤비디아 통과',\n",
       " '앤비디아 액면분할']"
      ]
     },
     "execution_count": 145,
     "metadata": {},
     "output_type": "execute_result"
    }
   ],
   "source": [
    "from bs4 import BeautifulSoup as bs\n",
    "import requests\n",
    "import pandas as pd\n",
    "\n",
    "search='앤비디아'\n",
    "url=f'https://kin.naver.com/search/list.naver?query={search}&page=1'\n",
    "html=requests.get(url)\n",
    "html\n",
    "\n",
    "soup=bs(html.text,'html')\n",
    "soup\n",
    "\n",
    "div_tag=soup.find('div','aside_list aside_word')\n",
    "res=[i.text for i in div_tag.find_all('li')]\n",
    "res"
   ]
  },
  {
   "cell_type": "code",
   "execution_count": null,
   "id": "80c8d824-1b90-4490-a491-fcb33fb03268",
   "metadata": {},
   "outputs": [],
   "source": []
  }
 ],
 "metadata": {
  "kernelspec": {
   "display_name": "Python 3 (ipykernel)",
   "language": "python",
   "name": "python3"
  },
  "language_info": {
   "codemirror_mode": {
    "name": "ipython",
    "version": 3
   },
   "file_extension": ".py",
   "mimetype": "text/x-python",
   "name": "python",
   "nbconvert_exporter": "python",
   "pygments_lexer": "ipython3",
   "version": "3.12.5"
  }
 },
 "nbformat": 4,
 "nbformat_minor": 5
}
