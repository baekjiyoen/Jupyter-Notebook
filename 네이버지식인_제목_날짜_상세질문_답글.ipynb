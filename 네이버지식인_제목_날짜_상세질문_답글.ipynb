{
 "cells": [
  {
   "cell_type": "code",
   "execution_count": 75,
   "id": "2495a2c0-b9a8-43bd-9cae-4168046faed8",
   "metadata": {},
   "outputs": [
    {
     "data": {
      "text/plain": [
       "'C:\\\\Users\\\\human\\\\Desktop\\\\수업자료\\\\데이터분석&시각화\\\\05 크롤링_01'"
      ]
     },
     "execution_count": 75,
     "metadata": {},
     "output_type": "execute_result"
    }
   ],
   "source": [
    "pwd"
   ]
  },
  {
   "cell_type": "code",
   "execution_count": 76,
   "id": "064c674a-d48d-4875-aad3-4a345ee0cda7",
   "metadata": {},
   "outputs": [],
   "source": [
    "import requests\n",
    "import pandas as pd\n",
    "from bs4 import BeautifulSoup as bs"
   ]
  },
  {
   "cell_type": "code",
   "execution_count": 77,
   "id": "c81fea60-57d1-44af-9551-9627f55066fa",
   "metadata": {},
   "outputs": [
    {
     "data": {
      "text/html": [
       "<div>\n",
       "<style scoped>\n",
       "    .dataframe tbody tr th:only-of-type {\n",
       "        vertical-align: middle;\n",
       "    }\n",
       "\n",
       "    .dataframe tbody tr th {\n",
       "        vertical-align: top;\n",
       "    }\n",
       "\n",
       "    .dataframe thead th {\n",
       "        text-align: right;\n",
       "    }\n",
       "</style>\n",
       "<table border=\"1\" class=\"dataframe\">\n",
       "  <thead>\n",
       "    <tr style=\"text-align: right;\">\n",
       "      <th></th>\n",
       "      <th>Unnamed: 0</th>\n",
       "      <th>제목</th>\n",
       "      <th>링크</th>\n",
       "    </tr>\n",
       "  </thead>\n",
       "  <tbody>\n",
       "    <tr>\n",
       "      <th>0</th>\n",
       "      <td>0</td>\n",
       "      <td>전세사기 개인회생 신청알아보고 잇어요</td>\n",
       "      <td>https://kin.naver.com/qna/detail.naver?d1id=6&amp;...</td>\n",
       "    </tr>\n",
       "    <tr>\n",
       "      <th>1</th>\n",
       "      <td>1</td>\n",
       "      <td>세종전세사기 피해자인데요ㅠ</td>\n",
       "      <td>https://kin.naver.com/qna/detail.naver?d1id=6&amp;...</td>\n",
       "    </tr>\n",
       "    <tr>\n",
       "      <th>2</th>\n",
       "      <td>2</td>\n",
       "      <td>전세사기 민사소송</td>\n",
       "      <td>https://kin.naver.com/qna/detail.naver?d1id=6&amp;...</td>\n",
       "    </tr>\n",
       "    <tr>\n",
       "      <th>3</th>\n",
       "      <td>3</td>\n",
       "      <td>전세사기 개인회생 대처방안 있을까요</td>\n",
       "      <td>https://kin.naver.com/qna/detail.naver?d1id=6&amp;...</td>\n",
       "    </tr>\n",
       "    <tr>\n",
       "      <th>4</th>\n",
       "      <td>4</td>\n",
       "      <td>수원전세사기변호사 선임 가능할까요</td>\n",
       "      <td>https://kin.naver.com/qna/detail.naver?d1id=6&amp;...</td>\n",
       "    </tr>\n",
       "    <tr>\n",
       "      <th>...</th>\n",
       "      <td>...</td>\n",
       "      <td>...</td>\n",
       "      <td>...</td>\n",
       "    </tr>\n",
       "    <tr>\n",
       "      <th>95</th>\n",
       "      <td>95</td>\n",
       "      <td>전세사기_배상명령 신청서 작성 문의</td>\n",
       "      <td>https://kin.naver.com/qna/detail.naver?d1id=6&amp;...</td>\n",
       "    </tr>\n",
       "    <tr>\n",
       "      <th>96</th>\n",
       "      <td>96</td>\n",
       "      <td>전세반환대출 이거 사기인가요?</td>\n",
       "      <td>https://kin.naver.com/qna/detail.naver?d1id=6&amp;...</td>\n",
       "    </tr>\n",
       "    <tr>\n",
       "      <th>97</th>\n",
       "      <td>97</td>\n",
       "      <td>전세사기피해자결정 후 개인회생</td>\n",
       "      <td>https://kin.naver.com/qna/detail.naver?d1id=6&amp;...</td>\n",
       "    </tr>\n",
       "    <tr>\n",
       "      <th>98</th>\n",
       "      <td>98</td>\n",
       "      <td>전세사기 피해 질문 (전입신고&amp;확정일자X)</td>\n",
       "      <td>https://kin.naver.com/qna/detail.naver?d1id=6&amp;...</td>\n",
       "    </tr>\n",
       "    <tr>\n",
       "      <th>99</th>\n",
       "      <td>99</td>\n",
       "      <td>남양주 전세사기 소송하려면 어디로...</td>\n",
       "      <td>https://kin.naver.com/qna/detail.naver?d1id=6&amp;...</td>\n",
       "    </tr>\n",
       "  </tbody>\n",
       "</table>\n",
       "<p>100 rows × 3 columns</p>\n",
       "</div>"
      ],
      "text/plain": [
       "    Unnamed: 0                       제목  \\\n",
       "0            0     전세사기 개인회생 신청알아보고 잇어요   \n",
       "1            1           세종전세사기 피해자인데요ㅠ   \n",
       "2            2                전세사기 민사소송   \n",
       "3            3      전세사기 개인회생 대처방안 있을까요   \n",
       "4            4       수원전세사기변호사 선임 가능할까요   \n",
       "..         ...                      ...   \n",
       "95          95      전세사기_배상명령 신청서 작성 문의   \n",
       "96          96         전세반환대출 이거 사기인가요?   \n",
       "97          97         전세사기피해자결정 후 개인회생   \n",
       "98          98  전세사기 피해 질문 (전입신고&확정일자X)   \n",
       "99          99   남양주 전세사기 소송하려면 어디로...    \n",
       "\n",
       "                                                   링크  \n",
       "0   https://kin.naver.com/qna/detail.naver?d1id=6&...  \n",
       "1   https://kin.naver.com/qna/detail.naver?d1id=6&...  \n",
       "2   https://kin.naver.com/qna/detail.naver?d1id=6&...  \n",
       "3   https://kin.naver.com/qna/detail.naver?d1id=6&...  \n",
       "4   https://kin.naver.com/qna/detail.naver?d1id=6&...  \n",
       "..                                                ...  \n",
       "95  https://kin.naver.com/qna/detail.naver?d1id=6&...  \n",
       "96  https://kin.naver.com/qna/detail.naver?d1id=6&...  \n",
       "97  https://kin.naver.com/qna/detail.naver?d1id=6&...  \n",
       "98  https://kin.naver.com/qna/detail.naver?d1id=6&...  \n",
       "99  https://kin.naver.com/qna/detail.naver?d1id=6&...  \n",
       "\n",
       "[100 rows x 3 columns]"
      ]
     },
     "execution_count": 77,
     "metadata": {},
     "output_type": "execute_result"
    }
   ],
   "source": [
    "data=pd.read_csv('./전세사기_네이버지식인.csv')\n",
    "data"
   ]
  },
  {
   "cell_type": "code",
   "execution_count": null,
   "id": "3ac97ea0-19b8-4f6a-b823-7f7f43e2d43a",
   "metadata": {},
   "outputs": [],
   "source": [
    "def naver_kin(link):\n",
    "    html=requests.get(link)\n",
    "    soup=bs(html.text,'html')\n",
    "    s1=soup.find('div','contentArea _contentWrap')\n",
    "    \n",
    "    answer_tags=soup.find_all('div','answerDetail _endContents _endContentsText')\n",
    "    res=[]\n",
    "    for i in answer_tags:\n",
    "        tmp={}\n",
    "        tmp['제목']=s1.find('div','endTitleSection').text.replace('질문','').strip()\n",
    "        tmp['조회수']=s1.find_all('span','infoItem')[0].text.replace('조회수','').replace(',','')\n",
    "        tmp['날짜']=s1.find_all('span','infoItem')[1].text.replace('작성일','')\n",
    "        tmp['질문']=s1.find('div','questionDetail').text.strip()\n",
    "        try:\n",
    "            tmp['응답']=i.find('div','se-component se-text se-l-default').text\n",
    "        except:\n",
    "            tmp['응답']=i.text\n",
    "        res.append(tmp)\n",
    "    df=pd.DataFrame(res)\n",
    "    return df\n",
    "    \n",
    "res=[]\n",
    "for i in data['링크']:\n",
    "    res.append(naver_kin(i))\n",
    "\n",
    "df=pd.concat(res,ignore_index=True)\n",
    "df.to_csv('./전세사기 세부내용_네이버지식인.csv')\n",
    "    "
   ]
  },
  {
   "cell_type": "code",
   "execution_count": null,
   "id": "3aac3dac-99ea-4cd7-b300-51359b0523a9",
   "metadata": {},
   "outputs": [],
   "source": [
    "len(res)"
   ]
  },
  {
   "cell_type": "code",
   "execution_count": null,
   "id": "68c2bcfe-d0e9-4226-a6ee-0127edd36edf",
   "metadata": {},
   "outputs": [],
   "source": [
    "df=pd.concat(res,ignore_index=True)\n",
    "df"
   ]
  },
  {
   "cell_type": "code",
   "execution_count": null,
   "id": "634f5622-61af-4e35-a5e8-5e73d6595cb0",
   "metadata": {},
   "outputs": [],
   "source": [
    "df"
   ]
  },
  {
   "cell_type": "code",
   "execution_count": null,
   "id": "f3421ee6-762c-4447-bf3b-f3fde11594ca",
   "metadata": {},
   "outputs": [],
   "source": []
  }
 ],
 "metadata": {
  "kernelspec": {
   "display_name": "Python 3 (ipykernel)",
   "language": "python",
   "name": "python3"
  },
  "language_info": {
   "codemirror_mode": {
    "name": "ipython",
    "version": 3
   },
   "file_extension": ".py",
   "mimetype": "text/x-python",
   "name": "python",
   "nbconvert_exporter": "python",
   "pygments_lexer": "ipython3",
   "version": "3.12.5"
  }
 },
 "nbformat": 4,
 "nbformat_minor": 5
}
