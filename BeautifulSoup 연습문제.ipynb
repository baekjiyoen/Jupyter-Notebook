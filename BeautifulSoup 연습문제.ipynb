{
 "cells": [
  {
   "cell_type": "code",
   "execution_count": 2,
   "id": "59bd5d8b-631a-433a-9db3-52afbc4eb714",
   "metadata": {},
   "outputs": [
    {
     "data": {
      "text/plain": [
       "'C:\\\\Users\\\\human\\\\Desktop\\\\수업자료\\\\데이터분석&시각화\\\\05 크롤링_01'"
      ]
     },
     "execution_count": 2,
     "metadata": {},
     "output_type": "execute_result"
    }
   ],
   "source": [
    "pwd"
   ]
  },
  {
   "cell_type": "code",
   "execution_count": 3,
   "id": "7f865d93-c60e-479a-9d66-6128101fd637",
   "metadata": {},
   "outputs": [],
   "source": [
    "from bs4 import BeautifulSoup as bs\n",
    "import pandas as pd"
   ]
  },
  {
   "cell_type": "code",
   "execution_count": 14,
   "id": "5fc14e39-0f65-4324-89bb-4ad5972bf31a",
   "metadata": {},
   "outputs": [],
   "source": [
    "with open('./bs연습문제.html','r',encoding='utf-8') as f:\n",
    "    soup=bs(f.read(),'html')"
   ]
  },
  {
   "cell_type": "code",
   "execution_count": 36,
   "id": "10d24b58-91c2-4483-b223-f59bfafe5a96",
   "metadata": {},
   "outputs": [],
   "source": [
    "img_tags=soup.find('div','flex_grid credits search_results').find_all('img')"
   ]
  },
  {
   "cell_type": "code",
   "execution_count": 37,
   "id": "d86b0df7-7464-484f-a926-90d526fe463d",
   "metadata": {},
   "outputs": [
    {
     "data": {
      "text/plain": [
       "[<img alt=\"고양이, 젊은 동물, 호기심, 살쾡이, 동물\" src=\"https://cdn.pixabay.com/photo/2017/02/20/18/03/cat-2083492__340.jpg\" srcset=\"https://cdn.pixabay.com/photo/2017/02/20/18/03/cat-2083492__340.jpg 1x, https://cdn.pixabay.com/photo/2017/02/20/18/03/cat-2083492__480.jpg 2x\"/>,\n",
       " <img alt=\"고양이, 동물, 고양이 눈, 눈, 애완 동물, 보기, 파란 눈\" src=\"https://cdn.pixabay.com/photo/2016/03/28/12/35/cat-1285634__340.png\" srcset=\"https://cdn.pixabay.com/photo/2016/03/28/12/35/cat-1285634__340.png 1x, https://cdn.pixabay.com/photo/2016/03/28/12/35/cat-1285634__480.png 2x\"/>,\n",
       " <img alt=\"고양이, 실루엣, 고양이 실루엣, 고양이 눈, 검은 고양이\" src=\"https://cdn.pixabay.com/photo/2015/03/27/13/16/cat-694730__340.jpg\" srcset=\"https://cdn.pixabay.com/photo/2015/03/27/13/16/cat-694730__340.jpg 1x, https://cdn.pixabay.com/photo/2015/03/27/13/16/cat-694730__480.jpg 2x\"/>,\n",
       " <img alt=\"고양이, 동물, 고양이 초상화, 고양이 눈, 호랑이 고양이, 국내 고양이\" src=\"https://cdn.pixabay.com/photo/2016/07/10/21/47/cat-1508613__340.jpg\" srcset=\"https://cdn.pixabay.com/photo/2016/07/10/21/47/cat-1508613__340.jpg 1x, https://cdn.pixabay.com/photo/2016/07/10/21/47/cat-1508613__480.jpg 2x\"/>,\n",
       " <img alt=\"키티, 고양이, 새끼 고양이, 애완 동물, 동물, 귀여운, 고양이과의\" src=\"https://cdn.pixabay.com/photo/2014/11/30/14/11/kitty-551554__340.jpg\" srcset=\"https://cdn.pixabay.com/photo/2014/11/30/14/11/kitty-551554__340.jpg 1x, https://cdn.pixabay.com/photo/2014/11/30/14/11/kitty-551554__480.jpg 2x\"/>,\n",
       " <img alt=\"고양이, 동물, 고양이 초상화, 고등어, 고양이 눈, 애완 동물, 모피\" src=\"https://cdn.pixabay.com/photo/2015/11/16/14/43/cat-1045782__340.jpg\" srcset=\"https://cdn.pixabay.com/photo/2015/11/16/14/43/cat-1045782__340.jpg 1x, https://cdn.pixabay.com/photo/2015/11/16/14/43/cat-1045782__480.jpg 2x\"/>,\n",
       " <img alt=\"트리, 고양이, 실루엣, 위성, 보름달, 자연, 밤, 시즌, 야외 활동\" src=\"https://cdn.pixabay.com/photo/2015/04/23/21/59/tree-736877__340.jpg\" srcset=\"https://cdn.pixabay.com/photo/2015/04/23/21/59/tree-736877__340.jpg 1x, https://cdn.pixabay.com/photo/2015/04/23/21/59/tree-736877__480.jpg 2x\"/>,\n",
       " <img alt=\"고양이, 달콤한, 키티, 동물, 고양이과의, 혀, 사슬\" src=\"https://cdn.pixabay.com/photo/2014/04/13/20/49/cat-323262__340.jpg\" srcset=\"https://cdn.pixabay.com/photo/2014/04/13/20/49/cat-323262__340.jpg 1x, https://cdn.pixabay.com/photo/2014/04/13/20/49/cat-323262__480.jpg 2x\"/>,\n",
       " <img alt=\"태비, 고양이, 근접, 초상화, 고양이과의, 동물, 애완 동물, 사슬\" src=\"https://cdn.pixabay.com/photo/2013/05/30/18/21/tabby-114782__340.jpg\" srcset=\"https://cdn.pixabay.com/photo/2013/05/30/18/21/tabby-114782__340.jpg 1x, https://cdn.pixabay.com/photo/2013/05/30/18/21/tabby-114782__480.jpg 2x\"/>,\n",
       " <img alt=\"키티, 고양이, 새끼 고양이, 국내 고양이, 동물, 애완 동물, 꽃\" src=\"https://cdn.pixabay.com/photo/2017/11/14/13/06/kitty-2948404__340.jpg\" srcset=\"https://cdn.pixabay.com/photo/2017/11/14/13/06/kitty-2948404__340.jpg 1x, https://cdn.pixabay.com/photo/2017/11/14/13/06/kitty-2948404__480.jpg 2x\"/>,\n",
       " <img alt=\"사자, 육식 동물, 위험한, 갈기, 큰 고양이, 남성, 동물원\" src=\"https://cdn.pixabay.com/photo/2018/07/31/22/08/lion-3576045__340.jpg\" srcset=\"https://cdn.pixabay.com/photo/2018/07/31/22/08/lion-3576045__340.jpg 1x, https://cdn.pixabay.com/photo/2018/07/31/22/08/lion-3576045__480.jpg 2x\"/>,\n",
       " <img alt=\"타이거, 큰 고양이, 동물의 세계, 동물 초상화, 육식 동물, 위험한\" src=\"https://cdn.pixabay.com/photo/2017/07/24/19/57/tiger-2535888__340.jpg\" srcset=\"https://cdn.pixabay.com/photo/2017/07/24/19/57/tiger-2535888__340.jpg 1x, https://cdn.pixabay.com/photo/2017/07/24/19/57/tiger-2535888__480.jpg 2x\"/>,\n",
       " <img alt=\"타이거, 고양이, 큰 고양이, 동물, 육식 동물, 포효, 야생 동물\" src=\"https://cdn.pixabay.com/photo/2018/03/26/20/49/tiger-3264048__340.jpg\" srcset=\"https://cdn.pixabay.com/photo/2018/03/26/20/49/tiger-3264048__340.jpg 1x, https://cdn.pixabay.com/photo/2018/03/26/20/49/tiger-3264048__480.jpg 2x\"/>,\n",
       " <img alt=\"동물, 타이거, 큰 고양이, Amurtiger, 고양이, 육식 동물\" src=\"https://cdn.pixabay.com/photo/2017/11/06/09/53/animal-2923186__340.jpg\" srcset=\"https://cdn.pixabay.com/photo/2017/11/06/09/53/animal-2923186__340.jpg 1x, https://cdn.pixabay.com/photo/2017/11/06/09/53/animal-2923186__480.jpg 2x\"/>,\n",
       " <img alt=\"동물, 고양이, 새끼 고양이, 하 품, 고양이과의, 피곤\" src=\"https://cdn.pixabay.com/photo/2014/05/07/06/44/animal-339400__340.jpg\" srcset=\"https://cdn.pixabay.com/photo/2014/05/07/06/44/animal-339400__340.jpg 1x, https://cdn.pixabay.com/photo/2014/05/07/06/44/animal-339400__480.jpg 2x\"/>,\n",
       " <img alt=\"자연, 동물의 세계, 흰 벵골 호랑이, 타이거, 육식 동물, 큰 고양이\" src=\"https://cdn.pixabay.com/photo/2018/01/25/14/12/nature-3106213__340.jpg\" srcset=\"https://cdn.pixabay.com/photo/2018/01/25/14/12/nature-3106213__340.jpg 1x, https://cdn.pixabay.com/photo/2018/01/25/14/12/nature-3106213__480.jpg 2x\"/>,\n",
       " <img alt=\"고양이, 얼굴, 눈, 초상화, 동물의 세계, 동물, 국내 고양이\" data-lazy=\"https://cdn.pixabay.com/photo/2016/06/14/00/14/cat-1455468__340.jpg\" data-lazy-srcset=\"https://cdn.pixabay.com/photo/2016/06/14/00/14/cat-1455468__340.jpg 1x, https://cdn.pixabay.com/photo/2016/06/14/00/14/cat-1455468__480.jpg 2x\" src=\"https://cdn.pixabay.com/photo/2016/06/14/00/14/cat-1455468__340.jpg\" srcset=\"https://cdn.pixabay.com/photo/2016/06/14/00/14/cat-1455468__340.jpg 1x, https://cdn.pixabay.com/photo/2016/06/14/00/14/cat-1455468__480.jpg 2x\"/>,\n",
       " <img alt=\"친구, 고양이와 개, 애완 동물, 가정적인, 강아지와 함께 고양이, 함께\" data-lazy=\"https://cdn.pixabay.com/photo/2016/01/19/17/41/friends-1149841__340.jpg\" data-lazy-srcset=\"https://cdn.pixabay.com/photo/2016/01/19/17/41/friends-1149841__340.jpg 1x, https://cdn.pixabay.com/photo/2016/01/19/17/41/friends-1149841__480.jpg 2x\" src=\"https://cdn.pixabay.com/photo/2016/01/19/17/41/friends-1149841__340.jpg\" srcset=\"https://cdn.pixabay.com/photo/2016/01/19/17/41/friends-1149841__340.jpg 1x, https://cdn.pixabay.com/photo/2016/01/19/17/41/friends-1149841__480.jpg 2x\"/>,\n",
       " <img alt=\"고양이, 꽃, 새끼 고양이, 돌, 애완 동물, 동물, 탐구, 호기심\" data-lazy=\"https://cdn.pixabay.com/photo/2017/07/25/01/22/cat-2536662__340.jpg\" data-lazy-srcset=\"https://cdn.pixabay.com/photo/2017/07/25/01/22/cat-2536662__340.jpg 1x, https://cdn.pixabay.com/photo/2017/07/25/01/22/cat-2536662__480.jpg 2x\" src=\"https://cdn.pixabay.com/photo/2017/07/25/01/22/cat-2536662__340.jpg\" srcset=\"https://cdn.pixabay.com/photo/2017/07/25/01/22/cat-2536662__340.jpg 1x, https://cdn.pixabay.com/photo/2017/07/25/01/22/cat-2536662__480.jpg 2x\"/>,\n",
       " <img alt=\"고양이, 숙취, 긴장, 진정, 카마 초, 국내 고양이, 흑백의, 검정\" data-lazy=\"https://cdn.pixabay.com/photo/2013/04/01/03/45/cat-98359__340.jpg\" data-lazy-srcset=\"https://cdn.pixabay.com/photo/2013/04/01/03/45/cat-98359__340.jpg 1x, https://cdn.pixabay.com/photo/2013/04/01/03/45/cat-98359__480.jpg 2x\" src=\"https://cdn.pixabay.com/photo/2013/04/01/03/45/cat-98359__340.jpg\" srcset=\"https://cdn.pixabay.com/photo/2013/04/01/03/45/cat-98359__340.jpg 1x, https://cdn.pixabay.com/photo/2013/04/01/03/45/cat-98359__480.jpg 2x\"/>,\n",
       " <img alt=\"고양이, 애완 동물, 줄무늬가있는, 새끼 고양이, 젊은, 화이트\" data-lazy=\"https://cdn.pixabay.com/photo/2016/02/10/16/37/cat-1192026__340.jpg\" data-lazy-srcset=\"https://cdn.pixabay.com/photo/2016/02/10/16/37/cat-1192026__340.jpg 1x, https://cdn.pixabay.com/photo/2016/02/10/16/37/cat-1192026__480.jpg 2x\" src=\"https://cdn.pixabay.com/photo/2016/02/10/16/37/cat-1192026__340.jpg\" srcset=\"https://cdn.pixabay.com/photo/2016/02/10/16/37/cat-1192026__340.jpg 1x, https://cdn.pixabay.com/photo/2016/02/10/16/37/cat-1192026__480.jpg 2x\"/>,\n",
       " <img alt=\"고양이, 동물, 고양이의 초상화, 고양이 얼굴, 음모 고양이\" data-lazy=\"https://cdn.pixabay.com/photo/2015/05/22/05/52/cat-778315__340.jpg\" data-lazy-srcset=\"https://cdn.pixabay.com/photo/2015/05/22/05/52/cat-778315__340.jpg 1x, https://cdn.pixabay.com/photo/2015/05/22/05/52/cat-778315__480.jpg 2x\" src=\"https://cdn.pixabay.com/photo/2015/05/22/05/52/cat-778315__340.jpg\" srcset=\"https://cdn.pixabay.com/photo/2015/05/22/05/52/cat-778315__340.jpg 1x, https://cdn.pixabay.com/photo/2015/05/22/05/52/cat-778315__480.jpg 2x\"/>,\n",
       " <img alt=\"동물, 호랑이, 큰 고양이, 원정 여행, 야생 고양이, 야생 생물\" data-lazy=\"https://cdn.pixabay.com/photo/2016/11/29/10/07/animal-1868911__340.jpg\" data-lazy-srcset=\"https://cdn.pixabay.com/photo/2016/11/29/10/07/animal-1868911__340.jpg 1x, https://cdn.pixabay.com/photo/2016/11/29/10/07/animal-1868911__480.jpg 2x\" src=\"https://cdn.pixabay.com/photo/2016/11/29/10/07/animal-1868911__340.jpg\" srcset=\"https://cdn.pixabay.com/photo/2016/11/29/10/07/animal-1868911__340.jpg 1x, https://cdn.pixabay.com/photo/2016/11/29/10/07/animal-1868911__480.jpg 2x\"/>,\n",
       " <img alt=\"타이거, 육식 동물, 모피, 아름다운, 위험한, 큰 고양이, 동물의 세계\" data-lazy=\"https://cdn.pixabay.com/photo/2017/05/17/12/42/tiger-2320819__340.jpg\" data-lazy-srcset=\"https://cdn.pixabay.com/photo/2017/05/17/12/42/tiger-2320819__340.jpg 1x, https://cdn.pixabay.com/photo/2017/05/17/12/42/tiger-2320819__480.jpg 2x\" src=\"https://cdn.pixabay.com/photo/2017/05/17/12/42/tiger-2320819__340.jpg\" srcset=\"https://cdn.pixabay.com/photo/2017/05/17/12/42/tiger-2320819__340.jpg 1x, https://cdn.pixabay.com/photo/2017/05/17/12/42/tiger-2320819__480.jpg 2x\"/>,\n",
       " <img alt=\"고양이, 새끼 고양이, 애완 동물, 동물, Housecat, 고양이과의\" data-lazy=\"https://cdn.pixabay.com/photo/2017/11/09/21/41/cat-2934720__340.jpg\" data-lazy-srcset=\"https://cdn.pixabay.com/photo/2017/11/09/21/41/cat-2934720__340.jpg 1x, https://cdn.pixabay.com/photo/2017/11/09/21/41/cat-2934720__480.jpg 2x\" src=\"https://cdn.pixabay.com/photo/2017/11/09/21/41/cat-2934720__340.jpg\" srcset=\"https://cdn.pixabay.com/photo/2017/11/09/21/41/cat-2934720__340.jpg 1x, https://cdn.pixabay.com/photo/2017/11/09/21/41/cat-2934720__480.jpg 2x\"/>,\n",
       " <img alt=\"선셋, 고양이, 그림자, 실루엣, 자연, 빛, 오렌지, 고양이과의\" data-lazy=\"https://cdn.pixabay.com/photo/2017/12/09/21/33/sunset-3008779__340.jpg\" data-lazy-srcset=\"https://cdn.pixabay.com/photo/2017/12/09/21/33/sunset-3008779__340.jpg 1x, https://cdn.pixabay.com/photo/2017/12/09/21/33/sunset-3008779__480.jpg 2x\" src=\"https://cdn.pixabay.com/photo/2017/12/09/21/33/sunset-3008779__340.jpg\" srcset=\"https://cdn.pixabay.com/photo/2017/12/09/21/33/sunset-3008779__340.jpg 1x, https://cdn.pixabay.com/photo/2017/12/09/21/33/sunset-3008779__480.jpg 2x\"/>,\n",
       " <img alt=\"고양이, 새끼 고양이, 트리, 녹색, 여름, 동물, 가정적인, 사랑스럽다\" data-lazy=\"https://cdn.pixabay.com/photo/2016/09/05/21/37/cat-1647775__340.jpg\" data-lazy-srcset=\"https://cdn.pixabay.com/photo/2016/09/05/21/37/cat-1647775__340.jpg 1x, https://cdn.pixabay.com/photo/2016/09/05/21/37/cat-1647775__480.jpg 2x\" src=\"https://cdn.pixabay.com/photo/2016/09/05/21/37/cat-1647775__340.jpg\" srcset=\"https://cdn.pixabay.com/photo/2016/09/05/21/37/cat-1647775__340.jpg 1x, https://cdn.pixabay.com/photo/2016/09/05/21/37/cat-1647775__480.jpg 2x\"/>,\n",
       " <img alt=\"사자, 사파리, 아프리카, 경치, 스텝, 일몰, 자연, 황혼\" data-lazy=\"https://cdn.pixabay.com/photo/2014/12/22/10/04/lion-577104__340.jpg\" data-lazy-srcset=\"https://cdn.pixabay.com/photo/2014/12/22/10/04/lion-577104__340.jpg 1x, https://cdn.pixabay.com/photo/2014/12/22/10/04/lion-577104__480.jpg 2x\" src=\"https://cdn.pixabay.com/photo/2014/12/22/10/04/lion-577104__340.jpg\" srcset=\"https://cdn.pixabay.com/photo/2014/12/22/10/04/lion-577104__340.jpg 1x, https://cdn.pixabay.com/photo/2014/12/22/10/04/lion-577104__480.jpg 2x\"/>,\n",
       " <img alt=\"고양이, 애완 동물, Mieze, 짧은 머리, 국내 고양이\" data-lazy=\"https://cdn.pixabay.com/photo/2018/01/28/12/37/cat-3113513__340.jpg\" data-lazy-srcset=\"https://cdn.pixabay.com/photo/2018/01/28/12/37/cat-3113513__340.jpg 1x, https://cdn.pixabay.com/photo/2018/01/28/12/37/cat-3113513__480.jpg 2x\" src=\"https://cdn.pixabay.com/photo/2018/01/28/12/37/cat-3113513__340.jpg\" srcset=\"https://cdn.pixabay.com/photo/2018/01/28/12/37/cat-3113513__340.jpg 1x, https://cdn.pixabay.com/photo/2018/01/28/12/37/cat-3113513__480.jpg 2x\"/>,\n",
       " <img alt=\"고양이, 세로, 동물, 애완 동물, 국내 고양이, 눈, 보기\" data-lazy=\"https://cdn.pixabay.com/photo/2018/05/04/16/50/cat-3374422__340.jpg\" data-lazy-srcset=\"https://cdn.pixabay.com/photo/2018/05/04/16/50/cat-3374422__340.jpg 1x, https://cdn.pixabay.com/photo/2018/05/04/16/50/cat-3374422__480.jpg 2x\" src=\"https://cdn.pixabay.com/photo/2018/05/04/16/50/cat-3374422__340.jpg\" srcset=\"https://cdn.pixabay.com/photo/2018/05/04/16/50/cat-3374422__340.jpg 1x, https://cdn.pixabay.com/photo/2018/05/04/16/50/cat-3374422__480.jpg 2x\"/>,\n",
       " <img alt=\"고양이, 동물, 애완 동물, 가 까이 서\" data-lazy=\"https://cdn.pixabay.com/photo/2014/03/29/09/17/cat-300572__340.jpg\" data-lazy-srcset=\"https://cdn.pixabay.com/photo/2014/03/29/09/17/cat-300572__340.jpg 1x, https://cdn.pixabay.com/photo/2014/03/29/09/17/cat-300572__480.jpg 2x\" src=\"https://cdn.pixabay.com/photo/2014/03/29/09/17/cat-300572__340.jpg\" srcset=\"https://cdn.pixabay.com/photo/2014/03/29/09/17/cat-300572__340.jpg 1x, https://cdn.pixabay.com/photo/2014/03/29/09/17/cat-300572__480.jpg 2x\"/>,\n",
       " <img alt=\"사자, 육식 동물, 갈기, 큰 고양이, 하 품, 포효\" data-lazy=\"https://cdn.pixabay.com/photo/2018/04/13/21/24/lion-3317670__340.jpg\" data-lazy-srcset=\"https://cdn.pixabay.com/photo/2018/04/13/21/24/lion-3317670__340.jpg 1x, https://cdn.pixabay.com/photo/2018/04/13/21/24/lion-3317670__480.jpg 2x\" src=\"https://cdn.pixabay.com/photo/2018/04/13/21/24/lion-3317670__340.jpg\" srcset=\"https://cdn.pixabay.com/photo/2018/04/13/21/24/lion-3317670__340.jpg 1x, https://cdn.pixabay.com/photo/2018/04/13/21/24/lion-3317670__480.jpg 2x\"/>,\n",
       " <img alt=\"고양이, 고양이 눈, 눈, 동물, 애완 동물, 초상화, 검은 색과 흰색\" data-lazy=\"https://cdn.pixabay.com/photo/2017/03/14/14/49/cat-2143332__340.jpg\" data-lazy-srcset=\"https://cdn.pixabay.com/photo/2017/03/14/14/49/cat-2143332__340.jpg 1x, https://cdn.pixabay.com/photo/2017/03/14/14/49/cat-2143332__480.jpg 2x\" src=\"https://cdn.pixabay.com/photo/2017/03/14/14/49/cat-2143332__340.jpg\" srcset=\"https://cdn.pixabay.com/photo/2017/03/14/14/49/cat-2143332__340.jpg 1x, https://cdn.pixabay.com/photo/2017/03/14/14/49/cat-2143332__480.jpg 2x\"/>,\n",
       " <img alt=\"고양이, 국내 고양이, 고등어, 애완 동물, 동물, 세로, 초상화\" data-lazy=\"https://cdn.pixabay.com/photo/2018/07/08/14/16/cat-3523992__340.jpg\" data-lazy-srcset=\"https://cdn.pixabay.com/photo/2018/07/08/14/16/cat-3523992__340.jpg 1x, https://cdn.pixabay.com/photo/2018/07/08/14/16/cat-3523992__480.jpg 2x\" src=\"https://cdn.pixabay.com/photo/2018/07/08/14/16/cat-3523992__340.jpg\" srcset=\"https://cdn.pixabay.com/photo/2018/07/08/14/16/cat-3523992__340.jpg 1x, https://cdn.pixabay.com/photo/2018/07/08/14/16/cat-3523992__480.jpg 2x\"/>,\n",
       " <img alt=\"고양이, 새끼 고양이, 귀여운, 조금, 나무, 고양이과의, 머리\" data-lazy=\"https://cdn.pixabay.com/photo/2015/08/30/10/58/cat-914110__340.jpg\" data-lazy-srcset=\"https://cdn.pixabay.com/photo/2015/08/30/10/58/cat-914110__340.jpg 1x, https://cdn.pixabay.com/photo/2015/08/30/10/58/cat-914110__480.jpg 2x\" src=\"https://cdn.pixabay.com/photo/2015/08/30/10/58/cat-914110__340.jpg\" srcset=\"https://cdn.pixabay.com/photo/2015/08/30/10/58/cat-914110__340.jpg 1x, https://cdn.pixabay.com/photo/2015/08/30/10/58/cat-914110__480.jpg 2x\"/>,\n",
       " <img alt=\"고양이, 길을 잃다, 선셋, 자연, 야외 활동, 포유 동물, 잔디\" data-lazy=\"https://cdn.pixabay.com/photo/2018/01/04/18/58/cats-3061372__340.jpg\" data-lazy-srcset=\"https://cdn.pixabay.com/photo/2018/01/04/18/58/cats-3061372__340.jpg 1x, https://cdn.pixabay.com/photo/2018/01/04/18/58/cats-3061372__480.jpg 2x\" src=\"https://cdn.pixabay.com/photo/2018/01/04/18/58/cats-3061372__340.jpg\" srcset=\"https://cdn.pixabay.com/photo/2018/01/04/18/58/cats-3061372__340.jpg 1x, https://cdn.pixabay.com/photo/2018/01/04/18/58/cats-3061372__480.jpg 2x\"/>,\n",
       " <img alt=\"눈, 고양이 눈, 고양이, 새끼 고양이, 애완 동물, 보기, 고양이 새끼\" data-lazy=\"https://cdn.pixabay.com/photo/2014/03/12/01/36/eyes-285825__340.png\" data-lazy-srcset=\"https://cdn.pixabay.com/photo/2014/03/12/01/36/eyes-285825__340.png 1x, https://cdn.pixabay.com/photo/2014/03/12/01/36/eyes-285825__480.png 2x\" src=\"https://cdn.pixabay.com/photo/2014/03/12/01/36/eyes-285825__340.png\" srcset=\"https://cdn.pixabay.com/photo/2014/03/12/01/36/eyes-285825__340.png 1x, https://cdn.pixabay.com/photo/2014/03/12/01/36/eyes-285825__480.png 2x\"/>,\n",
       " <img alt=\"고양이 눈, 동물 보호소, Mieze, 국내 고양이, 동물 복지, 초상화\" data-lazy=\"https://cdn.pixabay.com/photo/2017/08/23/08/33/cats-eyes-2671903__340.jpg\" data-lazy-srcset=\"https://cdn.pixabay.com/photo/2017/08/23/08/33/cats-eyes-2671903__340.jpg 1x, https://cdn.pixabay.com/photo/2017/08/23/08/33/cats-eyes-2671903__480.jpg 2x\" src=\"https://cdn.pixabay.com/photo/2017/08/23/08/33/cats-eyes-2671903__340.jpg\" srcset=\"https://cdn.pixabay.com/photo/2017/08/23/08/33/cats-eyes-2671903__340.jpg 1x, https://cdn.pixabay.com/photo/2017/08/23/08/33/cats-eyes-2671903__480.jpg 2x\"/>,\n",
       " <img alt=\"사자, 야생, 아프리카, 고양이과, 동물원, 동물군, 황갈색의, 동물\" data-lazy=\"https://cdn.pixabay.com/photo/2016/01/02/16/53/lion-1118467__340.jpg\" data-lazy-srcset=\"https://cdn.pixabay.com/photo/2016/01/02/16/53/lion-1118467__340.jpg 1x, https://cdn.pixabay.com/photo/2016/01/02/16/53/lion-1118467__480.jpg 2x\" src=\"https://cdn.pixabay.com/photo/2016/01/02/16/53/lion-1118467__340.jpg\" srcset=\"https://cdn.pixabay.com/photo/2016/01/02/16/53/lion-1118467__340.jpg 1x, https://cdn.pixabay.com/photo/2016/01/02/16/53/lion-1118467__480.jpg 2x\"/>,\n",
       " <img alt=\"사자, 포효, 아프리카, 동물, 살쾡이, 야생, 고양이, 모피\" data-lazy=\"https://cdn.pixabay.com/photo/2017/12/11/15/34/lion-3012515__340.jpg\" data-lazy-srcset=\"https://cdn.pixabay.com/photo/2017/12/11/15/34/lion-3012515__340.jpg 1x, https://cdn.pixabay.com/photo/2017/12/11/15/34/lion-3012515__480.jpg 2x\" src=\"https://cdn.pixabay.com/photo/2017/12/11/15/34/lion-3012515__340.jpg\" srcset=\"https://cdn.pixabay.com/photo/2017/12/11/15/34/lion-3012515__340.jpg 1x, https://cdn.pixabay.com/photo/2017/12/11/15/34/lion-3012515__480.jpg 2x\"/>,\n",
       " <img alt=\"고양이, 숙취, 빨강, 고등어, 타이거, 귀여워, 동물, 국내 고양이\" data-lazy=\"https://cdn.pixabay.com/photo/2015/11/16/22/14/cat-1046544__340.jpg\" data-lazy-srcset=\"https://cdn.pixabay.com/photo/2015/11/16/22/14/cat-1046544__340.jpg 1x, https://cdn.pixabay.com/photo/2015/11/16/22/14/cat-1046544__480.jpg 2x\" src=\"https://cdn.pixabay.com/photo/2015/11/16/22/14/cat-1046544__340.jpg\" srcset=\"https://cdn.pixabay.com/photo/2015/11/16/22/14/cat-1046544__340.jpg 1x, https://cdn.pixabay.com/photo/2015/11/16/22/14/cat-1046544__480.jpg 2x\"/>,\n",
       " <img alt=\"고양이, 동물, 고등어, 고양이과의, 애완 동물, 가정적인, 모피, 머리\" data-lazy=\"https://cdn.pixabay.com/photo/2018/11/29/23/34/cat-3846780__340.jpg\" data-lazy-srcset=\"https://cdn.pixabay.com/photo/2018/11/29/23/34/cat-3846780__340.jpg 1x, https://cdn.pixabay.com/photo/2018/11/29/23/34/cat-3846780__480.jpg 2x\" src=\"https://cdn.pixabay.com/photo/2018/11/29/23/34/cat-3846780__340.jpg\" srcset=\"https://cdn.pixabay.com/photo/2018/11/29/23/34/cat-3846780__340.jpg 1x, https://cdn.pixabay.com/photo/2018/11/29/23/34/cat-3846780__480.jpg 2x\"/>,\n",
       " <img alt=\"고양이, 고양이과의, 애완 동물, 동물, 생강 고양이, 고양이 눈\" data-lazy=\"https://cdn.pixabay.com/photo/2012/11/26/13/58/cat-67345__340.jpg\" data-lazy-srcset=\"https://cdn.pixabay.com/photo/2012/11/26/13/58/cat-67345__340.jpg 1x, https://cdn.pixabay.com/photo/2012/11/26/13/58/cat-67345__480.jpg 2x\" src=\"https://cdn.pixabay.com/photo/2012/11/26/13/58/cat-67345__340.jpg\" srcset=\"https://cdn.pixabay.com/photo/2012/11/26/13/58/cat-67345__340.jpg 1x, https://cdn.pixabay.com/photo/2012/11/26/13/58/cat-67345__480.jpg 2x\"/>,\n",
       " <img alt=\"레오 파 드, 살쾡이, 큰 고양이, 보츠와나, 아프리카, 사파리\" data-lazy=\"https://cdn.pixabay.com/photo/2014/11/03/17/40/leopard-515509__340.jpg\" data-lazy-srcset=\"https://cdn.pixabay.com/photo/2014/11/03/17/40/leopard-515509__340.jpg 1x, https://cdn.pixabay.com/photo/2014/11/03/17/40/leopard-515509__480.jpg 2x\" src=\"https://cdn.pixabay.com/photo/2014/11/03/17/40/leopard-515509__340.jpg\" srcset=\"https://cdn.pixabay.com/photo/2014/11/03/17/40/leopard-515509__340.jpg 1x, https://cdn.pixabay.com/photo/2014/11/03/17/40/leopard-515509__480.jpg 2x\"/>,\n",
       " <img alt=\"고양이, 휴식, 고양이과의, 동물, 애완 동물\" data-lazy=\"https://cdn.pixabay.com/photo/2015/02/25/17/56/cat-649164__340.jpg\" data-lazy-srcset=\"https://cdn.pixabay.com/photo/2015/02/25/17/56/cat-649164__340.jpg 1x, https://cdn.pixabay.com/photo/2015/02/25/17/56/cat-649164__480.jpg 2x\" src=\"https://cdn.pixabay.com/photo/2015/02/25/17/56/cat-649164__340.jpg\" srcset=\"https://cdn.pixabay.com/photo/2015/02/25/17/56/cat-649164__340.jpg 1x, https://cdn.pixabay.com/photo/2015/02/25/17/56/cat-649164__480.jpg 2x\"/>,\n",
       " <img alt=\"고양이, 애완 동물, 동물, 가정적인, 모피, 초상화, 고양이과의\" data-lazy=\"https://cdn.pixabay.com/photo/2016/01/20/13/05/cat-1151519__340.jpg\" data-lazy-srcset=\"https://cdn.pixabay.com/photo/2016/01/20/13/05/cat-1151519__340.jpg 1x, https://cdn.pixabay.com/photo/2016/01/20/13/05/cat-1151519__480.jpg 2x\" src=\"https://cdn.pixabay.com/photo/2016/01/20/13/05/cat-1151519__340.jpg\" srcset=\"https://cdn.pixabay.com/photo/2016/01/20/13/05/cat-1151519__340.jpg 1x, https://cdn.pixabay.com/photo/2016/01/20/13/05/cat-1151519__480.jpg 2x\"/>,\n",
       " <img alt=\"고양이, 젊은 동물, 새끼 고양이, 고등어, 국내 고양이, 애완 동물\" data-lazy=\"https://cdn.pixabay.com/photo/2018/07/13/10/20/cat-3535404__340.jpg\" data-lazy-srcset=\"https://cdn.pixabay.com/photo/2018/07/13/10/20/cat-3535404__340.jpg 1x, https://cdn.pixabay.com/photo/2018/07/13/10/20/cat-3535404__480.jpg 2x\" src=\"https://cdn.pixabay.com/photo/2018/07/13/10/20/cat-3535404__340.jpg\" srcset=\"https://cdn.pixabay.com/photo/2018/07/13/10/20/cat-3535404__340.jpg 1x, https://cdn.pixabay.com/photo/2018/07/13/10/20/cat-3535404__480.jpg 2x\"/>,\n",
       " <img alt=\"고양이, 젊은 동물, 호기심, 살쾡이, 동물, 자연\" data-lazy=\"https://cdn.pixabay.com/photo/2017/04/30/18/33/cat-2273598__340.jpg\" data-lazy-srcset=\"https://cdn.pixabay.com/photo/2017/04/30/18/33/cat-2273598__340.jpg 1x, https://cdn.pixabay.com/photo/2017/04/30/18/33/cat-2273598__480.jpg 2x\" src=\"https://cdn.pixabay.com/photo/2017/04/30/18/33/cat-2273598__340.jpg\" srcset=\"https://cdn.pixabay.com/photo/2017/04/30/18/33/cat-2273598__340.jpg 1x, https://cdn.pixabay.com/photo/2017/04/30/18/33/cat-2273598__480.jpg 2x\"/>,\n",
       " <img alt=\"고양이, 애완 동물, 고양이 눈, 거짓말하는, 레드, 동물, 초상화\" data-lazy=\"https://cdn.pixabay.com/photo/2015/11/15/22/09/cat-1044914__340.jpg\" data-lazy-srcset=\"https://cdn.pixabay.com/photo/2015/11/15/22/09/cat-1044914__340.jpg 1x, https://cdn.pixabay.com/photo/2015/11/15/22/09/cat-1044914__480.jpg 2x\" src=\"https://cdn.pixabay.com/photo/2015/11/15/22/09/cat-1044914__340.jpg\" srcset=\"https://cdn.pixabay.com/photo/2015/11/15/22/09/cat-1044914__340.jpg 1x, https://cdn.pixabay.com/photo/2015/11/15/22/09/cat-1044914__480.jpg 2x\"/>,\n",
       " <img alt=\"브레멘 타운 뮤지션, 당나귀, 개, 고양이, 돼야 해 한이, 음악\" data-lazy=\"https://cdn.pixabay.com/photo/2016/09/07/16/19/bremen-town-musicians-1651945__340.jpg\" data-lazy-srcset=\"https://cdn.pixabay.com/photo/2016/09/07/16/19/bremen-town-musicians-1651945__340.jpg 1x, https://cdn.pixabay.com/photo/2016/09/07/16/19/bremen-town-musicians-1651945__480.jpg 2x\" src=\"https://cdn.pixabay.com/photo/2016/09/07/16/19/bremen-town-musicians-1651945__340.jpg\" srcset=\"https://cdn.pixabay.com/photo/2016/09/07/16/19/bremen-town-musicians-1651945__340.jpg 1x, https://cdn.pixabay.com/photo/2016/09/07/16/19/bremen-town-musicians-1651945__480.jpg 2x\"/>,\n",
       " <img alt=\"동물, 육식 동물, 사자, 큰 고양이, 육 식 동물, 아프리카, 위험한\" data-lazy=\"https://cdn.pixabay.com/photo/2019/07/10/08/31/animal-4328196__340.jpg\" data-lazy-srcset=\"https://cdn.pixabay.com/photo/2019/07/10/08/31/animal-4328196__340.jpg 1x, https://cdn.pixabay.com/photo/2019/07/10/08/31/animal-4328196__480.jpg 2x\" src=\"https://cdn.pixabay.com/photo/2019/07/10/08/31/animal-4328196__340.jpg\" srcset=\"https://cdn.pixabay.com/photo/2019/07/10/08/31/animal-4328196__340.jpg 1x, https://cdn.pixabay.com/photo/2019/07/10/08/31/animal-4328196__480.jpg 2x\"/>,\n",
       " <img alt=\"사자, 육식 동물, 위험한, 갈기, 큰 고양이, 남성, 동물원\" data-lazy=\"https://cdn.pixabay.com/photo/2018/05/03/22/34/lion-3372720__340.jpg\" data-lazy-srcset=\"https://cdn.pixabay.com/photo/2018/05/03/22/34/lion-3372720__340.jpg 1x, https://cdn.pixabay.com/photo/2018/05/03/22/34/lion-3372720__480.jpg 2x\" src=\"https://cdn.pixabay.com/photo/2018/05/03/22/34/lion-3372720__340.jpg\" srcset=\"https://cdn.pixabay.com/photo/2018/05/03/22/34/lion-3372720__340.jpg 1x, https://cdn.pixabay.com/photo/2018/05/03/22/34/lion-3372720__480.jpg 2x\"/>,\n",
       " <img alt=\"고양이, 국내 고양이, 절전 모드, 애완 동물, 동물, 나머지, 휴식\" data-lazy=\"https://cdn.pixabay.com/photo/2019/05/08/21/21/cat-4189697__340.jpg\" data-lazy-srcset=\"https://cdn.pixabay.com/photo/2019/05/08/21/21/cat-4189697__340.jpg 1x, https://cdn.pixabay.com/photo/2019/05/08/21/21/cat-4189697__480.jpg 2x\" src=\"https://cdn.pixabay.com/photo/2019/05/08/21/21/cat-4189697__340.jpg\" srcset=\"https://cdn.pixabay.com/photo/2019/05/08/21/21/cat-4189697__340.jpg 1x, https://cdn.pixabay.com/photo/2019/05/08/21/21/cat-4189697__480.jpg 2x\"/>,\n",
       " <img alt=\"호랑이, 야생 생물, 동물, 고양이, 프레데터, 고양이과의, 위험한\" data-lazy=\"https://cdn.pixabay.com/photo/2015/05/15/14/35/tiger-768574__340.jpg\" data-lazy-srcset=\"https://cdn.pixabay.com/photo/2015/05/15/14/35/tiger-768574__340.jpg 1x, https://cdn.pixabay.com/photo/2015/05/15/14/35/tiger-768574__480.jpg 2x\" src=\"https://cdn.pixabay.com/photo/2015/05/15/14/35/tiger-768574__340.jpg\" srcset=\"https://cdn.pixabay.com/photo/2015/05/15/14/35/tiger-768574__340.jpg 1x, https://cdn.pixabay.com/photo/2015/05/15/14/35/tiger-768574__480.jpg 2x\"/>,\n",
       " <img alt=\"호랑이, 새끼, 호랑이 새끼, 큰 고양이, 고양이과의, 동물, 야생 생물\" data-lazy=\"https://cdn.pixabay.com/photo/2013/07/19/00/18/tiger-165189__340.jpg\" data-lazy-srcset=\"https://cdn.pixabay.com/photo/2013/07/19/00/18/tiger-165189__340.jpg 1x, https://cdn.pixabay.com/photo/2013/07/19/00/18/tiger-165189__480.jpg 2x\" src=\"https://cdn.pixabay.com/photo/2013/07/19/00/18/tiger-165189__340.jpg\" srcset=\"https://cdn.pixabay.com/photo/2013/07/19/00/18/tiger-165189__340.jpg 1x, https://cdn.pixabay.com/photo/2013/07/19/00/18/tiger-165189__480.jpg 2x\"/>,\n",
       " <img alt=\"고양이, 새끼 고양이, 작은, 애완 동물, 고양이 새끼, 귀여운\" data-lazy=\"https://cdn.pixabay.com/photo/2019/06/18/11/32/cat-4282123__340.jpg\" data-lazy-srcset=\"https://cdn.pixabay.com/photo/2019/06/18/11/32/cat-4282123__340.jpg 1x, https://cdn.pixabay.com/photo/2019/06/18/11/32/cat-4282123__480.jpg 2x\" src=\"https://cdn.pixabay.com/photo/2019/06/18/11/32/cat-4282123__340.jpg\" srcset=\"https://cdn.pixabay.com/photo/2019/06/18/11/32/cat-4282123__340.jpg 1x, https://cdn.pixabay.com/photo/2019/06/18/11/32/cat-4282123__480.jpg 2x\"/>,\n",
       " <img alt=\"고양이 눈, 고양이, 블랙, 보기, 찾고, 시선, 응시, 관찰, 스토킹\" data-lazy=\"https://cdn.pixabay.com/photo/2017/11/13/07/14/cat-eyes-2944820__340.jpg\" data-lazy-srcset=\"https://cdn.pixabay.com/photo/2017/11/13/07/14/cat-eyes-2944820__340.jpg 1x, https://cdn.pixabay.com/photo/2017/11/13/07/14/cat-eyes-2944820__480.jpg 2x\" src=\"https://cdn.pixabay.com/photo/2017/11/13/07/14/cat-eyes-2944820__340.jpg\" srcset=\"https://cdn.pixabay.com/photo/2017/11/13/07/14/cat-eyes-2944820__340.jpg 1x, https://cdn.pixabay.com/photo/2017/11/13/07/14/cat-eyes-2944820__480.jpg 2x\"/>,\n",
       " <img alt=\"푸 마, 고양이과의, 프레데터, 야생, 초상화, 얼굴, 눈, 근접 촬영\" data-lazy=\"https://cdn.pixabay.com/photo/2017/10/30/19/41/puma-2903312__340.jpg\" data-lazy-srcset=\"https://cdn.pixabay.com/photo/2017/10/30/19/41/puma-2903312__340.jpg 1x, https://cdn.pixabay.com/photo/2017/10/30/19/41/puma-2903312__480.jpg 2x\" src=\"https://cdn.pixabay.com/photo/2017/10/30/19/41/puma-2903312__340.jpg\" srcset=\"https://cdn.pixabay.com/photo/2017/10/30/19/41/puma-2903312__340.jpg 1x, https://cdn.pixabay.com/photo/2017/10/30/19/41/puma-2903312__480.jpg 2x\"/>,\n",
       " <img alt=\"Amurtiger, 타이거, 큰 고양이, 시베리아의, 육식 동물\" data-lazy=\"https://cdn.pixabay.com/photo/2017/01/12/21/42/amurtiger-1975790__340.jpg\" data-lazy-srcset=\"https://cdn.pixabay.com/photo/2017/01/12/21/42/amurtiger-1975790__340.jpg 1x, https://cdn.pixabay.com/photo/2017/01/12/21/42/amurtiger-1975790__480.jpg 2x\" src=\"https://cdn.pixabay.com/photo/2017/01/12/21/42/amurtiger-1975790__340.jpg\" srcset=\"https://cdn.pixabay.com/photo/2017/01/12/21/42/amurtiger-1975790__340.jpg 1x, https://cdn.pixabay.com/photo/2017/01/12/21/42/amurtiger-1975790__480.jpg 2x\"/>,\n",
       " <img alt=\"고양이, 고양이과의, 초상화, 동물, 모호한, 애완 동물, 고양이 눈\" data-lazy=\"https://cdn.pixabay.com/photo/2016/05/15/03/29/cat-1393075__340.jpg\" data-lazy-srcset=\"https://cdn.pixabay.com/photo/2016/05/15/03/29/cat-1393075__340.jpg 1x, https://cdn.pixabay.com/photo/2016/05/15/03/29/cat-1393075__480.jpg 2x\" src=\"https://cdn.pixabay.com/photo/2016/05/15/03/29/cat-1393075__340.jpg\" srcset=\"https://cdn.pixabay.com/photo/2016/05/15/03/29/cat-1393075__340.jpg 1x, https://cdn.pixabay.com/photo/2016/05/15/03/29/cat-1393075__480.jpg 2x\"/>,\n",
       " <img alt=\"고양이, 안경, 애완 동물, 부드러운 털의, 동물, 재미 있은, 귀여운\" data-lazy=\"https://cdn.pixabay.com/photo/2015/10/12/15/01/cat-984097__340.jpg\" data-lazy-srcset=\"https://cdn.pixabay.com/photo/2015/10/12/15/01/cat-984097__340.jpg 1x, https://cdn.pixabay.com/photo/2015/10/12/15/01/cat-984097__480.jpg 2x\" src=\"https://cdn.pixabay.com/photo/2015/10/12/15/01/cat-984097__340.jpg\" srcset=\"https://cdn.pixabay.com/photo/2015/10/12/15/01/cat-984097__340.jpg 1x, https://cdn.pixabay.com/photo/2015/10/12/15/01/cat-984097__480.jpg 2x\"/>,\n",
       " <img alt=\"고양이, 숙취, 빨강, 고등어, 타이거, 동물, 국내 고양이, 모피\" data-lazy=\"https://cdn.pixabay.com/photo/2016/09/07/22/38/cat-1652822__340.jpg\" data-lazy-srcset=\"https://cdn.pixabay.com/photo/2016/09/07/22/38/cat-1652822__340.jpg 1x, https://cdn.pixabay.com/photo/2016/09/07/22/38/cat-1652822__480.jpg 2x\" src=\"https://cdn.pixabay.com/photo/2016/09/07/22/38/cat-1652822__340.jpg\" srcset=\"https://cdn.pixabay.com/photo/2016/09/07/22/38/cat-1652822__340.jpg 1x, https://cdn.pixabay.com/photo/2016/09/07/22/38/cat-1652822__480.jpg 2x\"/>,\n",
       " <img alt=\"스노우 레오 파 드, 레오 파 드, 큰 고양이, 눈, 겨울, 동물원\" data-lazy=\"https://cdn.pixabay.com/photo/2017/01/16/23/10/snow-leopard-1985510__340.jpg\" data-lazy-srcset=\"https://cdn.pixabay.com/photo/2017/01/16/23/10/snow-leopard-1985510__340.jpg 1x, https://cdn.pixabay.com/photo/2017/01/16/23/10/snow-leopard-1985510__480.jpg 2x\" src=\"https://cdn.pixabay.com/photo/2017/01/16/23/10/snow-leopard-1985510__340.jpg\" srcset=\"https://cdn.pixabay.com/photo/2017/01/16/23/10/snow-leopard-1985510__340.jpg 1x, https://cdn.pixabay.com/photo/2017/01/16/23/10/snow-leopard-1985510__480.jpg 2x\"/>,\n",
       " <img alt=\"개, 고양이, 애완 동물, 동물, 친구\" data-lazy=\"https://cdn.pixabay.com/photo/2017/08/07/18/57/dog-2606759__340.jpg\" data-lazy-srcset=\"https://cdn.pixabay.com/photo/2017/08/07/18/57/dog-2606759__340.jpg 1x, https://cdn.pixabay.com/photo/2017/08/07/18/57/dog-2606759__480.jpg 2x\" src=\"https://cdn.pixabay.com/photo/2017/08/07/18/57/dog-2606759__340.jpg\" srcset=\"https://cdn.pixabay.com/photo/2017/08/07/18/57/dog-2606759__340.jpg 1x, https://cdn.pixabay.com/photo/2017/08/07/18/57/dog-2606759__480.jpg 2x\"/>,\n",
       " <img alt=\"고양이, 샴 고양이, 모피, 고양이 새끼, 품종 고양이, Mieze, 샴\" data-lazy=\"https://cdn.pixabay.com/photo/2017/02/15/12/12/cat-2068462__340.jpg\" data-lazy-srcset=\"https://cdn.pixabay.com/photo/2017/02/15/12/12/cat-2068462__340.jpg 1x, https://cdn.pixabay.com/photo/2017/02/15/12/12/cat-2068462__480.jpg 2x\" src=\"https://cdn.pixabay.com/photo/2017/02/15/12/12/cat-2068462__340.jpg\" srcset=\"https://cdn.pixabay.com/photo/2017/02/15/12/12/cat-2068462__340.jpg 1x, https://cdn.pixabay.com/photo/2017/02/15/12/12/cat-2068462__480.jpg 2x\"/>,\n",
       " <img alt=\"고양이, 동물, 애완 동물, 고양이과의, 휴식\" data-lazy=\"https://cdn.pixabay.com/photo/2018/06/03/08/57/cat-3449999__340.jpg\" data-lazy-srcset=\"https://cdn.pixabay.com/photo/2018/06/03/08/57/cat-3449999__340.jpg 1x, https://cdn.pixabay.com/photo/2018/06/03/08/57/cat-3449999__480.jpg 2x\" src=\"https://cdn.pixabay.com/photo/2018/06/03/08/57/cat-3449999__340.jpg\" srcset=\"https://cdn.pixabay.com/photo/2018/06/03/08/57/cat-3449999__340.jpg 1x, https://cdn.pixabay.com/photo/2018/06/03/08/57/cat-3449999__480.jpg 2x\"/>,\n",
       " <img alt=\"페르시아 표범, 레오 파 드, 스노우 레오 파 드, 눈, 겨울, 숲\" data-lazy=\"https://cdn.pixabay.com/photo/2016/09/05/23/00/persian-leopard-1647940__340.jpg\" data-lazy-srcset=\"https://cdn.pixabay.com/photo/2016/09/05/23/00/persian-leopard-1647940__340.jpg 1x, https://cdn.pixabay.com/photo/2016/09/05/23/00/persian-leopard-1647940__480.jpg 2x\" src=\"https://cdn.pixabay.com/photo/2016/09/05/23/00/persian-leopard-1647940__340.jpg\" srcset=\"https://cdn.pixabay.com/photo/2016/09/05/23/00/persian-leopard-1647940__340.jpg 1x, https://cdn.pixabay.com/photo/2016/09/05/23/00/persian-leopard-1647940__480.jpg 2x\"/>,\n",
       " <img alt=\"새끼 고양이, 귀여운, 고양이, 화이트, 가정적인, 귀여운 고양이\" data-lazy=\"https://cdn.pixabay.com/photo/2016/03/28/10/05/kitten-1285341__340.jpg\" data-lazy-srcset=\"https://cdn.pixabay.com/photo/2016/03/28/10/05/kitten-1285341__340.jpg 1x, https://cdn.pixabay.com/photo/2016/03/28/10/05/kitten-1285341__480.jpg 2x\" src=\"https://cdn.pixabay.com/photo/2016/03/28/10/05/kitten-1285341__340.jpg\" srcset=\"https://cdn.pixabay.com/photo/2016/03/28/10/05/kitten-1285341__340.jpg 1x, https://cdn.pixabay.com/photo/2016/03/28/10/05/kitten-1285341__480.jpg 2x\"/>,\n",
       " <img alt=\"치타, 레오 파 드, 동물, 큰, 야만인, 고양이, 위험한, 고양이과의\" data-lazy=\"https://cdn.pixabay.com/photo/2012/03/01/00/28/cheetah-19621__340.jpg\" data-lazy-srcset=\"https://cdn.pixabay.com/photo/2012/03/01/00/28/cheetah-19621__340.jpg 1x, https://cdn.pixabay.com/photo/2012/03/01/00/28/cheetah-19621__480.jpg 2x\" src=\"https://cdn.pixabay.com/photo/2012/03/01/00/28/cheetah-19621__340.jpg\" srcset=\"https://cdn.pixabay.com/photo/2012/03/01/00/28/cheetah-19621__340.jpg 1x, https://cdn.pixabay.com/photo/2012/03/01/00/28/cheetah-19621__480.jpg 2x\"/>,\n",
       " <img alt=\"아프리카 사자, 사자, 남성, 갈기, 게으른, 고양이, 동물, 프레데터\" data-lazy=\"https://cdn.pixabay.com/photo/2015/09/22/14/34/african-lion-951778__340.jpg\" data-lazy-srcset=\"https://cdn.pixabay.com/photo/2015/09/22/14/34/african-lion-951778__340.jpg 1x, https://cdn.pixabay.com/photo/2015/09/22/14/34/african-lion-951778__480.jpg 2x\" src=\"https://cdn.pixabay.com/photo/2015/09/22/14/34/african-lion-951778__340.jpg\" srcset=\"https://cdn.pixabay.com/photo/2015/09/22/14/34/african-lion-951778__340.jpg 1x, https://cdn.pixabay.com/photo/2015/09/22/14/34/african-lion-951778__480.jpg 2x\"/>,\n",
       " <img alt=\"고양이, 고양이과의, 동물, 애완 동물, 강아지, 머리, 고양이 총구\" data-lazy=\"https://cdn.pixabay.com/photo/2017/03/29/09/59/cat-2184682__340.jpg\" data-lazy-srcset=\"https://cdn.pixabay.com/photo/2017/03/29/09/59/cat-2184682__340.jpg 1x, https://cdn.pixabay.com/photo/2017/03/29/09/59/cat-2184682__480.jpg 2x\" src=\"https://cdn.pixabay.com/photo/2017/03/29/09/59/cat-2184682__340.jpg\" srcset=\"https://cdn.pixabay.com/photo/2017/03/29/09/59/cat-2184682__340.jpg 1x, https://cdn.pixabay.com/photo/2017/03/29/09/59/cat-2184682__480.jpg 2x\"/>,\n",
       " <img alt=\"고양이, 여성, 모피, 고등어, 감시, 높은, 초상화, 주의, 뷰티\" data-lazy=\"https://cdn.pixabay.com/photo/2016/12/30/12/16/cat-1940487__340.jpg\" data-lazy-srcset=\"https://cdn.pixabay.com/photo/2016/12/30/12/16/cat-1940487__340.jpg 1x, https://cdn.pixabay.com/photo/2016/12/30/12/16/cat-1940487__480.jpg 2x\" src=\"https://cdn.pixabay.com/photo/2016/12/30/12/16/cat-1940487__340.jpg\" srcset=\"https://cdn.pixabay.com/photo/2016/12/30/12/16/cat-1940487__340.jpg 1x, https://cdn.pixabay.com/photo/2016/12/30/12/16/cat-1940487__480.jpg 2x\"/>,\n",
       " <img alt=\"고양이, 슬픈, 귀여운, 작은, 달콤한, 애완 동물, 새끼 고양이, 젊은\" data-lazy=\"https://cdn.pixabay.com/photo/2018/03/27/17/25/cat-3266673__340.jpg\" data-lazy-srcset=\"https://cdn.pixabay.com/photo/2018/03/27/17/25/cat-3266673__340.jpg 1x, https://cdn.pixabay.com/photo/2018/03/27/17/25/cat-3266673__480.jpg 2x\" src=\"https://cdn.pixabay.com/photo/2018/03/27/17/25/cat-3266673__340.jpg\" srcset=\"https://cdn.pixabay.com/photo/2018/03/27/17/25/cat-3266673__340.jpg 1x, https://cdn.pixabay.com/photo/2018/03/27/17/25/cat-3266673__480.jpg 2x\"/>,\n",
       " <img alt=\"시암 사람, 고양이, 애완 동물, 파란 눈, 고양이과의, 화이트\" data-lazy=\"https://cdn.pixabay.com/photo/2014/10/01/16/36/siamese-468814__340.jpg\" data-lazy-srcset=\"https://cdn.pixabay.com/photo/2014/10/01/16/36/siamese-468814__340.jpg 1x, https://cdn.pixabay.com/photo/2014/10/01/16/36/siamese-468814__480.jpg 2x\" src=\"https://cdn.pixabay.com/photo/2014/10/01/16/36/siamese-468814__340.jpg\" srcset=\"https://cdn.pixabay.com/photo/2014/10/01/16/36/siamese-468814__340.jpg 1x, https://cdn.pixabay.com/photo/2014/10/01/16/36/siamese-468814__480.jpg 2x\"/>,\n",
       " <img alt=\"아프리카, 아프리카의, 동물, 고양이, 근접, 세부 정보, 눈, 얼굴\" data-lazy=\"https://cdn.pixabay.com/photo/2012/02/27/15/35/africa-17335__340.jpg\" data-lazy-srcset=\"https://cdn.pixabay.com/photo/2012/02/27/15/35/africa-17335__340.jpg 1x, https://cdn.pixabay.com/photo/2012/02/27/15/35/africa-17335__480.jpg 2x\" src=\"https://cdn.pixabay.com/photo/2012/02/27/15/35/africa-17335__340.jpg\" srcset=\"https://cdn.pixabay.com/photo/2012/02/27/15/35/africa-17335__340.jpg 1x, https://cdn.pixabay.com/photo/2012/02/27/15/35/africa-17335__480.jpg 2x\"/>,\n",
       " <img alt=\"고양이, 애완 동물, 동물, 그레이\" data-lazy=\"https://cdn.pixabay.com/photo/2018/03/26/02/05/cat-3261420__340.jpg\" data-lazy-srcset=\"https://cdn.pixabay.com/photo/2018/03/26/02/05/cat-3261420__340.jpg 1x, https://cdn.pixabay.com/photo/2018/03/26/02/05/cat-3261420__480.jpg 2x\" src=\"https://cdn.pixabay.com/photo/2018/03/26/02/05/cat-3261420__340.jpg\" srcset=\"https://cdn.pixabay.com/photo/2018/03/26/02/05/cat-3261420__340.jpg 1x, https://cdn.pixabay.com/photo/2018/03/26/02/05/cat-3261420__480.jpg 2x\"/>,\n",
       " <img alt=\"아프리카, 동물, 큰, 야만인, 고양이, 고양이과의, 여성, 모피\" data-lazy=\"https://cdn.pixabay.com/photo/2012/03/04/00/09/africa-21787__340.jpg\" data-lazy-srcset=\"https://cdn.pixabay.com/photo/2012/03/04/00/09/africa-21787__340.jpg 1x, https://cdn.pixabay.com/photo/2012/03/04/00/09/africa-21787__480.jpg 2x\" src=\"https://cdn.pixabay.com/photo/2012/03/04/00/09/africa-21787__340.jpg\" srcset=\"https://cdn.pixabay.com/photo/2012/03/04/00/09/africa-21787__340.jpg 1x, https://cdn.pixabay.com/photo/2012/03/04/00/09/africa-21787__480.jpg 2x\"/>,\n",
       " <img alt=\"고양이, 파란 눈, 애완 동물, 고양이과의, 고양이 눈\" data-lazy=\"https://cdn.pixabay.com/photo/2018/04/20/17/18/cat-3336579__340.jpg\" data-lazy-srcset=\"https://cdn.pixabay.com/photo/2018/04/20/17/18/cat-3336579__340.jpg 1x, https://cdn.pixabay.com/photo/2018/04/20/17/18/cat-3336579__480.jpg 2x\" src=\"https://cdn.pixabay.com/photo/2018/04/20/17/18/cat-3336579__340.jpg\" srcset=\"https://cdn.pixabay.com/photo/2018/04/20/17/18/cat-3336579__340.jpg 1x, https://cdn.pixabay.com/photo/2018/04/20/17/18/cat-3336579__480.jpg 2x\"/>,\n",
       " <img alt=\"여자, 고양이, 애완 동물, 소녀, 동물, 매력적인, 습니다\" data-lazy=\"https://cdn.pixabay.com/photo/2018/01/11/23/16/woman-3077180__340.jpg\" data-lazy-srcset=\"https://cdn.pixabay.com/photo/2018/01/11/23/16/woman-3077180__340.jpg 1x, https://cdn.pixabay.com/photo/2018/01/11/23/16/woman-3077180__480.jpg 2x\" src=\"https://cdn.pixabay.com/photo/2018/01/11/23/16/woman-3077180__340.jpg\" srcset=\"https://cdn.pixabay.com/photo/2018/01/11/23/16/woman-3077180__340.jpg 1x, https://cdn.pixabay.com/photo/2018/01/11/23/16/woman-3077180__480.jpg 2x\"/>,\n",
       " <img alt=\"아프리카, 동물, 큰, 야만인, 고양이, 커플, 딩가, 껴 안고\" data-lazy=\"https://cdn.pixabay.com/photo/2012/02/27/15/36/africa-17344__340.jpg\" data-lazy-srcset=\"https://cdn.pixabay.com/photo/2012/02/27/15/36/africa-17344__340.jpg 1x, https://cdn.pixabay.com/photo/2012/02/27/15/36/africa-17344__480.jpg 2x\" src=\"https://cdn.pixabay.com/photo/2012/02/27/15/36/africa-17344__340.jpg\" srcset=\"https://cdn.pixabay.com/photo/2012/02/27/15/36/africa-17344__340.jpg 1x, https://cdn.pixabay.com/photo/2012/02/27/15/36/africa-17344__480.jpg 2x\"/>,\n",
       " <img alt=\"라이온 스, 동물원, 동물, 원정 여행, 아프리카, 큰 고양이\" data-lazy=\"https://cdn.pixabay.com/photo/2016/09/10/19/56/lions-1660044__340.jpg\" data-lazy-srcset=\"https://cdn.pixabay.com/photo/2016/09/10/19/56/lions-1660044__340.jpg 1x, https://cdn.pixabay.com/photo/2016/09/10/19/56/lions-1660044__480.jpg 2x\" src=\"https://cdn.pixabay.com/photo/2016/09/10/19/56/lions-1660044__340.jpg\" srcset=\"https://cdn.pixabay.com/photo/2016/09/10/19/56/lions-1660044__340.jpg 1x, https://cdn.pixabay.com/photo/2016/09/10/19/56/lions-1660044__480.jpg 2x\"/>,\n",
       " <img alt=\"사자, 동물, 자연, 육식 동물, 큰 고양이, 야생, 표범속 레오\" data-lazy=\"https://cdn.pixabay.com/photo/2014/12/12/19/45/lion-565820__340.jpg\" data-lazy-srcset=\"https://cdn.pixabay.com/photo/2014/12/12/19/45/lion-565820__340.jpg 1x, https://cdn.pixabay.com/photo/2014/12/12/19/45/lion-565820__480.jpg 2x\" src=\"https://cdn.pixabay.com/photo/2014/12/12/19/45/lion-565820__340.jpg\" srcset=\"https://cdn.pixabay.com/photo/2014/12/12/19/45/lion-565820__340.jpg 1x, https://cdn.pixabay.com/photo/2014/12/12/19/45/lion-565820__480.jpg 2x\"/>,\n",
       " <img alt=\"개, 고양이, 애완 동물, 실루엣, 동물\" data-lazy=\"https://cdn.pixabay.com/photo/2016/07/21/14/18/dog-1532627__340.png\" data-lazy-srcset=\"https://cdn.pixabay.com/photo/2016/07/21/14/18/dog-1532627__340.png 1x, https://cdn.pixabay.com/photo/2016/07/21/14/18/dog-1532627__480.png 2x\" src=\"https://cdn.pixabay.com/photo/2016/07/21/14/18/dog-1532627__340.png\" srcset=\"https://cdn.pixabay.com/photo/2016/07/21/14/18/dog-1532627__340.png 1x, https://cdn.pixabay.com/photo/2016/07/21/14/18/dog-1532627__480.png 2x\"/>,\n",
       " <img alt=\"고양이, 동물, 귀여운, 애완 동물, 고양이과의, 키티\" data-lazy=\"https://cdn.pixabay.com/photo/2015/01/31/12/36/cat-618470__340.jpg\" data-lazy-srcset=\"https://cdn.pixabay.com/photo/2015/01/31/12/36/cat-618470__340.jpg 1x, https://cdn.pixabay.com/photo/2015/01/31/12/36/cat-618470__480.jpg 2x\" src=\"https://cdn.pixabay.com/photo/2015/01/31/12/36/cat-618470__340.jpg\" srcset=\"https://cdn.pixabay.com/photo/2015/01/31/12/36/cat-618470__340.jpg 1x, https://cdn.pixabay.com/photo/2015/01/31/12/36/cat-618470__480.jpg 2x\"/>,\n",
       " <img alt=\"재규어, 야생 고양이, 포유 동물, 동물원, 고양이과의, 큰, 고양이\" data-lazy=\"https://cdn.pixabay.com/photo/2016/11/08/00/12/jaguar-1807171__340.jpg\" data-lazy-srcset=\"https://cdn.pixabay.com/photo/2016/11/08/00/12/jaguar-1807171__340.jpg 1x, https://cdn.pixabay.com/photo/2016/11/08/00/12/jaguar-1807171__480.jpg 2x\" src=\"https://cdn.pixabay.com/photo/2016/11/08/00/12/jaguar-1807171__340.jpg\" srcset=\"https://cdn.pixabay.com/photo/2016/11/08/00/12/jaguar-1807171__340.jpg 1x, https://cdn.pixabay.com/photo/2016/11/08/00/12/jaguar-1807171__480.jpg 2x\"/>,\n",
       " <img alt=\"고양이, 고양이 눈, 눈, 얼굴, 고양이 얼굴, 보기, 동물, 고양이 코\" data-lazy=\"https://cdn.pixabay.com/photo/2013/01/25/13/03/cat-76116__340.jpg\" data-lazy-srcset=\"https://cdn.pixabay.com/photo/2013/01/25/13/03/cat-76116__340.jpg 1x, https://cdn.pixabay.com/photo/2013/01/25/13/03/cat-76116__480.jpg 2x\" src=\"https://cdn.pixabay.com/photo/2013/01/25/13/03/cat-76116__340.jpg\" srcset=\"https://cdn.pixabay.com/photo/2013/01/25/13/03/cat-76116__340.jpg 1x, https://cdn.pixabay.com/photo/2013/01/25/13/03/cat-76116__480.jpg 2x\"/>,\n",
       " <img alt=\"사자, 큰 고양이, 육식 동물, 사파리, 황야, 야생 동물, 보츠와나\" data-lazy=\"https://cdn.pixabay.com/photo/2014/11/03/11/07/lion-515028__340.jpg\" data-lazy-srcset=\"https://cdn.pixabay.com/photo/2014/11/03/11/07/lion-515028__340.jpg 1x, https://cdn.pixabay.com/photo/2014/11/03/11/07/lion-515028__480.jpg 2x\" src=\"https://cdn.pixabay.com/photo/2014/11/03/11/07/lion-515028__340.jpg\" srcset=\"https://cdn.pixabay.com/photo/2014/11/03/11/07/lion-515028__340.jpg 1x, https://cdn.pixabay.com/photo/2014/11/03/11/07/lion-515028__480.jpg 2x\"/>,\n",
       " <img alt=\"고양이, 고양이과의, 키티, 새끼 고양이, 국내 고양이, 애완 동물\" data-lazy=\"https://cdn.pixabay.com/photo/2013/05/17/15/54/cat-111793__340.jpg\" data-lazy-srcset=\"https://cdn.pixabay.com/photo/2013/05/17/15/54/cat-111793__340.jpg 1x, https://cdn.pixabay.com/photo/2013/05/17/15/54/cat-111793__480.jpg 2x\" src=\"https://cdn.pixabay.com/photo/2013/05/17/15/54/cat-111793__340.jpg\" srcset=\"https://cdn.pixabay.com/photo/2013/05/17/15/54/cat-111793__340.jpg 1x, https://cdn.pixabay.com/photo/2013/05/17/15/54/cat-111793__480.jpg 2x\"/>,\n",
       " <img alt=\"고양이, 새끼 고양이, 귀여운, 잠자는, 자, 빨간 머리, 레드\" data-lazy=\"https://cdn.pixabay.com/photo/2016/12/30/17/27/cat-1941089__340.jpg\" data-lazy-srcset=\"https://cdn.pixabay.com/photo/2016/12/30/17/27/cat-1941089__340.jpg 1x, https://cdn.pixabay.com/photo/2016/12/30/17/27/cat-1941089__480.jpg 2x\" src=\"https://cdn.pixabay.com/photo/2016/12/30/17/27/cat-1941089__340.jpg\" srcset=\"https://cdn.pixabay.com/photo/2016/12/30/17/27/cat-1941089__340.jpg 1x, https://cdn.pixabay.com/photo/2016/12/30/17/27/cat-1941089__480.jpg 2x\"/>,\n",
       " <img alt=\"패턴, 핑크, 귀여운, 달콤한, 모피, 고양이, 무성한 고양이\" data-lazy=\"https://cdn.pixabay.com/photo/2016/06/24/15/48/pattern-1477380__340.png\" data-lazy-srcset=\"https://cdn.pixabay.com/photo/2016/06/24/15/48/pattern-1477380__340.png 1x, https://cdn.pixabay.com/photo/2016/06/24/15/48/pattern-1477380__480.png 2x\" src=\"https://cdn.pixabay.com/photo/2016/06/24/15/48/pattern-1477380__340.png\" srcset=\"https://cdn.pixabay.com/photo/2016/06/24/15/48/pattern-1477380__340.png 1x, https://cdn.pixabay.com/photo/2016/06/24/15/48/pattern-1477380__480.png 2x\"/>,\n",
       " <img alt=\"스노우 레오 파 드, 안락 응시, 바닥, 찾고, 고양이과의, 큰, 고양이\" data-lazy=\"https://cdn.pixabay.com/photo/2015/10/26/01/07/snow-leopard-1006542__340.jpg\" data-lazy-srcset=\"https://cdn.pixabay.com/photo/2015/10/26/01/07/snow-leopard-1006542__340.jpg 1x, https://cdn.pixabay.com/photo/2015/10/26/01/07/snow-leopard-1006542__480.jpg 2x\" src=\"https://cdn.pixabay.com/photo/2015/10/26/01/07/snow-leopard-1006542__340.jpg\" srcset=\"https://cdn.pixabay.com/photo/2015/10/26/01/07/snow-leopard-1006542__340.jpg 1x, https://cdn.pixabay.com/photo/2015/10/26/01/07/snow-leopard-1006542__480.jpg 2x\"/>,\n",
       " <img alt=\"고양이, 키티, 애완 동물, 고양이과의, 동물, 사랑스럽다, 귀여운\" data-lazy=\"https://cdn.pixabay.com/photo/2019/06/12/15/07/cat-4269479__340.jpg\" data-lazy-srcset=\"https://cdn.pixabay.com/photo/2019/06/12/15/07/cat-4269479__340.jpg 1x, https://cdn.pixabay.com/photo/2019/06/12/15/07/cat-4269479__480.jpg 2x\" src=\"https://cdn.pixabay.com/photo/2019/06/12/15/07/cat-4269479__340.jpg\" srcset=\"https://cdn.pixabay.com/photo/2019/06/12/15/07/cat-4269479__340.jpg 1x, https://cdn.pixabay.com/photo/2019/06/12/15/07/cat-4269479__480.jpg 2x\"/>,\n",
       " <img alt=\"고양이, 고양이과의, 귀여운, 거짓말하는, 자연, 동물, 새끼 고양이\" data-lazy=\"https://cdn.pixabay.com/photo/2018/05/30/19/29/cat-3442257__340.jpg\" data-lazy-srcset=\"https://cdn.pixabay.com/photo/2018/05/30/19/29/cat-3442257__340.jpg 1x, https://cdn.pixabay.com/photo/2018/05/30/19/29/cat-3442257__480.jpg 2x\" src=\"https://cdn.pixabay.com/photo/2018/05/30/19/29/cat-3442257__340.jpg\" srcset=\"https://cdn.pixabay.com/photo/2018/05/30/19/29/cat-3442257__340.jpg 1x, https://cdn.pixabay.com/photo/2018/05/30/19/29/cat-3442257__480.jpg 2x\"/>,\n",
       " <img alt=\"사자, 육식 동물, 위험한, 갈기, 큰 고양이, 남성, 동물원\" data-lazy=\"https://cdn.pixabay.com/photo/2018/07/31/11/14/lion-3574819__340.jpg\" data-lazy-srcset=\"https://cdn.pixabay.com/photo/2018/07/31/11/14/lion-3574819__340.jpg 1x, https://cdn.pixabay.com/photo/2018/07/31/11/14/lion-3574819__480.jpg 2x\" src=\"https://cdn.pixabay.com/photo/2018/07/31/11/14/lion-3574819__340.jpg\" srcset=\"https://cdn.pixabay.com/photo/2018/07/31/11/14/lion-3574819__340.jpg 1x, https://cdn.pixabay.com/photo/2018/07/31/11/14/lion-3574819__480.jpg 2x\"/>,\n",
       " <img alt=\"고양이, 봐, 눈, 가 까이 서, 동물, 고양이과의\" data-lazy=\"https://cdn.pixabay.com/photo/2017/11/22/08/07/cat-2969932__340.jpg\" data-lazy-srcset=\"https://cdn.pixabay.com/photo/2017/11/22/08/07/cat-2969932__340.jpg 1x, https://cdn.pixabay.com/photo/2017/11/22/08/07/cat-2969932__480.jpg 2x\" src=\"https://cdn.pixabay.com/photo/2017/11/22/08/07/cat-2969932__340.jpg\" srcset=\"https://cdn.pixabay.com/photo/2017/11/22/08/07/cat-2969932__340.jpg 1x, https://cdn.pixabay.com/photo/2017/11/22/08/07/cat-2969932__480.jpg 2x\"/>,\n",
       " <img alt=\"고양이, 동물, 애완 동물, 고양이과의, 생강\" data-lazy=\"https://cdn.pixabay.com/photo/2015/02/14/10/16/cat-636172__340.jpg\" data-lazy-srcset=\"https://cdn.pixabay.com/photo/2015/02/14/10/16/cat-636172__340.jpg 1x, https://cdn.pixabay.com/photo/2015/02/14/10/16/cat-636172__480.jpg 2x\" src=\"https://cdn.pixabay.com/photo/2015/02/14/10/16/cat-636172__340.jpg\" srcset=\"https://cdn.pixabay.com/photo/2015/02/14/10/16/cat-636172__340.jpg 1x, https://cdn.pixabay.com/photo/2015/02/14/10/16/cat-636172__480.jpg 2x\"/>,\n",
       " <img alt=\"호랑이, 호랑이 머리, 동물, 고양이과의\" data-lazy=\"https://cdn.pixabay.com/photo/2016/07/18/20/30/tiger-1526704__340.png\" data-lazy-srcset=\"https://cdn.pixabay.com/photo/2016/07/18/20/30/tiger-1526704__340.png 1x, https://cdn.pixabay.com/photo/2016/07/18/20/30/tiger-1526704__480.png 2x\" src=\"https://cdn.pixabay.com/photo/2016/07/18/20/30/tiger-1526704__340.png\" srcset=\"https://cdn.pixabay.com/photo/2016/07/18/20/30/tiger-1526704__340.png 1x, https://cdn.pixabay.com/photo/2016/07/18/20/30/tiger-1526704__480.png 2x\"/>,\n",
       " <img alt=\"고양이, 사람, 연주, 애완 동물, 발, 행복한, 사랑, 함께, 동반자\" data-lazy=\"https://cdn.pixabay.com/photo/2015/03/26/10/21/cat-691175__340.jpg\" data-lazy-srcset=\"https://cdn.pixabay.com/photo/2015/03/26/10/21/cat-691175__340.jpg 1x, https://cdn.pixabay.com/photo/2015/03/26/10/21/cat-691175__480.jpg 2x\" src=\"https://cdn.pixabay.com/photo/2015/03/26/10/21/cat-691175__340.jpg\" srcset=\"https://cdn.pixabay.com/photo/2015/03/26/10/21/cat-691175__340.jpg 1x, https://cdn.pixabay.com/photo/2015/03/26/10/21/cat-691175__480.jpg 2x\"/>,\n",
       " <img alt=\"마녀, 요술, 빗자루, 고양이, 여성, 나는, 할로윈, 마술, 보름달\" data-lazy=\"https://cdn.pixabay.com/photo/2013/07/13/01/12/witch-155291__340.png\" data-lazy-srcset=\"https://cdn.pixabay.com/photo/2013/07/13/01/12/witch-155291__340.png 1x, https://cdn.pixabay.com/photo/2013/07/13/01/12/witch-155291__480.png 2x\" src=\"https://cdn.pixabay.com/photo/2013/07/13/01/12/witch-155291__340.png\" srcset=\"https://cdn.pixabay.com/photo/2013/07/13/01/12/witch-155291__340.png 1x, https://cdn.pixabay.com/photo/2013/07/13/01/12/witch-155291__480.png 2x\"/>,\n",
       " <img alt=\"호랑이, 동물, 벵골, 고양이, 고양이과의, 머리, 와일드 켓 츠, 자연\" data-lazy=\"https://cdn.pixabay.com/photo/2016/11/14/03/56/tiger-1822535__340.jpg\" data-lazy-srcset=\"https://cdn.pixabay.com/photo/2016/11/14/03/56/tiger-1822535__340.jpg 1x, https://cdn.pixabay.com/photo/2016/11/14/03/56/tiger-1822535__480.jpg 2x\" src=\"https://cdn.pixabay.com/photo/2016/11/14/03/56/tiger-1822535__340.jpg\" srcset=\"https://cdn.pixabay.com/photo/2016/11/14/03/56/tiger-1822535__340.jpg 1x, https://cdn.pixabay.com/photo/2016/11/14/03/56/tiger-1822535__480.jpg 2x\"/>]"
      ]
     },
     "execution_count": 37,
     "metadata": {},
     "output_type": "execute_result"
    }
   ],
   "source": [
    "img_tags"
   ]
  },
  {
   "cell_type": "code",
   "execution_count": 38,
   "id": "3497229f-4f4f-45b6-bb54-47b96fe25bce",
   "metadata": {},
   "outputs": [],
   "source": [
    "img_tags=soup.select('div.flex_grid.credits.search_results img')"
   ]
  },
  {
   "cell_type": "code",
   "execution_count": 28,
   "id": "e13f2fc0-8fe9-4b7e-a6d6-3df689f510b7",
   "metadata": {},
   "outputs": [],
   "source": [
    "img_srcs=[i['src'] for i in img_tags]"
   ]
  },
  {
   "cell_type": "code",
   "execution_count": 29,
   "id": "f53a5144-c32d-4f8e-af08-f0463a00fe66",
   "metadata": {},
   "outputs": [
    {
     "data": {
      "text/plain": [
       "['https://cdn.pixabay.com/photo/2017/02/20/18/03/cat-2083492__340.jpg',\n",
       " 'https://cdn.pixabay.com/photo/2016/03/28/12/35/cat-1285634__340.png',\n",
       " 'https://cdn.pixabay.com/photo/2015/03/27/13/16/cat-694730__340.jpg',\n",
       " 'https://cdn.pixabay.com/photo/2016/07/10/21/47/cat-1508613__340.jpg',\n",
       " 'https://cdn.pixabay.com/photo/2014/11/30/14/11/kitty-551554__340.jpg',\n",
       " 'https://cdn.pixabay.com/photo/2015/11/16/14/43/cat-1045782__340.jpg',\n",
       " 'https://cdn.pixabay.com/photo/2015/04/23/21/59/tree-736877__340.jpg',\n",
       " 'https://cdn.pixabay.com/photo/2014/04/13/20/49/cat-323262__340.jpg',\n",
       " 'https://cdn.pixabay.com/photo/2013/05/30/18/21/tabby-114782__340.jpg',\n",
       " 'https://cdn.pixabay.com/photo/2017/11/14/13/06/kitty-2948404__340.jpg',\n",
       " 'https://cdn.pixabay.com/photo/2018/07/31/22/08/lion-3576045__340.jpg',\n",
       " 'https://cdn.pixabay.com/photo/2017/07/24/19/57/tiger-2535888__340.jpg',\n",
       " 'https://cdn.pixabay.com/photo/2018/03/26/20/49/tiger-3264048__340.jpg',\n",
       " 'https://cdn.pixabay.com/photo/2017/11/06/09/53/animal-2923186__340.jpg',\n",
       " 'https://cdn.pixabay.com/photo/2014/05/07/06/44/animal-339400__340.jpg',\n",
       " 'https://cdn.pixabay.com/photo/2018/01/25/14/12/nature-3106213__340.jpg',\n",
       " 'https://cdn.pixabay.com/photo/2016/06/14/00/14/cat-1455468__340.jpg',\n",
       " 'https://cdn.pixabay.com/photo/2016/01/19/17/41/friends-1149841__340.jpg',\n",
       " 'https://cdn.pixabay.com/photo/2017/07/25/01/22/cat-2536662__340.jpg',\n",
       " 'https://cdn.pixabay.com/photo/2013/04/01/03/45/cat-98359__340.jpg',\n",
       " 'https://cdn.pixabay.com/photo/2016/02/10/16/37/cat-1192026__340.jpg',\n",
       " 'https://cdn.pixabay.com/photo/2015/05/22/05/52/cat-778315__340.jpg',\n",
       " 'https://cdn.pixabay.com/photo/2016/11/29/10/07/animal-1868911__340.jpg',\n",
       " 'https://cdn.pixabay.com/photo/2017/05/17/12/42/tiger-2320819__340.jpg',\n",
       " 'https://cdn.pixabay.com/photo/2017/11/09/21/41/cat-2934720__340.jpg',\n",
       " 'https://cdn.pixabay.com/photo/2017/12/09/21/33/sunset-3008779__340.jpg',\n",
       " 'https://cdn.pixabay.com/photo/2016/09/05/21/37/cat-1647775__340.jpg',\n",
       " 'https://cdn.pixabay.com/photo/2014/12/22/10/04/lion-577104__340.jpg',\n",
       " 'https://cdn.pixabay.com/photo/2018/01/28/12/37/cat-3113513__340.jpg',\n",
       " 'https://cdn.pixabay.com/photo/2018/05/04/16/50/cat-3374422__340.jpg',\n",
       " 'https://cdn.pixabay.com/photo/2014/03/29/09/17/cat-300572__340.jpg',\n",
       " 'https://cdn.pixabay.com/photo/2018/04/13/21/24/lion-3317670__340.jpg',\n",
       " 'https://cdn.pixabay.com/photo/2017/03/14/14/49/cat-2143332__340.jpg',\n",
       " 'https://cdn.pixabay.com/photo/2018/07/08/14/16/cat-3523992__340.jpg',\n",
       " 'https://cdn.pixabay.com/photo/2015/08/30/10/58/cat-914110__340.jpg',\n",
       " 'https://cdn.pixabay.com/photo/2018/01/04/18/58/cats-3061372__340.jpg',\n",
       " 'https://cdn.pixabay.com/photo/2014/03/12/01/36/eyes-285825__340.png',\n",
       " 'https://cdn.pixabay.com/photo/2017/08/23/08/33/cats-eyes-2671903__340.jpg',\n",
       " 'https://cdn.pixabay.com/photo/2016/01/02/16/53/lion-1118467__340.jpg',\n",
       " 'https://cdn.pixabay.com/photo/2017/12/11/15/34/lion-3012515__340.jpg',\n",
       " 'https://cdn.pixabay.com/photo/2015/11/16/22/14/cat-1046544__340.jpg',\n",
       " 'https://cdn.pixabay.com/photo/2018/11/29/23/34/cat-3846780__340.jpg',\n",
       " 'https://cdn.pixabay.com/photo/2012/11/26/13/58/cat-67345__340.jpg',\n",
       " 'https://cdn.pixabay.com/photo/2014/11/03/17/40/leopard-515509__340.jpg',\n",
       " 'https://cdn.pixabay.com/photo/2015/02/25/17/56/cat-649164__340.jpg',\n",
       " 'https://cdn.pixabay.com/photo/2016/01/20/13/05/cat-1151519__340.jpg',\n",
       " 'https://cdn.pixabay.com/photo/2018/07/13/10/20/cat-3535404__340.jpg',\n",
       " 'https://cdn.pixabay.com/photo/2017/04/30/18/33/cat-2273598__340.jpg',\n",
       " 'https://cdn.pixabay.com/photo/2015/11/15/22/09/cat-1044914__340.jpg',\n",
       " 'https://cdn.pixabay.com/photo/2016/09/07/16/19/bremen-town-musicians-1651945__340.jpg',\n",
       " 'https://cdn.pixabay.com/photo/2019/07/10/08/31/animal-4328196__340.jpg',\n",
       " 'https://cdn.pixabay.com/photo/2018/05/03/22/34/lion-3372720__340.jpg',\n",
       " 'https://cdn.pixabay.com/photo/2019/05/08/21/21/cat-4189697__340.jpg',\n",
       " 'https://cdn.pixabay.com/photo/2015/05/15/14/35/tiger-768574__340.jpg',\n",
       " 'https://cdn.pixabay.com/photo/2013/07/19/00/18/tiger-165189__340.jpg',\n",
       " 'https://cdn.pixabay.com/photo/2019/06/18/11/32/cat-4282123__340.jpg',\n",
       " 'https://cdn.pixabay.com/photo/2017/11/13/07/14/cat-eyes-2944820__340.jpg',\n",
       " 'https://cdn.pixabay.com/photo/2017/10/30/19/41/puma-2903312__340.jpg',\n",
       " 'https://cdn.pixabay.com/photo/2017/01/12/21/42/amurtiger-1975790__340.jpg',\n",
       " 'https://cdn.pixabay.com/photo/2016/05/15/03/29/cat-1393075__340.jpg',\n",
       " 'https://cdn.pixabay.com/photo/2015/10/12/15/01/cat-984097__340.jpg',\n",
       " 'https://cdn.pixabay.com/photo/2016/09/07/22/38/cat-1652822__340.jpg',\n",
       " 'https://cdn.pixabay.com/photo/2017/01/16/23/10/snow-leopard-1985510__340.jpg',\n",
       " 'https://cdn.pixabay.com/photo/2017/08/07/18/57/dog-2606759__340.jpg',\n",
       " 'https://cdn.pixabay.com/photo/2017/02/15/12/12/cat-2068462__340.jpg',\n",
       " 'https://cdn.pixabay.com/photo/2018/06/03/08/57/cat-3449999__340.jpg',\n",
       " 'https://cdn.pixabay.com/photo/2016/09/05/23/00/persian-leopard-1647940__340.jpg',\n",
       " 'https://cdn.pixabay.com/photo/2016/03/28/10/05/kitten-1285341__340.jpg',\n",
       " 'https://cdn.pixabay.com/photo/2012/03/01/00/28/cheetah-19621__340.jpg',\n",
       " 'https://cdn.pixabay.com/photo/2015/09/22/14/34/african-lion-951778__340.jpg',\n",
       " 'https://cdn.pixabay.com/photo/2017/03/29/09/59/cat-2184682__340.jpg',\n",
       " 'https://cdn.pixabay.com/photo/2016/12/30/12/16/cat-1940487__340.jpg',\n",
       " 'https://cdn.pixabay.com/photo/2018/03/27/17/25/cat-3266673__340.jpg',\n",
       " 'https://cdn.pixabay.com/photo/2014/10/01/16/36/siamese-468814__340.jpg',\n",
       " 'https://cdn.pixabay.com/photo/2012/02/27/15/35/africa-17335__340.jpg',\n",
       " 'https://cdn.pixabay.com/photo/2018/03/26/02/05/cat-3261420__340.jpg',\n",
       " 'https://cdn.pixabay.com/photo/2012/03/04/00/09/africa-21787__340.jpg',\n",
       " 'https://cdn.pixabay.com/photo/2018/04/20/17/18/cat-3336579__340.jpg',\n",
       " 'https://cdn.pixabay.com/photo/2018/01/11/23/16/woman-3077180__340.jpg',\n",
       " 'https://cdn.pixabay.com/photo/2012/02/27/15/36/africa-17344__340.jpg',\n",
       " 'https://cdn.pixabay.com/photo/2016/09/10/19/56/lions-1660044__340.jpg',\n",
       " 'https://cdn.pixabay.com/photo/2014/12/12/19/45/lion-565820__340.jpg',\n",
       " 'https://cdn.pixabay.com/photo/2016/07/21/14/18/dog-1532627__340.png',\n",
       " 'https://cdn.pixabay.com/photo/2015/01/31/12/36/cat-618470__340.jpg',\n",
       " 'https://cdn.pixabay.com/photo/2016/11/08/00/12/jaguar-1807171__340.jpg',\n",
       " 'https://cdn.pixabay.com/photo/2013/01/25/13/03/cat-76116__340.jpg',\n",
       " 'https://cdn.pixabay.com/photo/2014/11/03/11/07/lion-515028__340.jpg',\n",
       " 'https://cdn.pixabay.com/photo/2013/05/17/15/54/cat-111793__340.jpg',\n",
       " 'https://cdn.pixabay.com/photo/2016/12/30/17/27/cat-1941089__340.jpg',\n",
       " 'https://cdn.pixabay.com/photo/2016/06/24/15/48/pattern-1477380__340.png',\n",
       " 'https://cdn.pixabay.com/photo/2015/10/26/01/07/snow-leopard-1006542__340.jpg',\n",
       " 'https://cdn.pixabay.com/photo/2019/06/12/15/07/cat-4269479__340.jpg',\n",
       " 'https://cdn.pixabay.com/photo/2018/05/30/19/29/cat-3442257__340.jpg',\n",
       " 'https://cdn.pixabay.com/photo/2018/07/31/11/14/lion-3574819__340.jpg',\n",
       " 'https://cdn.pixabay.com/photo/2017/11/22/08/07/cat-2969932__340.jpg',\n",
       " 'https://cdn.pixabay.com/photo/2015/02/14/10/16/cat-636172__340.jpg',\n",
       " 'https://cdn.pixabay.com/photo/2016/07/18/20/30/tiger-1526704__340.png',\n",
       " 'https://cdn.pixabay.com/photo/2015/03/26/10/21/cat-691175__340.jpg',\n",
       " 'https://cdn.pixabay.com/photo/2013/07/13/01/12/witch-155291__340.png',\n",
       " 'https://cdn.pixabay.com/photo/2016/11/14/03/56/tiger-1822535__340.jpg']"
      ]
     },
     "execution_count": 29,
     "metadata": {},
     "output_type": "execute_result"
    }
   ],
   "source": [
    "img_srcs"
   ]
  },
  {
   "cell_type": "code",
   "execution_count": 43,
   "id": "b26465f5-75f7-4a88-b9ef-3e0610a9d59e",
   "metadata": {},
   "outputs": [],
   "source": [
    "# 2번 결과에서 2017년도는 img_src_2017리스트에 저장하고 2018년은 img_src_2018 리스트에 저장하세요\n",
    "img_src_2017=[]\n",
    "img_src_2018=[]\n",
    "for i in img_srcs:\n",
    "    if '2017' in i:\n",
    "        img_src_2017.append(i)\n",
    "    elif '2018' in i:\n",
    "        img_src_2018.append(i)\n",
    "    break    \n",
    "        "
   ]
  },
  {
   "cell_type": "code",
   "execution_count": 40,
   "id": "6ea004d1-8cf3-44b8-94e7-cd4dd9f0cb83",
   "metadata": {},
   "outputs": [
    {
     "data": {
      "text/plain": [
       "['https://cdn.pixabay.com/photo/2017/02/20/18/03/cat-2083492__340.jpg']"
      ]
     },
     "execution_count": 40,
     "metadata": {},
     "output_type": "execute_result"
    }
   ],
   "source": [
    "img_src_2017"
   ]
  },
  {
   "cell_type": "code",
   "execution_count": 42,
   "id": "8bc0421d-043a-4495-9133-9fd768914c0d",
   "metadata": {},
   "outputs": [
    {
     "data": {
      "text/plain": [
       "[]"
      ]
     },
     "execution_count": 42,
     "metadata": {},
     "output_type": "execute_result"
    }
   ],
   "source": [
    "img_src_2018"
   ]
  },
  {
   "cell_type": "code",
   "execution_count": null,
   "id": "b87a7b67-4d85-46bf-b893-5bc8f97ce241",
   "metadata": {},
   "outputs": [],
   "source": []
  }
 ],
 "metadata": {
  "kernelspec": {
   "display_name": "Python 3 (ipykernel)",
   "language": "python",
   "name": "python3"
  },
  "language_info": {
   "codemirror_mode": {
    "name": "ipython",
    "version": 3
   },
   "file_extension": ".py",
   "mimetype": "text/x-python",
   "name": "python",
   "nbconvert_exporter": "python",
   "pygments_lexer": "ipython3",
   "version": "3.12.5"
  }
 },
 "nbformat": 4,
 "nbformat_minor": 5
}
