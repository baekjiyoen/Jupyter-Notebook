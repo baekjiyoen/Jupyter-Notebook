{
 "cells": [
  {
   "cell_type": "code",
   "execution_count": 1,
   "id": "14b06082-55fb-4e62-a9e7-05c1899905ed",
   "metadata": {},
   "outputs": [
    {
     "data": {
      "text/plain": [
       "'C:\\\\Users\\\\human\\\\Desktop\\\\수업자료\\\\데이터분석&시각화\\\\06 크롤링_02'"
      ]
     },
     "execution_count": 1,
     "metadata": {},
     "output_type": "execute_result"
    }
   ],
   "source": [
    "pwd"
   ]
  },
  {
   "cell_type": "code",
   "execution_count": 6,
   "id": "8ace401c-bd95-4f11-8e98-50369e282db3",
   "metadata": {},
   "outputs": [],
   "source": [
    "import time\n",
    "from selenium import webdriver\n",
    "from selenium.webdriver.chrome.options import Options\n",
    "from selenium.webdriver.chrome.service import Service\n",
    "from webdriver_manager.chrome import ChromeDriverManager\n",
    "from selenium.webdriver.common.keys import Keys\n",
    "from selenium.webdriver.common.by import By\n",
    "from bs4 import BeautifulSoup as bs\n",
    "import pandas as pd\n",
    "# from tqdm import tqdm\n",
    "import urllib.request\n",
    "import requests\n",
    "\n",
    "options=Options()\n",
    "options.add_experimental_option('detach',True) #화면이 꺼지지 않고 유지\n",
    "options.add_argument('--start-maximized') # 화면을 최대화\n",
    "service=Service(ChromeDriverManager().install()) #크롬드라이버 자동 설치\n",
    "\n",
    "driver=webdriver.Chrome(service=service, options=options)\n",
    "\n",
    "# 1. url생성\n",
    "search='고양이'\n",
    "url=f'https://search.naver.com/search.naver?ssc=tab.image.all&where=image&sm=tab_jum&query={search}'\n",
    "\n",
    "# 2. url접속\n",
    "driver.get(url)\n",
    "time.sleep(2)\n",
    "\n",
    "for i in range(10):\n",
    "    driver.execute_script(\"window.scrollTo(0,document.body.scrollHeight);\")\n",
    "    time.sleep(1)\n",
    "\n",
    "html=driver.page_source\n",
    "\n"
   ]
  },
  {
   "cell_type": "code",
   "execution_count": 7,
   "id": "6fe6db68-90e0-44da-8862-90466731b81e",
   "metadata": {},
   "outputs": [],
   "source": [
    "soup=bs(html,'html')\n",
    "img_tags=soup.find_all('img','_fe_image_tab_content_thumbnail_image')\n",
    "img_srcs=[i['src'] for i in img_tags]"
   ]
  },
  {
   "cell_type": "code",
   "execution_count": 9,
   "id": "fca57023-ca2a-40b9-ae6a-3fd1ebec17b0",
   "metadata": {},
   "outputs": [],
   "source": [
    "import os\n",
    "path=f'./{search}'\n",
    "os.makedirs(path,exist_ok=True)\n",
    "for idx, i in enumerate(img_srcs):\n",
    "    file_name=f'{path}/{search}{idx:03d}.jpg'\n",
    "    urllib.request.urlretrieve(i,file_name) #./고양이/고양이001.jpg\n",
    "    \n"
   ]
  },
  {
   "cell_type": "code",
   "execution_count": null,
   "id": "02adc06d-dd21-4536-ae15-5a5ef450a8b0",
   "metadata": {},
   "outputs": [],
   "source": []
  }
 ],
 "metadata": {
  "kernelspec": {
   "display_name": "Python 3 (ipykernel)",
   "language": "python",
   "name": "python3"
  },
  "language_info": {
   "codemirror_mode": {
    "name": "ipython",
    "version": 3
   },
   "file_extension": ".py",
   "mimetype": "text/x-python",
   "name": "python",
   "nbconvert_exporter": "python",
   "pygments_lexer": "ipython3",
   "version": "3.12.5"
  }
 },
 "nbformat": 4,
 "nbformat_minor": 5
}
