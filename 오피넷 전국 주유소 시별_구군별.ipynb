{
 "cells": [
  {
   "cell_type": "code",
   "execution_count": 1,
   "id": "4c520bcd-78f7-4288-9ff3-db67ff3f62c6",
   "metadata": {},
   "outputs": [
    {
     "data": {
      "text/plain": [
       "'C:\\\\Users\\\\human\\\\Desktop\\\\수업자료\\\\데이터분석&시각화\\\\07 크롤링03'"
      ]
     },
     "execution_count": 1,
     "metadata": {},
     "output_type": "execute_result"
    }
   ],
   "source": [
    "pwd"
   ]
  },
  {
   "cell_type": "code",
   "execution_count": 6,
   "id": "4fb91559-9949-43e1-9ea7-7b7a4eb32e76",
   "metadata": {},
   "outputs": [
    {
     "name": "stdout",
     "output_type": "stream",
     "text": [
      "['강남구', '강동구', '강북구', '강서구', '관악구', '광진구', '구로구', '금천구', '노원구', '도봉구', '동대문구', '동작구', '마포구', '서대문구', '서초구', '성동구', '성북구', '송파구', '양천구', '영등포구', '용산구', '은평구', '종로구', '중구', '중랑구']\n"
     ]
    }
   ],
   "source": [
    "import time\n",
    "from selenium import webdriver\n",
    "from selenium.webdriver.chrome.options import Options\n",
    "from selenium.webdriver.chrome.service import Service\n",
    "from webdriver_manager.chrome import ChromeDriverManager\n",
    "from selenium.webdriver.common.keys import Keys\n",
    "from selenium.webdriver.common.by import By\n",
    "from bs4 import BeautifulSoup as bs\n",
    "import pandas as pd\n",
    "\n",
    "options=Options()\n",
    "options.add_experimental_option('detach',True) #화면이 꺼지지 않고 유지\n",
    "options.add_argument('--start-maximized') # 화면을 최대화\n",
    "service=Service(ChromeDriverManager().install()) #크롬드라이버 자동 설치\n",
    "\n",
    "driver=webdriver.Chrome(service=service, options=options)\n",
    "\n",
    "url='https://www.opinet.co.kr/searRgSelect.do'\n",
    "driver.get(url)\n",
    "time.sleep(2)\n",
    "\n",
    "# 구이름 가져오기\n",
    "gu_elems=driver.find_elements(By.CSS_SELECTOR,'select#SIGUNGU_NM0>option')\n",
    "gu_names=[i.text for i in gu_elems[1:]]\n",
    "print(gu_names)\n",
    "# driver.find_element(By.XPATH,'//*[@id=\"SIGUNGU_NM0\"]').send_keys('강남구')\n",
    "# time.sleep(1)\n",
    "# driver.find_element(By.XPATH,'//*[@id=\"searRgSelect\"]').click()\n",
    "# time.sleep(1)\n",
    "# driver.find_element(By.XPATH,'//*[@id=\"templ_list0\"]/div[7]/div/a').click()\n",
    "# time.sleep(3)\n",
    "\n"
   ]
  },
  {
   "cell_type": "code",
   "execution_count": null,
   "id": "470822be-7a6e-49d0-b0e4-408b6e922196",
   "metadata": {},
   "outputs": [],
   "source": []
  }
 ],
 "metadata": {
  "kernelspec": {
   "display_name": "Python 3 (ipykernel)",
   "language": "python",
   "name": "python3"
  },
  "language_info": {
   "codemirror_mode": {
    "name": "ipython",
    "version": 3
   },
   "file_extension": ".py",
   "mimetype": "text/x-python",
   "name": "python",
   "nbconvert_exporter": "python",
   "pygments_lexer": "ipython3",
   "version": "3.12.5"
  }
 },
 "nbformat": 4,
 "nbformat_minor": 5
}
