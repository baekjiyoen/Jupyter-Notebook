{
 "cells": [
  {
   "cell_type": "code",
   "execution_count": 3,
   "id": "bf5a98e9-7ed0-46bd-ba42-1611f19344db",
   "metadata": {},
   "outputs": [
    {
     "name": "stdout",
     "output_type": "stream",
     "text": [
      "Collecting wordcloud\n",
      "  Using cached wordcloud-1.9.3-cp312-cp312-win_amd64.whl.metadata (3.5 kB)\n",
      "Requirement already satisfied: numpy>=1.6.1 in c:\\users\\human\\.conda\\envs\\edu\\lib\\site-packages (from wordcloud) (2.1.1)\n",
      "Requirement already satisfied: pillow in c:\\users\\human\\.conda\\envs\\edu\\lib\\site-packages (from wordcloud) (10.4.0)\n",
      "Requirement already satisfied: matplotlib in c:\\users\\human\\.conda\\envs\\edu\\lib\\site-packages (from wordcloud) (3.9.2)\n",
      "Requirement already satisfied: contourpy>=1.0.1 in c:\\users\\human\\.conda\\envs\\edu\\lib\\site-packages (from matplotlib->wordcloud) (1.3.0)\n",
      "Requirement already satisfied: cycler>=0.10 in c:\\users\\human\\.conda\\envs\\edu\\lib\\site-packages (from matplotlib->wordcloud) (0.12.1)\n",
      "Requirement already satisfied: fonttools>=4.22.0 in c:\\users\\human\\.conda\\envs\\edu\\lib\\site-packages (from matplotlib->wordcloud) (4.54.0)\n",
      "Requirement already satisfied: kiwisolver>=1.3.1 in c:\\users\\human\\.conda\\envs\\edu\\lib\\site-packages (from matplotlib->wordcloud) (1.4.7)\n",
      "Requirement already satisfied: packaging>=20.0 in c:\\users\\human\\.conda\\envs\\edu\\lib\\site-packages (from matplotlib->wordcloud) (24.1)\n",
      "Requirement already satisfied: pyparsing>=2.3.1 in c:\\users\\human\\.conda\\envs\\edu\\lib\\site-packages (from matplotlib->wordcloud) (3.1.4)\n",
      "Requirement already satisfied: python-dateutil>=2.7 in c:\\users\\human\\.conda\\envs\\edu\\lib\\site-packages (from matplotlib->wordcloud) (2.9.0.post0)\n",
      "Requirement already satisfied: six>=1.5 in c:\\users\\human\\.conda\\envs\\edu\\lib\\site-packages (from python-dateutil>=2.7->matplotlib->wordcloud) (1.16.0)\n",
      "Using cached wordcloud-1.9.3-cp312-cp312-win_amd64.whl (301 kB)\n",
      "Installing collected packages: wordcloud\n",
      "Successfully installed wordcloud-1.9.3\n"
     ]
    }
   ],
   "source": [
    "!pip install wordcloud"
   ]
  },
  {
   "cell_type": "code",
   "execution_count": 4,
   "id": "662c4475-5c4d-4fd2-836b-13532bc303a1",
   "metadata": {},
   "outputs": [],
   "source": [
    "from wordcloud import WordCloud\n",
    "import matplotlib.pyplot as plt\n",
    "# 한글 폰트 설정\n",
    "plt.rcParams['font.family'] = 'Malgun Gothic'\n",
    "# 유니코드에서  음수 부호설정\n",
    "plt.rc('axes', unicode_minus=False)"
   ]
  },
  {
   "cell_type": "code",
   "execution_count": 5,
   "id": "43cc1d76-017f-4a20-9bea-2b67e4a2489d",
   "metadata": {},
   "outputs": [
    {
     "data": {
      "text/plain": [
       "4"
      ]
     },
     "execution_count": 5,
     "metadata": {},
     "output_type": "execute_result"
    }
   ],
   "source": [
    "txt='강아지 산책 강아지 목욕 강아지 미용 강아지 쇼핑 친구와 저녁 먹음 가족과 점심 먹음 혼자 저녁 먹음 친구와 쇼핑'\n",
    "find_word='강아지'\n",
    "txt.count(find_word)"
   ]
  },
  {
   "cell_type": "code",
   "execution_count": 11,
   "id": "899f8f3b-2273-436f-9c15-6852881ec5a9",
   "metadata": {},
   "outputs": [
    {
     "name": "stdout",
     "output_type": "stream",
     "text": [
      "[4, 1]\n"
     ]
    },
    {
     "data": {
      "text/plain": [
       "5"
      ]
     },
     "execution_count": 11,
     "metadata": {},
     "output_type": "execute_result"
    }
   ],
   "source": [
    "txtList=['강아지 산책 강아지 목욕 강아지 미용 강아지 쇼핑',\n",
    " '친구와 저녁 먹음 가족과 점심 먹음 혼자 저녁 먹음 친구와 쇼핑 강아지']\n",
    "\n",
    "find_word='강아지'\n",
    "\n",
    "# 각 문서별 '강아지' 몇개?\n",
    "cnt=[i.count(find_word) for i in txtList]\n",
    "print(cnt)\n",
    "# 전 문서에서 '강아지' 몇개?\n",
    "' '.join(txtList).count(find_word)"
   ]
  },
  {
   "cell_type": "code",
   "execution_count": 13,
   "id": "5491bfc3-b730-4eb7-9d09-3f58572ad78a",
   "metadata": {},
   "outputs": [
    {
     "data": {
      "text/plain": [
       "[5, 1, 2]"
      ]
     },
     "execution_count": 13,
     "metadata": {},
     "output_type": "execute_result"
    }
   ],
   "source": [
    "# 전체 문서에서 강아지, 미용 , 친구는 몇개?\n",
    "words=['강아지','미용','친구']\n",
    "total_txt=' '.join(txtList)\n",
    "# print(total_txt)\n",
    "\n",
    "res=[]\n",
    "for i in words:\n",
    "    res.append(total_txt.count(i))\n",
    "res"
   ]
  },
  {
   "cell_type": "code",
   "execution_count": 14,
   "id": "368ca73c-1679-4e20-86e7-f3a4a3833632",
   "metadata": {},
   "outputs": [
    {
     "data": {
      "text/plain": [
       "<BarContainer object of 3 artists>"
      ]
     },
     "execution_count": 14,
     "metadata": {},
     "output_type": "execute_result"
    },
    {
     "data": {
      "image/png": "[encoded data removed]",
      "text/plain": [
       "<Figure size 640x480 with 1 Axes>"
      ]
     },
     "metadata": {},
     "output_type": "display_data"
    }
   ],
   "source": [
    "plt.bar(x=words, height=res)"
   ]
  },
  {
   "cell_type": "code",
   "execution_count": 15,
   "id": "503e255a-f618-4f02-8b53-76ffc99aeec0",
   "metadata": {},
   "outputs": [
    {
     "data": {
      "text/plain": [
       "'강아지 산책 강아지 목욕 강아지 미용 강아지 쇼핑 친구와 저녁 먹음 가족과 점심 먹음 혼자 저녁 먹음 친구와 쇼핑 강아지'"
      ]
     },
     "execution_count": 15,
     "metadata": {},
     "output_type": "execute_result"
    }
   ],
   "source": [
    "txt=' '.join(txtList)\n",
    "txt"
   ]
  },
  {
   "cell_type": "code",
   "execution_count": 16,
   "id": "4a326160-0b0e-4340-945c-8b7ac4f7fd6c",
   "metadata": {},
   "outputs": [
    {
     "data": {
      "image/jpeg": "[encoded data removed]",
      "image/png": "[encoded data removed]",
      "text/plain": [
       "<PIL.Image.Image image mode=RGB size=400x200>"
      ]
     },
     "execution_count": 16,
     "metadata": {},
     "output_type": "execute_result"
    }
   ],
   "source": [
    "#워드 클라우드\n",
    "from wordcloud import WordCloud\n",
    "import matplotlib.pyplot as plt\n",
    "import numpy as np\n",
    "# 한글 폰트 설정\n",
    "plt.rcParams['font.family'] = 'Malgun Gothic'\n",
    "# 유니코드에서  음수 부호설정\n",
    "plt.rc('axes', unicode_minus=False)\n",
    "\n",
    "\n",
    "wc = WordCloud(\"C:/windows/fonts/malgun.ttf\",\n",
    "               background_color = \"white\",\n",
    "               max_words = 2000)\n",
    "               #stopwords = stopwords)\n",
    "wc = wc.generate(txt) # str자료만 가능, list자료는 안됨\n",
    "\n",
    "#matplotlib로 시작화(1)\n",
    "wc.to_image()"
   ]
  },
  {
   "cell_type": "code",
   "execution_count": 17,
   "id": "6614be25-e434-42c8-ac07-00069daf9de0",
   "metadata": {},
   "outputs": [
    {
     "data": {
      "text/plain": [
       "{'강아지': 1.0,\n",
       " '먹음': 0.6,\n",
       " '쇼핑': 0.4,\n",
       " '친구와': 0.4,\n",
       " '저녁': 0.4,\n",
       " '산책': 0.2,\n",
       " '목욕': 0.2,\n",
       " '미용': 0.2,\n",
       " '가족과': 0.2,\n",
       " '점심': 0.2,\n",
       " '혼자': 0.2}"
      ]
     },
     "execution_count": 17,
     "metadata": {},
     "output_type": "execute_result"
    }
   ],
   "source": [
    "wc.words_"
   ]
  },
  {
   "cell_type": "code",
   "execution_count": 18,
   "id": "6289ac9b-c7f5-4165-922f-7d49e59c1459",
   "metadata": {},
   "outputs": [
    {
     "data": {
      "text/plain": [
       "5"
      ]
     },
     "execution_count": 18,
     "metadata": {},
     "output_type": "execute_result"
    }
   ],
   "source": [
    "txt.count('강아지')"
   ]
  },
  {
   "cell_type": "code",
   "execution_count": 19,
   "id": "fc050b75-5e15-426b-a497-a895c34a6a6b",
   "metadata": {},
   "outputs": [
    {
     "data": {
      "text/plain": [
       "3"
      ]
     },
     "execution_count": 19,
     "metadata": {},
     "output_type": "execute_result"
    }
   ],
   "source": [
    "txt.count('먹음')"
   ]
  },
  {
   "cell_type": "code",
   "execution_count": 20,
   "id": "9b1f93c8-a300-421c-81cc-562d46089bbf",
   "metadata": {},
   "outputs": [
    {
     "data": {
      "text/plain": [
       "'강아지 산책 강아지 목욕 강아지 미용 강아지 쇼핑 친구와 저녁 먹음 가족과 점심 먹음 혼자 저녁 먹음 친구와 쇼핑 강아지'"
      ]
     },
     "execution_count": 20,
     "metadata": {},
     "output_type": "execute_result"
    }
   ],
   "source": [
    "txt"
   ]
  },
  {
   "cell_type": "code",
   "execution_count": 34,
   "id": "76b4c967-23df-404f-a4db-ae276808ae06",
   "metadata": {},
   "outputs": [
    {
     "data": {
      "text/plain": [
       "{'미용': 1,\n",
       " '저녁': 2,\n",
       " '먹음': 3,\n",
       " '혼자': 1,\n",
       " '강아지': 5,\n",
       " '점심': 1,\n",
       " '친구와': 2,\n",
       " '산책': 1,\n",
       " '가족과': 1,\n",
       " '쇼핑': 2,\n",
       " '목욕': 1}"
      ]
     },
     "execution_count": 34,
     "metadata": {},
     "output_type": "execute_result"
    }
   ],
   "source": [
    "words=list(set(txt.split()))\n",
    "res={}\n",
    "for i in words:\n",
    "    res[i]=txt.count(i)\n",
    "res"
   ]
  },
  {
   "cell_type": "code",
   "execution_count": 28,
   "id": "5d69789b-0cc0-44fb-888e-edbc84cd7e53",
   "metadata": {},
   "outputs": [
    {
     "data": {
      "text/plain": [
       "{'미용': 1,\n",
       " '저녁': 1,\n",
       " '먹음': 1,\n",
       " '혼자': 1,\n",
       " '강아지': 1,\n",
       " '점심': 1,\n",
       " '친구와': 1,\n",
       " '산책': 1,\n",
       " '가족과': 1,\n",
       " '쇼핑': 1,\n",
       " '목욕': 1}"
      ]
     },
     "execution_count": 28,
     "metadata": {},
     "output_type": "execute_result"
    }
   ],
   "source": [
    "res"
   ]
  },
  {
   "cell_type": "code",
   "execution_count": 36,
   "id": "eab5b7e9-a8ce-4af4-8c00-92f477450f13",
   "metadata": {},
   "outputs": [
    {
     "data": {
      "text/plain": [
       "{'강아지': 5, '쇼핑': 2, '혼자': 1}"
      ]
     },
     "execution_count": 36,
     "metadata": {},
     "output_type": "execute_result"
    }
   ],
   "source": [
    "find_word=['강아지','쇼핑','혼자']\n",
    "word_dict={}\n",
    "for i in find_word:\n",
    "    word_dict[i]=txt.count(i)\n",
    "word_dict"
   ]
  },
  {
   "cell_type": "code",
   "execution_count": 41,
   "id": "0a608ff9-10b6-4f1d-863c-b6cef7e4f281",
   "metadata": {},
   "outputs": [
    {
     "data": {
      "text/plain": [
       "<BarContainer object of 3 artists>"
      ]
     },
     "execution_count": 41,
     "metadata": {},
     "output_type": "execute_result"
    },
    {
     "data": {
      "image/png": "[encoded data removed]",
      "text/plain": [
       "<Figure size 640x480 with 1 Axes>"
      ]
     },
     "metadata": {},
     "output_type": "display_data"
    }
   ],
   "source": [
    "plt.bar(x=word_dict.keys(), height=word_dict.values())"
   ]
  },
  {
   "cell_type": "code",
   "execution_count": 37,
   "id": "52b0bb5e-d6ac-4f01-872c-cdbae7500b52",
   "metadata": {},
   "outputs": [
    {
     "data": {
      "image/jpeg": "[encoded data removed]",
      "image/png": "[encoded data removed]",
      "text/plain": [
       "<PIL.Image.Image image mode=RGB size=400x200>"
      ]
     },
     "execution_count": 37,
     "metadata": {},
     "output_type": "execute_result"
    }
   ],
   "source": [
    "wc = WordCloud(\"C:/windows/fonts/malgun.ttf\",\n",
    "               background_color = \"white\",\n",
    "               max_words = 2000)\n",
    "               #stopwords = stopwords)\n",
    "wc = wc.generate_from_frequencies(word_dict) #w_dict는 {단어:빈도수}형식의 딕셔너리\n",
    "wc.to_image()"
   ]
  },
  {
   "cell_type": "code",
   "execution_count": null,
   "id": "1975a28f-b111-4546-aef7-abf222b97954",
   "metadata": {},
   "outputs": [],
   "source": []
  }
 ],
 "metadata": {
  "kernelspec": {
   "display_name": "Python 3 (ipykernel)",
   "language": "python",
   "name": "python3"
  },
  "language_info": {
   "codemirror_mode": {
    "name": "ipython",
    "version": 3
   },
   "file_extension": ".py",
   "mimetype": "text/x-python",
   "name": "python",
   "nbconvert_exporter": "python",
   "pygments_lexer": "ipython3",
   "version": "3.12.5"
  }
 },
 "nbformat": 4,
 "nbformat_minor": 5
}
