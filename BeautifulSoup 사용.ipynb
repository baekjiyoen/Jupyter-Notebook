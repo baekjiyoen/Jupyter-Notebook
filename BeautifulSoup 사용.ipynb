{
 "cells": [
  {
   "cell_type": "code",
   "execution_count": 15,
   "id": "8f6f4043-3684-446f-b85e-8408575ac521",
   "metadata": {},
   "outputs": [],
   "source": [
    "from bs4 import BeautifulSoup as bs"
   ]
  },
  {
   "cell_type": "code",
   "execution_count": 38,
   "id": "81bbe83d-4477-441b-b8f1-852aa9039348",
   "metadata": {},
   "outputs": [],
   "source": [
    "html = \"\"\"\n",
    "<html>\n",
    "    <head>\n",
    "        <title>The Dormouse's story</title>\n",
    "    </head>\n",
    "    <body>\n",
    "        <h1>this is h1 area</h1>\n",
    "        <h2>this is h2 area</h2>\n",
    "        <p class=\"title\"><b>The Dormouse's story</b></p>\n",
    "        <p class=\"story\">Once upon a time there were three little sisters\n",
    "            <a href=\"http://example.com/elsie\" class=\"sister\" id=\"link1\">Elsie</a>\n",
    "            <a href=\"http://example.com/lacie\" class=\"sister\" id=\"link2\">Lacie</a>\n",
    "            <a data-io=\"link3\" href=\"http://example.com/tillie\" class=\"sister\" id=\"link3\">Tillie</a>\n",
    "        </p>\n",
    "        <div>\n",
    "        <p class=\"story\">story...</p>\n",
    "        </div>\n",
    "        <a class=\"sister\" data-io=\"link3\" href=\"http://example.com/tillie\" id=\"link4\">연습</a>\n",
    "    </body>\n",
    "</html>\n",
    "\"\"\""
   ]
  },
  {
   "cell_type": "code",
   "execution_count": 39,
   "id": "719dec74-b9a2-4638-ab2e-c0f8eaf12b21",
   "metadata": {},
   "outputs": [
    {
     "data": {
      "text/plain": [
       "'\\n<html>\\n    <head>\\n        <title>The Dormouse\\'s story</title>\\n    </head>\\n    <body>\\n        <h1>this is h1 area</h1>\\n        <h2>this is h2 area</h2>\\n        <p class=\"title\"><b>The Dormouse\\'s story</b></p>\\n        <p class=\"story\">Once upon a time there were three little sisters\\n            <a href=\"http://example.com/elsie\" class=\"sister\" id=\"link1\">Elsie</a>\\n            <a href=\"http://example.com/lacie\" class=\"sister\" id=\"link2\">Lacie</a>\\n            <a data-io=\"link3\" href=\"http://example.com/tillie\" class=\"sister\" id=\"link3\">Tillie</a>\\n        </p>\\n        <div>\\n        <p class=\"story\">story...</p>\\n        </div>\\n        <a class=\"sister\" data-io=\"link3\" href=\"http://example.com/tillie\" id=\"link4\">연습</a>\\n    </body>\\n</html>\\n'"
      ]
     },
     "execution_count": 39,
     "metadata": {},
     "output_type": "execute_result"
    }
   ],
   "source": [
    "html"
   ]
  },
  {
   "cell_type": "code",
   "execution_count": 40,
   "id": "926d4d9c-a8f2-4c8a-99cc-4e09ae4a2dc7",
   "metadata": {},
   "outputs": [
    {
     "data": {
      "text/plain": [
       "(bs4.BeautifulSoup,\n",
       " \n",
       " <html>\n",
       " <head>\n",
       " <title>The Dormouse's story</title>\n",
       " </head>\n",
       " <body>\n",
       " <h1>this is h1 area</h1>\n",
       " <h2>this is h2 area</h2>\n",
       " <p class=\"title\"><b>The Dormouse's story</b></p>\n",
       " <p class=\"story\">Once upon a time there were three little sisters\n",
       "             <a class=\"sister\" href=\"http://example.com/elsie\" id=\"link1\">Elsie</a>\n",
       " <a class=\"sister\" href=\"http://example.com/lacie\" id=\"link2\">Lacie</a>\n",
       " <a class=\"sister\" data-io=\"link3\" href=\"http://example.com/tillie\" id=\"link3\">Tillie</a>\n",
       " </p>\n",
       " <div>\n",
       " <p class=\"story\">story...</p>\n",
       " </div>\n",
       " <a class=\"sister\" data-io=\"link3\" href=\"http://example.com/tillie\" id=\"link4\">연습</a>\n",
       " </body>\n",
       " </html>)"
      ]
     },
     "execution_count": 40,
     "metadata": {},
     "output_type": "execute_result"
    }
   ],
   "source": [
    "soup=bs(html,'html')\n",
    "type(soup),soup"
   ]
  },
  {
   "cell_type": "code",
   "execution_count": 41,
   "id": "1860e493-b993-4c61-880f-ae986d64f4a5",
   "metadata": {},
   "outputs": [
    {
     "data": {
      "text/plain": [
       "'this is h1 area'"
      ]
     },
     "execution_count": 41,
     "metadata": {},
     "output_type": "execute_result"
    }
   ],
   "source": [
    "soup.find('h1').text"
   ]
  },
  {
   "cell_type": "code",
   "execution_count": 42,
   "id": "5268fc7b-6a3a-4fee-a25b-2104881cfc09",
   "metadata": {},
   "outputs": [
    {
     "data": {
      "text/plain": [
       "'Elsie'"
      ]
     },
     "execution_count": 42,
     "metadata": {},
     "output_type": "execute_result"
    }
   ],
   "source": [
    "soup.find('a').text"
   ]
  },
  {
   "cell_type": "code",
   "execution_count": 43,
   "id": "ce3c454a-f595-45d4-a30a-c93d18963c67",
   "metadata": {},
   "outputs": [
    {
     "data": {
      "text/plain": [
       "['Elsie', 'Lacie', 'Tillie', '연습']"
      ]
     },
     "execution_count": 43,
     "metadata": {},
     "output_type": "execute_result"
    }
   ],
   "source": [
    "[i.text for i in soup.find_all('a')]"
   ]
  },
  {
   "cell_type": "code",
   "execution_count": 44,
   "id": "9a96d011-a314-410e-9533-69e0089104ac",
   "metadata": {},
   "outputs": [
    {
     "data": {
      "text/plain": [
       "'Lacie'"
      ]
     },
     "execution_count": 44,
     "metadata": {},
     "output_type": "execute_result"
    }
   ],
   "source": [
    "[i.text for i in soup.find_all('a')][1]"
   ]
  },
  {
   "cell_type": "code",
   "execution_count": 45,
   "id": "2473905e-92f5-4f43-acc0-622a37d1d766",
   "metadata": {},
   "outputs": [
    {
     "data": {
      "text/plain": [
       "'Lacie'"
      ]
     },
     "execution_count": 45,
     "metadata": {},
     "output_type": "execute_result"
    }
   ],
   "source": [
    "soup.find('a',id='link2').text"
   ]
  },
  {
   "cell_type": "code",
   "execution_count": 46,
   "id": "b4ebc5f0-961b-4f24-8b47-e195826794e7",
   "metadata": {},
   "outputs": [
    {
     "data": {
      "text/plain": [
       "\"The Dormouse's story\""
      ]
     },
     "execution_count": 46,
     "metadata": {},
     "output_type": "execute_result"
    }
   ],
   "source": [
    "soup.find('p','title').text"
   ]
  },
  {
   "cell_type": "code",
   "execution_count": 48,
   "id": "7a7d1d41-e062-46c5-8943-3ba8ec48e73f",
   "metadata": {},
   "outputs": [
    {
     "data": {
      "text/plain": [
       "bs4.element.Tag"
      ]
     },
     "execution_count": 48,
     "metadata": {},
     "output_type": "execute_result"
    }
   ],
   "source": [
    "type(soup.find('div'))"
   ]
  },
  {
   "cell_type": "code",
   "execution_count": 51,
   "id": "4b94ca71-cb27-405a-8283-89575c16fb5a",
   "metadata": {},
   "outputs": [
    {
     "data": {
      "text/plain": [
       "'story...'"
      ]
     },
     "execution_count": 51,
     "metadata": {},
     "output_type": "execute_result"
    }
   ],
   "source": [
    "soup.find('div').find('p').text"
   ]
  },
  {
   "cell_type": "code",
   "execution_count": null,
   "id": "9f618bbf-4626-4bb3-9032-d3ca28faa9d5",
   "metadata": {},
   "outputs": [],
   "source": []
  }
 ],
 "metadata": {
  "kernelspec": {
   "display_name": "Python 3 (ipykernel)",
   "language": "python",
   "name": "python3"
  },
  "language_info": {
   "codemirror_mode": {
    "name": "ipython",
    "version": 3
   },
   "file_extension": ".py",
   "mimetype": "text/x-python",
   "name": "python",
   "nbconvert_exporter": "python",
   "pygments_lexer": "ipython3",
   "version": "3.12.5"
  }
 },
 "nbformat": 4,
 "nbformat_minor": 5
}
