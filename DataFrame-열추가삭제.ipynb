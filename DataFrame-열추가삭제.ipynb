{
 "cells": [
  {
   "cell_type": "code",
   "execution_count": 341,
   "id": "81b8c904-1a14-4b1b-9a46-5c806bf5fde0",
   "metadata": {},
   "outputs": [],
   "source": [
    "import pandas as pd"
   ]
  },
  {
   "cell_type": "code",
   "execution_count": 342,
   "id": "c3c59db1-380c-411f-9045-1b2c873e2c1d",
   "metadata": {},
   "outputs": [
    {
     "data": {
      "text/html": [
       "<div>\n",
       "<style scoped>\n",
       "    .dataframe tbody tr th:only-of-type {\n",
       "        vertical-align: middle;\n",
       "    }\n",
       "\n",
       "    .dataframe tbody tr th {\n",
       "        vertical-align: top;\n",
       "    }\n",
       "\n",
       "    .dataframe thead th {\n",
       "        text-align: right;\n",
       "    }\n",
       "</style>\n",
       "<table border=\"1\" class=\"dataframe\">\n",
       "  <thead>\n",
       "    <tr style=\"text-align: right;\">\n",
       "      <th></th>\n",
       "      <th>지역</th>\n",
       "      <th>규모</th>\n",
       "      <th>연도</th>\n",
       "      <th>월</th>\n",
       "      <th>분양가</th>\n",
       "    </tr>\n",
       "  </thead>\n",
       "  <tbody>\n",
       "    <tr>\n",
       "      <th>0</th>\n",
       "      <td>서울</td>\n",
       "      <td>60㎡이하</td>\n",
       "      <td>2015</td>\n",
       "      <td>10</td>\n",
       "      <td>5652</td>\n",
       "    </tr>\n",
       "    <tr>\n",
       "      <th>1</th>\n",
       "      <td>서울</td>\n",
       "      <td>60㎡초과 85㎡이하</td>\n",
       "      <td>2015</td>\n",
       "      <td>10</td>\n",
       "      <td>5882</td>\n",
       "    </tr>\n",
       "    <tr>\n",
       "      <th>2</th>\n",
       "      <td>서울</td>\n",
       "      <td>85㎡초과 102㎡이하</td>\n",
       "      <td>2015</td>\n",
       "      <td>10</td>\n",
       "      <td>5721</td>\n",
       "    </tr>\n",
       "    <tr>\n",
       "      <th>3</th>\n",
       "      <td>서울</td>\n",
       "      <td>102㎡초과</td>\n",
       "      <td>2015</td>\n",
       "      <td>10</td>\n",
       "      <td>5879</td>\n",
       "    </tr>\n",
       "    <tr>\n",
       "      <th>4</th>\n",
       "      <td>인천</td>\n",
       "      <td>60㎡이하</td>\n",
       "      <td>2015</td>\n",
       "      <td>10</td>\n",
       "      <td>3488</td>\n",
       "    </tr>\n",
       "    <tr>\n",
       "      <th>...</th>\n",
       "      <td>...</td>\n",
       "      <td>...</td>\n",
       "      <td>...</td>\n",
       "      <td>...</td>\n",
       "      <td>...</td>\n",
       "    </tr>\n",
       "    <tr>\n",
       "      <th>3288</th>\n",
       "      <td>경남</td>\n",
       "      <td>60㎡초과 85㎡이하</td>\n",
       "      <td>2020</td>\n",
       "      <td>2</td>\n",
       "      <td>3065</td>\n",
       "    </tr>\n",
       "    <tr>\n",
       "      <th>3289</th>\n",
       "      <td>경남</td>\n",
       "      <td>85㎡초과 102㎡이하</td>\n",
       "      <td>2020</td>\n",
       "      <td>2</td>\n",
       "      <td>3247</td>\n",
       "    </tr>\n",
       "    <tr>\n",
       "      <th>3290</th>\n",
       "      <td>제주</td>\n",
       "      <td>60㎡이하</td>\n",
       "      <td>2020</td>\n",
       "      <td>2</td>\n",
       "      <td>4039</td>\n",
       "    </tr>\n",
       "    <tr>\n",
       "      <th>3291</th>\n",
       "      <td>제주</td>\n",
       "      <td>60㎡초과 85㎡이하</td>\n",
       "      <td>2020</td>\n",
       "      <td>2</td>\n",
       "      <td>3962</td>\n",
       "    </tr>\n",
       "    <tr>\n",
       "      <th>3292</th>\n",
       "      <td>제주</td>\n",
       "      <td>102㎡초과</td>\n",
       "      <td>2020</td>\n",
       "      <td>2</td>\n",
       "      <td>3601</td>\n",
       "    </tr>\n",
       "  </tbody>\n",
       "</table>\n",
       "<p>3293 rows × 5 columns</p>\n",
       "</div>"
      ],
      "text/plain": [
       "      지역             규모    연도   월   분양가\n",
       "0     서울          60㎡이하  2015  10  5652\n",
       "1     서울    60㎡초과 85㎡이하  2015  10  5882\n",
       "2     서울   85㎡초과 102㎡이하  2015  10  5721\n",
       "3     서울         102㎡초과  2015  10  5879\n",
       "4     인천          60㎡이하  2015  10  3488\n",
       "...   ..            ...   ...  ..   ...\n",
       "3288  경남    60㎡초과 85㎡이하  2020   2  3065\n",
       "3289  경남   85㎡초과 102㎡이하  2020   2  3247\n",
       "3290  제주          60㎡이하  2020   2  4039\n",
       "3291  제주    60㎡초과 85㎡이하  2020   2  3962\n",
       "3292  제주         102㎡초과  2020   2  3601\n",
       "\n",
       "[3293 rows x 5 columns]"
      ]
     },
     "execution_count": 342,
     "metadata": {},
     "output_type": "execute_result"
    }
   ],
   "source": [
    "df=pd.read_csv('./data/house_price_clean.csv')\n",
    "df"
   ]
  },
  {
   "cell_type": "code",
   "execution_count": 343,
   "id": "1ff46b33-ab8f-48c1-a2f8-320ff45524c5",
   "metadata": {},
   "outputs": [
    {
     "data": {
      "text/plain": [
       "<Axes: >"
      ]
     },
     "execution_count": 343,
     "metadata": {},
     "output_type": "execute_result"
    },
    {
     "data": {
      "image/png": "[encoded data removed]",
      "text/plain": [
       "<Figure size 640x480 with 1 Axes>"
      ]
     },
     "metadata": {},
     "output_type": "display_data"
    }
   ],
   "source": [
    "df['분양가'].plot(kind='box')"
   ]
  },
  {
   "cell_type": "code",
   "execution_count": 345,
   "id": "6452554d-2fb0-4a23-9bcd-c71df866d11c",
   "metadata": {},
   "outputs": [
    {
     "data": {
      "text/plain": [
       "count     3293.000000\n",
       "mean      3294.067112\n",
       "std       1321.781979\n",
       "min       1868.000000\n",
       "25%       2478.000000\n",
       "50%       2887.000000\n",
       "75%       3632.000000\n",
       "max      13835.000000\n",
       "Name: 분양가, dtype: float64"
      ]
     },
     "execution_count": 345,
     "metadata": {},
     "output_type": "execute_result"
    }
   ],
   "source": [
    "df['분양가'].describe()"
   ]
  },
  {
   "cell_type": "code",
   "execution_count": 347,
   "id": "5c8918f7-4415-41eb-9822-b444b1554dab",
   "metadata": {},
   "outputs": [
    {
     "data": {
      "text/plain": [
       "5363.0"
      ]
     },
     "execution_count": 347,
     "metadata": {},
     "output_type": "execute_result"
    }
   ],
   "source": [
    "IQR=3632-2478\n",
    "max_outlier=3632 + (IQR*1.5)\n",
    "max_outlier"
   ]
  },
  {
   "cell_type": "code",
   "execution_count": 353,
   "id": "8c207a61-567b-4dcb-92c5-b3503bf86be8",
   "metadata": {},
   "outputs": [
    {
     "data": {
      "text/plain": [
       "<Axes: xlabel='지역'>"
      ]
     },
     "execution_count": 353,
     "metadata": {},
     "output_type": "execute_result"
    },
    {
     "data": {
      "image/png": "[encoded data removed]",
      "text/plain": [
       "<Figure size 640x480 with 1 Axes>"
      ]
     },
     "metadata": {},
     "output_type": "display_data"
    }
   ],
   "source": [
    "df[df['분양가']>=max_outlier].value_counts('지역').plot(kind='bar')"
   ]
  },
  {
   "cell_type": "code",
   "execution_count": 352,
   "id": "a31d7373-3538-4402-bd43-d3f565d40569",
   "metadata": {},
   "outputs": [
    {
     "data": {
      "text/html": [
       "<div>\n",
       "<style scoped>\n",
       "    .dataframe tbody tr th:only-of-type {\n",
       "        vertical-align: middle;\n",
       "    }\n",
       "\n",
       "    .dataframe tbody tr th {\n",
       "        vertical-align: top;\n",
       "    }\n",
       "\n",
       "    .dataframe thead th {\n",
       "        text-align: right;\n",
       "    }\n",
       "</style>\n",
       "<table border=\"1\" class=\"dataframe\">\n",
       "  <thead>\n",
       "    <tr style=\"text-align: right;\">\n",
       "      <th></th>\n",
       "      <th>지역</th>\n",
       "      <th>규모</th>\n",
       "      <th>연도</th>\n",
       "      <th>월</th>\n",
       "      <th>분양가</th>\n",
       "    </tr>\n",
       "  </thead>\n",
       "  <tbody>\n",
       "    <tr>\n",
       "      <th>3236</th>\n",
       "      <td>서울</td>\n",
       "      <td>85㎡초과 102㎡이하</td>\n",
       "      <td>2020</td>\n",
       "      <td>2</td>\n",
       "      <td>13835</td>\n",
       "    </tr>\n",
       "    <tr>\n",
       "      <th>3058</th>\n",
       "      <td>서울</td>\n",
       "      <td>85㎡초과 102㎡이하</td>\n",
       "      <td>2019</td>\n",
       "      <td>11</td>\n",
       "      <td>12728</td>\n",
       "    </tr>\n",
       "    <tr>\n",
       "      <th>2997</th>\n",
       "      <td>서울</td>\n",
       "      <td>85㎡초과 102㎡이하</td>\n",
       "      <td>2019</td>\n",
       "      <td>10</td>\n",
       "      <td>12728</td>\n",
       "    </tr>\n",
       "    <tr>\n",
       "      <th>2937</th>\n",
       "      <td>서울</td>\n",
       "      <td>85㎡초과 102㎡이하</td>\n",
       "      <td>2019</td>\n",
       "      <td>9</td>\n",
       "      <td>12728</td>\n",
       "    </tr>\n",
       "    <tr>\n",
       "      <th>2760</th>\n",
       "      <td>서울</td>\n",
       "      <td>85㎡초과 102㎡이하</td>\n",
       "      <td>2019</td>\n",
       "      <td>6</td>\n",
       "      <td>12728</td>\n",
       "    </tr>\n",
       "    <tr>\n",
       "      <th>...</th>\n",
       "      <td>...</td>\n",
       "      <td>...</td>\n",
       "      <td>...</td>\n",
       "      <td>...</td>\n",
       "      <td>...</td>\n",
       "    </tr>\n",
       "    <tr>\n",
       "      <th>178</th>\n",
       "      <td>전남</td>\n",
       "      <td>60㎡초과 85㎡이하</td>\n",
       "      <td>2015</td>\n",
       "      <td>12</td>\n",
       "      <td>1906</td>\n",
       "    </tr>\n",
       "    <tr>\n",
       "      <th>242</th>\n",
       "      <td>전남</td>\n",
       "      <td>60㎡초과 85㎡이하</td>\n",
       "      <td>2016</td>\n",
       "      <td>1</td>\n",
       "      <td>1906</td>\n",
       "    </tr>\n",
       "    <tr>\n",
       "      <th>114</th>\n",
       "      <td>전남</td>\n",
       "      <td>60㎡초과 85㎡이하</td>\n",
       "      <td>2015</td>\n",
       "      <td>11</td>\n",
       "      <td>1906</td>\n",
       "    </tr>\n",
       "    <tr>\n",
       "      <th>425</th>\n",
       "      <td>전북</td>\n",
       "      <td>60㎡이하</td>\n",
       "      <td>2016</td>\n",
       "      <td>4</td>\n",
       "      <td>1900</td>\n",
       "    </tr>\n",
       "    <tr>\n",
       "      <th>103</th>\n",
       "      <td>충북</td>\n",
       "      <td>85㎡초과 102㎡이하</td>\n",
       "      <td>2015</td>\n",
       "      <td>11</td>\n",
       "      <td>1868</td>\n",
       "    </tr>\n",
       "  </tbody>\n",
       "</table>\n",
       "<p>3293 rows × 5 columns</p>\n",
       "</div>"
      ],
      "text/plain": [
       "      지역             규모    연도   월    분양가\n",
       "3236  서울   85㎡초과 102㎡이하  2020   2  13835\n",
       "3058  서울   85㎡초과 102㎡이하  2019  11  12728\n",
       "2997  서울   85㎡초과 102㎡이하  2019  10  12728\n",
       "2937  서울   85㎡초과 102㎡이하  2019   9  12728\n",
       "2760  서울   85㎡초과 102㎡이하  2019   6  12728\n",
       "...   ..            ...   ...  ..    ...\n",
       "178   전남    60㎡초과 85㎡이하  2015  12   1906\n",
       "242   전남    60㎡초과 85㎡이하  2016   1   1906\n",
       "114   전남    60㎡초과 85㎡이하  2015  11   1906\n",
       "425   전북          60㎡이하  2016   4   1900\n",
       "103   충북   85㎡초과 102㎡이하  2015  11   1868\n",
       "\n",
       "[3293 rows x 5 columns]"
      ]
     },
     "execution_count": 352,
     "metadata": {},
     "output_type": "execute_result"
    }
   ],
   "source": [
    "df.sort_values('분양가',ascending=False)"
   ]
  },
  {
   "cell_type": "code",
   "execution_count": 362,
   "id": "6ac82f22-289d-43c1-a78f-e646fd17f1e3",
   "metadata": {},
   "outputs": [
    {
     "data": {
      "text/html": [
       "<div>\n",
       "<style scoped>\n",
       "    .dataframe tbody tr th:only-of-type {\n",
       "        vertical-align: middle;\n",
       "    }\n",
       "\n",
       "    .dataframe tbody tr th {\n",
       "        vertical-align: top;\n",
       "    }\n",
       "\n",
       "    .dataframe thead th {\n",
       "        text-align: right;\n",
       "    }\n",
       "</style>\n",
       "<table border=\"1\" class=\"dataframe\">\n",
       "  <thead>\n",
       "    <tr style=\"text-align: right;\">\n",
       "      <th></th>\n",
       "      <th>지역</th>\n",
       "      <th>규모</th>\n",
       "      <th>연도</th>\n",
       "      <th>월</th>\n",
       "      <th>분양가</th>\n",
       "    </tr>\n",
       "  </thead>\n",
       "  <tbody>\n",
       "    <tr>\n",
       "      <th>0</th>\n",
       "      <td>서울</td>\n",
       "      <td>60㎡이하</td>\n",
       "      <td>2015</td>\n",
       "      <td>10</td>\n",
       "      <td>5652</td>\n",
       "    </tr>\n",
       "    <tr>\n",
       "      <th>1</th>\n",
       "      <td>서울</td>\n",
       "      <td>60㎡초과 85㎡이하</td>\n",
       "      <td>2015</td>\n",
       "      <td>10</td>\n",
       "      <td>5882</td>\n",
       "    </tr>\n",
       "    <tr>\n",
       "      <th>2</th>\n",
       "      <td>서울</td>\n",
       "      <td>85㎡초과 102㎡이하</td>\n",
       "      <td>2015</td>\n",
       "      <td>10</td>\n",
       "      <td>5721</td>\n",
       "    </tr>\n",
       "    <tr>\n",
       "      <th>3</th>\n",
       "      <td>서울</td>\n",
       "      <td>102㎡초과</td>\n",
       "      <td>2015</td>\n",
       "      <td>10</td>\n",
       "      <td>5879</td>\n",
       "    </tr>\n",
       "    <tr>\n",
       "      <th>64</th>\n",
       "      <td>서울</td>\n",
       "      <td>60㎡이하</td>\n",
       "      <td>2015</td>\n",
       "      <td>11</td>\n",
       "      <td>6320</td>\n",
       "    </tr>\n",
       "    <tr>\n",
       "      <th>...</th>\n",
       "      <td>...</td>\n",
       "      <td>...</td>\n",
       "      <td>...</td>\n",
       "      <td>...</td>\n",
       "      <td>...</td>\n",
       "    </tr>\n",
       "    <tr>\n",
       "      <th>3241</th>\n",
       "      <td>인천</td>\n",
       "      <td>102㎡초과</td>\n",
       "      <td>2020</td>\n",
       "      <td>2</td>\n",
       "      <td>4958</td>\n",
       "    </tr>\n",
       "    <tr>\n",
       "      <th>3242</th>\n",
       "      <td>경기</td>\n",
       "      <td>60㎡이하</td>\n",
       "      <td>2020</td>\n",
       "      <td>2</td>\n",
       "      <td>4918</td>\n",
       "    </tr>\n",
       "    <tr>\n",
       "      <th>3244</th>\n",
       "      <td>경기</td>\n",
       "      <td>85㎡초과 102㎡이하</td>\n",
       "      <td>2020</td>\n",
       "      <td>2</td>\n",
       "      <td>5418</td>\n",
       "    </tr>\n",
       "    <tr>\n",
       "      <th>3245</th>\n",
       "      <td>경기</td>\n",
       "      <td>102㎡초과</td>\n",
       "      <td>2020</td>\n",
       "      <td>2</td>\n",
       "      <td>5133</td>\n",
       "    </tr>\n",
       "    <tr>\n",
       "      <th>3253</th>\n",
       "      <td>대구</td>\n",
       "      <td>102㎡초과</td>\n",
       "      <td>2020</td>\n",
       "      <td>2</td>\n",
       "      <td>5117</td>\n",
       "    </tr>\n",
       "  </tbody>\n",
       "</table>\n",
       "<p>330 rows × 5 columns</p>\n",
       "</div>"
      ],
      "text/plain": [
       "      지역             규모    연도   월   분양가\n",
       "0     서울          60㎡이하  2015  10  5652\n",
       "1     서울    60㎡초과 85㎡이하  2015  10  5882\n",
       "2     서울   85㎡초과 102㎡이하  2015  10  5721\n",
       "3     서울         102㎡초과  2015  10  5879\n",
       "64    서울          60㎡이하  2015  11  6320\n",
       "...   ..            ...   ...  ..   ...\n",
       "3241  인천         102㎡초과  2020   2  4958\n",
       "3242  경기          60㎡이하  2020   2  4918\n",
       "3244  경기   85㎡초과 102㎡이하  2020   2  5418\n",
       "3245  경기         102㎡초과  2020   2  5133\n",
       "3253  대구         102㎡초과  2020   2  5117\n",
       "\n",
       "[330 rows x 5 columns]"
      ]
     },
     "execution_count": 362,
     "metadata": {},
     "output_type": "execute_result"
    }
   ],
   "source": [
    "df[df['분양가']>=df['분양가'].quantile(0.9)]"
   ]
  },
  {
   "cell_type": "code",
   "execution_count": 365,
   "id": "5cc49326-d7a5-44fc-a59e-16c181ed59e6",
   "metadata": {},
   "outputs": [
    {
     "data": {
      "text/plain": [
       "(330, 5)"
      ]
     },
     "execution_count": 365,
     "metadata": {},
     "output_type": "execute_result"
    }
   ],
   "source": [
    "df[df['분양가']>=df['분양가'].quantile(0.9)].shape"
   ]
  },
  {
   "cell_type": "code",
   "execution_count": 374,
   "id": "17862584-87b0-44f7-b043-cd880d9f55b6",
   "metadata": {},
   "outputs": [
    {
     "data": {
      "text/plain": [
       "지역\n",
       "강원    77\n",
       "전남    75\n",
       "충북    72\n",
       "전북    56\n",
       "경북    23\n",
       "충남    18\n",
       "제주     5\n",
       "광주     2\n",
       "경남     2\n",
       "Name: count, dtype: int64"
      ]
     },
     "execution_count": 374,
     "metadata": {},
     "output_type": "execute_result"
    }
   ],
   "source": [
    "df[df['분양가']<=df['분양가'].quantile(0.1)]['지역'].value_counts()"
   ]
  },
  {
   "cell_type": "code",
   "execution_count": 368,
   "id": "3376071d-123d-4fd7-8c86-cf06839329a3",
   "metadata": {},
   "outputs": [
    {
     "data": {
      "text/plain": [
       "(33, 5)"
      ]
     },
     "execution_count": 368,
     "metadata": {},
     "output_type": "execute_result"
    }
   ],
   "source": [
    "df[df['분양가']>=df['분양가'].quantile(0.99)].shape"
   ]
  },
  {
   "cell_type": "code",
   "execution_count": 381,
   "id": "9cc8d440-04bf-47f0-bcbd-b0995f97ce95",
   "metadata": {},
   "outputs": [
    {
     "name": "stdout",
     "output_type": "stream",
     "text": [
      "max_ol= 5363.0\n",
      "min_ol= 747.0\n"
     ]
    }
   ],
   "source": [
    "mn,c,mx=df['분양가'].quantile([0.25,0.5,0.75])\n",
    "# print('mn=',mn)\n",
    "# print('c=',c)\n",
    "# print('mx=',mx)\n",
    "IQR=mx-mn\n",
    "max_ol=mx+(IQR*1.5)\n",
    "min_ol=mn-(IQR*1.5)\n",
    "print('max_ol=',max_ol)\n",
    "print('min_ol=',min_ol)"
   ]
  },
  {
   "cell_type": "code",
   "execution_count": 394,
   "id": "85e655a7-0be0-4455-a944-c26655e0c7ee",
   "metadata": {},
   "outputs": [
    {
     "data": {
      "text/plain": [
       "<Axes: >"
      ]
     },
     "execution_count": 394,
     "metadata": {},
     "output_type": "execute_result"
    },
    {
     "data": {
      "image/png": "[encoded data removed]",
      "text/plain": [
       "<Figure size 640x480 with 1 Axes>"
      ]
     },
     "metadata": {},
     "output_type": "display_data"
    }
   ],
   "source": [
    "# max_ol => max_ol_df\n",
    "max_ol_df=df[df['분양가']>=max_ol].reset_index(drop=True)\n",
    "max_ol_df\n",
    "# min_ol => min_ol_df\n",
    "min_ol_df=df[df['분양가']<=min_ol]\n",
    "min_ol_df\n",
    "# normal => narmal_df\n",
    "\n",
    "con1=df['분양가']<=max_ol\n",
    "con2=df['분양가']>=min_ol\n",
    "normal_df=df[con1&con2].reset_index(drop=True)\n",
    "normal_df\n",
    "\n",
    "normal_df['분양가'].plot(kind='box')\n"
   ]
  },
  {
   "cell_type": "code",
   "execution_count": 377,
   "id": "10c75721-6301-4fa4-833d-181bb2bc4dbd",
   "metadata": {},
   "outputs": [
    {
     "data": {
      "text/plain": [
       "count     3293.000000\n",
       "mean      3294.067112\n",
       "std       1321.781979\n",
       "min       1868.000000\n",
       "25%       2478.000000\n",
       "50%       2887.000000\n",
       "75%       3632.000000\n",
       "max      13835.000000\n",
       "Name: 분양가, dtype: float64"
      ]
     },
     "execution_count": 377,
     "metadata": {},
     "output_type": "execute_result"
    }
   ],
   "source": [
    "df['분양가'].describe()"
   ]
  },
  {
   "cell_type": "code",
   "execution_count": null,
   "id": "8a9813b6-06a5-416f-ac2c-808f28904025",
   "metadata": {},
   "outputs": [],
   "source": []
  }
 ],
 "metadata": {
  "kernelspec": {
   "display_name": "Python 3 (ipykernel)",
   "language": "python",
   "name": "python3"
  },
  "language_info": {
   "codemirror_mode": {
    "name": "ipython",
    "version": 3
   },
   "file_extension": ".py",
   "mimetype": "text/x-python",
   "name": "python",
   "nbconvert_exporter": "python",
   "pygments_lexer": "ipython3",
   "version": "3.12.5"
  }
 },
 "nbformat": 4,
 "nbformat_minor": 5
}
