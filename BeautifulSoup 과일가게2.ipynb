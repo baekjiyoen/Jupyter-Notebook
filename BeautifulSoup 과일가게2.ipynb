{
 "cells": [
  {
   "cell_type": "code",
   "execution_count": 52,
   "id": "2fd5fbcd-7d69-4819-98f0-82a2aa01977e",
   "metadata": {},
   "outputs": [
    {
     "data": {
      "text/plain": [
       "'C:\\\\Users\\\\human\\\\Desktop\\\\수업자료\\\\데이터분석&시각화\\\\05 크롤링_01'"
      ]
     },
     "execution_count": 52,
     "metadata": {},
     "output_type": "execute_result"
    }
   ],
   "source": [
    "pwd"
   ]
  },
  {
   "cell_type": "code",
   "execution_count": 56,
   "id": "f39e9c0e-a81c-457a-8b6f-86ef297ef31c",
   "metadata": {},
   "outputs": [],
   "source": [
    "from bs4 import BeautifulSoup as bs"
   ]
  },
  {
   "cell_type": "code",
   "execution_count": 62,
   "id": "cacde119-b4b9-421a-86b3-1d49c141acb2",
   "metadata": {},
   "outputs": [],
   "source": [
    "ex2 = '''\n",
    "<html> \n",
    "    <head> \n",
    "        <h1> 사야할 과일 \n",
    "    </head> \n",
    "    <body> \n",
    "        <h1> 시장가서 사야할 과일 목록 \n",
    "            <div> <p id='fruits1' class='name1' title='바나나'> 바나나 \n",
    "                  <span class = 'price'> 3000원 </span> \n",
    "                  <span class = 'count'> 10개 </span> \n",
    "                  <span class = 'store'> 바나나가게 </span> \n",
    "                  <a href = 'https://www.banana.com'> banana.com </a> \n",
    "                  </p>\n",
    "            </div> \n",
    "            <div> <p id='fruits2' class='name2' title='체리'> 체리 \n",
    "                <span class = 'price'> 100원 </span> \n",
    "                <span class = 'count'> 50개 </span> \n",
    "                <span class = 'store'> 체리가게</span> \n",
    "                <a href = 'https://www.cherry.com'> cherry.com </a>\n",
    "                </p> \n",
    "            </div> \n",
    "            <div> <p id='fruits3' class='name3' title='오렌지'> 오렌지\n",
    "                <span class = 'price'> 500원 </span> \n",
    "                <span class = 'count'> 20개 </span> \n",
    "                <span class = 'store'> 오렌지가게</span> \n",
    "                <a href = 'https://www.orange.com'> orange.com </a>\n",
    "                </p> \n",
    "            <div> \n",
    "    </body> \n",
    "</html> '''\n",
    "\n",
    "soup=bs(ex2,'html')"
   ]
  },
  {
   "cell_type": "code",
   "execution_count": 66,
   "id": "11bc7bc7-2d66-47ac-9442-8bf15b20a52e",
   "metadata": {},
   "outputs": [
    {
     "data": {
      "text/plain": [
       "' 50개 '"
      ]
     },
     "execution_count": 66,
     "metadata": {},
     "output_type": "execute_result"
    }
   ],
   "source": [
    "soup.find('p',id='fruits2').find('span','count').text"
   ]
  },
  {
   "cell_type": "code",
   "execution_count": 69,
   "id": "a5d6939f-a78d-480a-bdea-9657deb1fae5",
   "metadata": {},
   "outputs": [
    {
     "data": {
      "text/plain": [
       "' 50개 '"
      ]
     },
     "execution_count": 69,
     "metadata": {},
     "output_type": "execute_result"
    }
   ],
   "source": [
    "soup.select_one('p#fruits2 span.count').text"
   ]
  },
  {
   "cell_type": "code",
   "execution_count": 71,
   "id": "0a6497e5-bd0e-467b-bc43-8fefb2e7e191",
   "metadata": {},
   "outputs": [
    {
     "data": {
      "text/plain": [
       "[' 10개 ', ' 50개 ', ' 20개 ']"
      ]
     },
     "execution_count": 71,
     "metadata": {},
     "output_type": "execute_result"
    }
   ],
   "source": [
    "[i.text for i in soup.find_all('span','count')]"
   ]
  },
  {
   "cell_type": "code",
   "execution_count": 72,
   "id": "8ceb734f-0406-4147-8bd7-df6e5de03405",
   "metadata": {},
   "outputs": [
    {
     "data": {
      "text/plain": [
       "[' 10개 ', ' 50개 ', ' 20개 ']"
      ]
     },
     "execution_count": 72,
     "metadata": {},
     "output_type": "execute_result"
    }
   ],
   "source": [
    "[i. text for i in soup.select('span.count')]"
   ]
  },
  {
   "cell_type": "code",
   "execution_count": 75,
   "id": "45a330ec-450a-450f-8017-4285ce1767da",
   "metadata": {},
   "outputs": [
    {
     "data": {
      "text/plain": [
       "'https://www.banana.com'"
      ]
     },
     "execution_count": 75,
     "metadata": {},
     "output_type": "execute_result"
    }
   ],
   "source": [
    "soup.find_all('a')[0]['href']"
   ]
  },
  {
   "cell_type": "code",
   "execution_count": 76,
   "id": "7d9d87ac-f6ab-4eec-a51a-919f0896b83d",
   "metadata": {},
   "outputs": [
    {
     "data": {
      "text/plain": [
       "['https://www.banana.com', 'https://www.cherry.com', 'https://www.orange.com']"
      ]
     },
     "execution_count": 76,
     "metadata": {},
     "output_type": "execute_result"
    }
   ],
   "source": [
    "[i['href'] for i in soup.find_all('a')]"
   ]
  },
  {
   "cell_type": "code",
   "execution_count": 77,
   "id": "72798feb-2f0b-4ef3-9ad8-c1e8305c0c91",
   "metadata": {},
   "outputs": [
    {
     "data": {
      "text/plain": [
       "<p class=\"name1\" id=\"fruits1\" title=\"바나나\"> 바나나 \n",
       "                  <span class=\"price\"> 3000원 </span>\n",
       "<span class=\"count\"> 10개 </span>\n",
       "<span class=\"store\"> 바나나가게 </span>\n",
       "<a href=\"https://www.banana.com\"> banana.com </a>\n",
       "</p>"
      ]
     },
     "execution_count": 77,
     "metadata": {},
     "output_type": "execute_result"
    }
   ],
   "source": [
    "soup.find('p',id='fruits1')"
   ]
  },
  {
   "cell_type": "code",
   "execution_count": 82,
   "id": "30fedb56-94f7-4db4-be21-afa1412306bb",
   "metadata": {},
   "outputs": [
    {
     "data": {
      "text/plain": [
       "[<a href=\"https://www.banana.com\"> banana.com </a>,\n",
       " <a href=\"https://www.cherry.com\"> cherry.com </a>,\n",
       " <a href=\"https://www.orange.com\"> orange.com </a>]"
      ]
     },
     "execution_count": 82,
     "metadata": {},
     "output_type": "execute_result"
    }
   ],
   "source": [
    "soup.select('a')"
   ]
  },
  {
   "cell_type": "code",
   "execution_count": 83,
   "id": "2b0ba323-0ff1-473f-bbbd-8bfce73e4b17",
   "metadata": {},
   "outputs": [],
   "source": [
    "import pandas as pd"
   ]
  },
  {
   "cell_type": "code",
   "execution_count": 127,
   "id": "56f489dc-bb04-4e40-8b70-0206a864a843",
   "metadata": {},
   "outputs": [
    {
     "name": "stdout",
     "output_type": "stream",
     "text": [
      "https://www.banana.com  banana.com \n",
      "https://www.cherry.com  cherry.com \n",
      "https://www.orange.com  orange.com \n"
     ]
    },
    {
     "data": {
      "text/html": [
       "<div>\n",
       "<style scoped>\n",
       "    .dataframe tbody tr th:only-of-type {\n",
       "        vertical-align: middle;\n",
       "    }\n",
       "\n",
       "    .dataframe tbody tr th {\n",
       "        vertical-align: top;\n",
       "    }\n",
       "\n",
       "    .dataframe thead th {\n",
       "        text-align: right;\n",
       "    }\n",
       "</style>\n",
       "<table border=\"1\" class=\"dataframe\">\n",
       "  <thead>\n",
       "    <tr style=\"text-align: right;\">\n",
       "      <th></th>\n",
       "    </tr>\n",
       "  </thead>\n",
       "  <tbody>\n",
       "  </tbody>\n",
       "</table>\n",
       "</div>"
      ],
      "text/plain": [
       "Empty DataFrame\n",
       "Columns: []\n",
       "Index: []"
      ]
     },
     "execution_count": 127,
     "metadata": {},
     "output_type": "execute_result"
    }
   ],
   "source": [
    "res=[]\n",
    "for i in soup.select('a'):\n",
    "    link=i['href']\n",
    "    title=i.text\n",
    "    print(link,title)\n",
    "pd.DataFrame(res)\n",
    "    "
   ]
  },
  {
   "cell_type": "code",
   "execution_count": 89,
   "id": "677ff2de-4a48-4dbe-99f9-47ee7f7f5c3a",
   "metadata": {},
   "outputs": [
    {
     "data": {
      "text/html": [
       "<div>\n",
       "<style scoped>\n",
       "    .dataframe tbody tr th:only-of-type {\n",
       "        vertical-align: middle;\n",
       "    }\n",
       "\n",
       "    .dataframe tbody tr th {\n",
       "        vertical-align: top;\n",
       "    }\n",
       "\n",
       "    .dataframe thead th {\n",
       "        text-align: right;\n",
       "    }\n",
       "</style>\n",
       "<table border=\"1\" class=\"dataframe\">\n",
       "  <thead>\n",
       "    <tr style=\"text-align: right;\">\n",
       "      <th></th>\n",
       "      <th>title</th>\n",
       "      <th>link</th>\n",
       "    </tr>\n",
       "  </thead>\n",
       "  <tbody>\n",
       "    <tr>\n",
       "      <th>0</th>\n",
       "      <td>banana.com</td>\n",
       "      <td>https://www.banana.com</td>\n",
       "    </tr>\n",
       "    <tr>\n",
       "      <th>1</th>\n",
       "      <td>cherry.com</td>\n",
       "      <td>https://www.cherry.com</td>\n",
       "    </tr>\n",
       "    <tr>\n",
       "      <th>2</th>\n",
       "      <td>orange.com</td>\n",
       "      <td>https://www.orange.com</td>\n",
       "    </tr>\n",
       "  </tbody>\n",
       "</table>\n",
       "</div>"
      ],
      "text/plain": [
       "          title                    link\n",
       "0   banana.com   https://www.banana.com\n",
       "1   cherry.com   https://www.cherry.com\n",
       "2   orange.com   https://www.orange.com"
      ]
     },
     "execution_count": 89,
     "metadata": {},
     "output_type": "execute_result"
    }
   ],
   "source": [
    "res=[]\n",
    "tmp={}\n",
    "for i in soup.select('a'):\n",
    "    tmp={}\n",
    "    tmp['title']=i.text\n",
    "    tmp['link']=i['href']\n",
    "    res.append(tmp)\n",
    "pd.DataFrame(res)\n",
    "    \n"
   ]
  },
  {
   "cell_type": "code",
   "execution_count": null,
   "id": "5eb16dc2-5e24-4b1d-b25c-f2e0c80648e0",
   "metadata": {},
   "outputs": [],
   "source": []
  }
 ],
 "metadata": {
  "kernelspec": {
   "display_name": "Python 3 (ipykernel)",
   "language": "python",
   "name": "python3"
  },
  "language_info": {
   "codemirror_mode": {
    "name": "ipython",
    "version": 3
   },
   "file_extension": ".py",
   "mimetype": "text/x-python",
   "name": "python",
   "nbconvert_exporter": "python",
   "pygments_lexer": "ipython3",
   "version": "3.12.5"
  }
 },
 "nbformat": 4,
 "nbformat_minor": 5
}
