{
 "cells": [
  {
   "cell_type": "code",
   "execution_count": 26,
   "id": "368e165c-ba85-43dc-a480-af3650cfaed2",
   "metadata": {},
   "outputs": [
    {
     "data": {
      "text/plain": [
       "'C:\\\\Users\\\\human\\\\Desktop\\\\수업자료\\\\2차'"
      ]
     },
     "execution_count": 26,
     "metadata": {},
     "output_type": "execute_result"
    }
   ],
   "source": [
    "pwd"
   ]
  },
  {
   "cell_type": "code",
   "execution_count": 27,
   "id": "2b35ddad-8ad5-4212-a5e4-4fa68a2e6f69",
   "metadata": {},
   "outputs": [],
   "source": [
    "import qrcode"
   ]
  },
  {
   "cell_type": "code",
   "execution_count": 30,
   "id": "3b2f9a61-59bd-4e48-b540-50d45a9bb367",
   "metadata": {},
   "outputs": [],
   "source": [
    "with open('./qr.txt','r') as f:\n",
    "    data=[i.strip() for i in list(f)]\n",
    "for i in data:\n",
    "    img=qrcode.make(i)\n",
    "    fn=i.split('.')[1] #naver,daum,google\n",
    "    #print(fn)\n",
    "    img.save(f'qr_{fn}.jpg') #qr_naver.jpg, qr_daum.jpg, qr_google.jpg"
   ]
  },
  {
   "cell_type": "code",
   "execution_count": null,
   "id": "de9e98a5-4db4-4b13-95fa-0ee6d6a52ac1",
   "metadata": {},
   "outputs": [],
   "source": []
  }
 ],
 "metadata": {
  "kernelspec": {
   "display_name": "Python 3 (ipykernel)",
   "language": "python",
   "name": "python3"
  },
  "language_info": {
   "codemirror_mode": {
    "name": "ipython",
    "version": 3
   },
   "file_extension": ".py",
   "mimetype": "text/x-python",
   "name": "python",
   "nbconvert_exporter": "python",
   "pygments_lexer": "ipython3",
   "version": "3.12.5"
  }
 },
 "nbformat": 4,
 "nbformat_minor": 5
}
