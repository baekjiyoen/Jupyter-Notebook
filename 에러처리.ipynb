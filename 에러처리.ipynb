{
 "cells": [
  {
   "cell_type": "code",
   "execution_count": 1,
   "id": "c854fde8-fddc-4446-9252-33bab5c6b5bd",
   "metadata": {},
   "outputs": [
    {
     "data": {
      "text/plain": [
       "'C:\\\\Users\\\\human\\\\Desktop\\\\수업자료\\\\2차'"
      ]
     },
     "execution_count": 1,
     "metadata": {},
     "output_type": "execute_result"
    }
   ],
   "source": [
    "pwd"
   ]
  },
  {
   "cell_type": "code",
   "execution_count": 5,
   "id": "4b6eaa2c-e892-4b88-a0c5-63401eec45bb",
   "metadata": {},
   "outputs": [
    {
     "name": "stdout",
     "output_type": "stream",
     "text": [
      "오류입니다. name 'aaa' is not defined\n"
     ]
    }
   ],
   "source": [
    "try:\n",
    "    print(aaa)\n",
    "except Exception as e:\n",
    "    print('오류입니다.',e)\n",
    "    "
   ]
  },
  {
   "cell_type": "code",
   "execution_count": 19,
   "id": "dd5bc4e3-5e61-4855-82ae-018e5b3b4734",
   "metadata": {},
   "outputs": [
    {
     "name": "stdout",
     "output_type": "stream",
     "text": [
      "res= [3.0, 3.0, 3.0, 4.5, None, None, None]\n",
      "err= ['3,000', ' ', '-']\n"
     ]
    }
   ],
   "source": [
    "source=[3,3.0,'3','4.5','3,000',' ','-'] # 절수로 바꾸어라\n",
    "res=[]\n",
    "err=[]\n",
    "for i in source:\n",
    "    try:\n",
    "        tmp=str(i).replace(',',' ')\n",
    "        res.append(float(tmp))\n",
    "    except:\n",
    "        res.append(None)\n",
    "        err.append(i)\n",
    "print('res=',res)\n",
    "print('err=',err)"
   ]
  },
  {
   "cell_type": "code",
   "execution_count": 21,
   "id": "353c316b-a76c-4ac4-9d75-246136849670",
   "metadata": {},
   "outputs": [
    {
     "name": "stdout",
     "output_type": "stream",
     "text": [
      "res= [3.0, 3.0, 3.0, 4.5]\n"
     ]
    }
   ],
   "source": [
    "source=[3,3.0,'3','4.5','3,000',' ','-'] # 절수로 바꾸어라\n",
    "res=[]\n",
    "for i in source:\n",
    "    try:\n",
    "        tmp=str(i).replace(',',' ')\n",
    "        res.append(float(tmp))\n",
    "    except:\n",
    "       pass\n",
    "print('res=',res)"
   ]
  },
  {
   "cell_type": "code",
   "execution_count": 20,
   "id": "5c997c63-d75a-435b-9cf6-8f40db7fe8b0",
   "metadata": {},
   "outputs": [
    {
     "name": "stdout",
     "output_type": "stream",
     "text": [
      "res= [3.0, 3.0, 3.0, 4.5, None, None, None]\n"
     ]
    }
   ],
   "source": [
    "source=[3,3.0,'3','4.5','3,000',' ','-'] # 절수로 바꾸어라\n",
    "res=[]\n",
    "for i in source:\n",
    "    try:\n",
    "        tmp=str(i).replace(',',' ')\n",
    "        res.append(float(tmp))\n",
    "    except:\n",
    "        res.append(None)\n",
    "        err.append(i)\n",
    "print('res=',res)\n"
   ]
  },
  {
   "cell_type": "code",
   "execution_count": null,
   "id": "2568b28e-2799-49b4-a934-3bed3fa4cb91",
   "metadata": {},
   "outputs": [],
   "source": [
    "import random"
   ]
  },
  {
   "cell_type": "code",
   "execution_count": 25,
   "id": "211a161f-eea9-4440-ab6e-66cd7a8ad57b",
   "metadata": {},
   "outputs": [
    {
     "data": {
      "text/plain": [
       "0.7773566427005639"
      ]
     },
     "execution_count": 25,
     "metadata": {},
     "output_type": "execute_result"
    }
   ],
   "source": [
    "random.seed(1000) # 숫자 맞춰서 추출 \n",
    "random.random()"
   ]
  },
  {
   "cell_type": "code",
   "execution_count": null,
   "id": "2e085b0a-c4a3-4dfb-964e-6c3444ce82a7",
   "metadata": {},
   "outputs": [],
   "source": [
    "단어=['라면','김밥','짜장면','짬뽕']\n",
    "random.shuffle(단어)\n",
    "print(단어)"
   ]
  },
  {
   "cell_type": "code",
   "execution_count": null,
   "id": "964c4567-65b1-4517-a9cd-69a3b75daf2a",
   "metadata": {},
   "outputs": [],
   "source": [
    "단어=['라면','김밥','짜장면','짬뽕']\n",
    "\n",
    "for i in 단어:\n",
    "    n=0\n",
    "    while n<3:\n",
    "        \n",
    "        answer=input(f'{i}\\n입력:')\n",
    "        n+=1\n",
    "        if i==answer:\n",
    "            print('잘했다')\n",
    "            break\n",
    "    if n==3:\n",
    "    print('열심히 하세요')\n",
    "            "
   ]
  },
  {
   "cell_type": "code",
   "execution_count": 1,
   "id": "0921eb6e-618f-4430-ac35-d4e7e40f4388",
   "metadata": {},
   "outputs": [
    {
     "name": "stdin",
     "output_type": "stream",
     "text": [
      "\"love\" 뜻: 1223\n"
     ]
    },
    {
     "name": "stdout",
     "output_type": "stream",
     "text": [
      "공부해라\n"
     ]
    },
    {
     "name": "stdin",
     "output_type": "stream",
     "text": [
      "\"apple\" 뜻: 사과\n"
     ]
    },
    {
     "name": "stdout",
     "output_type": "stream",
     "text": [
      "잘했다\n"
     ]
    },
    {
     "name": "stdin",
     "output_type": "stream",
     "text": [
      "\"banana\" 뜻: 111\n"
     ]
    },
    {
     "name": "stdout",
     "output_type": "stream",
     "text": [
      "공부해라\n"
     ]
    }
   ],
   "source": [
    "data={\n",
    "    'love':'사랑',\n",
    "    'apple':'사과',\n",
    "    'banana':'바나나'\n",
    "}\n",
    "word=list(data.keys())\n",
    "random.shuffle(word)\n",
    "\n",
    "for i in word:\n",
    "    answer=input(f'\"{i}\" 뜻:')\n",
    "    if data[i]==answer:\n",
    "        print('잘했다')\n",
    "    else:\n",
    "        print('공부해라')"
   ]
  },
  {
   "cell_type": "code",
   "execution_count": 2,
   "id": "2c9b42c1-2fda-441d-b4cf-7875c506f46c",
   "metadata": {},
   "outputs": [],
   "source": [
    "import random"
   ]
  },
  {
   "cell_type": "code",
   "execution_count": 6,
   "id": "85362372-ae34-4548-a0be-76185a329733",
   "metadata": {},
   "outputs": [
    {
     "data": {
      "text/plain": [
       "['love', 'apple', 'banana']"
      ]
     },
     "execution_count": 6,
     "metadata": {},
     "output_type": "execute_result"
    }
   ],
   "source": [
    "list(data.keys())"
   ]
  },
  {
   "cell_type": "code",
   "execution_count": 3,
   "id": "102e9dc7-3cd7-47fb-8dfb-98dc513523c2",
   "metadata": {},
   "outputs": [
    {
     "ename": "NameError",
     "evalue": "name 'random' is not defined",
     "output_type": "error",
     "traceback": [
      "\u001b[1;31m---------------------------------------------------------------------------\u001b[0m",
      "\u001b[1;31mNameError\u001b[0m                                 Traceback (most recent call last)",
      "Cell \u001b[1;32mIn[3], line 1\u001b[0m\n\u001b[1;32m----> 1\u001b[0m random\u001b[38;5;241m.\u001b[39mshuffle(\u001b[38;5;28mlist\u001b[39m(data\u001b[38;5;241m.\u001b[39mkeys()))\n",
      "\u001b[1;31mNameError\u001b[0m: name 'random' is not defined"
     ]
    }
   ],
   "source": [
    "random.shuffle(list(data.keys()))"
   ]
  },
  {
   "cell_type": "code",
   "execution_count": null,
   "id": "51223895-e22f-4087-ba9f-8e017df38cef",
   "metadata": {},
   "outputs": [],
   "source": []
  }
 ],
 "metadata": {
  "kernelspec": {
   "display_name": "Python 3 (ipykernel)",
   "language": "python",
   "name": "python3"
  },
  "language_info": {
   "codemirror_mode": {
    "name": "ipython",
    "version": 3
   },
   "file_extension": ".py",
   "mimetype": "text/x-python",
   "name": "python",
   "nbconvert_exporter": "python",
   "pygments_lexer": "ipython3",
   "version": "3.12.5"
  }
 },
 "nbformat": 4,
 "nbformat_minor": 5
}
