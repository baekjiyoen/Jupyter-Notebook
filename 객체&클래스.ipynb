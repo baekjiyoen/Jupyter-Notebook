{
 "cells": [
  {
   "cell_type": "code",
   "execution_count": 138,
   "id": "b7c7ed86-f997-4a19-a836-c22bcdcdd363",
   "metadata": {},
   "outputs": [
    {
     "name": "stdout",
     "output_type": "stream",
     "text": [
      "10 50\n",
      "100 500\n",
      "502\n",
      "50002\n",
      "125\n",
      "1205\n"
     ]
    }
   ],
   "source": [
    "class Rect:\n",
    "    def __init__(self,width,height): # 속성 지정 : 가로, 세로\n",
    "        self.w=width\n",
    "        self.h=height\n",
    "        self.c=2 # 서로 공유 하기 위해 self사용\n",
    "    def area(self):\n",
    "        self.test=5\n",
    "        return self.w*self.h+self.c\n",
    "    def 둘레(self):\n",
    "        return (self.w+self.h)*2+self.test\n",
    "a=Rect(10,50)\n",
    "b=Rect(100,500)\n",
    "\n",
    "# print('a=',a)\n",
    "# print('b=',b)\n",
    "print(a.w,a.h)\n",
    "print(b.w,b.h)\n",
    "print(a.area())\n",
    "print(b.area())\n",
    "print(a.둘레())\n",
    "print(b.둘레())"
   ]
  },
  {
   "cell_type": "code",
   "execution_count": 143,
   "id": "bf1a5385-df44-4d1f-af4c-80925a95e9bb",
   "metadata": {},
   "outputs": [
    {
     "name": "stdout",
     "output_type": "stream",
     "text": [
      "35\n"
     ]
    }
   ],
   "source": [
    "class Rect:\n",
    "    def __init__(self,width,height): # 속성 지정 : 가로, 세로\n",
    "        self.w=width\n",
    "        self.h=height\n",
    "        self.c=2 # 서로 공유 하기 위해 self사용\n",
    "    def area(self):\n",
    "        self.test=5\n",
    "        return self.w*self.h+self.c\n",
    "    def 둘레(self):\n",
    "        self.area()\n",
    "        return (self.w+self.h)*2+self.test\n",
    "\n",
    "a=Rect(10,5)\n",
    "b=Rect(50,60)\n",
    "# print(a.area())\n",
    "print(a.둘레())"
   ]
  },
  {
   "cell_type": "code",
   "execution_count": 150,
   "id": "a1282eed-7848-42e9-89d3-afe427c2fcf4",
   "metadata": {},
   "outputs": [
    {
     "name": "stdout",
     "output_type": "stream",
     "text": [
      "5 3 15\n",
      "30 50 1500\n",
      "--------------\n",
      "4\n",
      "4\n"
     ]
    }
   ],
   "source": [
    "class Rect:\n",
    "    n=0\n",
    "    def __init__(self,w,h):\n",
    "        self.w=w\n",
    "        self.h=h\n",
    "        Rect.n+=1\n",
    "        \n",
    "    def area(self):\n",
    "        return self.w*self.h\n",
    "\n",
    "a=Rect(5,3)\n",
    "b=Rect(30,50)\n",
    "c=Rect(1,1)\n",
    "d=Rect(2,2)\n",
    "print(a.w,a.h,a.area())\n",
    "print(b.w,b.h,b.area())\n",
    "print('--------------')\n",
    "print(a.n)\n",
    "print(b.n)"
   ]
  },
  {
   "cell_type": "code",
   "execution_count": 151,
   "id": "c43b271e-4c2b-46e6-ae01-d26533c608a1",
   "metadata": {},
   "outputs": [],
   "source": [
    "a.w=1000"
   ]
  },
  {
   "cell_type": "code",
   "execution_count": 152,
   "id": "a46162da-99ab-49d9-9877-8c0a00d1aeb3",
   "metadata": {},
   "outputs": [
    {
     "data": {
      "text/plain": [
       "1000"
      ]
     },
     "execution_count": 152,
     "metadata": {},
     "output_type": "execute_result"
    }
   ],
   "source": [
    "a.w"
   ]
  },
  {
   "cell_type": "code",
   "execution_count": 154,
   "id": "3071bbc9-f6c0-4f27-90bc-b22626d63419",
   "metadata": {},
   "outputs": [
    {
     "data": {
      "text/plain": [
       "3000"
      ]
     },
     "execution_count": 154,
     "metadata": {},
     "output_type": "execute_result"
    }
   ],
   "source": [
    "a.area()"
   ]
  },
  {
   "cell_type": "code",
   "execution_count": 155,
   "id": "a95c14cb-fa8a-40ff-89d5-7d34f1e94f7c",
   "metadata": {},
   "outputs": [
    {
     "data": {
      "text/plain": [
       "4"
      ]
     },
     "execution_count": 155,
     "metadata": {},
     "output_type": "execute_result"
    }
   ],
   "source": [
    "a.n"
   ]
  },
  {
   "cell_type": "code",
   "execution_count": 156,
   "id": "2b94d520-dfe0-41c9-878f-80804d63be86",
   "metadata": {},
   "outputs": [],
   "source": [
    "a.n=1"
   ]
  },
  {
   "cell_type": "code",
   "execution_count": 157,
   "id": "b5ba8a0e-738f-4bb4-8a63-51c87dfe524b",
   "metadata": {},
   "outputs": [
    {
     "data": {
      "text/plain": [
       "1"
      ]
     },
     "execution_count": 157,
     "metadata": {},
     "output_type": "execute_result"
    }
   ],
   "source": [
    "a.n"
   ]
  },
  {
   "cell_type": "code",
   "execution_count": 159,
   "id": "a563b13f-afde-45c3-8d26-97d93d59c754",
   "metadata": {},
   "outputs": [
    {
     "data": {
      "text/plain": [
       "4"
      ]
     },
     "execution_count": 159,
     "metadata": {},
     "output_type": "execute_result"
    }
   ],
   "source": [
    "b.n"
   ]
  },
  {
   "cell_type": "code",
   "execution_count": 160,
   "id": "287a3999-3f80-41e1-a93e-363601763c9b",
   "metadata": {},
   "outputs": [
    {
     "data": {
      "text/plain": [
       "{'w': 1000, 'h': 3, 'n': 1}"
      ]
     },
     "execution_count": 160,
     "metadata": {},
     "output_type": "execute_result"
    }
   ],
   "source": [
    "a.__dict__"
   ]
  },
  {
   "cell_type": "code",
   "execution_count": 161,
   "id": "62d7d006-0e64-4f86-af4f-909820db72b0",
   "metadata": {},
   "outputs": [
    {
     "data": {
      "text/plain": [
       "{'w': 30, 'h': 50}"
      ]
     },
     "execution_count": 161,
     "metadata": {},
     "output_type": "execute_result"
    }
   ],
   "source": [
    "b.__dict__"
   ]
  },
  {
   "cell_type": "code",
   "execution_count": 162,
   "id": "4d86ae26-80c8-4484-a294-c99bebdd3968",
   "metadata": {},
   "outputs": [
    {
     "data": {
      "text/plain": [
       "mappingproxy({'__module__': '__main__',\n",
       "              'n': 4,\n",
       "              '__init__': <function __main__.Rect.__init__(self, w, h)>,\n",
       "              'area': <function __main__.Rect.area(self)>,\n",
       "              '__dict__': <attribute '__dict__' of 'Rect' objects>,\n",
       "              '__weakref__': <attribute '__weakref__' of 'Rect' objects>,\n",
       "              '__doc__': None})"
      ]
     },
     "execution_count": 162,
     "metadata": {},
     "output_type": "execute_result"
    }
   ],
   "source": [
    "Rect.__dict__"
   ]
  },
  {
   "cell_type": "code",
   "execution_count": 172,
   "id": "a883dc2d-06ea-4131-9228-c2d8c3f2ddb3",
   "metadata": {},
   "outputs": [
    {
     "name": "stdout",
     "output_type": "stream",
     "text": [
      "5 3\n",
      "1000 3 3000\n"
     ]
    }
   ],
   "source": [
    "class Rect:\n",
    "    n=0\n",
    "    def __init__(self,w,h):\n",
    "        self.__w=w\n",
    "        self.__h=h\n",
    "        Rect.n+=1\n",
    "    def area(self):\n",
    "        return self.__w*self.__h\n",
    "    def get_w(self):\n",
    "        return self.__w\n",
    "    def get_h(self):\n",
    "        return self.__h\n",
    "    def set_w(self,new_w):\n",
    "        self.__w=new_w\n",
    "\n",
    "a=Rect(5,3)\n",
    "b=Rect(30,50)\n",
    "\n",
    "print(a.get_w(),a.get_h())\n",
    "a.set_w(1000)\n",
    "print(a.get_w(),a.get_h(),a.area())"
   ]
  },
  {
   "cell_type": "code",
   "execution_count": null,
   "id": "87593c05-1d6f-4efa-a605-389beef2b94d",
   "metadata": {},
   "outputs": [],
   "source": []
  }
 ],
 "metadata": {
  "kernelspec": {
   "display_name": "Python 3 (ipykernel)",
   "language": "python",
   "name": "python3"
  },
  "language_info": {
   "codemirror_mode": {
    "name": "ipython",
    "version": 3
   },
   "file_extension": ".py",
   "mimetype": "text/x-python",
   "name": "python",
   "nbconvert_exporter": "python",
   "pygments_lexer": "ipython3",
   "version": "3.12.5"
  }
 },
 "nbformat": 4,
 "nbformat_minor": 5
}
