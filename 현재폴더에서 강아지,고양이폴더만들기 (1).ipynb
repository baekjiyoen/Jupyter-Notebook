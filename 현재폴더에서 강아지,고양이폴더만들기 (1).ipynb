{
 "cells": [
  {
   "cell_type": "code",
   "execution_count": 85,
   "id": "ebaeba3c-3d2c-4588-9f47-51541f5cac67",
   "metadata": {},
   "outputs": [
    {
     "data": {
      "text/plain": [
       "'C:\\\\Users\\\\human\\\\Desktop\\\\수업자료\\\\2차'"
      ]
     },
     "execution_count": 85,
     "metadata": {},
     "output_type": "execute_result"
    }
   ],
   "source": [
    "pwd"
   ]
  },
  {
   "cell_type": "code",
   "execution_count": 84,
   "id": "802ece49-9510-4f00-b585-a481554f7f51",
   "metadata": {},
   "outputs": [],
   "source": [
    "from glob import glob\n",
    "import os\n",
    "import shutil"
   ]
  },
  {
   "cell_type": "code",
   "execution_count": 87,
   "id": "fb364590-be7d-4663-b26e-62615c5be226",
   "metadata": {},
   "outputs": [],
   "source": [
    "# os.makedirs('연습',exist_ok=True)"
   ]
  },
  {
   "cell_type": "code",
   "execution_count": 94,
   "id": "75e9d472-5026-4a72-827b-a9f796f3dcc7",
   "metadata": {},
   "outputs": [],
   "source": [
    "# 1. 현재 폴더에 '강아지','고양이' 폴더 만들기\n",
    "os.makedirs('./강아지',exist_ok=True)\n",
    "os.makedirs('고양이',exist_ok=True)\n",
    "# 2. imges폴더의 파일명 불러와서 '강아지'->'강아지폴더','고양이'->'고양이폴더'에 복사\n",
    "file_names=glob('./images/*.jpg')\n",
    "# print(file_names)\n",
    "for file_name in file_names:\n",
    "    name=file_name.split('\\\\')[-1]\n",
    "    if'강아지'in file_name:\n",
    "         shutil.copyfile(file_name,f'./강아지/{name}')\n",
    "    else:\n",
    "        shutil.copyfile(file_name,f'./고양이/{name}')\n",
    "        \n",
    "        \n"
   ]
  },
  {
   "cell_type": "code",
   "execution_count": null,
   "id": "17d30118-2e9e-496f-8f78-0212cfc61faf",
   "metadata": {},
   "outputs": [],
   "source": [
    "'독수리'in'강아지 고양이 뱀'"
   ]
  }
 ],
 "metadata": {
  "kernelspec": {
   "display_name": "Python 3 (ipykernel)",
   "language": "python",
   "name": "python3"
  },
  "language_info": {
   "codemirror_mode": {
    "name": "ipython",
    "version": 3
   },
   "file_extension": ".py",
   "mimetype": "text/x-python",
   "name": "python",
   "nbconvert_exporter": "python",
   "pygments_lexer": "ipython3",
   "version": "3.12.5"
  }
 },
 "nbformat": 4,
 "nbformat_minor": 5
}
