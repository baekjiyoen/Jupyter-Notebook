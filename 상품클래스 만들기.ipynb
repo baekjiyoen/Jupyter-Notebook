{
 "cells": [
  {
   "cell_type": "code",
   "execution_count": 173,
   "id": "b71c31c2-37b3-4570-8ac9-10d51ae284f7",
   "metadata": {},
   "outputs": [
    {
     "data": {
      "text/plain": [
       "'C:\\\\Users\\\\human\\\\Desktop\\\\수업자료\\\\2차'"
      ]
     },
     "execution_count": 173,
     "metadata": {},
     "output_type": "execute_result"
    }
   ],
   "source": [
    "pwd"
   ]
  },
  {
   "cell_type": "code",
   "execution_count": 196,
   "id": "ad31d2c7-f53b-46e2-b760-b95312a9f7a8",
   "metadata": {},
   "outputs": [],
   "source": [
    "class Product:\n",
    "    def __init__(self,name,price,stock):\n",
    "        self.name=name\n",
    "        self.price=price\n",
    "        self.stock=stock\n",
    "\n",
    "    def information(self):\n",
    "        print('상품이름 : ', self.name)\n",
    "        print('상품가격 : ', self.price)\n",
    "        print('남은재고 : ', self.stock)\n",
    "\n",
    "class Member:\n",
    "    def __init__(self,name,join_date):\n",
    "        self.name=name\n",
    "        self.join_date=join_date\n",
    "        self.p_list=[]\n",
    "        self.p_amount=0\n",
    "        \n",
    "    def information(self):\n",
    "        print('고객이름 : ',self.name)\n",
    "        print('가입날짜 : ',self.join_date)\n",
    "        print('구매이력 : ',self.p_list)\n",
    "        print('누적금액 : ',self.p_amount)\n",
    "        \n",
    "    def buy(self,product,count):\n",
    "        print(f'{self.name}님이 {product.name}을 {count}개 구매 하였습니다' )\n",
    "        Product.stock = count\n",
    "        self.p_list.append(product.name)\n",
    "        self.p_amount+=product.price*count\n",
    "\n",
    "# 제품 인스턴스\n",
    "socks=Product('양말',1000,10)\n",
    "books=Product('책',17500,15)\n",
    "\n",
    "# 고객 인스턴스\n",
    "park=Member('박','20240103')\n",
    "hong=Member('홍','20240505')\n",
    "\n",
    "\n",
    "        "
   ]
  },
  {
   "cell_type": "code",
   "execution_count": 186,
   "id": "90e71367-a1ea-40ea-90f4-5b359e437a4d",
   "metadata": {},
   "outputs": [
    {
     "name": "stdout",
     "output_type": "stream",
     "text": [
      "고객이름 :  박\n",
      "가입날짜 :  20240103\n",
      "구매이력 :  []\n",
      "누적금액 :  0\n"
     ]
    }
   ],
   "source": [
    "park.information()"
   ]
  },
  {
   "cell_type": "code",
   "execution_count": 188,
   "id": "c4e4b93a-07df-47a3-96fa-f831c53e9b3c",
   "metadata": {},
   "outputs": [
    {
     "name": "stdout",
     "output_type": "stream",
     "text": [
      "고객이름 :  홍\n",
      "가입날짜 :  20240505\n",
      "구매이력 :  []\n",
      "누적금액 :  0\n"
     ]
    }
   ],
   "source": [
    "hong.information()"
   ]
  },
  {
   "cell_type": "code",
   "execution_count": 197,
   "id": "6e86e65a-0c72-4dc1-af18-f24e6825c060",
   "metadata": {},
   "outputs": [
    {
     "name": "stdout",
     "output_type": "stream",
     "text": [
      "박님이 책을 3개 구매 하였습니다\n",
      "박님이 책을 1개 구매 하였습니다\n",
      "박님이 양말을 10개 구매 하였습니다\n",
      "고객이름 :  박\n",
      "가입날짜 :  20240103\n",
      "구매이력 :  ['책', '책', '양말']\n",
      "누적금액 :  80000\n"
     ]
    }
   ],
   "source": [
    "park.buy(books,3)\n",
    "park.buy(books,1)\n",
    "park.buy(socks,10)\n",
    "# 박정보\n",
    "park.information()"
   ]
  },
  {
   "cell_type": "code",
   "execution_count": 190,
   "id": "900d6e5c-a1cb-4ae7-a818-cd49fd957ea5",
   "metadata": {},
   "outputs": [
    {
     "name": "stdout",
     "output_type": "stream",
     "text": [
      "상품이름 :  책\n",
      "상품가격 :  17500\n",
      "남은재고 :  15\n"
     ]
    }
   ],
   "source": [
    "books.information()"
   ]
  },
  {
   "cell_type": "code",
   "execution_count": 191,
   "id": "134bac88-f376-485f-8795-b0ee2dfcb3b5",
   "metadata": {},
   "outputs": [
    {
     "name": "stdout",
     "output_type": "stream",
     "text": [
      "상품이름 :  양말\n",
      "상품가격 :  1000\n",
      "남은재고 :  10\n"
     ]
    }
   ],
   "source": [
    "socks.information()"
   ]
  },
  {
   "cell_type": "code",
   "execution_count": null,
   "id": "6d98b1d0-6e2c-4521-93cf-72a21b9bdab5",
   "metadata": {},
   "outputs": [],
   "source": []
  }
 ],
 "metadata": {
  "kernelspec": {
   "display_name": "Python 3 (ipykernel)",
   "language": "python",
   "name": "python3"
  },
  "language_info": {
   "codemirror_mode": {
    "name": "ipython",
    "version": 3
   },
   "file_extension": ".py",
   "mimetype": "text/x-python",
   "name": "python",
   "nbconvert_exporter": "python",
   "pygments_lexer": "ipython3",
   "version": "3.12.5"
  }
 },
 "nbformat": 4,
 "nbformat_minor": 5
}
