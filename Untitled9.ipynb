{
 "cells": [
  {
   "cell_type": "code",
   "execution_count": 155,
   "id": "98c7dc01-6489-4dab-8716-b4d3051670d9",
   "metadata": {},
   "outputs": [
    {
     "data": {
      "text/plain": [
       "'C:\\\\Users\\\\human\\\\Desktop\\\\수업자료\\\\2차'"
      ]
     },
     "execution_count": 155,
     "metadata": {},
     "output_type": "execute_result"
    }
   ],
   "source": [
    "pwd"
   ]
  },
  {
   "cell_type": "code",
   "execution_count": 165,
   "id": "03bcb3a5-1bce-4ca7-aa41-b00ffad9b092",
   "metadata": {},
   "outputs": [],
   "source": [
    "from PIL import Image,ImageFilter\n",
    "from glob import glob\n",
    "import os\n",
    "import shutil"
   ]
  },
  {
   "cell_type": "code",
   "execution_count": 183,
   "id": "109eafa3-9b7f-46b8-8085-97f276d1225d",
   "metadata": {},
   "outputs": [
    {
     "name": "stdout",
     "output_type": "stream",
     "text": [
      "./images\\강아지1.jpg ---> ./images\\강아지1.jpg\n",
      "./images\\강아지10.jpg ---> ./images\\강아지1.jpg\n",
      "./images\\강아지2.jpg ---> ./images\\강아지1.jpg\n",
      "./images\\강아지3.jpg ---> ./images\\강아지1.jpg\n",
      "./images\\강아지4.jpg ---> ./images\\강아지1.jpg\n",
      "./images\\강아지5.jpg ---> ./images\\강아지1.jpg\n",
      "./images\\강아지6.jpg ---> ./images\\강아지1.jpg\n",
      "./images\\강아지7.jpg ---> ./images\\강아지1.jpg\n",
      "./images\\강아지8.jpg ---> ./images\\강아지1.jpg\n",
      "./images\\강아지9.jpg ---> ./images\\강아지1.jpg\n",
      "./images\\고양이1.jpg ---> ./images\\강아지1.jpg\n",
      "./images\\고양이2.jpg ---> ./images\\강아지1.jpg\n",
      "./images\\고양이3.jpg ---> ./images\\강아지1.jpg\n",
      "./images\\고양이4.jpg ---> ./images\\강아지1.jpg\n",
      "./images\\고양이5.jpg ---> ./images\\강아지1.jpg\n",
      "./images\\고양이6.jpg ---> ./images\\강아지1.jpg\n",
      "./images\\뱀 (1).jpg ---> ./images\\강아지1.jpg\n",
      "./images\\뱀 (10).jpg ---> ./images\\강아지1.jpg\n",
      "./images\\뱀 (11).jpg ---> ./images\\강아지1.jpg\n",
      "./images\\뱀 (12).jpg ---> ./images\\강아지1.jpg\n",
      "./images\\뱀 (13).jpg ---> ./images\\강아지1.jpg\n",
      "./images\\뱀 (2).jpg ---> ./images\\강아지1.jpg\n",
      "./images\\뱀 (3).jpg ---> ./images\\강아지1.jpg\n",
      "./images\\뱀 (4).jpg ---> ./images\\강아지1.jpg\n",
      "./images\\뱀 (5).jpg ---> ./images\\강아지1.jpg\n",
      "./images\\뱀 (6).jpg ---> ./images\\강아지1.jpg\n",
      "./images\\뱀 (7).jpg ---> ./images\\강아지1.jpg\n",
      "./images\\뱀 (8).jpg ---> ./images\\강아지1.jpg\n",
      "./images\\뱀 (9).jpg ---> ./images\\강아지1.jpg\n",
      "./images\\소 (1).jpg ---> ./images\\강아지1.jpg\n",
      "./images\\소 (10).jpg ---> ./images\\강아지1.jpg\n",
      "./images\\소 (11).jpg ---> ./images\\강아지1.jpg\n",
      "./images\\소 (12).jpg ---> ./images\\강아지1.jpg\n",
      "./images\\소 (13).jpg ---> ./images\\강아지1.jpg\n",
      "./images\\소 (2).jpg ---> ./images\\강아지1.jpg\n",
      "./images\\소 (3).jpg ---> ./images\\강아지1.jpg\n",
      "./images\\소 (4).jpg ---> ./images\\강아지1.jpg\n",
      "./images\\소 (5).jpg ---> ./images\\강아지1.jpg\n",
      "./images\\소 (6).jpg ---> ./images\\강아지1.jpg\n",
      "./images\\소 (7).jpg ---> ./images\\강아지1.jpg\n",
      "./images\\소 (8).jpg ---> ./images\\강아지1.jpg\n",
      "./images\\소 (9).jpg ---> ./images\\강아지1.jpg\n",
      "./images\\오랑우탄 (1).jpg ---> ./images\\강아지1.jpg\n",
      "./images\\오랑우탄 (10).jpg ---> ./images\\강아지1.jpg\n",
      "./images\\오랑우탄 (11).jpg ---> ./images\\강아지1.jpg\n",
      "./images\\오랑우탄 (12).jpg ---> ./images\\강아지1.jpg\n",
      "./images\\오랑우탄 (13).jpg ---> ./images\\강아지1.jpg\n",
      "./images\\오랑우탄 (2).jpg ---> ./images\\강아지1.jpg\n",
      "./images\\오랑우탄 (3).jpg ---> ./images\\강아지1.jpg\n",
      "./images\\오랑우탄 (4).jpg ---> ./images\\강아지1.jpg\n",
      "./images\\오랑우탄 (5).jpg ---> ./images\\강아지1.jpg\n",
      "./images\\오랑우탄 (6).jpg ---> ./images\\강아지1.jpg\n",
      "./images\\오랑우탄 (7).jpg ---> ./images\\강아지1.jpg\n",
      "./images\\오랑우탄 (8).jpg ---> ./images\\강아지1.jpg\n",
      "./images\\오랑우탄 (9).jpg ---> ./images\\강아지1.jpg\n"
     ]
    }
   ],
   "source": [
    "# 1. 파일 목록 불러오기\n",
    "file_names=glob('./images/*.jpg')\n",
    "for file_name in file_names:\n",
    "    aniaml_name=re.findall('[가-힣]+',file_name)[0]\n",
    "    # print(animal_name)\n",
    "    # if animal_name:\n",
    "        # animal_name = animal_name[0]\n",
    "    # os.makedirs(animal_name,exist_ok=True)\n",
    "    # new_file_name=file_name.replace('./images/',animal_name)\n",
    "    # shutil.copyfile(file_name, new_file_name)\n",
    "    print(file_name,'--->',new_file_name)"
   ]
  },
  {
   "cell_type": "code",
   "execution_count": null,
   "id": "7b14ba0b-8be5-4b7c-93b1-3fa85d8f7278",
   "metadata": {},
   "outputs": [],
   "source": []
  }
 ],
 "metadata": {
  "kernelspec": {
   "display_name": "Python 3 (ipykernel)",
   "language": "python",
   "name": "python3"
  },
  "language_info": {
   "codemirror_mode": {
    "name": "ipython",
    "version": 3
   },
   "file_extension": ".py",
   "mimetype": "text/x-python",
   "name": "python",
   "nbconvert_exporter": "python",
   "pygments_lexer": "ipython3",
   "version": "3.12.5"
  }
 },
 "nbformat": 4,
 "nbformat_minor": 5
}
