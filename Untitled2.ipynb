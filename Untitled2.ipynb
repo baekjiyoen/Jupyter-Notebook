{
 "cells": [
  {
   "cell_type": "code",
   "execution_count": 1,
   "id": "e6287d82-a807-40e9-9a4a-d2e59220c866",
   "metadata": {},
   "outputs": [
    {
     "data": {
      "text/plain": [
       "'C:\\\\Users\\\\human\\\\Desktop\\\\수업자료\\\\1차'"
      ]
     },
     "execution_count": 1,
     "metadata": {},
     "output_type": "execute_result"
    }
   ],
   "source": [
    "pwd"
   ]
  },
  {
   "cell_type": "code",
   "execution_count": 3,
   "id": "5cdf5bab-b2bf-4cae-8766-74de483ca72d",
   "metadata": {},
   "outputs": [
    {
     "name": "stdin",
     "output_type": "stream",
     "text": [
      "공백으로 나눠 숫자 2개 입력 :  3 5\n"
     ]
    },
    {
     "name": "stdout",
     "output_type": "stream",
     "text": [
      "a= 3 <class 'int'>\n",
      "b= 5 <class 'int'>\n"
     ]
    }
   ],
   "source": [
    "a,b=map(int,input('공백으로 나눠 숫자 2개 입력 : ').split())\n",
    "print('a=',a,type(a))\n",
    "print('b=',b,type(b))\n"
   ]
  },
  {
   "cell_type": "code",
   "execution_count": 7,
   "id": "b5f08e47-6821-4154-8f51-ee47342cbcf1",
   "metadata": {},
   "outputs": [
    {
     "name": "stdout",
     "output_type": "stream",
     "text": [
      "내 점수는 3000입니다\n"
     ]
    }
   ],
   "source": [
    "점수=3000\n",
    "print('내 점수는 ' + str(점수)+'입니다')"
   ]
  },
  {
   "cell_type": "code",
   "execution_count": 9,
   "id": "c22e5fb5-1492-4a89-b01e-ffcc1b060bf5",
   "metadata": {},
   "outputs": [
    {
     "name": "stdout",
     "output_type": "stream",
     "text": [
      "내점수는 3,000점 입니다.\n"
     ]
    }
   ],
   "source": [
    "점수=3000\n",
    "print(f'내점수는 {점수:,}점 입니다.')"
   ]
  },
  {
   "cell_type": "code",
   "execution_count": 16,
   "id": "cee25b66-fb8b-4d6b-9217-781df1398a1b",
   "metadata": {},
   "outputs": [
    {
     "name": "stdout",
     "output_type": "stream",
     "text": [
      "내점수는 3,000.36점 입니다.\n"
     ]
    }
   ],
   "source": [
    "점수=3000.356\n",
    "print(f'내점수는 {점수:,.2f}점 입니다.')"
   ]
  },
  {
   "cell_type": "code",
   "execution_count": 22,
   "id": "3f96ea53-03d9-4745-96d8-f9da48c00bcf",
   "metadata": {},
   "outputs": [
    {
     "name": "stdout",
     "output_type": "stream",
     "text": [
      "내점수는03점 입니다.\n"
     ]
    }
   ],
   "source": [
    "점수=3\n",
    "print(f'내점수는{점수:02d}점 입니다.')"
   ]
  },
  {
   "cell_type": "code",
   "execution_count": 23,
   "id": "29edb49a-a04c-4251-a913-7f921b5c8911",
   "metadata": {},
   "outputs": [],
   "source": [
    "a=[]\n",
    "a=list()"
   ]
  },
  {
   "cell_type": "code",
   "execution_count": 24,
   "id": "afcd0a4e-7d90-4d49-89cf-baf1af86d1f0",
   "metadata": {},
   "outputs": [
    {
     "name": "stdout",
     "output_type": "stream",
     "text": [
      "[3] <class 'list'>\n"
     ]
    }
   ],
   "source": [
    "a=[3]\n",
    "print(a,type(a))"
   ]
  },
  {
   "cell_type": "code",
   "execution_count": 26,
   "id": "b436534e-a506-4797-9564-1054106d5782",
   "metadata": {},
   "outputs": [
    {
     "name": "stdout",
     "output_type": "stream",
     "text": [
      "(3,) <class 'tuple'>\n"
     ]
    }
   ],
   "source": [
    "b=(3,)\n",
    "print(b,type(b))"
   ]
  },
  {
   "cell_type": "code",
   "execution_count": 27,
   "id": "2f39eaa7-2fdd-4f4d-9882-2d7c5a7c2de8",
   "metadata": {},
   "outputs": [
    {
     "name": "stdout",
     "output_type": "stream",
     "text": [
      "['가을']\n"
     ]
    }
   ],
   "source": [
    "a=[]\n",
    "a.append('가을')\n",
    "print(a)"
   ]
  },
  {
   "cell_type": "code",
   "execution_count": 28,
   "id": "753aad98-01c2-4f3b-aa71-623465210d5d",
   "metadata": {},
   "outputs": [
    {
     "name": "stdout",
     "output_type": "stream",
     "text": [
      "['가을', '3']\n"
     ]
    }
   ],
   "source": [
    "a.append('3')\n",
    "print(a)"
   ]
  },
  {
   "cell_type": "code",
   "execution_count": 29,
   "id": "973fabbf-edfd-4c5b-b76b-1fa7213b91ab",
   "metadata": {},
   "outputs": [
    {
     "name": "stdout",
     "output_type": "stream",
     "text": [
      "['가을', '3', [4, 5, 6, 7]]\n"
     ]
    }
   ],
   "source": [
    "a.append([4,5,6,7])\n",
    "print(a)"
   ]
  },
  {
   "cell_type": "code",
   "execution_count": 30,
   "id": "033870a9-608d-4860-850f-4a87b4523644",
   "metadata": {},
   "outputs": [
    {
     "data": {
      "text/plain": [
       "[4, 5, 6, 7]"
      ]
     },
     "execution_count": 30,
     "metadata": {},
     "output_type": "execute_result"
    }
   ],
   "source": [
    "a.pop()"
   ]
  },
  {
   "cell_type": "code",
   "execution_count": 32,
   "id": "7744095d-8f85-4e64-b2a0-f4decd26dcd2",
   "metadata": {},
   "outputs": [
    {
     "name": "stdout",
     "output_type": "stream",
     "text": [
      "['가을', '3', [1, 2, 3, 4], [1, 2, 3, 4]]\n"
     ]
    }
   ],
   "source": [
    "a.append([1,2,3,4])\n",
    "print(a)"
   ]
  },
  {
   "cell_type": "code",
   "execution_count": 33,
   "id": "821712e3-6d69-4b7c-922e-634b4acb4dec",
   "metadata": {},
   "outputs": [
    {
     "data": {
      "text/plain": [
       "[1, 2, 3, 4]"
      ]
     },
     "execution_count": 33,
     "metadata": {},
     "output_type": "execute_result"
    }
   ],
   "source": [
    "a.pop()"
   ]
  },
  {
   "cell_type": "code",
   "execution_count": 34,
   "id": "12a0cd4e-e8d6-4487-b0d5-b80f3c6735de",
   "metadata": {},
   "outputs": [
    {
     "name": "stdout",
     "output_type": "stream",
     "text": [
      "['가을', '3', [1, 2, 3, 4]]\n"
     ]
    }
   ],
   "source": [
    "print(a)"
   ]
  },
  {
   "cell_type": "code",
   "execution_count": 37,
   "id": "069b1665-aec2-4bff-bde6-0b093ad691f6",
   "metadata": {},
   "outputs": [
    {
     "name": "stdout",
     "output_type": "stream",
     "text": [
      "['가을', '3', [1, 2, 3, 4], [4, 5, 6, 7], [4, 5, 6, 7], 4, 5, 6, 7]\n"
     ]
    }
   ],
   "source": [
    "b=[4,5,6,7]\n",
    "a.extend(b)\n",
    "print(a)"
   ]
  },
  {
   "cell_type": "code",
   "execution_count": null,
   "id": "e5125d7c-fd8a-4e0a-bd16-bd0ac5d01b55",
   "metadata": {},
   "outputs": [],
   "source": []
  }
 ],
 "metadata": {
  "kernelspec": {
   "display_name": "Python 3 (ipykernel)",
   "language": "python",
   "name": "python3"
  },
  "language_info": {
   "codemirror_mode": {
    "name": "ipython",
    "version": 3
   },
   "file_extension": ".py",
   "mimetype": "text/x-python",
   "name": "python",
   "nbconvert_exporter": "python",
   "pygments_lexer": "ipython3",
   "version": "3.12.5"
  }
 },
 "nbformat": 4,
 "nbformat_minor": 5
}
