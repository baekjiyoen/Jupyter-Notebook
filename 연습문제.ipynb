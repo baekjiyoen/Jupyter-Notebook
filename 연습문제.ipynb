{
 "cells": [
  {
   "cell_type": "code",
   "execution_count": 2,
   "id": "da709244-884d-4c44-9d6c-a33c2c8ed915",
   "metadata": {},
   "outputs": [
    {
     "name": "stdout",
     "output_type": "stream",
     "text": [
      "Hello World\n"
     ]
    }
   ],
   "source": [
    "'''\n",
    "화면에 Hello World 문자열을 출력하세요.\n",
    "'''\n",
    "print('Hello World')"
   ]
  },
  {
   "cell_type": "code",
   "execution_count": 5,
   "id": "f7279056-97a7-4f69-8780-8597bfe9569b",
   "metadata": {},
   "outputs": [
    {
     "name": "stdout",
     "output_type": "stream",
     "text": [
      "['닥터스트렌지', '스플릿', '럭키']\n"
     ]
    }
   ],
   "source": [
    "move_rank = ['닥터스트렌지','스플릿','럭키']\n",
    "print(move_rank)"
   ]
  },
  {
   "cell_type": "code",
   "execution_count": null,
   "id": "23df90e0-2164-449d-9cdf-d5ef57d0dd6f",
   "metadata": {},
   "outputs": [],
   "source": []
  }
 ],
 "metadata": {
  "kernelspec": {
   "display_name": "Python 3 (ipykernel)",
   "language": "python",
   "name": "python3"
  },
  "language_info": {
   "codemirror_mode": {
    "name": "ipython",
    "version": 3
   },
   "file_extension": ".py",
   "mimetype": "text/x-python",
   "name": "python",
   "nbconvert_exporter": "python",
   "pygments_lexer": "ipython3",
   "version": "3.12.5"
  }
 },
 "nbformat": 4,
 "nbformat_minor": 5
}
