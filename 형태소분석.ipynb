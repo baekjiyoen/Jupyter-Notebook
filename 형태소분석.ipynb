{
 "cells": [
  {
   "cell_type": "code",
   "execution_count": 1,
   "id": "9c09e029-df24-44bd-b476-d1099d4bb927",
   "metadata": {},
   "outputs": [
    {
     "name": "stdout",
     "output_type": "stream",
     "text": [
      "Collecting konlpy\n",
      "  Downloading konlpy-0.6.0-py2.py3-none-any.whl.metadata (1.9 kB)\n",
      "Collecting JPype1>=0.7.0 (from konlpy)\n",
      "  Downloading JPype1-1.5.0-cp312-cp312-win_amd64.whl.metadata (5.0 kB)\n",
      "Requirement already satisfied: lxml>=4.1.0 in c:\\users\\human\\.conda\\envs\\edu\\lib\\site-packages (from konlpy) (5.3.0)\n",
      "Requirement already satisfied: numpy>=1.6 in c:\\users\\human\\.conda\\envs\\edu\\lib\\site-packages (from konlpy) (2.1.1)\n",
      "Requirement already satisfied: packaging in c:\\users\\human\\.conda\\envs\\edu\\lib\\site-packages (from JPype1>=0.7.0->konlpy) (24.1)\n",
      "Downloading konlpy-0.6.0-py2.py3-none-any.whl (19.4 MB)\n",
      "   ---------------------------------------- 0.0/19.4 MB ? eta -:--:--\n",
      "   ---- ----------------------------------- 2.1/19.4 MB 11.8 MB/s eta 0:00:02\n",
      "   -------- ------------------------------- 4.2/19.4 MB 10.1 MB/s eta 0:00:02\n",
      "   ------------ --------------------------- 6.3/19.4 MB 9.9 MB/s eta 0:00:02\n",
      "   --------------- ------------------------ 7.6/19.4 MB 9.0 MB/s eta 0:00:02\n",
      "   ------------------ --------------------- 8.9/19.4 MB 8.5 MB/s eta 0:00:02\n",
      "   --------------------- ------------------ 10.5/19.4 MB 8.1 MB/s eta 0:00:02\n",
      "   ------------------------ --------------- 11.8/19.4 MB 7.9 MB/s eta 0:00:01\n",
      "   --------------------------- ------------ 13.4/19.4 MB 7.8 MB/s eta 0:00:01\n",
      "   ------------------------------- -------- 15.5/19.4 MB 8.2 MB/s eta 0:00:01\n",
      "   ----------------------------------- ---- 17.0/19.4 MB 8.0 MB/s eta 0:00:01\n",
      "   ------------------------------------- -- 18.4/19.4 MB 7.9 MB/s eta 0:00:01\n",
      "   ---------------------------------------  19.4/19.4 MB 7.9 MB/s eta 0:00:01\n",
      "   ---------------------------------------- 19.4/19.4 MB 7.5 MB/s eta 0:00:00\n",
      "Downloading JPype1-1.5.0-cp312-cp312-win_amd64.whl (352 kB)\n",
      "Installing collected packages: JPype1, konlpy\n",
      "Successfully installed JPype1-1.5.0 konlpy-0.6.0\n"
     ]
    }
   ],
   "source": [
    "!pip install konlpy"
   ]
  },
  {
   "cell_type": "code",
   "execution_count": 2,
   "id": "24356029-ba50-46c1-a0a1-32c47d1acadb",
   "metadata": {},
   "outputs": [],
   "source": [
    "from konlpy.tag import Okt,Kkma,Hannanum"
   ]
  },
  {
   "cell_type": "code",
   "execution_count": 4,
   "id": "5d4a4b76-2536-4e07-97a7-ba27bd488384",
   "metadata": {},
   "outputs": [],
   "source": [
    "txt=\"아버지가방에들어가신다.\""
   ]
  },
  {
   "cell_type": "code",
   "execution_count": 5,
   "id": "76936891-1630-4b99-9a31-665dd40c53bb",
   "metadata": {},
   "outputs": [],
   "source": [
    "okt=Okt()"
   ]
  },
  {
   "cell_type": "code",
   "execution_count": 6,
   "id": "d280c20d-3548-4fb3-b9c5-b940b3c979f3",
   "metadata": {},
   "outputs": [
    {
     "data": {
      "text/plain": [
       "[('아버지', 'Noun'),\n",
       " ('가방', 'Noun'),\n",
       " ('에', 'Josa'),\n",
       " ('들어가신다', 'Verb'),\n",
       " ('.', 'Punctuation')]"
      ]
     },
     "execution_count": 6,
     "metadata": {},
     "output_type": "execute_result"
    }
   ],
   "source": [
    "okt.pos(txt)"
   ]
  },
  {
   "cell_type": "code",
   "execution_count": 7,
   "id": "aeec6c93-696e-4bd4-8938-ecc9da055c78",
   "metadata": {},
   "outputs": [
    {
     "data": {
      "text/plain": [
       "[('아버지', 'NNG'),\n",
       " ('가방', 'NNG'),\n",
       " ('에', 'JKM'),\n",
       " ('들어가', 'VV'),\n",
       " ('시', 'EPH'),\n",
       " ('ㄴ다', 'EFN'),\n",
       " ('.', 'SF')]"
      ]
     },
     "execution_count": 7,
     "metadata": {},
     "output_type": "execute_result"
    }
   ],
   "source": [
    "kkma=Kkma()\n",
    "kkma.pos(txt)"
   ]
  },
  {
   "cell_type": "code",
   "execution_count": 8,
   "id": "0ad52164-ef98-4789-9c9f-76bcd1dc39b3",
   "metadata": {},
   "outputs": [
    {
     "data": {
      "text/plain": [
       "[('아버지가방에들어가', 'N'), ('이', 'J'), ('시ㄴ다', 'E'), ('.', 'S')]"
      ]
     },
     "execution_count": 8,
     "metadata": {},
     "output_type": "execute_result"
    }
   ],
   "source": [
    "han=Hannanum()\n",
    "han.pos(txt)"
   ]
  },
  {
   "cell_type": "code",
   "execution_count": 10,
   "id": "e47da181-5dbd-4de7-99df-8275c6ff66c5",
   "metadata": {},
   "outputs": [
    {
     "ename": "NameError",
     "evalue": "name 'Mecab' is not defined",
     "output_type": "error",
     "traceback": [
      "\u001b[1;31m---------------------------------------------------------------------------\u001b[0m",
      "\u001b[1;31mNameError\u001b[0m                                 Traceback (most recent call last)",
      "Cell \u001b[1;32mIn[10], line 1\u001b[0m\n\u001b[1;32m----> 1\u001b[0m mecab\u001b[38;5;241m=\u001b[39mMecab()\n",
      "\u001b[1;31mNameError\u001b[0m: name 'Mecab' is not defined"
     ]
    }
   ],
   "source": [
    "mecab=Mecab()"
   ]
  },
  {
   "cell_type": "code",
   "execution_count": null,
   "id": "624adae9-fe53-4293-a4c5-6386d4c94378",
   "metadata": {},
   "outputs": [],
   "source": [
    "a=['가','나','다','라']"
   ]
  }
 ],
 "metadata": {
  "kernelspec": {
   "display_name": "Python 3 (ipykernel)",
   "language": "python",
   "name": "python3"
  },
  "language_info": {
   "codemirror_mode": {
    "name": "ipython",
    "version": 3
   },
   "file_extension": ".py",
   "mimetype": "text/x-python",
   "name": "python",
   "nbconvert_exporter": "python",
   "pygments_lexer": "ipython3",
   "version": "3.12.5"
  }
 },
 "nbformat": 4,
 "nbformat_minor": 5
}
